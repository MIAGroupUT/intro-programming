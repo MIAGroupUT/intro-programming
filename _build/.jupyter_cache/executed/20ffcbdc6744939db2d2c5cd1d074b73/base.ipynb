{
 "cells": [
  {
   "cell_type": "code",
   "execution_count": 1,
   "id": "b3fb11e4",
   "metadata": {
    "tags": [
     "student"
    ]
   },
   "outputs": [],
   "source": [
    "image = \"TODO\"\n",
    "label = \"TODO\""
   ]
  },
  {
   "cell_type": "code",
   "execution_count": 2,
   "id": "73e05521",
   "metadata": {
    "tags": [
     "hide-input"
    ]
   },
   "outputs": [
    {
     "data": {
      "text/html": [
       "<div style='background-color:rgba(80,255,80,0.4); padding:20px'>\n",
       "    <b>Exercise</b>: Choose the appropriate function in \n",
       "        <a href=\"https://docs.monai.io/en/stable\"><code>monai</code></a> to compute the dice.\n",
       "</div>\n"
      ],
      "text/plain": [
       "<IPython.core.display.HTML object>"
      ]
     },
     "metadata": {},
     "output_type": "display_data"
    }
   ],
   "source": [
    "%%html\n",
    "<div style='background-color:rgba(80,255,80,0.4); padding:20px'>\n",
    "    <b>Exercise</b>: Choose the appropriate function in \n",
    "        <a href=\"https://docs.monai.io/en/stable\"><code>monai</code></a> to compute the dice.\n",
    "</div>"
   ]
  }
 ],
 "metadata": {
  "kernelspec": {
   "display_name": "Python 3 (ipykernel)",
   "language": "python",
   "name": "python3"
  },
  "language_info": {
   "codemirror_mode": {
    "name": "ipython",
    "version": 3
   },
   "file_extension": ".py",
   "mimetype": "text/x-python",
   "name": "python",
   "nbconvert_exporter": "python",
   "pygments_lexer": "ipython3",
   "version": "3.7.12"
  }
 },
 "nbformat": 4,
 "nbformat_minor": 5
}