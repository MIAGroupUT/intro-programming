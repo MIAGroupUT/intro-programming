{
 "cells": [
  {
   "cell_type": "markdown",
   "id": "95889bfa-5ee8-4c31-971a-464f9ddbbf02",
   "metadata": {
    "user_expressions": []
   },
   "source": [
    "# Introduction to programming\n",
    "Welcome to the course *Introduction* to programming. This is a 2EC course as part of Module 3, which means that you are expected to spend around 56 hours on this course. The course schedule consists of eight four-hour coding sessions, which means that we also expect you to spend time preparing and going over the materials. The sessions and topics are as follows:\n",
    "\n",
    "|Session|Date | Topic | Exercises |\n",
    "|:-----|:-----|:------ |:------|\n",
    "|1|February 5, 2024 | Introduction |    |\n",
    "|2|February 12, 2024 | Scripts and functions |     |\n",
    "|3|February 14, 2024 | Objects      |   |\n",
    "|4|February 26, 2024 | Modules and packages      |     |\n",
    "|5|March 5, 2024 | NumPy   |     | \n",
    "|6|March 6, 2024 | Visualization      |     |\n",
    "|7|March 20, 2024 | Data analysis     |     | \n",
    "|8|March 25, 2024 | Project     |     |\n",
    "\n",
    "A deep understanding of programming is very useful, not just for passing this course or module, but for all the other courses and projects that you will work on in your *Technical Medicine* program and - likely - in your working life.\n",
    "\n",
    "## Organization\n",
    "This is a *pass or fail* course. Your grade will be determined based on your participation in the tutorial sessions. Each week, you are expected to work on a number of exercises, which you can find on the schedule here or on Canvas. At the end of each session, you should hand in your exercises via Canvas. Only when you've handed in all your exercises can you pass this part of the course. If you don't hand in the exercises, or it is clear from the answers that you haven't seriously considered working on the problem, you will fail the course."
   ]
  },
  {
   "cell_type": "code",
   "execution_count": null,
   "id": "6a276764-5fd7-47c9-9128-9c04870c8678",
   "metadata": {},
   "outputs": [],
   "source": []
  }
 ],
 "metadata": {
  "kernelspec": {
   "display_name": "Python 3 (ipykernel)",
   "language": "python",
   "name": "python3"
  },
  "language_info": {
   "codemirror_mode": {
    "name": "ipython",
    "version": 3
   },
   "file_extension": ".py",
   "mimetype": "text/x-python",
   "name": "python",
   "nbconvert_exporter": "python",
   "pygments_lexer": "ipython3",
   "version": "3.7.16"
  }
 },
 "nbformat": 4,
 "nbformat_minor": 5
}
