{
 "cells": [
  {
   "cell_type": "markdown",
   "id": "95889bfa-5ee8-4c31-971a-464f9ddbbf02",
   "metadata": {
    "user_expressions": []
   },
   "source": [
    "# Introduction to programming\n",
    "This is the manual for the *Introduction to programming* part of Module 3 of the Technical Medicine program at the University of Twente. A deep understanding of programming is very useful, not just for passing this course or module, but for all the other courses and projects that you will work on in your *Technical Medicine* program and - likely - in your working life.\n",
    "\n",
    "In part, this manual follows the previous manual for Matlab that was previously used in Technical Medicine, In other parts, it focuses on aspects that are specific to Python. This manual by no means claims to be a complete handbook to Python. For that, other options are available. Instead, it provides a summary of Python knowledge that will be relevant to the starting Technical Medicine student.\n",
    "\n",
    "The manual consists of ten chapters. In each chapter, there are exercises, which you can recognize by their distinct appearance. \n",
    "\n",
    ":::{admonition} Exercise\n",
    ":class: tip\n",
    "This is an exercise.\n",
    ":::\n",
    "\n",
    "If you're a student in the *Introduction to programming* course, you're expected to complete all these exercises to pass the course.\n",
    "\n",
    "The contents of this manual were carefully prepared by Jelmer Wolterink and Veerle Michels. If you find errors in the manual, please send an e-mail to `j.m.wolterink@utwente.nl` so that they can be corrected. "
   ]
  },
  {
   "cell_type": "markdown",
   "id": "3c1eb145-e468-41c2-bbdd-ad82002b8cab",
   "metadata": {},
   "source": [
    " "
   ]
  }
 ],
 "metadata": {
  "kernelspec": {
   "display_name": "Python 3 (ipykernel)",
   "language": "python",
   "name": "python3"
  },
  "language_info": {
   "codemirror_mode": {
    "name": "ipython",
    "version": 3
   },
   "file_extension": ".py",
   "mimetype": "text/x-python",
   "name": "python",
   "nbconvert_exporter": "python",
   "pygments_lexer": "ipython3",
   "version": "3.7.16"
  }
 },
 "nbformat": 4,
 "nbformat_minor": 5
}
