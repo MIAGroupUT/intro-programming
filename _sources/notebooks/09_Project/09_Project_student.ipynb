{
 "cells": [
  {
   "cell_type": "markdown",
   "id": "9291fe47",
   "metadata": {},
   "source": [
    "# Project\n",
    "In dit hoofdstuk werk je met behulp van Python een casus uit met echte patiëntendata. Gebruik hierbij de functies en modules die je eerder in de cursus bent tegengekomen.\n",
    "\n",
    "Maak je eigen `.ipynb`-bestand en houd daarin je antwoorden bij. Voeg headers in Markdown toe om de opdrachten uit elkaar te houden.\n",
    "\n",
    "## Inleiding\n",
    "Voor patiënten met type 1 of 2 diabetes is het belangrijk dat hun bloedglucose goed gereguleerd is. Goede regulatie beperkt de kans op ontwikkeling van macro- en microvasculaire complicaties. Er zijn meerdere manieren om bloedglucose te monitoren:\n",
    "* HbA1c. Dit is een maat voor de hoeveelheid glucose die zich in de afgelopen drie maanden heeft opgestapeld in de rode bloedcellen. (Dit is niet hetzelfde als glucoseconcentratie in het bloed.)\n",
    "* Bloedglucosemonitoring (`BGM`). Diabeten die insuline gebruiken, prikken dagelijks 4 a 6 keer: bij ontbijt, lunch, diner en soms bij de twee tussendoortjes op een dag, en voor het slapen gaan. Daarnaast prikken ze ook wanneer er symptomen zijn van een hypo- of hyperglycemie. Met die prikken wordt bloedglucose gemeten.\n",
    "* Tegenwoordig gebruiken steeds meer diabeten een continue glucosemeter (`CGM`), die, afhankelijk van het type, iedere 5 of 15 minuten een glucosemeting doet.\n",
    "\n",
    "Met de komst van de `CGM` hebben diabeten en hun behandelaren meer inzicht gekregen in de glucoseregulatie. Er zijn op basis daarvan nieuwe klinische `CGM`-parameters gedefinieerd (zie Tabel 1 en Figuur 1) en de verwachting is dat we daarmee de belangrijke maar moeilijker te bepalen `HbA1c` kunnen schatten.\n",
    "\n",
    "Voor deze opdracht maken we gebruik van open-source data van een studie$^{1}$ die onderzoekt of `CGM` zonder regelmatige vingerprik net zo veilig is als het gebruik van `CGM` met regelmatige vingerprik. Dit onderzoek is gedaan bij Type 1 diabetespatiënten. De `CGM` die de patiënten gebruiken tijdens dit onderzoek bepaalt iedere 5 minuten een glucosewaarde."
   ]
  },
  {
   "cell_type": "markdown",
   "id": "ff6e9367",
   "metadata": {},
   "source": [
    "\n",
    "**Tabel 1** Gebruikte variabelen en hun eenheid, doel en omschrijving.\n",
    "|             | Afkorting |Naam | Definitie | Doel | Eenheid |\n",
    "| :----- | :------ | :---- | :---------------- | :------ | :---- |\n",
    "| $g_{BGM}$|   `BGM`   | bloedglucosemonitoring| glucoseconcentratie (op onregelmatige tijden) |-| mmol/L|\n",
    "| $g_{CGM}$|   `CGM`   | continueglucosemonitoring| glucoseconcentratie (gemaakt door een continue glucosemeter) |-| mmol/L|\n",
    "| $h$|   `HBA1c`   | *hemoglobinA1c*| hoeveelheid glucose in bloedcel |-| mmol/L|\n",
    "| $h_{CGM}$|   `eA1`   | *extimated HbA1c*| schatting van HbA1c op basis van gemiddelde CGM |< 53| mmol/L|\n",
    "| $a$|   -   | -| - |-| 12.71 mmol/mol|\n",
    "| $b$|   -   | -| - |-| 4.70587 L/mol|\n",
    "| $p_{TAR}$|   `TAR`  | *time above range*| percentage van de tijd dat de CGM boven 10 mmol/L is | < 30| % |\n",
    "| $p_{TIR}$|   `TIR`  | *time in range*| percentage van de tijd dat de CGM tussen 3.9 en 10 mmol/L is| > 70| % |\n",
    "| $p_{TBR}$|   `TBR`  | *time below range*| percentage van de tijd dat de CGM onder 3.9 mmol/L is | < 5| % |"
   ]
  },
  {
   "cell_type": "markdown",
   "id": "ccba3403",
   "metadata": {},
   "source": [
    "![My Image](https://surfdrive.surf.nl/files/index.php/s/qFua4yqda63motN/download)    \n",
    "**Figuur 1** Voorbeeld van een gestapeld staafdiagram van CGM-waarden (mmol/L) met doelwaarden. Zo is in het ideale geval de TIR (percentage van de tijd dat 3.9 <CGM< 10) meer dan 70%. Zie ook Tabel 1."
   ]
  },
  {
   "cell_type": "markdown",
   "id": "dd2c6111",
   "metadata": {},
   "source": [
    "## Opdrachten\n",
    "\n",
    ":::{admonition} Opdracht 9.1\n",
    ":class: tip\n",
    "De gegevens zijn opgeslagen in het bestand `glucosedata.pickle` dat je [hier](https://surfdrive.surf.nl/files/index.php/s/B1pGIHnI1auNAsf) kunt vinden. Een 'pickle' bestand bevat een object dat we uit kunnen pakken in Python. Gebruik onderstaande code om deze pickle uit te pakken. Het resultaat wordt opgeslagen in `glucodat`.\n",
    "\n",
    "```python\n",
    "with open('glucosedata.pickle', 'rb') as handle:\n",
    "    glucodat = pickle.load(handle)\n",
    "```\n",
    "\n",
    "Inspecteer de variabele `glucodat`. Zoals je ziet is het een dictionary. Hoeveel patiënten zitten er in deze dictionary?"
   ]
  },
  {
   "cell_type": "markdown",
   "id": "885c916e",
   "metadata": {},
   "source": [
    "Iedere patiënt heeft een unieke ID. De ID van patient 2 is bijvoorbeeld 'ID_2'. Je kunt alle IDs krijgen met de `.keys()` method op de dictonary. Voor elke patiënt zijn metingen van BGM en CGM en HbA1c opgeslagen. Om de BGM waarden van bijvoorbeeld patiënt 'ID_2' te verkrijgen, gebruik je (zoals je in Hoofdstuk 2 hebt geleerd) dictionary indexing:\n",
    "\n",
    "```python\n",
    "gbm_values = glucodat['ID_2']['BGM']\n",
    "```\n",
    "\n",
    "Voor zowel BGM als CGM zijn voor elke patiënt tijd (eerste kolom) en gemeten waarde (tweede kolom) opgeslagen in een NumPy array. De `BGM` is vaak gemeten op onregelmatige tijden; de `CGM` zijn de continue glucosemetingen, meestal regelmatig gemeten. Van de `HbA1c` is per patiënt maar één meting uitgevoerd, maar de waarde is twee keer opgeslagen. \n",
    "\n",
    "De tijd is in dagen, de glucosedata (`BGM`, `CGM`) zijn in mmol/L, en de `HbA1c` is in\n",
    "mmol/mol. Per patiënt zijn er 3 maanden aan data geselecteerd. Patiënten hebben verschillende hoeveelheden `BGM`- en `CGM`-metingen gedaan. Daardoor is de data van iedere patiënt verschillend van lengte. "
   ]
  },
  {
   "cell_type": "markdown",
   "id": "4647c44c",
   "metadata": {},
   "source": [
    ":::{admonition} Opdracht 9.2\n",
    ":class: tip\n",
    "Gebruik de `numpy.random` module (zie Hoofdstuk 6) om drie willekeurige patiënten te selecteren. Maak vervolgens in één figuur drie subplots (voor elke patiënt een subplot, zie Hoofdstuk 8), en zet per patiënt in één subplot (zie Hoofdstuk 8):\n",
    "1. de `CGM` van de patiënt als functie van tijd,\n",
    "2. de `BGM` van de patiënt als functie van tijd,\n",
    "3. de gemiddelde bloedglucoseconcentratie `g` (mmol/L) van de patiënt geschat a.d.h.v. opgestapelde glucose in bloedcellen `h = HbA1c` als\n",
    "\n",
    "$$g = \\frac{h − a}{b}$$\n",
    "\n",
    "\n",
    "met $a$ = 12.71mmol/mol en $b$ = 4.70587 L/mol.\n",
    "\n",
    "Voeg zinvolle titels, labels en een legenda toe."
   ]
  },
  {
   "cell_type": "markdown",
   "id": "004b9cd1",
   "metadata": {},
   "source": [
    ":::{admonition} Opdracht 9.3\n",
    ":class: tip\n",
    "Wat valt je op aan de verschillende plots? Zijn er verschillen tussen patiënten?"
   ]
  },
  {
   "cell_type": "markdown",
   "id": "4b158be6",
   "metadata": {},
   "source": [
    "## `HbA1c` vs klinische `CGM` parameters\n",
    "Nu gaan we `HbA1c` vergelijken met een paar klinische `CGM`-parameters. We onderscheiden vier parameters (per patiënt):\n",
    "\n",
    "* `eA1c`: In Opdracht 9.2 schatten we een gemiddelde glucoseconcentratie `g` uit `h = HbA1c` volgens de formule $g = \\frac{h − a}{b}$. Omgekeerd kunnen we uit het gemiddelde $g_{cgm}$ (mmol/mol) van de CGM-metingen van de patiënt de  `h = HbA1c` schatten volgens $h_{CGM} = a +b\\overline{g}_{cgm}$ met `a` = 12.71 mmol/mol en `b` = 4.70587L/mol. Deze $h_{CGM}$ wordt `eA1c` genoemd (voor “estimated `HbA1c`”).\n",
    "* `TAR`: Dit is het percentage samples van CGM hoger dan 10.0 mmol/L.\n",
    "* `TIR`: Dit het percentage samples van CGM tussen de 3.9 en 10.0 mmol/L.\n",
    "* `TBR`: Dit is het percentage samples van CGM kleiner dan 3.9 mmol/L."
   ]
  },
  {
   "cell_type": "markdown",
   "id": "fbcd0c4e",
   "metadata": {},
   "source": [
    ":::{admonition} Opdracht 9.4\n",
    ":class: tip\n",
    "Maak een Python functie `gluc_param` die voor een gegeven `CGM` signaal (van een patiënt) alle vier parameters (`eA1c`, `TAR`, `TIR`, `TBR`) bepaalt en teruggeeft."
   ]
  },
  {
   "cell_type": "markdown",
   "id": "77a3eeef",
   "metadata": {},
   "source": [
    "De streefwaarde van `HbA1c` voor diabetespatiënten is < 53 mmol/mol. Voor de sommige patiënten is deze streefwaarde lastig te behalen. Nu willen we kijken hoe de verschillende HbA1c streefwaarden zich verhouden tot de `CGM`-parameters (`eA1c`, `TAR`, `TIR`, `TBR`). We onderscheiden drie groepen:\n",
    "\n",
    "|||\n",
    "| :-----:| :------: |\n",
    "|Patiëntgroep 1:  |  laag: `HbA1c` ≤ 53|\n",
    "|Patiëntgroep 2: |  midden: 53 < `HbA1c` < 63|\n",
    "|patiëntgroep 3: |  hoog: `HbA1c` ≥ 63|"
   ]
  },
  {
   "cell_type": "markdown",
   "id": "fb35d8ad",
   "metadata": {},
   "source": [
    ":::{admonition} Opdracht 9.5\n",
    ":class: tip\n",
    "Maak een *stacked bar chart*, waarbij de drie verschillende patiëntgroepen naast elkaar op de x-as staan, en, per patiëntgroep de gemiddelde `TBR`, `TIR` en `TAR` voor de patiëntgroep op elkaar gestapeld staan, zoals in Figuur 1. \n",
    "\n",
    "Hints:\n",
    "1. Bepaal deze klinische parameters voor alle patiënten en plaats in één container. \n",
    "2. Bereken de gemiddelde `TBR`, `TIR` en `TAR`, voor de verschillende groepen. \n",
    "3. Maak een bar-graph met de Matplotlib-functie `bar`. [Hier](https://matplotlib.org/stable/gallery/lines_bars_and_markers/bar_stacked.html) staat een voorbeeld van een stacked bar chart in Matplotlib."
   ]
  },
  {
   "cell_type": "markdown",
   "id": "70ebf797",
   "metadata": {},
   "source": [
    ":::{admonition} Opdracht 9.6\n",
    ":class: tip\n",
    "Wat valt op aan de resultaten? Welke groepen behalen de `CGM` parameterdoelen (zoals beschreven in Figuur 1)."
   ]
  },
  {
   "cell_type": "markdown",
   "id": "24b44642",
   "metadata": {},
   "source": [
    "### Moving average\n",
    "Het is je wellicht opgevallen dat de `CGM`-metingen als functie van tijd enorm fluctueren. Door de metingen te middelen over tijd ontstaat er een langzaam variërende functie van tijd, en die zegt vermoedelijk meer over `HbA1c`. Het langzaam variërende signaal construeren we met een “moving averaging” filter van orde $M$. Een moving average, of voortschrijdend gemiddelde, bepaalt het gemiddelde over de afgelopen $M$ metingen en vervangt daarmee de waarde in het signaal. Met andere woorden: het is een filter dat op basis van metingen $x_{1},x_{1},...,x_{n}$ het signaal $y_{1},y_{1},...,y_{n}$ bepaalt volgens de regel\n",
    "\n",
    "$$y_{k}=\\frac{1}{M+1}(x_{k},x_{k-1},...,x_{k-M}),   k=1,..,n$$                                 \n",
    "\n",
    "Het getal $M$ wordt de \"orde\" van het filter genoemd. Als `M=1` kopiëren we gewoon de waarden van $x$ naar $y$, en verder geldt dat hoe hoger $M$ is, hoe gladder het signaal $y$ wordt. Op [Wikipedia](https://nl.wikipedia.org/wiki/Voortschrijdend_gemiddelde) staat een uitgebreide uitleg en onderstaand voorbeeld met $M=3$\n",
    "\n",
    "| Dag | Koers | MA berekend over 3 dagen |\n",
    "|:---:|:-----:|:------------------------:|\n",
    "| 1   | 10    |                          |\n",
    "| 2   | 11    |                          |\n",
    "| 3   | 15    | 12, want (10+11+15)/3=12                       |\n",
    "| 4   | 7     | 11                       |\n",
    "| 5   | 9     | 10,3                     |\n",
    "| 6   | 6     | 7,3                      |\n",
    "| 7   | 7     | 7,3                      |\n",
    "| 8   | 8     | 7                        |\n",
    "| 9   | 17    | 10,7                     |\n",
    "| 10  | 20    | 15                       |"
   ]
  },
  {
   "cell_type": "markdown",
   "id": "74ed86bd",
   "metadata": {},
   "source": [
    ":::{admonition} Opdracht 9.7\n",
    ":class: tip\n",
    "Maak een Python functie `movingav` met syntax `y = movingav(x, m)` die uit een vector `x` een vector `y` bepaalt zoals gedefinieerd in de vergelijking hierboven."
   ]
  },
  {
   "cell_type": "markdown",
   "id": "14e6d04c",
   "metadata": {},
   "source": [
    ":::{admonition} Opdracht 9.8\n",
    ":class: tip\n",
    "Controleer deze functie met onderstaande code, en leg uit waarom de plot klopt. \n",
    "```python\n",
    "x = np.array([0, 1, 1, 1, 1, 1])\n",
    "t = np.array([0, 1, 2, 3, 4, 5]);\n",
    "M = 2\n",
    "y = movingav(x, M)\n",
    "print(y)\n",
    "\n",
    "plt.stem(t,y) # ook wel \"lollipop plot\" genoemd\n",
    "plt.show()\n",
    "```"
   ]
  },
  {
   "cell_type": "markdown",
   "id": "60e49713",
   "metadata": {},
   "source": [
    ":::{admonition} Opdracht 9.9\n",
    ":class: tip\n",
    "Selecteer drie patiënten, en, per patiënt, maak een figuur met daarin een plot van de:\n",
    "* ongefilterde `CGM` data,\n",
    "* gefilterde `CGM` data (dus bepaald m.b.v. movingav)\n",
    "* de geschatte gemiddelde bloedglucoseconcentratie `g` bepaald op basis van de `HbA1c` gegevens.\n"
   ]
  },
  {
   "cell_type": "markdown",
   "id": "ef5b1f76",
   "metadata": {},
   "source": [
    ":::{admonition} Opdracht 9.10\n",
    ":class: tip\n",
    "Maak plaatjes met verschillende orde $M$ van het moving average filter. Filter bijvoorbeeld ook eens met grote orders, bijvoorbeeld het aantal samples voor een dag, of voor een week. Je mag er vanuit gaan dat de samplefrequentie 5/min is. Wat valt je op voor verschillende filter ordes?"
   ]
  },
  {
   "cell_type": "markdown",
   "id": "1c8686c6",
   "metadata": {},
   "source": [
    "## Referenties\n",
    "**[1]**: *Aleppo G, Ruedy KJ, Riddlesworth TD, Kruger DF, Peters AL, Hirsch I, et al. REPLACE-BG: A Randomized Trial Comparing Continuous Glucose Monitoring With and Without Routine Blood Glucose Monitoring in Adults With Well-Controlled Type 1 Diabetes. Diabetes Care [Internet]. 2017 Apr 1 [cited 2021 Oct 4];40(4):538–45. Available from: https://care.diabetesjournals.org/content/40/4/538. Dataset beschikbaar vanaf: https://public.jaeb.org/datasets/diabetes.*"
   ]
  },
  {
   "cell_type": "code",
   "execution_count": null,
   "id": "617bb0e5",
   "metadata": {},
   "outputs": [],
   "source": []
  }
 ],
 "metadata": {
  "jupytext": {
   "cell_metadata_filter": "-all",
   "main_language": "python",
   "notebook_metadata_filter": "-all"
  },
  "kernelspec": {
   "display_name": "Python 3 (ipykernel)",
   "language": "python",
   "name": "python3"
  },
  "language_info": {
   "codemirror_mode": {
    "name": "ipython",
    "version": 3
   },
   "file_extension": ".py",
   "mimetype": "text/x-python",
   "name": "python",
   "nbconvert_exporter": "python",
   "pygments_lexer": "ipython3",
   "version": "3.7.16"
  }
 },
 "nbformat": 4,
 "nbformat_minor": 5
}
