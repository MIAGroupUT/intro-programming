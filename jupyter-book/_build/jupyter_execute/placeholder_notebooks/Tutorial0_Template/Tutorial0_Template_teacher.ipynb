{
 "cells": [
  {
   "cell_type": "markdown",
   "id": "450aeda8",
   "metadata": {},
   "source": [
    "# Template for educational notebooks\n",
    "\n",
    "This notebook explains how this repository builds the pure Python scripts in `src_notebooks` into the teacher and the student versions.\n",
    "\n",
    "> *Nota bene:* If you want Colab to correctly show your titles in the table of contents, please only put one title per markdow block."
   ]
  },
  {
   "cell_type": "markdown",
   "id": "3e9a2b85",
   "metadata": {},
   "source": [
    "## Generating the student version - hiding solutions\n",
    "\n",
    "This repository automatically creates the notebook using the `make` command. It generates the teacher (with answers) and the student (with blanks) versions. This command relies on the tags of the cells. Add the \"teacher\" (resp. \"student\") tag to the cells you want to keep in the teacher (resp. student) version.\n",
    "\n",
    "Au revoir elina\n",
    "\n",
    "To view and change the tags of your cells, click on View --> Cell Toolbar --> Tags.\n",
    "You should now see this notebook as follows:\n",
    "\n",
    "![Imgur](https://i.imgur.com/FJqcESo.png)\n",
    "\n",
    "<div class=\"alert alert-block alert-warning\"><b>Blank cells:</b> Do not forget to create blank cells with the student tag if you want to leave an empty cell.</div>"
   ]
  },
  {
   "cell_type": "code",
   "execution_count": null,
   "id": "7bd92d1d",
   "metadata": {
    "tags": [
     "teacher"
    ]
   },
   "outputs": [],
   "source": [
    "image = sample[\"img\"]\n",
    "label = sample[\"label\"]\n",
    "print(label)"
   ]
  },
  {
   "cell_type": "markdown",
   "id": "c57e049d",
   "metadata": {},
   "source": [
    "## Change background color with HTML \n",
    "\n",
    "When formatting a notebook with HTML, the result may be quite different depending on the runtime execution. To avoid this, instead of using markdown cell, you can generate your formatted text in a code cell as follows:"
   ]
  },
  {
   "cell_type": "code",
   "execution_count": null,
   "id": "13a36e73",
   "metadata": {
    "tags": [
     "hide-input"
    ]
   },
   "outputs": [],
   "source": [
    "%%html\n",
    "<div style='background-color:rgba(80,255,80,0.4); padding:20px'>\n",
    "    <b>Exercise</b>: Choose the appropriate function in \n",
    "        <a href=\"https://docs.monai.io/en/stable\"><code>monai</code></a> to compute the dice.\n",
    "</div>"
   ]
  },
  {
   "cell_type": "markdown",
   "id": "3df31721",
   "metadata": {
    "tags": [
     "teacher",
     "student"
    ]
   },
   "source": [
    "The main drawback is that the HTML source code is show, which may disturb the students. You can control this if you work with colab only, and decide to hide the source code of some cells before giving the link of your colab notebook to students.\n",
    "\n",
    "You can also do the same thing directly in a markdow cell, but the background color will not be displayed in Colab:"
   ]
  },
  {
   "cell_type": "markdown",
   "id": "c6a0f4bc",
   "metadata": {},
   "source": [
    "<div style='background-color:rgba(80,255,80,0.4); padding:20px'>\n",
    "    <b>Exercise</b>: Choose the appropriate function in \n",
    "        <a href=\"https://docs.monai.io/en/stable\"><code>monai</code></a> to compute the dice.\n",
    "</div>"
   ]
  }
 ],
 "metadata": {
  "kernelspec": {
   "display_name": "Python 3 (ipykernel)",
   "language": "python",
   "name": "python3"
  }
 },
 "nbformat": 4,
 "nbformat_minor": 5
}