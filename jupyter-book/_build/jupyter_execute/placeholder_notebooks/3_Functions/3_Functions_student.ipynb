{
 "cells": [
  {
   "cell_type": "markdown",
   "id": "8a62fd26-5c9b-4f1e-928e-568f5ac87544",
   "metadata": {},
   "source": [
    "# Functions\n",
    "\n",
    ":::{admonition} Learning goals\n",
    ":class: note\n",
    "After finishing this chapter, you are expected to\n",
    "* define a function in Python\n",
    "* understand the concept of scope, local and global variables\n",
    "* create a function with one or more input arguments and one or more output arguments\n",
    "* understand what recursion is and know when to use it and when not\n",
    "* provide arguments to a script\n",
    "* how to format output strings\n",
    "* use Jupyter notebooks\n",
    ":::\n",
    "\n",
    ":::{admonition} Not available yet\n",
    ":class: warning\n",
    "This chapter will be made available before the session.\n",
    ":::"
   ]
  }
 ],
 "metadata": {
  "jupytext": {
   "cell_metadata_filter": "-all",
   "main_language": "python",
   "notebook_metadata_filter": "-all"
  },
  "kernelspec": {
   "display_name": "Python 3 (ipykernel)",
   "language": "python",
   "name": "python3"
  },
  "language_info": {
   "codemirror_mode": {
    "name": "ipython",
    "version": 3
   },
   "file_extension": ".py",
   "mimetype": "text/x-python",
   "name": "python",
   "nbconvert_exporter": "python",
   "pygments_lexer": "ipython3",
   "version": "3.7.16"
  }
 },
 "nbformat": 4,
 "nbformat_minor": 5
}