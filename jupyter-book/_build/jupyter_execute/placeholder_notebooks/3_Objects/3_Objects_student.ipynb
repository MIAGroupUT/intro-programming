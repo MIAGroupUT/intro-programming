{
 "cells": [
  {
   "cell_type": "markdown",
   "id": "b4311155-6f3e-45a2-b97f-12631401bdd1",
   "metadata": {},
   "source": [
    "# Objects\n",
    "\n",
    ":::{admonition} Learning goals\n",
    ":class: note\n",
    "After finishing this chapter, you are expected to\n",
    "* define objects\n",
    "* use subclasses and superclasses\n",
    ":::\n",
    "\n",
    ":::{admonition} Not available yet\n",
    ":class: warning\n",
    "This chapter will be made available before the session.\n",
    ":::"
   ]
  }
 ],
 "metadata": {
  "jupytext": {
   "cell_metadata_filter": "-all",
   "main_language": "python",
   "notebook_metadata_filter": "-all"
  },
  "kernelspec": {
   "display_name": "Python 3 (ipykernel)",
   "language": "python",
   "name": "python3"
  },
  "language_info": {
   "codemirror_mode": {
    "name": "ipython",
    "version": 3
   },
   "file_extension": ".py",
   "mimetype": "text/x-python",
   "name": "python",
   "nbconvert_exporter": "python",
   "pygments_lexer": "ipython3",
   "version": "3.7.16"
  }
 },
 "nbformat": 4,
 "nbformat_minor": 5
}