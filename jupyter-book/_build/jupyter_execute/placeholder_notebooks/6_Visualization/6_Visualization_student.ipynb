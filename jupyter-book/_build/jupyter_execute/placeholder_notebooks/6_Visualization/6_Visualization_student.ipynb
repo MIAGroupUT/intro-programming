{
 "cells": [
  {
   "cell_type": "markdown",
   "id": "a0af9b3e-96c9-4f53-8dcc-2f90b7d11211",
   "metadata": {},
   "source": [
    "# Visualization\n",
    "\n",
    ":::{admonition} Learning goals\n",
    ":class: note\n",
    "After finishing this chapter, you should be able to \n",
    "* use the plot command to make simple plots;\n",
    "* know how to use hold on/off\n",
    "* plot several functions in one figure either in one graphical window or by creating a few smaller ones (the use of subplot);\n",
    "* add a title, grid and a legend, describe the axes, change the range of axes;\n",
    "* use logarithmic axes;\n",
    "* make simple 3D line plots;\n",
    "* plot surfaces, contours, change colors;\n",
    "* save figures to files;\n",
    "* optional: make some fancy plots;\n",
    "* optional: create MATLAB animations.\n",
    ":::\n",
    "\n",
    ":::{admonition} Not available yet\n",
    ":class: warning\n",
    "This chapter will be made available before the session.\n",
    ":::"
   ]
  }
 ],
 "metadata": {
  "jupytext": {
   "cell_metadata_filter": "-all",
   "main_language": "python",
   "notebook_metadata_filter": "-all"
  },
  "kernelspec": {
   "display_name": "Python 3 (ipykernel)",
   "language": "python",
   "name": "python3"
  },
  "language_info": {
   "codemirror_mode": {
    "name": "ipython",
    "version": 3
   },
   "file_extension": ".py",
   "mimetype": "text/x-python",
   "name": "python",
   "nbconvert_exporter": "python",
   "pygments_lexer": "ipython3",
   "version": "3.7.16"
  }
 },
 "nbformat": 4,
 "nbformat_minor": 5
}