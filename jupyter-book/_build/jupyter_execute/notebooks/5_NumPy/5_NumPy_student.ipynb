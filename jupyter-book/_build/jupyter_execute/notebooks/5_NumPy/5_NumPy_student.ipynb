{
 "cells": [
  {
   "cell_type": "markdown",
   "id": "66508737",
   "metadata": {},
   "source": [
    "# NumPy\n",
    "\n",
    ":::{admonition} Learning goals\n",
    ":class: note\n",
    "After finishing this chapter, you are expected to\n",
    "* work with vectors and matrices\n",
    "* do simple linear algebra\n",
    ":::\n",
    "\n",
    "##  Vectors and matrices\n",
    "For many practical programming problems, you'll need vectors and matrices, or *arrays*. The most common way to work with such objects in Python is using the NumPy package. NumPy is the workhorse for anything related to vectors and matrices, offers a wide range of functions, and provides the `ndarray` object that represents multidimensional matrices and is at the core of many packages in Python. \n",
    "\n",
    "## Importing NumPy\n",
    "NumPy is a Python package that needs to be imported in order for you to use it. To import NumPy, just write ```import numpy as np``` at the top of your script. Note that here we are importing the NumPy library with an alias `np`, which is a convention. \n",
    "\n",
    "## Arrays\n",
    "Numpy uses objects called *arrays* to store 1D, 2D, 3D, nD data. It's important to realize that it doesn't matter if you have a 1D vector, a 2D matrix, or a 3D or 4D tensor: it's all stored as an array. \n",
    "\n",
    ":::{admonition} Numpy matrices\n",
    ":class: warning\n",
    "In the NumPy documentation you might also find something about *matrices*. These are no longer recommended to use: the NumPy developers advice that you use *arrays* instead, also when working in 2D.\n",
    ":::\n",
    "\n",
    "![Numpy arrays](https://i0.wp.com/indianaiproduction.com/wp-content/uploads/2019/06/NumPy-array.png?w=1284&ssl=1)\n",
    "\n",
    "In the first chapter, you have learned about slicing and indexing of lists and tuples. Slicing in a NumPy array is very similar to slicing in a list. In general, you'll see that NumPy arrays are quite similar to lists. We can slice and index NumPy arrays, change individual items and append values.\n",
    "\n",
    "## 1D arrays\n",
    "Vectors or 1-dimensional (1D) arrays are easily defined by listing the entries separated by commas or spaces, e.g., ```v = [11, 12, 13]```. The number of entries of a vector is known as the *length* of the vector. Each array also has a shape, which in the case of a vector, has only one value (which is the same as the length). Each value in an array is called an *element*. You can always find out the shape of your vector by asking for its `shape` attribute."
   ]
  },
  {
   "cell_type": "code",
   "execution_count": 1,
   "id": "feb2c793",
   "metadata": {},
   "outputs": [
    {
     "name": "stdout",
     "output_type": "stream",
     "text": [
      "[-1.          0.14112001  7.        ]\n",
      "3\n",
      "(3,)\n"
     ]
    }
   ],
   "source": [
    "import numpy as np\n",
    "\n",
    "v = np.array([-1, np.sin(3), 7])\n",
    "print(v)\n",
    "print(len(v))\n",
    "print(v.shape)"
   ]
  },
  {
   "cell_type": "markdown",
   "id": "875b30a9",
   "metadata": {},
   "source": [
    "A vector can be multiplied with a scalar (a number) and added to or subtracted from another vector. That vector should have the same length, or NumPy will thrown an error. All these operations are carried out element-wise."
   ]
  },
  {
   "cell_type": "code",
   "execution_count": 2,
   "id": "6380c7fb",
   "metadata": {},
   "outputs": [
    {
     "name": "stdout",
     "output_type": "stream",
     "text": [
      "[ 1  5 11]\n",
      "[ 3  7 13]\n"
     ]
    }
   ],
   "source": [
    "v = np.array([-1, 2, 7])\n",
    "w = np.array([2, 3,  4])\n",
    "z = v + w                  # an element-by-element sum\n",
    "print(z)\n",
    "\n",
    "zz = z + 2                 # add 2 to every element of vector z\n",
    "print(zz)"
   ]
  },
  {
   "cell_type": "markdown",
   "id": "c9b1dbee",
   "metadata": {},
   "source": [
    "Like in a list, one can use indices to retrieve and replace element values from the array."
   ]
  },
  {
   "cell_type": "code",
   "execution_count": 3,
   "id": "f7e7811e",
   "metadata": {},
   "outputs": [
    {
     "name": "stdout",
     "output_type": "stream",
     "text": [
      "2\n",
      "[-1  4  7]\n"
     ]
    }
   ],
   "source": [
    "print(v[1])                # print second element in the array\n",
    "v[1] = 4                   # change second element in the array to a 4\n",
    "print(v)"
   ]
  },
  {
   "cell_type": "markdown",
   "id": "d34f8df5",
   "metadata": {},
   "source": [
    "## Row and column vectors\n",
    "By default, NumPy doesn't differentiate between row and column vectors. To explicitly make a row vector or a column vector, we should indicate which dimension should have shape 1, and which should have a shape > 1. "
   ]
  },
  {
   "cell_type": "code",
   "execution_count": 4,
   "id": "a95089f7",
   "metadata": {},
   "outputs": [
    {
     "name": "stdout",
     "output_type": "stream",
     "text": [
      "[[1 3 4]]\n",
      "[[1]\n",
      " [3]\n",
      " [4]]\n"
     ]
    }
   ],
   "source": [
    "v_row = np.array([[1, 3, 4]])     # look closely, you'll see two square brackets instead of one\n",
    "print(v_row)\n",
    "v_col = np.array([[1], [3], [4]]) # now each element has its own row\n",
    "print(v_col)"
   ]
  },
  {
   "cell_type": "markdown",
   "id": "b7e763b6",
   "metadata": {},
   "source": [
    "If we now wish to perform addition and subtraction with the vectors, NumPy will show some unexpected behavior. For each row in ```v_col``` (i.e., a single scalar), it will add the full row vector of ```v_row```."
   ]
  },
  {
   "cell_type": "code",
   "execution_count": 5,
   "id": "a9c31924",
   "metadata": {},
   "outputs": [
    {
     "name": "stdout",
     "output_type": "stream",
     "text": [
      "[[2 4 5]\n",
      " [4 6 7]\n",
      " [5 7 8]]\n"
     ]
    }
   ],
   "source": [
    "print(v_row + v_col)"
   ]
  },
  {
   "cell_type": "markdown",
   "id": "73d247e5",
   "metadata": {},
   "source": [
    "Similarly, when we multiply these two 'vectors', we get a new matrix of $3 \\times 3$ elements."
   ]
  },
  {
   "cell_type": "markdown",
   "id": "26c52052",
   "metadata": {},
   "source": [
    "## Loading and writing data"
   ]
  },
  {
   "cell_type": "code",
   "execution_count": null,
   "id": "283ba020",
   "metadata": {},
   "outputs": [],
   "source": []
  },
  {
   "cell_type": "markdown",
   "id": "e65b3697",
   "metadata": {},
   "source": [
    "## Copy\n",
    "Discuss copy vs deepcopy"
   ]
  },
  {
   "cell_type": "markdown",
   "id": "2d2b2a8f",
   "metadata": {},
   "source": [
    "## Transpose\n",
    "In many cases, you'd want to *transpose* a matrix by swapping dimensions. In 2D, you can simply achieve this by adding `.T`. \n",
    "If you have more than two dimensions, you can swap axes"
   ]
  },
  {
   "cell_type": "markdown",
   "id": "335b9a4d",
   "metadata": {},
   "source": [
    "## Linear algebra\n",
    "NumPy provides the `linalg` module that contains many of the functions that you will need for linear algebra. The [documentation](https://numpy.org/doc/stable/reference/routines.linalg.html) provides a list of all functions. The most common ones are matrix multiplication"
   ]
  },
  {
   "cell_type": "code",
   "execution_count": 6,
   "id": "6aad8c87",
   "metadata": {},
   "outputs": [
    {
     "data": {
      "text/plain": [
       "[[1, 2, 3], [4, 5, 6], [1, 2, 3], [5, 8, 13]]"
      ]
     },
     "execution_count": 6,
     "metadata": {},
     "output_type": "execute_result"
    }
   ],
   "source": [
    "# If we don't make arrays, these matrices are just treated as lists\n",
    "a = [[1, 2, 3],\n",
    "     [4, 5, 6]]\n",
    "\n",
    "b = [[1, 2, 3],\n",
    "     [5, 8, 13]]\n",
    "\n",
    "a + b"
   ]
  },
  {
   "cell_type": "code",
   "execution_count": 7,
   "id": "3ac71448",
   "metadata": {},
   "outputs": [
    {
     "name": "stdout",
     "output_type": "stream",
     "text": [
      "[[ 2  4  6]\n",
      " [ 9 13 19]]\n",
      "[[1.         1.         1.        ]\n",
      " [0.8        0.625      0.46153846]]\n",
      "[[ 1  4  9]\n",
      " [20 40 78]]\n",
      "[[ 14  60]\n",
      " [ 32 138]]\n"
     ]
    }
   ],
   "source": [
    "import numpy as np\n",
    "a = np.array([[1, 2, 3],\n",
    "              [4, 5, 6]])\n",
    "\n",
    "b = np.array([[1, 2, 3],\n",
    "              [5, 8, 13]])\n",
    "\n",
    "print(a + b)\n",
    "print(a / b)\n",
    "print(a * b)\n",
    "print(a @ b.T)"
   ]
  },
  {
   "cell_type": "markdown",
   "id": "a956c8db",
   "metadata": {},
   "source": [
    ":::{admonition} Exercise\n",
    ":class: tip\n",
    "\n",
    ":::"
   ]
  },
  {
   "cell_type": "code",
   "execution_count": null,
   "id": "bafeb475",
   "metadata": {},
   "outputs": [],
   "source": []
  }
 ],
 "metadata": {
  "jupytext": {
   "cell_metadata_filter": "-all",
   "main_language": "python",
   "notebook_metadata_filter": "-all"
  },
  "language_info": {
   "codemirror_mode": {
    "name": "ipython",
    "version": 3
   },
   "file_extension": ".py",
   "mimetype": "text/x-python",
   "name": "python",
   "nbconvert_exporter": "python",
   "pygments_lexer": "ipython3",
   "version": "3.7.16"
  }
 },
 "nbformat": 4,
 "nbformat_minor": 5
}