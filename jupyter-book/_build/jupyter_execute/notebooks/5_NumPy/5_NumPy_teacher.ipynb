{
 "cells": [
  {
   "cell_type": "markdown",
   "id": "5aae00b2",
   "metadata": {},
   "source": [
    "# NumPy\n",
    "\n",
    ":::{admonition} Learning goals\n",
    ":class: note\n",
    "After finishing this chapter, you are expected to\n",
    "* work with vectors and matrices\n",
    "* do simple linear algebra\n",
    ":::\n",
    "\n",
    "##  Vectors and matrices\n",
    "For many practical programming problems, you'll need vectors and matrices, or *arrays*. The most common way to work with such objects in Python is using the NumPy package. NumPy is the workhorse for anything related to vectors and matrices, offers a wide range of functions, and provides the `ndarray` object that represents multidimensional matrices and is at the core of many packages in Python. \n",
    "\n",
    "## Importing NumPy\n",
    "NumPy is a Python package that needs to be imported in order for you to use it. To import NumPy, just write ```import numpy as np``` at the top of your script. Note that here we are importing the NumPy library with an alias `np`, which is a convention. \n",
    "\n",
    "## Arrays\n",
    "Numpy uses objects called *arrays* to store 1D, 2D, 3D, nD data. It's important to realize that it doesn't matter if you have a 1D vector, a 2D matrix, or a 3D or 4D tensor: it's all stored as an array. \n",
    "\n",
    ":::{admonition} Numpy matrices\n",
    ":class: warning\n",
    "In the NumPy documentation you might also find something about *matrices*. These are no longer recommended to use: the NumPy developers advice that you use *arrays* instead, also when working in 2D.\n",
    ":::\n",
    "\n",
    "![Numpy arrays](https://i0.wp.com/indianaiproduction.com/wp-content/uploads/2019/06/NumPy-array.png?w=1284&ssl=1)\n",
    "\n",
    "In the first chapter, you have learned about slicing and indexing of lists and tuples. Slicing in a NumPy array is very similar to slicing in a list. In general, you'll see that NumPy arrays are quite similar to lists. We can slice and index NumPy arrays, change individual items and append values.\n",
    "\n",
    ":::{admonition} Arrays\n",
    ":class: warning\n",
    "Wherever we refer to 'arrays' in the remainder of this manual, we mean NumPy `ndarray` objects. \n",
    ":::\n",
    "\n",
    "## 1D arrays\n",
    "Vectors or 1-dimensional (1D) arrays are easily defined by listing the entries separated by commas or spaces, e.g., ```v = [11, 12, 13]```. The number of entries of a vector is known as the *length* of the vector. Each array also has a shape, which in the case of a vector, has only one value (which is the same as the length). Each value in an array is called an *element*. You can always find out the shape of your vector by asking for its `shape` attribute.\n",
    "\n",
    "## Indexing an array\n"
   ]
  },
  {
   "cell_type": "markdown",
   "id": "dd7b0f76",
   "metadata": {},
   "source": [
    "# NumPy\n",
    "\n",
    ":::{admonition} Learning goals\n",
    ":class: note\n",
    "After finishing this chapter, you are expected to\n",
    "* work with vectors and matrices\n",
    "* do simple linear algebra\n",
    ":::\n",
    "\n",
    "##  Vectors and matrices\n",
    "For many practical programming problems, you'll need vectors and matrices, or *arrays*. The most common way to work with such objects in Python is using the NumPy package. NumPy is the workhorse for anything related to vectors and matrices, offers a wide range of functions, and provides the `ndarray` object that represents multidimensional matrices and is at the core of many packages in Python. \n",
    "\n",
    "## Importing NumPy\n",
    "NumPy is a Python package that needs to be imported in order for you to use it. To import NumPy, just write ```import numpy as np``` at the top of your script. Note that here we are importing the NumPy library with an alias `np`, which is a convention. \n",
    "\n",
    "## Arrays\n",
    "Numpy uses objects called *arrays* to store 1D, 2D, 3D, nD data. It's important to realize that it doesn't matter if you have a 1D vector, a 2D matrix, or a 3D or 4D tensor: it's all stored as an array. \n",
    "\n",
    ":::{admonition} Numpy matrices\n",
    ":class: warning\n",
    "In the NumPy documentation you might also find something about *matrices*. These are no longer recommended to use: the NumPy developers advice that you use *arrays* instead, also when working in 2D.\n",
    ":::\n",
    "\n",
    "![Numpy arrays](https://i0.wp.com/indianaiproduction.com/wp-content/uploads/2019/06/NumPy-array.png?w=1284&ssl=1)\n",
    "\n",
    "In the first chapter, you have learned about slicing and indexing of lists and tuples. Slicing in a NumPy array is very similar to slicing in a list. In general, you'll see that NumPy arrays are quite similar to lists. We can slice and index NumPy arrays, change individual items and append values.\n",
    "\n",
    "## 1D arrays\n",
    "Vectors or 1-dimensional (1D) arrays are easily defined by listing the entries separated by commas or spaces, e.g., ```v = [11, 12, 13]```. The number of entries of a vector is known as the *length* of the vector. Each array also has a shape, which in the case of a vector, has only one value (which is the same as the length). Each value in an array is called an *element*. You can always find out the shape of your vector by asking for its `shape` attribute.\n",
    "\n",
    "## Indexing an array\n"
   ]
  },
  {
   "cell_type": "markdown",
   "id": "9a6dee28",
   "metadata": {},
   "source": [
    "## Initializing an array\n",
    "There are several ways to create an array.\n",
    "1. Convert or *cast* an existing data object into an array\n",
    "2. Initialize an empty array\n",
    "3. Initialize an empty array of fixed size\n",
    "4. Load an array from a file\n",
    "\n",
    "### Loading from a file\n",
    "If your data is organized in a textfile with a `.txt` extension, you can use the `loadtxt` function in NumPy. NumPy will then try to parse this data into a text file based on the *delimiters* between values. For example, if we have a text file `matrix.txt` whose contents are\n",
    "\n",
    "```\n",
    "1 2 3 \n",
    "4 5 6 \n",
    "```\n",
    "\n",
    "and we load this into NumPy using\n",
    "\n",
    "```python\n",
    "A = np.loadtxt('matrix.txt')\n",
    "print(A)\n",
    "```\n",
    "\n",
    "then the output is \n",
    "\n",
    "```python\n",
    "array([[1., 2., 3.],\n",
    "       [4., 5., 6.]])\n",
    "```       \n",
    "\n",
    "Note that you don't have to open and close the file, this happens under the hood in NumPy. NumPy will be able to load arrays of any size as long the number of columns is the same per line."
   ]
  },
  {
   "cell_type": "code",
   "execution_count": null,
   "id": "dbadfe43",
   "metadata": {
    "lines_to_next_cell": 0
   },
   "outputs": [],
   "source": [
    "import numpy as np\n",
    "\n",
    "v = np.array([-1, np.sin(3), 7])\n",
    "print(v)\n",
    "print(len(v))\n",
    "print(v.shape)"
   ]
  },
  {
   "cell_type": "code",
   "execution_count": null,
   "id": "f19d44dc",
   "metadata": {
    "lines_to_next_cell": 2
   },
   "outputs": [],
   "source": []
  },
  {
   "cell_type": "markdown",
   "id": "a225c697",
   "metadata": {},
   "source": [
    "A vector can be multiplied with a scalar (a number) and added to or subtracted from another vector. That vector should have the same length, or NumPy will thrown an error. All these operations are carried out element-wise."
   ]
  },
  {
   "cell_type": "code",
   "execution_count": null,
   "id": "a5260651",
   "metadata": {},
   "outputs": [],
   "source": [
    "v = np.array([-1, 2, 7])\n",
    "w = np.array([2, 3,  4])\n",
    "z = v + w                  # an element-by-element sum\n",
    "print(z)\n",
    "\n",
    "zz = z + 2                 # add 2 to every element of vector z\n",
    "print(zz)"
   ]
  },
  {
   "cell_type": "markdown",
   "id": "8e2689f9",
   "metadata": {},
   "source": [
    "Like in a list, one can use indices to retrieve and replace element values from the array."
   ]
  },
  {
   "cell_type": "code",
   "execution_count": null,
   "id": "0093ab03",
   "metadata": {},
   "outputs": [],
   "source": [
    "print(v[1])                # print second element in the array\n",
    "v[1] = 4                   # change second element in the array to a 4\n",
    "print(v)"
   ]
  },
  {
   "cell_type": "markdown",
   "id": "5932ce23",
   "metadata": {},
   "source": [
    "## Row and column vectors\n",
    "By default, NumPy doesn't differentiate between row and column vectors. To explicitly make a row vector or a column vector, we should indicate which dimension should have shape 1, and which should have a shape > 1. "
   ]
  },
  {
   "cell_type": "code",
   "execution_count": null,
   "id": "b7657b76",
   "metadata": {},
   "outputs": [],
   "source": [
    "v_row = np.array([[1, 3, 4]])     # look closely, you'll see two square brackets instead of one\n",
    "print(v_row)\n",
    "v_col = np.array([[1], [3], [4]]) # now each element has its own row\n",
    "print(v_col)"
   ]
  },
  {
   "cell_type": "markdown",
   "id": "c5c1c64d",
   "metadata": {},
   "source": [
    "If we now wish to perform addition and subtraction with the vectors, NumPy will show some unexpected behavior. For each row in ```v_col``` (i.e., a single scalar), it will add the full row vector of ```v_row```."
   ]
  },
  {
   "cell_type": "code",
   "execution_count": null,
   "id": "a529e8e2",
   "metadata": {},
   "outputs": [],
   "source": [
    "print(v_row + v_col)"
   ]
  },
  {
   "cell_type": "markdown",
   "id": "af567844",
   "metadata": {},
   "source": [
    "Similarly, when we multiply these two 'vectors', we get a new matrix of $3 \\times 3$ elements."
   ]
  },
  {
   "cell_type": "markdown",
   "id": "4a07f9a7",
   "metadata": {},
   "source": [
    "## Loading and writing data"
   ]
  },
  {
   "cell_type": "code",
   "execution_count": null,
   "id": "ac9bff27",
   "metadata": {},
   "outputs": [],
   "source": []
  },
  {
   "cell_type": "markdown",
   "id": "783266a3",
   "metadata": {},
   "source": [
    "## Copy\n",
    "Discuss copy vs deepcopy"
   ]
  },
  {
   "cell_type": "markdown",
   "id": "302f83ae",
   "metadata": {},
   "source": [
    "## Transpose\n",
    "In many cases, you'd want to *transpose* a matrix by swapping dimensions. In 2D, you can simply achieve this by adding `.T`. \n",
    "If you have more than two dimensions, you can swap axes"
   ]
  },
  {
   "cell_type": "markdown",
   "id": "1121c3dd",
   "metadata": {},
   "source": [
    "## Linear algebra\n",
    "NumPy provides the `linalg` module that contains many of the functions that you will need for linear algebra. The [documentation](https://numpy.org/doc/stable/reference/routines.linalg.html) provides a list of all functions. The most common ones are matrix multiplication"
   ]
  },
  {
   "cell_type": "code",
   "execution_count": null,
   "id": "db98c883",
   "metadata": {},
   "outputs": [],
   "source": [
    "# If we don't make arrays, these matrices are just treated as lists\n",
    "a = [[1, 2, 3],\n",
    "     [4, 5, 6]]\n",
    "\n",
    "b = [[1, 2, 3],\n",
    "     [5, 8, 13]]\n",
    "\n",
    "a + b"
   ]
  },
  {
   "cell_type": "code",
   "execution_count": null,
   "id": "cfe0f0a1",
   "metadata": {},
   "outputs": [],
   "source": [
    "import numpy as np\n",
    "a = np.array([[1, 2, 3],\n",
    "              [4, 5, 6]])\n",
    "\n",
    "b = np.array([[1, 2, 3],\n",
    "              [5, 8, 13]])\n",
    "\n",
    "print(a + b)\n",
    "print(a / b)\n",
    "print(a * b)\n",
    "print(a @ b.T)"
   ]
  },
  {
   "cell_type": "markdown",
   "id": "d053dd59",
   "metadata": {},
   "source": [
    ":::{admonition} Exercise\n",
    ":class: tip\n",
    "\n",
    ":::"
   ]
  },
  {
   "cell_type": "markdown",
   "id": "d3723c6b",
   "metadata": {},
   "source": [
    "Exercise: Compute the NumPy speed of the dot product to that of the function written in 3. Functions for dot products."
   ]
  },
  {
   "cell_type": "markdown",
   "id": "6aa4c895",
   "metadata": {},
   "source": [
    "Mention time it as well, how to time function speeds."
   ]
  },
  {
   "cell_type": "code",
   "execution_count": null,
   "id": "dfc25b93",
   "metadata": {},
   "outputs": [],
   "source": []
  }
 ],
 "metadata": {
  "jupytext": {
   "cell_metadata_filter": "-all",
   "main_language": "python",
   "notebook_metadata_filter": "-all"
  }
 },
 "nbformat": 4,
 "nbformat_minor": 5
}