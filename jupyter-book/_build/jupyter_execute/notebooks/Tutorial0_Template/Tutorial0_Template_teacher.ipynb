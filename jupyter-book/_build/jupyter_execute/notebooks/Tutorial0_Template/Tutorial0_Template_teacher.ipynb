{
 "cells": [
  {
   "cell_type": "markdown",
   "id": "0638bcc3",
   "metadata": {},
   "source": [
    "# Template for educational notebooks\n",
    "\n",
    "This notebook explains how this repository builds the pure Python scripts in `src_notebooks` into the teacher and the student versions.\n",
    "\n",
    "> *Nota bene:* If you want Colab to correctly show your titles in the table of contents, please only put one title per markdow block."
   ]
  },
  {
   "cell_type": "markdown",
   "id": "e8c72137",
   "metadata": {},
   "source": [
    "## Generating the student version - hiding solutions\n",
    "\n",
    "This repository automatically creates the notebook using the `make` command. It generates the teacher (with answers) and the student (with blanks) versions. This command relies on the tags of the cells. Add the \"teacher\" (resp. \"student\") tag to the cells you want to keep in the teacher (resp. student) version.\n",
    "\n",
    "Au revoir elina\n",
    "\n",
    "To view and change the tags of your cells, click on View --> Cell Toolbar --> Tags.\n",
    "You should now see this notebook as follows:\n",
    "\n",
    "![Imgur](https://i.imgur.com/FJqcESo.png)\n",
    "\n",
    "<div class=\"alert alert-block alert-warning\"><b>Blank cells:</b> Do not forget to create blank cells with the student tag if you want to leave an empty cell.</div>"
   ]
  },
  {
   "cell_type": "code",
   "execution_count": 1,
   "id": "29109477",
   "metadata": {
    "tags": [
     "teacher"
    ]
   },
   "outputs": [
    {
     "ename": "NameError",
     "evalue": "name 'sample' is not defined",
     "output_type": "error",
     "traceback": [
      "\u001b[0;31m---------------------------------------------------------------------------\u001b[0m",
      "\u001b[0;31mNameError\u001b[0m                                 Traceback (most recent call last)",
      "\u001b[0;32m/var/folders/07/x0gf6dj176dfjvrn357t5p6h0000gn/T/ipykernel_34341/71372898.py\u001b[0m in \u001b[0;36m<module>\u001b[0;34m\u001b[0m\n\u001b[0;32m----> 1\u001b[0;31m \u001b[0mimage\u001b[0m \u001b[0;34m=\u001b[0m \u001b[0msample\u001b[0m\u001b[0;34m[\u001b[0m\u001b[0;34m\"img\"\u001b[0m\u001b[0;34m]\u001b[0m\u001b[0;34m\u001b[0m\u001b[0;34m\u001b[0m\u001b[0m\n\u001b[0m\u001b[1;32m      2\u001b[0m \u001b[0mlabel\u001b[0m \u001b[0;34m=\u001b[0m \u001b[0msample\u001b[0m\u001b[0;34m[\u001b[0m\u001b[0;34m\"label\"\u001b[0m\u001b[0;34m]\u001b[0m\u001b[0;34m\u001b[0m\u001b[0;34m\u001b[0m\u001b[0m\n\u001b[1;32m      3\u001b[0m \u001b[0mprint\u001b[0m\u001b[0;34m(\u001b[0m\u001b[0mlabel\u001b[0m\u001b[0;34m)\u001b[0m\u001b[0;34m\u001b[0m\u001b[0;34m\u001b[0m\u001b[0m\n",
      "\u001b[0;31mNameError\u001b[0m: name 'sample' is not defined"
     ]
    }
   ],
   "source": [
    "image = sample[\"img\"]\n",
    "label = sample[\"label\"]\n",
    "print(label)"
   ]
  },
  {
   "cell_type": "markdown",
   "id": "b2e9d76b",
   "metadata": {},
   "source": [
    "## Change background color with HTML \n",
    "\n",
    "When formatting a notebook with HTML, the result may be quite different depending on the runtime execution. To avoid this, instead of using markdown cell, you can generate your formatted text in a code cell as follows:"
   ]
  },
  {
   "cell_type": "code",
   "execution_count": 2,
   "id": "494fbb20",
   "metadata": {
    "tags": [
     "hide-input"
    ]
   },
   "outputs": [
    {
     "data": {
      "text/html": [
       "<div style='background-color:rgba(80,255,80,0.4); padding:20px'>\n",
       "    <b>Exercise</b>: Choose the appropriate function in \n",
       "        <a href=\"https://docs.monai.io/en/stable\"><code>monai</code></a> to compute the dice.\n",
       "</div>\n"
      ],
      "text/plain": [
       "<IPython.core.display.HTML object>"
      ]
     },
     "metadata": {},
     "output_type": "display_data"
    }
   ],
   "source": [
    "%%html\n",
    "<div style='background-color:rgba(80,255,80,0.4); padding:20px'>\n",
    "    <b>Exercise</b>: Choose the appropriate function in \n",
    "        <a href=\"https://docs.monai.io/en/stable\"><code>monai</code></a> to compute the dice.\n",
    "</div>"
   ]
  },
  {
   "cell_type": "markdown",
   "id": "5870d7e6",
   "metadata": {
    "tags": [
     "teacher",
     "student"
    ]
   },
   "source": [
    "The main drawback is that the HTML source code is show, which may disturb the students. You can control this if you work with colab only, and decide to hide the source code of some cells before giving the link of your colab notebook to students.\n",
    "\n",
    "You can also do the same thing directly in a markdow cell, but the background color will not be displayed in Colab:"
   ]
  },
  {
   "cell_type": "markdown",
   "id": "ce8b6bad",
   "metadata": {},
   "source": [
    "<div style='background-color:rgba(80,255,80,0.4); padding:20px'>\n",
    "    <b>Exercise</b>: Choose the appropriate function in \n",
    "        <a href=\"https://docs.monai.io/en/stable\"><code>monai</code></a> to compute the dice.\n",
    "</div>"
   ]
  }
 ],
 "metadata": {
  "kernelspec": {
   "display_name": "Python 3 (ipykernel)",
   "language": "python",
   "name": "python3"
  },
  "language_info": {
   "codemirror_mode": {
    "name": "ipython",
    "version": 3
   },
   "file_extension": ".py",
   "mimetype": "text/x-python",
   "name": "python",
   "nbconvert_exporter": "python",
   "pygments_lexer": "ipython3",
   "version": "3.7.16"
  }
 },
 "nbformat": 4,
 "nbformat_minor": 5
}