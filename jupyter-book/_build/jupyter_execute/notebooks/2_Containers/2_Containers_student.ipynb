{
 "cells": [
  {
   "cell_type": "markdown",
   "id": "e811a07e",
   "metadata": {},
   "source": [
    "# Containers\n",
    "\n",
    ":::{admonition} Learning goals\n",
    ":class: note\n",
    "After finishing this chapter, you are expected to\n",
    "* be able to work with different kinds of containers in Python\n",
    "* understand differences between `tuple`, `list`, `set`, and `dict` containers\n",
    "* index and slice tuples and lists\n",
    "* know how to format strings\n",
    ":::"
   ]
  },
  {
   "cell_type": "markdown",
   "id": "7e5d730f",
   "metadata": {},
   "source": [
    "## Tuples, lists, sets, and dictionaries\n",
    "In the previous chapter, we have introduced four basic Python data types: integers, floating point numbers, strings, and booleans. Variables of this type allow the user to store one value, e.g.,"
   ]
  },
  {
   "cell_type": "code",
   "execution_count": null,
   "id": "a2fb6b58",
   "metadata": {},
   "outputs": [],
   "source": [
    "course_name = 'Introduction to programming'\n",
    "year = 2024"
   ]
  },
  {
   "cell_type": "markdown",
   "id": "8010f8ac",
   "metadata": {},
   "source": [
    "In many practical scenarios, you might want to store multiple values in one variable. For example, when creating an overview of all students in one variable, or when you are working with matrices in mathematics. For this, Python has four very useful data types: tuples, lists, sets and dictionaries. These are called *containers*, which can be used to store multiple values or variables. There are similarities, but also important differences between these four data types. In this chapter we'll discuss these."
   ]
  },
  {
   "cell_type": "markdown",
   "id": "1eecd6f7",
   "metadata": {},
   "source": [
    "## Tuple\n",
    "A tuple is a container for multiple items that is *immutable*. Immutability means that once a tuple has been created, we cannot change its contents. You recognize a tuple in Python by the use of parentheses `()`. For example, we can define a tuple with three numbers as follows."
   ]
  },
  {
   "cell_type": "code",
   "execution_count": null,
   "id": "1aeac24a",
   "metadata": {},
   "outputs": [],
   "source": [
    "digits = (3, 5, 4)"
   ]
  },
  {
   "cell_type": "markdown",
   "id": "83e7ddcc",
   "metadata": {},
   "source": [
    "The `3`, `4` and `5` now together form a tuple, and the variable `digits` contains this tuple and thus these items. The items in a tuple can have any type. For example, we can also create a tuple of strings"
   ]
  },
  {
   "cell_type": "code",
   "execution_count": null,
   "id": "de450e6a",
   "metadata": {},
   "outputs": [],
   "source": [
    "student_names = ('Alice', 'Bob', 'Claire')"
   ]
  },
  {
   "cell_type": "markdown",
   "id": "e1bf5aaf",
   "metadata": {},
   "source": [
    "or a tuple of booleans"
   ]
  },
  {
   "cell_type": "code",
   "execution_count": null,
   "id": "16a848de",
   "metadata": {},
   "outputs": [],
   "source": [
    "passed_course = (True, False, True)"
   ]
  },
  {
   "cell_type": "markdown",
   "id": "0379312f",
   "metadata": {},
   "source": [
    "The last example shows that a tuple can contain the same value multiple times: it's contents are *ordered* and they will stay in their order (even if they are not ascending or descending, or alphabetically ordered)."
   ]
  },
  {
   "cell_type": "markdown",
   "id": "a771f84b",
   "metadata": {},
   "source": [
    "We can access the value of an individual item in the tuple using `[]`. This is called *indexing*. For example, to get the value of the **first** element in the tuple `student_names`, we use the *index* of that element in `student_names` and write"
   ]
  },
  {
   "cell_type": "code",
   "execution_count": null,
   "id": "1f24eaa2",
   "metadata": {},
   "outputs": [],
   "source": [
    "print(student_names[0])"
   ]
  },
  {
   "cell_type": "markdown",
   "id": "0e2c3c76",
   "metadata": {},
   "source": [
    "```{warning}\n",
    "Note that to get the **first** element, we use index 0. In most programming languages, we start counting at 0, and not at 1.\n",
    "```\n",
    "\n",
    "If you have a tuple, you can always use indexing to get the value of an individual item. This way, you can also get the value of the second and third item in `student_names`"
   ]
  },
  {
   "cell_type": "code",
   "execution_count": null,
   "id": "6b2190c0",
   "metadata": {},
   "outputs": [],
   "source": [
    "print(student_names[1])\n",
    "print(student_names[2])"
   ]
  },
  {
   "cell_type": "markdown",
   "id": "61136349",
   "metadata": {},
   "source": [
    "Note that *getting* the value of an item in the tuple does not change anything to the tuple itself. The tuple is still the same if we get the value of an item."
   ]
  },
  {
   "cell_type": "code",
   "execution_count": null,
   "id": "9cb8fb12",
   "metadata": {},
   "outputs": [],
   "source": [
    "print(student_names)"
   ]
  },
  {
   "cell_type": "markdown",
   "id": "4d23e68c",
   "metadata": {},
   "source": [
    "Because a tuple is **immutable**, we cannot change the values of individual items, or *assign* a value to one of the elements. Let's give that a try below. In this line of code, we try to change the name of a student in the tuple."
   ]
  },
  {
   "cell_type": "code",
   "execution_count": null,
   "id": "f3992c85",
   "metadata": {},
   "outputs": [],
   "source": [
    "student_names[1] = 'Bert'"
   ]
  },
  {
   "cell_type": "markdown",
   "id": "aa93fcfb",
   "metadata": {},
   "source": [
    "Indeed, we get an error. Take a close look at this error, it tells you exactly what the problem is: tuples do not allow item assignment."
   ]
  },
  {
   "cell_type": "markdown",
   "id": "e1fe5672",
   "metadata": {},
   "source": [
    "Instead of indexing from the *start* of a tuple, you can also index by counting back from the last element by using negative integer numbers, where index -1 refers to the last item, -2 to the second-to-last item, etc. "
   ]
  },
  {
   "cell_type": "markdown",
   "id": "07eb12e9",
   "metadata": {},
   "source": [
    ":::{admonition} Exercise 2.1\n",
    ":class: tip\n",
    "Why do `student_names[0]` and `student_names[3]` refer to the same item?\n",
    ":::"
   ]
  },
  {
   "cell_type": "markdown",
   "id": "10f39d69",
   "metadata": {},
   "source": [
    ":::{admonition} Answer key 2.1\n",
    ":class: seealso\n",
    "`student_names[0]` refers to the item in the tuple and `student_names[-3]` refers to the third-to-last item in the student_names. Since list `student_names` consists of three items, the third-to-last item and first item refer to the same item, which is `Alice`. \n",
    ":::"
   ]
  },
  {
   "cell_type": "markdown",
   "id": "6a067759",
   "metadata": {},
   "source": [
    "In addition to selecting a *single* item using indexing, we can also select *multiple* items at once. This is called *slicing*. Slicing works with start, end, and stop indices. These are used in the following syntax\n",
    "\n",
    "```python\n",
    "sub_items = some_tuple[start:end:step]\n",
    "```\n",
    "\n",
    "In the example below, we select all items starting at index 3 and until (but not including) index 5. Note that in this example, the step is not provided. In this case, Python assumes that you want to use a stepsize of 1.  "
   ]
  },
  {
   "cell_type": "code",
   "execution_count": null,
   "id": "373aabc6",
   "metadata": {},
   "outputs": [],
   "source": [
    "food = ('spam', 'egg', 'bacon', 'tomato', 'ham', 'lobster')\n",
    "print(food[3:5])"
   ]
  },
  {
   "cell_type": "markdown",
   "id": "18d6f0eb",
   "metadata": {},
   "source": [
    "If you only provide an end index, Python assumes that you mean to slice up to that index. Conversely, if you only provide a start index, Python assumes that you intend to slice the full tuple from that index on. This is shown in the following two examples."
   ]
  },
  {
   "cell_type": "code",
   "execution_count": null,
   "id": "f58dfc26",
   "metadata": {},
   "outputs": [],
   "source": [
    "print(food[:4])\n",
    "print(food[2:])"
   ]
  },
  {
   "cell_type": "markdown",
   "id": "6de52c0a",
   "metadata": {},
   "source": [
    "If the start and end index are both undefined, we are simply selecting all items in the items"
   ]
  },
  {
   "cell_type": "code",
   "execution_count": null,
   "id": "e02c6e37",
   "metadata": {},
   "outputs": [],
   "source": [
    "print(food[:])"
   ]
  },
  {
   "cell_type": "markdown",
   "id": "b07c827d",
   "metadata": {},
   "source": [
    "The `step` lets us select only a subset of items. For example, to select every second item in the tuple between indices 2 and 6, the following code can be used, in which the step is 2."
   ]
  },
  {
   "cell_type": "code",
   "execution_count": null,
   "id": "6ca30079",
   "metadata": {},
   "outputs": [],
   "source": [
    "print(food[2:6:2])"
   ]
  },
  {
   "cell_type": "markdown",
   "id": "69f3ccf8",
   "metadata": {},
   "source": [
    "Steps can also be negative, in which case the tuple is traversed in the *reverse* direction. Here, it is important that you pick your start and end indices correctly. For example, the following code will not return anything."
   ]
  },
  {
   "cell_type": "code",
   "execution_count": null,
   "id": "7bb384ef",
   "metadata": {},
   "outputs": [],
   "source": [
    "print(food[2:6:-1])"
   ]
  },
  {
   "cell_type": "markdown",
   "id": "d523fe06",
   "metadata": {},
   "source": [
    ":::{admonition} Exercise 2.2\n",
    ":class: tip\n",
    "Why does this code not print anything?\n",
    ":::"
   ]
  },
  {
   "cell_type": "markdown",
   "id": "1014d784",
   "metadata": {},
   "source": [
    ":::{admonition} Answer key 2.2\n",
    ":class: seealso\n",
    "There is nothing between index 2 and index 6 if you move backward through the tuple.\n",
    ":::"
   ]
  },
  {
   "cell_type": "markdown",
   "id": "66ccc6fa",
   "metadata": {},
   "source": [
    "Instead, to traverse the tuple in reverse, the start index should be higher than the end index:"
   ]
  },
  {
   "cell_type": "code",
   "execution_count": null,
   "id": "175e4239",
   "metadata": {},
   "outputs": [],
   "source": [
    "print(food[6:2:-1])"
   ]
  },
  {
   "cell_type": "markdown",
   "id": "602b9234",
   "metadata": {},
   "source": [
    "This also provides an easy way to flip the items in a tuple. Remember that by not providing a start and end, we select the whole tuple. By then providing a negative step size, we ask Python to provide the full tuple in reverse."
   ]
  },
  {
   "cell_type": "code",
   "execution_count": null,
   "id": "3f8e31aa",
   "metadata": {},
   "outputs": [],
   "source": [
    "print(food[::-1])"
   ]
  },
  {
   "cell_type": "markdown",
   "id": "1cc984e2",
   "metadata": {},
   "source": [
    "It's often useful to know the length of a tuple, or the number of items in the tuple. For this, we can use the `len` function. "
   ]
  },
  {
   "cell_type": "code",
   "execution_count": null,
   "id": "081b08ad",
   "metadata": {},
   "outputs": [],
   "source": [
    "print(len(food))"
   ]
  },
  {
   "cell_type": "markdown",
   "id": "99134aa7",
   "metadata": {},
   "source": [
    "Items in a tuple can be variables, and tuples can contain other tuples. By nesting your indices, you can access the individual items in the *nested* tuple. Similarly, you can slice items in your tuple."
   ]
  },
  {
   "cell_type": "code",
   "execution_count": null,
   "id": "aaa46783",
   "metadata": {},
   "outputs": [],
   "source": [
    "vegetables = ('tomato', 'eggplant')\n",
    "groceries = ('cheese', 'bread', vegetables, 'milk')\n",
    "print(groceries)\n",
    "print(groceries[2][1])"
   ]
  },
  {
   "cell_type": "markdown",
   "id": "59eb10f0",
   "metadata": {},
   "source": [
    "## List\n",
    "Lists are the most commonly used container objects in Python. Like a tuple, a list can contain multiple items. Also similarly to a tuple, these items are ordered. Different than in a tuple, a list is *mutable*: we can add, change, and remove items. A list is defined using square brackets `[]`. "
   ]
  },
  {
   "cell_type": "code",
   "execution_count": null,
   "id": "5c786cbc",
   "metadata": {},
   "outputs": [],
   "source": [
    "digits = [3, 5, 4] \n",
    "print(digits)"
   ]
  },
  {
   "cell_type": "markdown",
   "id": "5fd9c9f5",
   "metadata": {},
   "source": [
    "To illustrate what we mean with *mutable*, let's use indexing to assign a new value to the second element"
   ]
  },
  {
   "cell_type": "code",
   "execution_count": null,
   "id": "32e2e91c",
   "metadata": {},
   "outputs": [],
   "source": [
    "digits[1] = 6\n",
    "print(digits)"
   ]
  },
  {
   "cell_type": "markdown",
   "id": "813746a8",
   "metadata": {},
   "source": [
    "Note how - in contrast to the tuple - we don't get an error in this case!\n",
    "\n",
    "We can not only change values of items in the list, but also add items or remove items. To add a single item to a list, you can use the `append` function, as in the following example"
   ]
  },
  {
   "cell_type": "code",
   "execution_count": null,
   "id": "319cddb1",
   "metadata": {},
   "outputs": [],
   "source": [
    "digits.append(6)\n",
    "print(digits)"
   ]
  },
  {
   "cell_type": "markdown",
   "id": "00204c5d",
   "metadata": {},
   "source": [
    "If you want to add multiple items, you can use the `extend` function as follows"
   ]
  },
  {
   "cell_type": "code",
   "execution_count": null,
   "id": "015157c4",
   "metadata": {},
   "outputs": [],
   "source": [
    "digits.extend([7, 8])\n",
    "print(digits)"
   ]
  },
  {
   "cell_type": "markdown",
   "id": "47df82cc",
   "metadata": {},
   "source": [
    "Equivalently, using the assignment operator `+=` that you learned last week, you can achieve the same result"
   ]
  },
  {
   "cell_type": "code",
   "execution_count": null,
   "id": "1d08ed19",
   "metadata": {},
   "outputs": [],
   "source": [
    "digits += [9, 10]\n",
    "print(digits)"
   ]
  },
  {
   "cell_type": "markdown",
   "id": "b5115531",
   "metadata": {},
   "source": [
    "Note that addition for two lists is the same as concatenation. "
   ]
  },
  {
   "cell_type": "markdown",
   "id": "a2f85e9e",
   "metadata": {},
   "source": [
    "```{note}\n",
    "Indexing and slicing work the same way for lists and tuples. The length of a list can also be determined using `len`.\n",
    "```"
   ]
  },
  {
   "cell_type": "markdown",
   "id": "8db089f3",
   "metadata": {},
   "source": [
    "There are two ways to remove items from a list. First, the `pop` method removes an item from a list at a given index and returns its value. Second, the `remove` method removes an item based on its value. The code below demonstrates this."
   ]
  },
  {
   "cell_type": "code",
   "execution_count": null,
   "id": "a4a74242",
   "metadata": {},
   "outputs": [],
   "source": [
    "fruits = ['apple', 'banana', 'cherry']\n",
    "popped = fruits.pop(1)\n",
    "print(fruits)\n",
    "print(popped)\n",
    "fruits.remove('cherry')\n",
    "print(fruits)"
   ]
  },
  {
   "cell_type": "markdown",
   "id": "47ab8709",
   "metadata": {},
   "source": [
    "Note that lists allow multiple items to have the same value and `remove` only removes the first matching occurence. "
   ]
  },
  {
   "cell_type": "code",
   "execution_count": null,
   "id": "ca335ae7",
   "metadata": {},
   "outputs": [],
   "source": [
    "motto = ['hodor', 'hodor', 'hodor']\n",
    "motto.remove('hodor')\n",
    "print(motto)"
   ]
  },
  {
   "cell_type": "markdown",
   "id": "b43ebe97",
   "metadata": {},
   "source": [
    "## Set \n",
    "A set is a container that is unordered and does not allow duplicate values. Sets cannot contain multiple items with the same value. Sets are defined using curly brackets `{}`. In the example below, you can note two things\n",
    "1. Although we assign two `5`s to the set, the set only contains one `5`. The reason for this is that a set does not allow duplicate values.\n",
    "2. Although the `4` comes after the `5` in our assignment, the order is swapped to be increasing in the eventual set. This is the case because a set is not ordered: elements will be sorted in increasing order by design."
   ]
  },
  {
   "cell_type": "code",
   "execution_count": null,
   "id": "f7bb08c0",
   "metadata": {},
   "outputs": [],
   "source": [
    "digits = {3, 5, 5, 4}\n",
    "print(digits)"
   ]
  },
  {
   "cell_type": "markdown",
   "id": "5f5d0fcf",
   "metadata": {},
   "source": [
    "You will find that sets can be very useful when you want to perform common mathematical operations like unions and intersections. Sets have some built-in *functions* that allow you do this. For example, if we have two groups of people, we can use sets for boolean operators."
   ]
  },
  {
   "cell_type": "code",
   "execution_count": null,
   "id": "464be546",
   "metadata": {},
   "outputs": [],
   "source": [
    "team_a = {'Adam', 'Bob', 'Claire', 'Dean'}\n",
    "team_b = {'Bob', 'Dean', 'Edward', 'Fran'}\n",
    "print(team_a.intersection(team_b)) # Who is in both groups (intersection)\n",
    "print(team_a.union(team_b)) # All people (union)\n",
    "print(team_a.difference(team_b)) # Everyone who is uniquely in group a"
   ]
  },
  {
   "cell_type": "markdown",
   "id": "80a0dc24",
   "metadata": {},
   "source": [
    "Just like in tuples, you cannot assign values to indices in sets. However, you can add and remove elements from sets using the `add` and `remove` functions, as follows."
   ]
  },
  {
   "cell_type": "code",
   "execution_count": null,
   "id": "5f48de18",
   "metadata": {},
   "outputs": [],
   "source": [
    "team_a.add('Edward')\n",
    "print(team_a)\n",
    "print(team_a)"
   ]
  },
  {
   "cell_type": "markdown",
   "id": "51b7e6ca",
   "metadata": {},
   "source": [
    "## Dictionary\n",
    "A dictionary is a collection that contains items which are pairs of keys and values. As with lists, tuples and sets, a dictionary can contain items with different data types. Keys do not necessarily have a specific type, and neither do values. Dictionaries ar defined using curly brackets `{}` and keys and values are separated using a colon `:`."
   ]
  },
  {
   "cell_type": "code",
   "execution_count": null,
   "id": "bec2f68a",
   "metadata": {},
   "outputs": [],
   "source": [
    "car = {\"brand\": \"Ford\", \"model\": \"Mustang\", \"year\": 1964}\n",
    "print(car)"
   ]
  },
  {
   "cell_type": "markdown",
   "id": "4438554f",
   "metadata": {},
   "source": [
    ":::{admonition} Single or double quotes\n",
    ":class: note\n",
    "Some programming languages distinguish between using 'single quotes' and \"double quotes\", but Python does not. You're free to choose what you prefer. As you can see above, even if you use double quotes, Python will turn these into single quotes.\n",
    ":::"
   ]
  },
  {
   "cell_type": "markdown",
   "id": "b7cb133d",
   "metadata": {},
   "source": [
    "Dictionaries are very useful in many applications that you will see during this course. Note that we cannot use indexing and slicing in dictionaries, but we can get values in dictionaries by using keys. For example, if the dictionary above defines a car, we can use `car[\"brand\"]` to get the brand of this car."
   ]
  },
  {
   "cell_type": "code",
   "execution_count": null,
   "id": "1c54bbf7",
   "metadata": {},
   "outputs": [],
   "source": [
    "print(car['brand'])"
   ]
  },
  {
   "cell_type": "markdown",
   "id": "175b9c4d",
   "metadata": {},
   "source": [
    "If you want to add something to an existing dictionary, you can simply assign a new key and value pair as follows"
   ]
  },
  {
   "cell_type": "code",
   "execution_count": null,
   "id": "2fca6ab1",
   "metadata": {},
   "outputs": [],
   "source": [
    "car['color'] = 'Blue'\n",
    "print(car)"
   ]
  },
  {
   "cell_type": "markdown",
   "id": "8fb0b7dd",
   "metadata": {},
   "source": [
    "To remove an key-value pair from a dictionary, use `del` as follows."
   ]
  },
  {
   "cell_type": "code",
   "execution_count": null,
   "id": "e3924030",
   "metadata": {},
   "outputs": [],
   "source": [
    "del car['model']\n",
    "print(car)"
   ]
  },
  {
   "cell_type": "markdown",
   "id": "025428fe",
   "metadata": {},
   "source": [
    "Note that dictionary keys and values can have any type. They don't have to be strings or integers. This makes dictionaries very flexible and useful in practice. However, there are some restrictions that you should keep in mind:\n",
    "1. A key can only appears in a dictionary once, duplicate keys are not allowed. \n",
    "2. If you assign a new value to a key, it overwrites the old value."
   ]
  },
  {
   "cell_type": "markdown",
   "id": "10849926",
   "metadata": {},
   "source": [
    "## Converting between collections\n",
    "If your data is organized in a set, you can turn it into a list or vice versa. Remember how in the previous chapter we could *cast* an integer as a float and vice versa? We can do the same with containers by changing their type. However, keep in mind the characteristics of these data types. For example, if you have a list with *duplicate* values and you turn that into a set, you'll lose the duplicates. This *can* be convenient, for example if you want to automatically select all unique values in a list. In the code below, notice how the set contains all unique elements in the list, ordered in ascending order, while the tuple maintains the original order and preserves duplicates."
   ]
  },
  {
   "cell_type": "code",
   "execution_count": null,
   "id": "8820c3d0",
   "metadata": {},
   "outputs": [],
   "source": [
    "digits_list = [1, 2, 3, 4, 1, 2, 3, 1, 2, 3, 4, 5]\n",
    "print(set(digits_list)) # Cast digits_list to a set \n",
    "print(tuple(digits_list)) # Cast digits_list to a tuple"
   ]
  },
  {
   "cell_type": "markdown",
   "id": "2103541f",
   "metadata": {},
   "source": [
    "Dictionaries cannot be directly transformed into lists, sets, or tuples, as only the keys will be preserved. However, you can get a list of either the keys or values in a dictionary using the `keys()` and `values()` methods"
   ]
  },
  {
   "cell_type": "code",
   "execution_count": null,
   "id": "3d96436e",
   "metadata": {},
   "outputs": [],
   "source": [
    "car = {\"brand\": \"Ford\", \"model\": \"Mustang\", \"year\": 1964}\n",
    "print(list(car.keys()))\n",
    "print(list(car.values()))"
   ]
  },
  {
   "cell_type": "markdown",
   "id": "b09c7585",
   "metadata": {},
   "source": [
    "To create a new dictionary from two lists (one containing keys, one values), use the `zip` function. This function takes two lists and, like a zipper, iterates over pairs of items in both lists. Each pair is combined in a tuple, and a new list is made using all these tuples. Using the `dict` function, this list can be turned into a dictionary. The following code illustrates this."
   ]
  },
  {
   "cell_type": "code",
   "execution_count": null,
   "id": "b59a772b",
   "metadata": {},
   "outputs": [],
   "source": [
    "keys = ['brand', 'model', 'year']\n",
    "values = ['Ford', 'Mustang', 1964]\n",
    "dict(list(zip(keys, values)))"
   ]
  },
  {
   "cell_type": "markdown",
   "id": "1590e214",
   "metadata": {},
   "source": [
    ":::{admonition} Exercise 2.3\n",
    ":class: tip\n",
    "Write scripts for the following tasks:\n",
    "1. Use indexing and assignment to sort the items in the list `scrambled_numbers = [7, 2, 5, 1, 8]`.\n",
    "2. Split the list `numbers = [1, 2, 3, 4, 5, 6, 7, 8, 9, 10]` into a list of even numbers and a list of uneven numbers using slicing.\n",
    "3. Given list `l = [10, 20, 30, 40, 'a', 'dog', 3.4, True]`, make two new lists: one containing every second item counting from the back, and one containing every third item starting from the front. \n",
    "4. Given tuple `t = (\"Orange\", [10, 20, 30], (5, 15, 25))`,extract the value `15` from `t`.\n",
    "5. Given the below dictionary, write a line of code that outputs Mike's grade for history. \n",
    "```python\n",
    "{\n",
    "    \"class\": {\n",
    "        \"student\": {\n",
    "            \"name\": \"Mike\",\n",
    "            \"grades\": {\n",
    "                \"physics\": 70,\n",
    "                \"history\": 80\n",
    "            }\n",
    "        }\n",
    "    }\n",
    "}\n",
    "```\n",
    "6. Given the below dictionary, raise the salary of Brad to 6800.\n",
    "```python\n",
    "sample_dict = {\n",
    "    'emp1': {'name': 'Jhon', 'salary': 7500},\n",
    "    'emp2': {'name': 'Emma', 'salary': 8000},\n",
    "    'emp3': {'name': 'Brad', 'salary': 500}\n",
    "}\n",
    "\n",
    "```\n",
    "7. Define a dictionary called `student` that contains your own name, hair color, and age.\n",
    "8. Create a list containing yourself and two additional students as dictionaries.\n",
    "9. Extract your names into a tuple. \n",
    "10. Efficiently merges to unsorted lists into a new sorted list. `[1,4,6]`,`[2,3,5]` $\\rightarrow$ `[1,2,3,4,5,6]`. Hint: use a `set`.\n",
    ":::"
   ]
  },
  {
   "cell_type": "markdown",
   "id": "279285c9",
   "metadata": {},
   "source": [
    ":::{admonition} Answer key 2.3\n",
    ":class: seealso\n",
    "1. \n",
    "```Python\n",
    "t = (10, 20, 30, 40, 50)\n",
    "t = t[::-1]\n",
    "print(t)\n",
    "```\n",
    "2. \n",
    "```Python\n",
    "l = [10, 20, 30, 40, 'a', 'dog', 3.4, True]\n",
    "l1 = l[-2::-2]\n",
    "l2 = l[2::3]\n",
    "print(l1)\n",
    "print(l2)\n",
    "```\n",
    "3. \n",
    "```Python\n",
    "t = (\"Orange\", [10, 20, 30], (5, 15, 25))\n",
    "value = t[2][1]\n",
    "print(value)\n",
    "```\n",
    "4. \n",
    "```Python\n",
    "t1 = (11, 22, 33, 44, 55, 66)\n",
    "t1[3:5]\n",
    "```\n",
    "5. \n",
    "```Python\n",
    "dictionary={\n",
    "    \"class\": {\n",
    "        \"student\": {\n",
    "            \"name\": \"Mike\",\n",
    "            \"grades\": {\n",
    "                \"physics\": 70,\n",
    "                \"history\": 80\n",
    "            }\n",
    "        }\n",
    "    }\n",
    "}\n",
    "\n",
    "dictionary[\"class\"][\"student\"][\"grades\"][\"history\"]\n",
    "```\n",
    "6. \n",
    "```Python\n",
    "sample_dict = {\n",
    "    'emp1': {'name': 'Jhon', 'salary': 7500},\n",
    "    'emp2': {'name': 'Emma', 'salary': 8000},\n",
    "    'emp3': {'name': 'Brad', 'salary': 500}\n",
    "}\n",
    "sample_dict[\"emp3\"][\"salary\"]=6800\n",
    "print(sample_dict)\n",
    "```\n",
    "7. \n",
    "```Python\n",
    "myself = {'name': 'Your name', 'hair color': 'Your hair color', 'age' : 24}\n",
    "print(myself)\n",
    "```\n",
    "8. \n",
    "```Python\n",
    "students_list = [\n",
    "    myself,\n",
    "    {\n",
    "        \"name\": \"Student 1\",\n",
    "        \"hair_color\": \"Hair Color 1\",\n",
    "        \"age\": 22\n",
    "    },\n",
    "    {\n",
    "        \"name\": \"Student 2\",\n",
    "        \"hair_color\": \"Hair Color 2\",\n",
    "        \"age\": 24\n",
    "    }\n",
    "]\n",
    "print(student_list)\n",
    "\n",
    "```\n",
    ":::\n"
   ]
  },
  {
   "cell_type": "markdown",
   "id": "b8e6d346",
   "metadata": {},
   "source": [
    "## The `in` operator\n",
    "For tuples, lists, sets, and dictionaries, Python provides the `in` operator, which checks whether a value is present in the collection. If so, it returns `True`, if not it returns `False`."
   ]
  },
  {
   "cell_type": "code",
   "execution_count": null,
   "id": "270aaf19",
   "metadata": {},
   "outputs": [],
   "source": [
    "digits = [1, 2, 3, 4]\n",
    "print(1 in digits)\n",
    "print(1 in (set(digits)))\n",
    "print(1 in tuple(digits))\n",
    "digits_dict = {1: 4, 2: 5}\n",
    "print(1 in digits_dict)"
   ]
  },
  {
   "cell_type": "markdown",
   "id": "18f2edbb",
   "metadata": {},
   "source": [
    "This operator can also be easily combined with `not` to ask for the opposite response. Consider the following example."
   ]
  },
  {
   "cell_type": "code",
   "execution_count": null,
   "id": "f4df5788",
   "metadata": {},
   "outputs": [],
   "source": [
    "car = {\"brand\": \"Ford\", \"model\": \"Mustang\", \"year\": 1964}\n",
    "'brand' not in car"
   ]
  },
  {
   "cell_type": "markdown",
   "id": "30ed2b41",
   "metadata": {},
   "source": [
    "There are some important differences between tuples, lists, sets and dictonaries. The following table [(source)](https://www.geeksforgeeks.org/differences-and-applications-of-list-tuple-set-and-dictionary-in-python/) nicely summarizes the differences between tuples, lists, sets and dictionaries. We'll elaborate below.\n",
    "| Tuple                                                                                                              | List                                                                                                             | Set                                                                                                      | Dictionary                                                                         |\n",
    "|--------------------------------------------------------------------------------------------------------------------|------------------------------------------------------------------------------------------------------------------|----------------------------------------------------------------------------------------------------------|------------------------------------------------------------------------------------|\n",
    "| A tuple is a non-homogeneous data structure that stores elements in columns of a single row or multiple rows. | A list is a non-homogeneous data structure that stores the elements in columns of a single row or multiple rows. | The set data structure is also a non-homogeneous data structure but stores the elements in a single row. | A dictionary is also a non-homogeneous data structure that stores key-value pairs. |\n",
    "|                                          Tuple can be represented by  ( )                                          |                                        The list can be represented by [ ]                                        |                                     The set can be represented by { }                                    |                      The dictionary can be represented by { }                      |\n",
    "|                                           Tuple allows duplicate elements                                          |                                        The list allows duplicate elements                                        |                                 The Set will not allow duplicate elements                                |                    The dictionary doesn’t allow duplicate keys.                    |\n",
    "|                                           Tuple can use nested among all                                           |                                         The list can use nested among all                                        |                                     The set can use nested among all                                     |                       The dictionary can use nested among all                      |\n",
    "|                                              Example: `(1, 2, 3, 4, 5)`                                              |                                             Example: `[1, 2, 3, 4, 5]`                                             |                                         Example: `{1, 2, 3, 4, 5}`                                         |                  Example: `{1: “a”, 2: “b”, 3: “c”, 4: “d”, 5: “e”}`                 |\n",
    "|                                  Tuple can be created using the `tuple()` function.                                  |                                  A list can be created using the `list()` function                                 |                         A set can be created using the `set()` function                        |               A dictionary can be created using the `dict()` function.               |\n",
    "|                         A tuple is immutable i.e we can not make any changes in the tuple.                         |                            A list is mutable i.e we can make any changes in the list.                            |         A set is mutable i.e we can make any changes in the set, ut elements are not duplicated.         |                A dictionary is mutable, but keys are not duplicated.                |\n",
    "|                                                  Tuple is ordered                                                  |                                                  List is ordered                                                 |                                             Set is unordered                                             |                    Dictionary is ordered (Python 3.7 and above)                    |\n",
    "|                                            Creating an empty Tuple `t=()`                                            |                                            Creating an empty list `l=[]`                                           |                                      Creating a set `a=set()` `b=set(a)`                                     |                          Creating an empty dictionary `d={}`                         |\n"
   ]
  },
  {
   "cell_type": "markdown",
   "id": "873579e7",
   "metadata": {},
   "source": [
    "## String formatting\n",
    "Oftentimes when we want to print something in a Python script, we want to include variable values in the print statement. Python formatting uses the `format` function, which is a very powerful way to make your print statements more dynamic. Consider the following example."
   ]
  },
  {
   "cell_type": "code",
   "execution_count": null,
   "id": "18bfe877",
   "metadata": {},
   "outputs": [],
   "source": [
    "a = 45\n",
    "b = 76\n",
    "print('The sum of {} and {} is {}'.format(a, b, a+b))"
   ]
  },
  {
   "cell_type": "markdown",
   "id": "8ea970a0",
   "metadata": {},
   "source": [
    "Changing the values of the variables `a` and `b` also changes the output of the print statement. To make sure that the right values end up in the right place, you can also name the formatted parts of your string, as follows"
   ]
  },
  {
   "cell_type": "code",
   "execution_count": null,
   "id": "53791b40",
   "metadata": {},
   "outputs": [],
   "source": [
    "a = 45\n",
    "b = 76\n",
    "print('The sum of {number_a} and {number_b} is {sum_numbers}'.format(number_a=a, number_b=b, sum_numbers=a+b))"
   ]
  },
  {
   "cell_type": "markdown",
   "id": "e43f736f",
   "metadata": {},
   "source": [
    "If you have a floating point number with many decimals, you can also control the number of decimals that actually get printed, as follows."
   ]
  },
  {
   "cell_type": "code",
   "execution_count": null,
   "id": "b4842d69",
   "metadata": {},
   "outputs": [],
   "source": [
    "a = 1/9\n",
    "print(a)  # Prints the 'raw' value of a with many decimals\n",
    "print('{:.2f}'.format(a)) # Only prints two decimals\n",
    "print('{number:.2f}'.format(number=a))  # Same as in previous line, but now with named argument"
   ]
  },
  {
   "cell_type": "markdown",
   "id": "4897c436",
   "metadata": {},
   "source": [
    ":::{admonition} Exercise 2.4\n",
    ":class: tip\n",
    "The table below shows the average temperature per month in Enschede per month. \n",
    "\n",
    "| Average | January | February  | March | April  | May  | June  | July  | August  | September  | October  | November | December |\n",
    "|---------|-----|------|-----|------|------|------|------|------|------|------|-----|-----|\n",
    "| Temp.   | 2°C | 3°C  | 6°C | 9°C  | 13°C | 16°C | 18°C | 17°C | 14°C | 10°C | 6°C | 3°C |\n",
    "\n",
    "Use this information for the following:\n",
    "- Put this information in a dictionary, use strings as keys and integers as values. \n",
    "- Then, use the dictionary and use `format` for the italic parts in\n",
    "  - 'The average temperature in *March* is *6*°C'\n",
    "  - 'The average temperature in *August* is *17*°C'\n",
    "  - 'The average temperature in *July* is *15*°C higher than in *February*'\n",
    ":::"
   ]
  },
  {
   "cell_type": "markdown",
   "id": "c7a1c98b",
   "metadata": {},
   "source": [
    ":::{admonition} Answer key 2.4\n",
    ":class: seealso\n",
    "```python\n",
    "temperatures = {'January': 2, 'February': 3, 'March': 6, \n",
    "                'April': 9, 'May': 13, 'June': 16, \n",
    "                'July': 18, 'August': 17, 'September': 14,\n",
    "                'October': 10, 'November': 6, 'December': 3}\n",
    "\n",
    "print('The average temperature in {month} is {temp}°C'.format(month='January', temp=temperatures['January']))\n",
    "print('The average temperature in {month} is {temp}°C'.format(month='August', temp=temperatures['August']))\n",
    "print('The average temperature in {month} is {temp}°C'.format(month='January', temp=temperatures['January']))\n",
    "print('The average temperature in {month_a} is {difference}°C higher than in {month_b}'.format(month_a='July', \n",
    "                                                                                             month_b='February',\n",
    "                                                                                             difference=temperatures['July']-temperatures['February']))```      \n",
    ":::"
   ]
  }
 ],
 "metadata": {
  "jupytext": {
   "cell_metadata_filter": "-all",
   "main_language": "python",
   "notebook_metadata_filter": "-all"
  }
 },
 "nbformat": 4,
 "nbformat_minor": 5
}