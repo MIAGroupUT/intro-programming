{
 "cells": [
  {
   "cell_type": "markdown",
   "id": "e4de7408",
   "metadata": {},
   "source": [
    "# Containers\n",
    "\n",
    ":::{admonition} Learning goals\n",
    ":class: note\n",
    "After finishing this chapter, you are expected to\n",
    "* be able to work with different kinds of containers in Python\n",
    "* understand differences between `tuple`, `list`, `set`, and `dict` containers\n",
    "* index and slice tuples and lists\n",
    "* know how to format strings\n",
    ":::"
   ]
  },
  {
   "cell_type": "markdown",
   "id": "83d05efe",
   "metadata": {},
   "source": [
    "## Tuples, lists, sets, and dictionaries\n",
    "In the previous chapter, we have introduced four basic Python data types: integers, floating point numbers, strings, and booleans. Variables of this type allow the user to store one value, e.g.,"
   ]
  },
  {
   "cell_type": "code",
   "execution_count": 1,
   "id": "b057761c",
   "metadata": {},
   "outputs": [],
   "source": [
    "course_name = 'Introduction to programming'\n",
    "year = 2024"
   ]
  },
  {
   "cell_type": "markdown",
   "id": "480da411",
   "metadata": {},
   "source": [
    "In many practical scenarios, you might want to store multiple values in one variable. For example, when creating an overview of all students in one variable, or when you are working with matrices in mathematics. For this, Python has four very useful data types: tuples, lists, sets and dictionaries. These are called *containers*, which can be used to store multiple values or variables. There are similarities, but also important differences between these four data types. In this chapter we'll discuss these."
   ]
  },
  {
   "cell_type": "markdown",
   "id": "6b09d567",
   "metadata": {},
   "source": [
    "## Tuple\n",
    "A tuple is a container for multiple items that is *immutable*. Immutability means that once a tuple has been created, we cannot change its contents. You recognize a tuple in Python by the use of parentheses `()`. For example, we can define a tuple with three numbers as follows."
   ]
  },
  {
   "cell_type": "code",
   "execution_count": 2,
   "id": "a82c28f8",
   "metadata": {},
   "outputs": [],
   "source": [
    "digits = (3, 5, 4)"
   ]
  },
  {
   "cell_type": "markdown",
   "id": "f1bb791e",
   "metadata": {},
   "source": [
    "The `3`, `4` and `5` now together form a tuple, and the variable `digits` contains this tuple and thus these items. The items in a tuple can have any type. For example, we can also create a tuple of strings"
   ]
  },
  {
   "cell_type": "code",
   "execution_count": 3,
   "id": "aff775dc",
   "metadata": {},
   "outputs": [],
   "source": [
    "student_names = ('Alice', 'Bob', 'Claire')"
   ]
  },
  {
   "cell_type": "markdown",
   "id": "1b80af66",
   "metadata": {},
   "source": [
    "or a tuple of booleans"
   ]
  },
  {
   "cell_type": "code",
   "execution_count": 4,
   "id": "c747f63f",
   "metadata": {},
   "outputs": [],
   "source": [
    "passed_course = (True, False, True)"
   ]
  },
  {
   "cell_type": "markdown",
   "id": "1d3cc625",
   "metadata": {},
   "source": [
    "The last example shows that a tuple can contain the same value multiple times: it's contents are *ordered* and they will stay in their order (even if they are not ascending or descending, or alphabetically ordered)."
   ]
  },
  {
   "cell_type": "markdown",
   "id": "0e44a08c",
   "metadata": {},
   "source": [
    "We can access the value of an individual item in the tuple using `[]`. This is called *indexing*. For example, to get the value of the **first** element in the tuple `student_names`, we use the *index* of that element in `student_names` and write"
   ]
  },
  {
   "cell_type": "code",
   "execution_count": 5,
   "id": "77590730",
   "metadata": {},
   "outputs": [
    {
     "name": "stdout",
     "output_type": "stream",
     "text": [
      "Alice\n"
     ]
    }
   ],
   "source": [
    "print(student_names[0])"
   ]
  },
  {
   "cell_type": "markdown",
   "id": "b0038241",
   "metadata": {},
   "source": [
    "```{warning}\n",
    "Note that to get the **first** element, we use index 0. In most programming languages, we start counting at 0, and not at 1.\n",
    "```\n",
    "\n",
    "If you have a tuple, you can always use indexing to get the value of an individual item. This way, you can also get the value of the second and third item in `student_names`"
   ]
  },
  {
   "cell_type": "code",
   "execution_count": 6,
   "id": "9df73aeb",
   "metadata": {},
   "outputs": [
    {
     "name": "stdout",
     "output_type": "stream",
     "text": [
      "Bob\n",
      "Claire\n"
     ]
    }
   ],
   "source": [
    "print(student_names[1])\n",
    "print(student_names[2])"
   ]
  },
  {
   "cell_type": "markdown",
   "id": "4fa0e20a",
   "metadata": {},
   "source": [
    "Note that *getting* the value of an item in the tuple does not change anything to the tuple itself. The tuple is still the same if we get the value of an item."
   ]
  },
  {
   "cell_type": "code",
   "execution_count": 7,
   "id": "7a2a4098",
   "metadata": {},
   "outputs": [
    {
     "name": "stdout",
     "output_type": "stream",
     "text": [
      "('Alice', 'Bob', 'Claire')\n"
     ]
    }
   ],
   "source": [
    "print(student_names)"
   ]
  },
  {
   "cell_type": "markdown",
   "id": "cc8e8d76",
   "metadata": {},
   "source": [
    "Because a tuple is **immutable**, we cannot change the values of individual items, or *assign* a value to one of the elements. Let's give that a try below. In this line of code, we try to change the name of a student in the tuple."
   ]
  },
  {
   "cell_type": "code",
   "execution_count": 8,
   "id": "f3ce2268",
   "metadata": {},
   "outputs": [
    {
     "ename": "TypeError",
     "evalue": "'tuple' object does not support item assignment",
     "output_type": "error",
     "traceback": [
      "\u001b[0;31m---------------------------------------------------------------------------\u001b[0m",
      "\u001b[0;31mTypeError\u001b[0m                                 Traceback (most recent call last)",
      "\u001b[0;32m/var/folders/07/x0gf6dj176dfjvrn357t5p6h0000gn/T/ipykernel_34277/34016667.py\u001b[0m in \u001b[0;36m<module>\u001b[0;34m\u001b[0m\n\u001b[0;32m----> 1\u001b[0;31m \u001b[0mstudent_names\u001b[0m\u001b[0;34m[\u001b[0m\u001b[0;36m1\u001b[0m\u001b[0;34m]\u001b[0m \u001b[0;34m=\u001b[0m \u001b[0;34m'Bert'\u001b[0m\u001b[0;34m\u001b[0m\u001b[0;34m\u001b[0m\u001b[0m\n\u001b[0m",
      "\u001b[0;31mTypeError\u001b[0m: 'tuple' object does not support item assignment"
     ]
    }
   ],
   "source": [
    "student_names[1] = 'Bert'"
   ]
  },
  {
   "cell_type": "markdown",
   "id": "ac0c8a26",
   "metadata": {},
   "source": [
    "Indeed, we get an error. Take a close look at this error, it tells you exactly what the problem is: tuples do not allow item assignment."
   ]
  },
  {
   "cell_type": "markdown",
   "id": "62fc2b36",
   "metadata": {},
   "source": [
    "Instead of indexing from the *start* of a tuple, you can also index by counting back from the last element by using negative integer numbers, where index -1 refers to the last item, -2 to the second-to-last item, etc. "
   ]
  },
  {
   "cell_type": "markdown",
   "id": "3fa05e65",
   "metadata": {},
   "source": [
    ":::{admonition} Exercise 2.1\n",
    ":class: tip\n",
    "Why do `student_names[0]` and `student_names[3]` refer to the same item?\n",
    ":::"
   ]
  },
  {
   "cell_type": "markdown",
   "id": "d71fc3a8",
   "metadata": {},
   "source": [
    "In addition to selecting a *single* item using indexing, we can also select *multiple* items at once. This is called *slicing*. Slicing works with start, end, and step indices. These are used in the following syntax\n",
    "\n",
    "```python\n",
    "sub_items = some_tuple[start:end:step]\n",
    "```\n",
    "\n",
    "In the example below, we select all items starting at index 3 and until (but not including) index 5. Note that in this example, the step is not provided. In this case, Python assumes that you want to use a step size of 1.  "
   ]
  },
  {
   "cell_type": "code",
   "execution_count": 9,
   "id": "ac100a21",
   "metadata": {},
   "outputs": [
    {
     "name": "stdout",
     "output_type": "stream",
     "text": [
      "('tomato', 'ham')\n"
     ]
    }
   ],
   "source": [
    "food = ('spam', 'egg', 'bacon', 'tomato', 'ham', 'lobster')\n",
    "print(food[3:5])"
   ]
  },
  {
   "cell_type": "markdown",
   "id": "0bd0530d",
   "metadata": {},
   "source": [
    "If you only provide an end index, Python assumes that you mean to slice up to that index. Conversely, if you only provide a start index, Python assumes that you intend to slice the full tuple from that index on. This is shown in the following two examples."
   ]
  },
  {
   "cell_type": "code",
   "execution_count": 10,
   "id": "dbbabd06",
   "metadata": {},
   "outputs": [
    {
     "name": "stdout",
     "output_type": "stream",
     "text": [
      "('spam', 'egg', 'bacon', 'tomato')\n",
      "('bacon', 'tomato', 'ham', 'lobster')\n"
     ]
    }
   ],
   "source": [
    "print(food[:4])\n",
    "print(food[2:])"
   ]
  },
  {
   "cell_type": "markdown",
   "id": "5dee3b36",
   "metadata": {},
   "source": [
    "If the start and end index are both undefined, we are simply selecting all items in the items"
   ]
  },
  {
   "cell_type": "code",
   "execution_count": 11,
   "id": "dea0f3b4",
   "metadata": {},
   "outputs": [
    {
     "name": "stdout",
     "output_type": "stream",
     "text": [
      "('spam', 'egg', 'bacon', 'tomato', 'ham', 'lobster')\n"
     ]
    }
   ],
   "source": [
    "print(food[:])"
   ]
  },
  {
   "cell_type": "markdown",
   "id": "9f9d66e5",
   "metadata": {},
   "source": [
    "The `step` lets us select only a subset of items. For example, to select every second item in the tuple between indices 2 and 6, the following code can be used, in which the step is 2."
   ]
  },
  {
   "cell_type": "code",
   "execution_count": 12,
   "id": "417f12d2",
   "metadata": {},
   "outputs": [
    {
     "name": "stdout",
     "output_type": "stream",
     "text": [
      "('bacon', 'ham')\n"
     ]
    }
   ],
   "source": [
    "print(food[2:6:2])"
   ]
  },
  {
   "cell_type": "markdown",
   "id": "dfc00808",
   "metadata": {},
   "source": [
    "Steps can also be negative, in which case the tuple is traversed in the *reverse* direction. Here, it is important that you pick your start and end indices correctly. For example, the following code will not return anything."
   ]
  },
  {
   "cell_type": "code",
   "execution_count": 13,
   "id": "489b1dbc",
   "metadata": {},
   "outputs": [
    {
     "name": "stdout",
     "output_type": "stream",
     "text": [
      "()\n"
     ]
    }
   ],
   "source": [
    "print(food[2:6:-1])"
   ]
  },
  {
   "cell_type": "markdown",
   "id": "7af24705",
   "metadata": {},
   "source": [
    ":::{admonition} Exercise 2.2\n",
    ":class: tip\n",
    "Why does this code not print anything?\n",
    ":::"
   ]
  },
  {
   "cell_type": "markdown",
   "id": "6e15c04f",
   "metadata": {},
   "source": [
    "Instead, to traverse the tuple in reverse, the start index should be higher than the end index:"
   ]
  },
  {
   "cell_type": "code",
   "execution_count": 14,
   "id": "cc641e02",
   "metadata": {},
   "outputs": [
    {
     "name": "stdout",
     "output_type": "stream",
     "text": [
      "('lobster', 'ham', 'tomato')\n"
     ]
    }
   ],
   "source": [
    "print(food[6:2:-1])"
   ]
  },
  {
   "cell_type": "markdown",
   "id": "a8938b73",
   "metadata": {},
   "source": [
    "This also provides an easy way to flip the items in a tuple. Remember that by not providing a start and end, we select the whole tuple. By then providing a negative step size, we ask Python to provide the full tuple in reverse."
   ]
  },
  {
   "cell_type": "code",
   "execution_count": 15,
   "id": "1d9614aa",
   "metadata": {},
   "outputs": [
    {
     "name": "stdout",
     "output_type": "stream",
     "text": [
      "('lobster', 'ham', 'tomato', 'bacon', 'egg', 'spam')\n"
     ]
    }
   ],
   "source": [
    "print(food[::-1])"
   ]
  },
  {
   "cell_type": "markdown",
   "id": "334333ac",
   "metadata": {},
   "source": [
    "It's often useful to know the length of a tuple, or the number of items in the tuple. For this, we can use the `len` function. "
   ]
  },
  {
   "cell_type": "code",
   "execution_count": 16,
   "id": "876acd32",
   "metadata": {},
   "outputs": [
    {
     "name": "stdout",
     "output_type": "stream",
     "text": [
      "6\n"
     ]
    }
   ],
   "source": [
    "print(len(food))"
   ]
  },
  {
   "cell_type": "markdown",
   "id": "9e6a195a",
   "metadata": {},
   "source": [
    "Items in a tuple can be variables, and tuples can contain other tuples. By nesting your indices, you can access the individual items in the *nested* tuple. Similarly, you can slice items in your tuple."
   ]
  },
  {
   "cell_type": "code",
   "execution_count": 17,
   "id": "a80ba15d",
   "metadata": {},
   "outputs": [
    {
     "name": "stdout",
     "output_type": "stream",
     "text": [
      "('cheese', 'bread', ('tomato', 'eggplant'), 'milk')\n",
      "eggplant\n"
     ]
    }
   ],
   "source": [
    "vegetables = ('tomato', 'eggplant')\n",
    "groceries = ('cheese', 'bread', vegetables, 'milk')\n",
    "print(groceries)\n",
    "print(groceries[2][1])"
   ]
  },
  {
   "cell_type": "markdown",
   "id": "5a75eebd",
   "metadata": {},
   "source": [
    "## List\n",
    "Lists are the most commonly used container objects in Python. Like a tuple, a list can contain multiple items. Also similarly to a tuple, these items are ordered. Different than in a tuple, a list is *mutable*: we can add, change, and remove items. A list is defined using square brackets `[]`. "
   ]
  },
  {
   "cell_type": "code",
   "execution_count": 18,
   "id": "6f85597c",
   "metadata": {},
   "outputs": [
    {
     "name": "stdout",
     "output_type": "stream",
     "text": [
      "[3, 5, 4]\n"
     ]
    }
   ],
   "source": [
    "digits = [3, 5, 4] \n",
    "print(digits)"
   ]
  },
  {
   "cell_type": "markdown",
   "id": "228f7e89",
   "metadata": {},
   "source": [
    "To illustrate what we mean with *mutable*, let's use indexing to assign a new value to the second element"
   ]
  },
  {
   "cell_type": "code",
   "execution_count": 19,
   "id": "1d86d94b",
   "metadata": {},
   "outputs": [
    {
     "name": "stdout",
     "output_type": "stream",
     "text": [
      "[3, 6, 4]\n"
     ]
    }
   ],
   "source": [
    "digits[1] = 6\n",
    "print(digits)"
   ]
  },
  {
   "cell_type": "markdown",
   "id": "f4cb4550",
   "metadata": {},
   "source": [
    "Note how - in contrast to the tuple - we don't get an error in this case!\n",
    "\n",
    "We can not only change values of items in the list, but also add items or remove items. To add a single item to a list, you can use the `append` function, as in the following example"
   ]
  },
  {
   "cell_type": "code",
   "execution_count": 20,
   "id": "419fc240",
   "metadata": {},
   "outputs": [
    {
     "name": "stdout",
     "output_type": "stream",
     "text": [
      "[3, 6, 4, 6]\n"
     ]
    }
   ],
   "source": [
    "digits.append(6)\n",
    "print(digits)"
   ]
  },
  {
   "cell_type": "markdown",
   "id": "67dd9a2e",
   "metadata": {},
   "source": [
    "If you want to add multiple items, you can use the `extend` function as follows"
   ]
  },
  {
   "cell_type": "code",
   "execution_count": 21,
   "id": "faf55edf",
   "metadata": {},
   "outputs": [
    {
     "name": "stdout",
     "output_type": "stream",
     "text": [
      "[3, 6, 4, 6, 7, 8]\n"
     ]
    }
   ],
   "source": [
    "digits.extend([7, 8])\n",
    "print(digits)"
   ]
  },
  {
   "cell_type": "markdown",
   "id": "ca284199",
   "metadata": {},
   "source": [
    "Equivalently, using the assignment operator `+=` that you learned last week, you can achieve the same result"
   ]
  },
  {
   "cell_type": "code",
   "execution_count": 22,
   "id": "097ee7cb",
   "metadata": {},
   "outputs": [
    {
     "name": "stdout",
     "output_type": "stream",
     "text": [
      "[3, 6, 4, 6, 7, 8, 9, 10]\n"
     ]
    }
   ],
   "source": [
    "digits += [9, 10]\n",
    "print(digits)"
   ]
  },
  {
   "cell_type": "markdown",
   "id": "508ef769",
   "metadata": {},
   "source": [
    "Note that addition for two lists is the same as concatenation. "
   ]
  },
  {
   "cell_type": "markdown",
   "id": "85c0298b",
   "metadata": {},
   "source": [
    "You can also make a list 'from scratch' by just starting with an empty list and adding items as you go, like this:"
   ]
  },
  {
   "cell_type": "code",
   "execution_count": 23,
   "id": "64db7358",
   "metadata": {},
   "outputs": [
    {
     "name": "stdout",
     "output_type": "stream",
     "text": [
      "['Alice', 'Bob', 'Clark', 'Denise']\n"
     ]
    }
   ],
   "source": [
    "student_names = []\n",
    "student_names.append('Alice')\n",
    "student_names.append('Bob')\n",
    "student_names += ['Clark', 'Denise']\n",
    "print(student_names)"
   ]
  },
  {
   "cell_type": "markdown",
   "id": "38577c58",
   "metadata": {},
   "source": [
    ":::{admonition} Indexing and slicing \n",
    ":class: note\n",
    "Indexing and slicing work the same way for lists and tuples. The length of a list can also be determined using `len`. E.g.,\n",
    "\n",
    "```python\n",
    "cheeses = ['gouda', 'brie', 'mozarella']\n",
    "list_length = len(cheeses)\n",
    "```\n",
    ":::"
   ]
  },
  {
   "cell_type": "markdown",
   "id": "f68c5af2",
   "metadata": {},
   "source": [
    "There are two ways to remove items from a list. First, the `pop` method removes an item from a list at a given *index* and returns its value. Second, the `remove` method removes an item based on its *value*. The code below demonstrates this."
   ]
  },
  {
   "cell_type": "code",
   "execution_count": 24,
   "id": "043d8a04",
   "metadata": {},
   "outputs": [
    {
     "name": "stdout",
     "output_type": "stream",
     "text": [
      "['apple', 'cherry']\n",
      "banana\n",
      "['apple']\n"
     ]
    }
   ],
   "source": [
    "fruits = ['apple', 'banana', 'cherry']\n",
    "popped = fruits.pop(1)\n",
    "print(fruits)\n",
    "print(popped)\n",
    "fruits.remove('cherry')\n",
    "print(fruits)"
   ]
  },
  {
   "cell_type": "markdown",
   "id": "cdb3036a",
   "metadata": {},
   "source": [
    "Note that lists allow multiple items to have the same value and `remove` only removes the first matching occurence. "
   ]
  },
  {
   "cell_type": "code",
   "execution_count": 25,
   "id": "b7c8f1c5",
   "metadata": {},
   "outputs": [
    {
     "name": "stdout",
     "output_type": "stream",
     "text": [
      "['hodor', 'hodor']\n"
     ]
    }
   ],
   "source": [
    "motto = ['hodor', 'hodor', 'hodor']\n",
    "motto.remove('hodor')\n",
    "print(motto)"
   ]
  },
  {
   "cell_type": "markdown",
   "id": "eb28b6ad",
   "metadata": {},
   "source": [
    ":::{admonition} Exercise 2.3\n",
    ":class: tip\n",
    "Write scripts for the following tasks:\n",
    "    \n",
    "1. Use indexing and assignment to sort the items in the list `scrambled_numbers = [7, 2, 5, 1]` in ascending order.\n",
    "2. Split the list `numbers = [1, 2, 3, 4, 5, 6, 7, 8, 9, 10]` into a list of even numbers and a list of uneven numbers using slicing.\n",
    "3. Given list `l = [10, 20, 30, 40, 'a', 'dog', 3.4, True]`, make two new lists: one containing every second item counting from the back, and one containing every third item starting from the front. \n",
    "4. Given tuple `t = (\"Orange\", [10, 20, 30], (5, 15, 25))`, write code to extract the value `15` from `t`.\n",
    ":::"
   ]
  },
  {
   "cell_type": "markdown",
   "id": "62ea4794",
   "metadata": {},
   "source": [
    "## Set \n",
    "A set is a container that is unordered and does not allow duplicate values. Sets cannot contain multiple items with the same value. Sets are defined using curly brackets `{}`. In the example below, you can note two things\n",
    "1. Although we assign two `5`s to the set, the set only contains one `5`. The reason for this is that a set does not allow duplicate values.\n",
    "2. Although the `4` comes after the `5` in our assignment, the order is swapped to be increasing in the eventual set. This is the case because a set is not ordered: elements are always sorted in ascending order for printing."
   ]
  },
  {
   "cell_type": "code",
   "execution_count": 26,
   "id": "5cd983af",
   "metadata": {},
   "outputs": [
    {
     "name": "stdout",
     "output_type": "stream",
     "text": [
      "{3, 4, 5}\n"
     ]
    }
   ],
   "source": [
    "digits = {3, 5, 5, 4}\n",
    "print(digits)"
   ]
  },
  {
   "cell_type": "markdown",
   "id": "f7f9da89",
   "metadata": {},
   "source": [
    "You will find that sets can be very useful when you want to perform common mathematical operations like unions and intersections. Sets have some built-in *functions* that allow you do this. For example, if we have two groups of people, we can use sets for boolean operators."
   ]
  },
  {
   "cell_type": "code",
   "execution_count": 27,
   "id": "771bc772",
   "metadata": {},
   "outputs": [
    {
     "name": "stdout",
     "output_type": "stream",
     "text": [
      "{'Bob', 'Dean'}\n",
      "{'Adam', 'Edward', 'Bob', 'Dean', 'Fran', 'Claire'}\n",
      "{'Adam', 'Claire'}\n"
     ]
    }
   ],
   "source": [
    "team_a = {'Adam', 'Bob', 'Claire', 'Dean'}\n",
    "team_b = {'Bob', 'Dean', 'Edward', 'Fran'}\n",
    "print(team_a.intersection(team_b)) # Who is in both groups (intersection)\n",
    "print(team_a.union(team_b)) # All people (union)\n",
    "print(team_a.difference(team_b)) # Everyone who is uniquely in group a"
   ]
  },
  {
   "cell_type": "markdown",
   "id": "1b827f65",
   "metadata": {},
   "source": [
    "Just like in tuples, you cannot assign values to indices in sets. However, you can add and remove elements from sets using the `add` and `remove` functions, as follows."
   ]
  },
  {
   "cell_type": "code",
   "execution_count": 28,
   "id": "65ac4ca8",
   "metadata": {},
   "outputs": [
    {
     "name": "stdout",
     "output_type": "stream",
     "text": [
      "{'Adam', 'Edward', 'Bob', 'Dean', 'Claire'}\n"
     ]
    }
   ],
   "source": [
    "team_a.add('Edward')\n",
    "print(team_a)"
   ]
  },
  {
   "cell_type": "markdown",
   "id": "6996d6b0",
   "metadata": {},
   "source": [
    "## Dictionary\n",
    "A dictionary is a collection that contains items which are pairs of keys and values. As with lists, tuples and sets, a dictionary can contain items with different data types. Keys do not necessarily have a specific type, and neither do values. Dictionaries ar defined using curly brackets `{}` and keys and values are separated using a colon `:`. Each item in a dictionary should have a key and a value."
   ]
  },
  {
   "cell_type": "code",
   "execution_count": 29,
   "id": "acf0b1e6",
   "metadata": {},
   "outputs": [
    {
     "name": "stdout",
     "output_type": "stream",
     "text": [
      "{'brand': 'Ford', 'model': 'Mustang', 'year': 1964}\n"
     ]
    }
   ],
   "source": [
    "car = {\"brand\": \"Ford\", \"model\": \"Mustang\", \"year\": 1964}\n",
    "print(car)"
   ]
  },
  {
   "cell_type": "markdown",
   "id": "debfe93b",
   "metadata": {},
   "source": [
    ":::{admonition} Single or double quotes\n",
    ":class: note\n",
    "Some programming languages distinguish between using 'single quotes' and \"double quotes\", but Python does not. You're free to choose what you prefer. As you can see above, even if you use double quotes, Python will turn these into single quotes.\n",
    ":::"
   ]
  },
  {
   "cell_type": "markdown",
   "id": "69faaf09",
   "metadata": {},
   "source": [
    "Dictionaries are very useful in many applications that you will see during this course. Note that we cannot use indexing and slicing in dictionaries, but we can get values in dictionaries by using keys. For example, if the dictionary above defines a car, we can use `car['brand']` to get the brand of this car."
   ]
  },
  {
   "cell_type": "code",
   "execution_count": 30,
   "id": "596eca92",
   "metadata": {},
   "outputs": [
    {
     "name": "stdout",
     "output_type": "stream",
     "text": [
      "Ford\n"
     ]
    }
   ],
   "source": [
    "print(car['brand'])"
   ]
  },
  {
   "cell_type": "markdown",
   "id": "c067b988",
   "metadata": {},
   "source": [
    "If you want to add something to an existing dictionary, you can simply assign a new key and value pair as follows"
   ]
  },
  {
   "cell_type": "code",
   "execution_count": 31,
   "id": "dec7dccb",
   "metadata": {},
   "outputs": [
    {
     "name": "stdout",
     "output_type": "stream",
     "text": [
      "{'brand': 'Ford', 'model': 'Mustang', 'year': 1964, 'color': 'Blue'}\n"
     ]
    }
   ],
   "source": [
    "car['color'] = 'Blue'\n",
    "print(car)"
   ]
  },
  {
   "cell_type": "markdown",
   "id": "abdcab00",
   "metadata": {},
   "source": [
    "To remove an key-value pair from a dictionary, use `del` as follows."
   ]
  },
  {
   "cell_type": "code",
   "execution_count": 32,
   "id": "9d604112",
   "metadata": {},
   "outputs": [
    {
     "name": "stdout",
     "output_type": "stream",
     "text": [
      "{'brand': 'Ford', 'year': 1964, 'color': 'Blue'}\n"
     ]
    }
   ],
   "source": [
    "del car['model']\n",
    "print(car)"
   ]
  },
  {
   "cell_type": "markdown",
   "id": "2005df2c",
   "metadata": {},
   "source": [
    "Note that dictionary keys and values can have any type. They don't have to be strings or integers. This makes dictionaries very flexible and useful in practice. However, there are some restrictions that you should keep in mind:\n",
    "1. A key can only appears in a dictionary once, duplicate keys are not allowed. \n",
    "2. If you assign a new value to a key, it overwrites the old value."
   ]
  },
  {
   "cell_type": "markdown",
   "id": "31051ba0",
   "metadata": {},
   "source": [
    "## Converting between collections\n",
    "If your data is organized in a set, you can turn it into a list or vice versa. Remember how in the previous chapter we could *cast* an integer as a float and vice versa? We can do the same with containers by changing their type. However, keep in mind the characteristics of these data types. For example, if you have a list with *duplicate* values and you turn that into a set, you'll lose the duplicates. This *can* be convenient, for example if you want to automatically select all unique values in a list. In the code below, notice how the set contains all unique elements in the list, ordered in ascending order, while the tuple maintains the original order and preserves duplicates."
   ]
  },
  {
   "cell_type": "code",
   "execution_count": 33,
   "id": "d2a9b280",
   "metadata": {},
   "outputs": [
    {
     "name": "stdout",
     "output_type": "stream",
     "text": [
      "{1, 2, 3, 4, 5}\n",
      "(1, 2, 3, 4, 1, 2, 3, 1, 2, 3, 4, 5)\n"
     ]
    }
   ],
   "source": [
    "digits_list = [1, 2, 3, 4, 1, 2, 3, 1, 2, 3, 4, 5]\n",
    "print(set(digits_list)) # Cast digits_list to a set \n",
    "print(tuple(digits_list)) # Cast digits_list to a tuple"
   ]
  },
  {
   "cell_type": "markdown",
   "id": "f72ee949",
   "metadata": {},
   "source": [
    "Dictionaries cannot be directly transformed into lists, sets, or tuples, as only the keys will be preserved. However, you can get a list of either the keys or values in a dictionary using the `keys()` and `values()` methods"
   ]
  },
  {
   "cell_type": "code",
   "execution_count": 34,
   "id": "fef5844a",
   "metadata": {},
   "outputs": [
    {
     "name": "stdout",
     "output_type": "stream",
     "text": [
      "['brand', 'model', 'year']\n",
      "['Ford', 'Mustang', 1964]\n"
     ]
    }
   ],
   "source": [
    "car = {\"brand\": \"Ford\", \"model\": \"Mustang\", \"year\": 1964}\n",
    "print(list(car.keys()))\n",
    "print(list(car.values()))"
   ]
  },
  {
   "cell_type": "markdown",
   "id": "282a3fee",
   "metadata": {},
   "source": [
    "To create a new dictionary from two lists (one containing keys, one values), use the `zip` function. This function takes two lists and, like a zipper, iterates over pairs of items in both lists. Each pair is combined in a tuple, and a new list is made using all these tuples. Using the `dict` function, this list can be turned into a dictionary. The following code illustrates this."
   ]
  },
  {
   "cell_type": "code",
   "execution_count": 35,
   "id": "cc6a1cd2",
   "metadata": {},
   "outputs": [
    {
     "data": {
      "text/plain": [
       "{'brand': 'Ford', 'model': 'Mustang', 'year': 1964}"
      ]
     },
     "execution_count": 35,
     "metadata": {},
     "output_type": "execute_result"
    }
   ],
   "source": [
    "keys = ['brand', 'model', 'year']\n",
    "values = ['Ford', 'Mustang', 1964]\n",
    "dict(list(zip(keys, values)))"
   ]
  },
  {
   "cell_type": "markdown",
   "id": "8a1b6cce",
   "metadata": {},
   "source": [
    ":::{admonition} Exercise 2.4\n",
    ":class: tip\n",
    "Write scripts for the following tasks:\n",
    "1. Given the below dictionary, write a line of code that outputs Mike's grade for history. \n",
    "```python\n",
    "sample_dict = {\n",
    "    \"class\": {\n",
    "        \"student\": {\n",
    "            \"name\": \"Mike\",\n",
    "            \"grades\": {\n",
    "                \"physics\": 70,\n",
    "                \"history\": 80\n",
    "            }\n",
    "        }\n",
    "    }\n",
    "}\n",
    "```\n",
    "2. Given the below dictionary, raise the salary of Brad to 6800.\n",
    "```python\n",
    "sample_dict = {\n",
    "    'emp1': {'name': 'Jhon', 'salary': 7500},\n",
    "    'emp2': {'name': 'Emma', 'salary': 8000},\n",
    "    'emp3': {'name': 'Brad', 'salary': 500}\n",
    "}\n",
    "\n",
    "```\n",
    "3. Define a dictionary called `student` that contains your own name, hair color, and age.\n",
    "4. Create a list containing yourself and two additional students as dictionaries.\n",
    ":::"
   ]
  },
  {
   "cell_type": "markdown",
   "id": "4d0bc7cd",
   "metadata": {},
   "source": [
    "## The `in` operator\n",
    "For tuples, lists, sets, and dictionaries, Python provides the `in` operator, which checks whether a value is present in the collection. If so, it returns `True`, if not it returns `False`."
   ]
  },
  {
   "cell_type": "code",
   "execution_count": 36,
   "id": "965e5531",
   "metadata": {},
   "outputs": [
    {
     "name": "stdout",
     "output_type": "stream",
     "text": [
      "True\n",
      "True\n",
      "True\n",
      "True\n"
     ]
    }
   ],
   "source": [
    "digits = [1, 2, 3, 4]\n",
    "print(1 in digits)\n",
    "print(1 in (set(digits)))\n",
    "print(1 in tuple(digits))\n",
    "digits_dict = {1: 4, 2: 5}\n",
    "print(1 in digits_dict)"
   ]
  },
  {
   "cell_type": "markdown",
   "id": "22b6279b",
   "metadata": {},
   "source": [
    "This operator can also be easily combined with `not` to ask for the opposite response. Consider the following example."
   ]
  },
  {
   "cell_type": "code",
   "execution_count": 37,
   "id": "00258308",
   "metadata": {},
   "outputs": [
    {
     "data": {
      "text/plain": [
       "False"
      ]
     },
     "execution_count": 37,
     "metadata": {},
     "output_type": "execute_result"
    }
   ],
   "source": [
    "car = {\"brand\": \"Ford\", \"model\": \"Mustang\", \"year\": 1964}\n",
    "'brand' not in car"
   ]
  },
  {
   "cell_type": "markdown",
   "id": "cc5e2abd",
   "metadata": {},
   "source": [
    "In addition to tuples, lists, sets and dictionaries, the `in` operator also works for strings. For a string, the `in` operator checks whether a character or substring is part of that string. For example:"
   ]
  },
  {
   "cell_type": "code",
   "execution_count": 38,
   "id": "52d0f22c",
   "metadata": {},
   "outputs": [
    {
     "name": "stdout",
     "output_type": "stream",
     "text": [
      "True\n",
      "True\n",
      "False\n"
     ]
    }
   ],
   "source": [
    "my_string = 'supercalifragilisticexpialidocious'\n",
    "print('i' in my_string)\n",
    "print('califragi' in my_string)\n",
    "print('z' in my_string)"
   ]
  },
  {
   "cell_type": "markdown",
   "id": "dbf2d4d1",
   "metadata": {},
   "source": [
    "## Containers: summary\n",
    "There are some important differences between tuples, lists, sets and dictonaries. The following table [(source)](https://www.geeksforgeeks.org/differences-and-applications-of-list-tuple-set-and-dictionary-in-python/) nicely summarizes the differences between tuples, lists, sets and dictionaries. We'll elaborate below.\n",
    "| Tuple                                                                                                              | List                                                                                                             | Set                                                                                                      | Dictionary                                                                         |\n",
    "|--------------------------------------------------------------------------------------------------------------------|------------------------------------------------------------------------------------------------------------------|----------------------------------------------------------------------------------------------------------|------------------------------------------------------------------------------------|\n",
    "| A tuple is a non-homogeneous data structure that stores elements in columns of a single row or multiple rows. | A list is a non-homogeneous data structure that stores the elements in columns of a single row or multiple rows. | The set data structure is also a non-homogeneous data structure but stores the elements in a single row. | A dictionary is also a non-homogeneous data structure that stores key-value pairs. |\n",
    "|                                          Tuple can be represented by  ( )                                          |                                        The list can be represented by [ ]                                        |                                     The set can be represented by { }                                    |                      The dictionary can be represented by { }                      |\n",
    "|                                           Tuple allows duplicate elements                                          |                                        The list allows duplicate elements                                        |                                 The Set will not allow duplicate elements                                |                    The dictionary doesn’t allow duplicate keys.                    |\n",
    "|                                           Tuple can use nested among all                                           |                                         The list can use nested among all                                        |                                     The set can use nested among all                                     |                       The dictionary can use nested among all                      |\n",
    "|                                              Example: `(1, 2, 3, 4, 5)`                                              |                                             Example: `[1, 2, 3, 4, 5]`                                             |                                         Example: `{1, 2, 3, 4, 5}`                                         |                  Example: `{1: “a”, 2: “b”, 3: “c”, 4: “d”, 5: “e”}`                 |\n",
    "|                                  Tuple can be created using the `tuple()` function.                                  |                                  A list can be created using the `list()` function                                 |                         A set can be created using the `set()` function                        |               A dictionary can be created using the `dict()` function.               |\n",
    "|                         A tuple is immutable i.e we can not make any changes in the tuple.                         |                            A list is mutable i.e we can make any changes in the list.                            |         A set is mutable i.e we can make any changes in the set, but elements are not duplicated.         |                A dictionary is mutable, but keys are not duplicated.                |\n",
    "|                                                  Tuple is ordered                                                  |                                                  List is ordered                                                 |                                             Set is unordered                                             |                    Dictionary is ordered (Python 3.7 and above)                    |\n",
    "|                                            Creating an empty Tuple `t=()`                                            |                                            Creating an empty list `l=[]`                                           |                                      Creating a set `a=set()` `b=set(a)`                                     |                          Creating an empty dictionary `d={}`                         |\n"
   ]
  },
  {
   "cell_type": "markdown",
   "id": "6c251abf",
   "metadata": {},
   "source": [
    "## String formatting\n",
    "Oftentimes when we want to print something in a Python script, we want to include variable values in the print statement. Python formatting uses the `format` function, which is a very powerful way to make your print statements more dynamic. Consider the following example."
   ]
  },
  {
   "cell_type": "code",
   "execution_count": 39,
   "id": "30e822e9",
   "metadata": {},
   "outputs": [
    {
     "name": "stdout",
     "output_type": "stream",
     "text": [
      "The sum of 45 and 76 is 121\n"
     ]
    }
   ],
   "source": [
    "a = 45\n",
    "b = 76\n",
    "print('The sum of {} and {} is {}'.format(a, b, a+b))"
   ]
  },
  {
   "cell_type": "markdown",
   "id": "9294e84d",
   "metadata": {},
   "source": [
    "Changing the values of the variables `a` and `b` also changes the output of the print statement. To make sure that the right values end up in the right place, you can also name the formatted parts of your string, as follows"
   ]
  },
  {
   "cell_type": "code",
   "execution_count": 40,
   "id": "7c0f5bb0",
   "metadata": {},
   "outputs": [
    {
     "name": "stdout",
     "output_type": "stream",
     "text": [
      "The sum of 45 and 76 is 121\n"
     ]
    }
   ],
   "source": [
    "a = 45\n",
    "b = 76\n",
    "print('The sum of {number_a} and {number_b} is {sum_numbers}'.format(number_a=a, number_b=b, sum_numbers=a+b))"
   ]
  },
  {
   "cell_type": "markdown",
   "id": "ddf84c26",
   "metadata": {},
   "source": [
    "If you have a floating point number with many decimals, you can also control the number of decimals that actually get printed, as follows."
   ]
  },
  {
   "cell_type": "code",
   "execution_count": 41,
   "id": "4971f30b",
   "metadata": {},
   "outputs": [
    {
     "name": "stdout",
     "output_type": "stream",
     "text": [
      "0.1111111111111111\n",
      "0.11\n",
      "0.11\n"
     ]
    }
   ],
   "source": [
    "a = 1/9\n",
    "print(a)  # Prints the 'raw' value of a with many decimals\n",
    "print('{:.2f}'.format(a)) # Only prints two decimals\n",
    "print('{number:.2f}'.format(number=a))  # Same as in previous line, but now with named argument"
   ]
  },
  {
   "cell_type": "markdown",
   "id": "bb102146",
   "metadata": {},
   "source": [
    ":::{admonition} Exercise 2.5\n",
    ":class: tip\n",
    "The table below shows the average temperature in Enschede per month. \n",
    "\n",
    "| Average | January | February  | March | April  | May  | June  | July  | August  | September  | October  | November | December |\n",
    "|---------|-----|------|-----|------|------|------|------|------|------|------|-----|-----|\n",
    "| Temp.   | 2°C | 3°C  | 6°C | 9°C  | 13°C | 16°C | 18°C | 17°C | 14°C | 10°C | 6°C | 3°C |\n",
    "\n",
    "Use this information for the following:\n",
    "- Put this information in a dictionary, use strings as keys and integers as values. \n",
    "- Then, use the dictionary and print the following statements. Use `format` for the italic parts in\n",
    "  - 'The average temperature in *March* is *6*°C'\n",
    "  - 'The average temperature in *August* is *17*°C'\n",
    "  - 'The average temperature in *July* is *15*°C higher than in *February*'\n",
    ":::"
   ]
  }
 ],
 "metadata": {
  "jupytext": {
   "cell_metadata_filter": "-all",
   "main_language": "python",
   "notebook_metadata_filter": "-all"
  },
  "language_info": {
   "codemirror_mode": {
    "name": "ipython",
    "version": 3
   },
   "file_extension": ".py",
   "mimetype": "text/x-python",
   "name": "python",
   "nbconvert_exporter": "python",
   "pygments_lexer": "ipython3",
   "version": "3.7.16"
  }
 },
 "nbformat": 4,
 "nbformat_minor": 5
}