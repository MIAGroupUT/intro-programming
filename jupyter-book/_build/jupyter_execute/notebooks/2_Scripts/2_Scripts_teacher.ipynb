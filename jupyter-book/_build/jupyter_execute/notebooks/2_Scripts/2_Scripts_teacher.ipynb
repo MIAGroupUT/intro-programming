{
 "cells": [
  {
   "cell_type": "markdown",
   "id": "095e9cae",
   "metadata": {
    "user_expressions": []
   },
   "source": [
    "# Control structures \n",
    "\n",
    ":::{admonition} Learning goals\n",
    ":class: note\n",
    "After finishing this chapter, you are expected to\n",
    "* use `if`, `elif`, and `else`\n",
    "* write `while` loops \n",
    "* write `for` loops\n",
    "* format strings\n",
    ":::"
   ]
  },
  {
   "cell_type": "markdown",
   "id": "65c50dd1",
   "metadata": {
    "user_expressions": []
   },
   "source": [
    "## Conditional statements\n",
    "Now that you are able to write and run scripts in VS Code, it is time to do some more interesting programming. So far, your scripts have been quite predictable. They are a series of statements that are executed from top to bottom, i.e., sequential execution. One nice feature of almost all programming languages is that they allow the use of *control structures* that direct the execution of your program. One of the most commonly used control structures is the conditional statement `if`. An `if` statement looks like this:\n",
    "\n",
    "```python\n",
    "if <expr>:\n",
    "    <statement>\n",
    "```\n",
    "\n",
    "Here, `<expr>` is a *boolean* expression, i.e., something that takes on the value `True` or `False`. The `<statement>` is a valid Python statement, something that will be executed if `<expr>` evaluates to `True`. The colon `:` is part of the Python syntax and should always be placed after the boolean expression. Further, note that there is some whitespace in front of the `<statement>`. This is called *indentation* and is also part of the Python syntax. Python uses four spaces as indentation. You usually don't have to care of this yourself: the interpreter and any IDE that knows that you're programming in Python will help you automatically use that indentation when necessary. \n",
    "\n",
    "To get a better feeling about the behavior of the `if`-statement, take a good look at the following code examples. Note that the interpreter only prints `yes` if the `<expr>` is `True`. Otherwise, nothing happens. Also, note that `if y` gets evaluated to `True`. This is so because Python evaluates any integer value larger than zero as `True` (we have also seen this in the previous chapter)."
   ]
  },
  {
   "cell_type": "code",
   "execution_count": null,
   "id": "e12bb0cb",
   "metadata": {
    "user_expressions": []
   },
   "outputs": [],
   "source": [
    "x = 0\n",
    "y = 5\n",
    "\n",
    "if x < y:           # True\n",
    "    print('yes')      "
   ]
  },
  {
   "cell_type": "code",
   "execution_count": null,
   "id": "01243f50",
   "metadata": {},
   "outputs": [],
   "source": [
    "if y < x:           # False\n",
    "    print('yes')    "
   ]
  },
  {
   "cell_type": "code",
   "execution_count": null,
   "id": "47bb96ba",
   "metadata": {},
   "outputs": [],
   "source": [
    "if x:               # False\n",
    "    print('yes')    "
   ]
  },
  {
   "cell_type": "code",
   "execution_count": null,
   "id": "aefca7e1",
   "metadata": {},
   "outputs": [],
   "source": [
    "if y:               # True\n",
    "    print('yes')    "
   ]
  },
  {
   "cell_type": "markdown",
   "id": "e5efc501",
   "metadata": {},
   "source": [
    "In the previous chapter, you have uses the `and`, `or` and `not` logical operators that evaluate to a boolean. You can also use these in the expression of your `if` statement, as in the examples below."
   ]
  },
  {
   "cell_type": "code",
   "execution_count": null,
   "id": "ba2532a5",
   "metadata": {},
   "outputs": [],
   "source": [
    "if x or y:          # True\n",
    "    print('yes')    "
   ]
  },
  {
   "cell_type": "code",
   "execution_count": null,
   "id": "53327cf7",
   "metadata": {},
   "outputs": [],
   "source": [
    "if x and y:         # False\n",
    "    print('yes')    "
   ]
  },
  {
   "cell_type": "code",
   "execution_count": null,
   "id": "b3527db4",
   "metadata": {},
   "outputs": [],
   "source": [
    "if not x:           # True\n",
    "    print('yes')"
   ]
  },
  {
   "cell_type": "markdown",
   "id": "dd3c284c",
   "metadata": {
    "user_expressions": []
   },
   "source": [
    ":::{admonition} Exercise 3.1\n",
    ":class: tip\n",
    "A bank will offer a customer a loan if they are 21 or over and have an annual income of at least €21000. Write a Python script that defines the customers age and income in a dictionary. Depending on the age and income, one of the following lines should be printed (using the `print` function): \n",
    "- 'We are able to offer you a loan.'\n",
    "- 'Unfortunately at this time we are unable to offer you a loan.'\n",
    ":::"
   ]
  },
  {
   "cell_type": "markdown",
   "id": "8949cb9a",
   "metadata": {
    "user_expressions": []
   },
   "source": [
    ":::{admonition} Answer key 3.1\n",
    ":class: seealso\n",
    "```Python\n",
    "customer_info = { \n",
    "    \"age\": 22, \"income\":20000\n",
    "}\n",
    "\n",
    "if customer_info[\"age\"] >= 21 and customer_info[\"income\"] >= 21000:\n",
    "    print('We are able to offer you a loan.')\n",
    "else:\n",
    "    print('Unfortunately at this time we are unable to offer you a loan.')\n",
    "```\n",
    ":::\n"
   ]
  },
  {
   "cell_type": "markdown",
   "id": "f1c0cc21",
   "metadata": {
    "user_expressions": []
   },
   "source": [
    "## Blocks\n",
    "The `<statement>` that follows an `if` condition in Python doesn't necessarily have to be just one line of code. In fact, you can add a *block* of statements after your `if` condition. As long as you stay at the same indentation level, these will be jointly executed with the first statement. For example, based on the cases above, we could have the following piece of code:\n",
    "\n",
    "```python\n",
    "if y: \n",
    "    print('y')\n",
    "    print('is a positive integer')\n",
    "    print('so I will print')\n",
    "    print('yes')\n",
    "```\n",
    "\n",
    "Here, all the print statements form a block of code at the same indentation level. Within a block, you can have additional if statements. For example, instead of writing `if x and y:` as we did above, you could also write the following to get the exact same behavior. Notice that now we have added two levels of indentation.\n",
    "\n",
    "```python\n",
    "if x:\n",
    "    if y:\n",
    "        print('yes')\n",
    "```\n",
    "\n",
    "Blocks can be nested to arbitrary depth, and depending on the expressions, some lines will be executed while others won't. In Python, a block is sometimes called a *suite*.\n",
    "\n",
    ":::{admonition} Exercise 2.4\n",
    ":class: tip \n",
    "One of the lines in the following block of code is **not** executed. Which line is it?\n",
    "\n",
    "```python\n",
    "if 'foo' in ['foo', 'bar', 'baz']:       \n",
    "    print('Outer condition is true')      \n",
    "\n",
    "    if 10 > 20:                           \n",
    "        print('Inner condition 1')        \n",
    "\n",
    "    print('Between inner conditions')     \n",
    "\n",
    "    if 10 < 20:                           \n",
    "        print('Inner condition 2')        \n",
    "\n",
    "    print('End of outer condition')       \n",
    "print('After outer condition')            \n",
    "```\n",
    ":::"
   ]
  },
  {
   "cell_type": "markdown",
   "id": "1bb01dfc",
   "metadata": {
    "user_expressions": []
   },
   "source": [
    ":::{admonition} Answer key 2.4\n",
    ":class: seealso\n",
    "The line `print('Inner condition 1')` is not executed because `10 > 20` is `False`.  \n",
    ":::\n"
   ]
  },
  {
   "cell_type": "markdown",
   "id": "1725eae4",
   "metadata": {
    "user_expressions": []
   },
   "source": [
    "## `else` and `elif`\n",
    "As you might expect, where there's an `if` there can also be an `else`. This `else` is an expression which is evaluated as the opposite of the `if` expression. The statement following this expression is what gets executed if the expression following `if` is evaluated to be `False`. \n",
    "\n",
    "For example, take the following piece of code. In this case, the expression following `if` is obviously `False`, so the statement following `else` will be executed. \n",
    "\n",
    "```python\n",
    "if 10 > 20:\n",
    "    print('larger')\n",
    "else:\n",
    "    print('smaller')\n",
    "```\n",
    "\n",
    "A third kind of expression is the `elif` or 'else if' expression that can be used in case options are not binary. Following an `if` expression, you can have any number of `elif` expressions that you desire, potentially followed by an `else` statement. Note that if the expression following `if` is `True`, none of the other expressions will actually be checked. The following provides an example of using `if`, `elif` and `else`.\n",
    "\n",
    "```python\n",
    "if language == 'english':\n",
    "    print('hello')\n",
    "elif language == 'dutch':\n",
    "    print('hallo')\n",
    "elif language == 'french':\n",
    "    print('bonjour')\n",
    "else:\n",
    "    print('unknown language')\n",
    "```"
   ]
  },
  {
   "cell_type": "markdown",
   "id": "58cf2fab",
   "metadata": {
    "user_expressions": []
   },
   "source": [
    ":::{admonition} Exercise 2.5\n",
    ":class: tip\n",
    "In each o fth efollowing quations, evaluate the given code fragments. Investigate each of the fragnments for the various starting values. Use Python to check your answer. \n",
    "\n",
    "1. \n",
    "<br>\n",
    "    a) `n = 7` `m = ?`\n",
    "    <br>\n",
    "    b) `n = 0`  `m = ?`\n",
    "    <br>\n",
    "    c) `n = -7`  `m = ?`\n",
    "```Python\n",
    "    if n > 1:\n",
    "        m = n + 2\n",
    "    else:\n",
    "        m = n - 1\n",
    "        \n",
    "```\n",
    "2. \n",
    "<br>\n",
    "    a) `s = 1`  `t = ?`\n",
    "    <br>\n",
    "    b) `s = 7`  `t = ?`\n",
    "    <br>\n",
    "    c) `s = 57`  `t = ?`\n",
    "    <br>\n",
    "    d) `s = 300`  `t = ?`\n",
    "```Python\n",
    "    if s <= 1:\n",
    "        t = 2*s\n",
    "    elif s < 10:\n",
    "        t = 9 - s\n",
    "    elif s < 100:\n",
    "        t = sqrt(s)\n",
    "    else:\n",
    "        t = s\n",
    "```\n",
    "3. \n",
    "<br>\n",
    "    a) `t = 50`  `h = ?`\n",
    "    <br>\n",
    "    b) `t = 19`  `h = ?`\n",
    "    <br>\n",
    "    c) `t = -6`  `h = ?`\n",
    "    <br>\n",
    "    d) `t = 0`  `h = ?`\n",
    "```Python\n",
    "    if t >= 24:\n",
    "        h = 3*t + 1\n",
    "    elif t < 9:\n",
    "        h = t**2/3 - 2*t\n",
    "    else:\n",
    "        h = -t\n",
    "```\n",
    "4. \n",
    "<br>\n",
    "    a) `x = -1`  `y = ?`\n",
    "    <br>\n",
    "    b) `x = 5`  `y = ?`\n",
    "    <br>\n",
    "    c) `x = 30`  `y = ?`\n",
    "    <br>\n",
    "    d) `x = 56`  `y = ?`\n",
    "```Python\n",
    "    if 0 < x < 7:\n",
    "        y = 4 * x\n",
    "    elif 7 < x < 55:\n",
    "        y = -10 * x\n",
    "    else:\n",
    "        y = 333\n",
    "```\n",
    ":::"
   ]
  },
  {
   "cell_type": "markdown",
   "id": "c6468694",
   "metadata": {
    "user_expressions": []
   },
   "source": [
    ":::{admonition} Answer key 2.5\n",
    ":class: seealso\n",
    "1. \n",
    "<br>\n",
    "    a) `n = 7`  `m = 9`\n",
    "    <br>\n",
    "    b) `n = 0`  `m = -7`\n",
    "    <br>\n",
    "    c) `n = -7`  `m = -8`\n",
    "    \n",
    "2. \n",
    "<br>\n",
    "    a) `s = 1`  `t = 2`\n",
    "    <br>\n",
    "    b) `s = 7`  `t = 2`\n",
    "    <br>\n",
    "    c) `s = 57`  `t = 3249`\n",
    "    <br>\n",
    "    d) `s = 300`  `t = 3000`\n",
    "    \n",
    "3. \n",
    "<br>\n",
    "    a) `t = 50`  `h = 151`\n",
    "    <br>\n",
    "    b) `t = 19`  `h = -19`\n",
    "    <br>\n",
    "    c) `t = -6`  `h = 24`\n",
    "    <br>\n",
    "    d) `t = 0`  `h = 0`\n",
    "    \n",
    "4. \n",
    "<br>\n",
    "    a) `x = -1`  `y = 333`\n",
    "    <br>\n",
    "    b) `x = 5`  `y = 20`\n",
    "    <br>\n",
    "    c) `x = 30`  `y = -300`\n",
    "    <br>\n",
    "    d) `x = 56`  `y = 333`\n",
    "    \n",
    ":::"
   ]
  },
  {
   "cell_type": "markdown",
   "id": "463dc22b",
   "metadata": {
    "user_expressions": []
   },
   "source": [
    ":::{admonition} Conditional expression\n",
    ":class:note\n",
    "In addition to the syntax above, Python offers a compact way of writing binary `if`/`else` statements. This is called a *conditional expression* or *ternary operator* and means that the expression\n",
    "\n",
    "```python\n",
    "if 10 > 20:\n",
    "    print('larger')\n",
    "else:\n",
    "    print('smaller')\n",
    "```\n",
    "\n",
    "can also be written in one line of code as \n",
    "\n",
    "```python\n",
    "print('larger') if 10 > 20 else print('smaller')\n",
    "```\n",
    "\n",
    "It can in some cases be useful two write expressions like this, for example when you want to compactly assign a value to a variable. \n",
    "\n",
    "```python\n",
    "coat = 'raincoat' if raining else 'jacket'\n",
    "```\n",
    "\n",
    ":::"
   ]
  },
  {
   "cell_type": "markdown",
   "id": "73d66d19",
   "metadata": {
    "user_expressions": []
   },
   "source": [
    "## Loops\n",
    "Iteration control structures, loops, are used to repeat a block of statements until some condition is\n",
    "met. Two types of loops exist: the `while`-loop and the `for`-loop.\n",
    "\n",
    "### `while` loops\n",
    "A while loop executes some statement as long as a condition is `True`. As soon as the condition is `False` the loop will stop iterating. "
   ]
  },
  {
   "cell_type": "markdown",
   "id": "056993ea",
   "metadata": {
    "user_expressions": []
   },
   "source": [
    "```python\n",
    "a = 1\n",
    "while a < 10:\n",
    "    print(a)\n",
    "    a += 2\n",
    "```"
   ]
  },
  {
   "cell_type": "markdown",
   "id": "7dee69d6",
   "metadata": {
    "user_expressions": []
   },
   "source": [
    "The animation below nicely visualizes how a `while` loop works in this piece of code. As you can see, the `while` statement is checked at the beginning of each iteration. If that is the case, the block below the `while` statement is executed. If not, the loop ends."
   ]
  },
  {
   "cell_type": "markdown",
   "id": "fa349b4f",
   "metadata": {
    "user_expressions": []
   },
   "source": [
    "![whileloop](https://surfdrive.surf.nl/files/index.php/s/HdTrPmqyiJpPFjr/download)"
   ]
  },
  {
   "cell_type": "markdown",
   "id": "2bf2a33d",
   "metadata": {
    "lines_to_next_cell": 2,
    "user_expressions": []
   },
   "source": [
    ":::{admonition} Exercise 2.6\n",
    ":class: tip\n",
    "Exercise about `while` loops\n",
    "1. Write a script that determines the largest integer $n$ for which $1^3 + 2^3 + \\cdots + n^3$ is less than 2000.\n",
    ":::"
   ]
  },
  {
   "cell_type": "markdown",
   "id": "863ef511",
   "metadata": {
    "user_expressions": []
   },
   "source": [
    ":::{admonition} Answer key 2.6\n",
    ":class: seealso\n",
    "```Python\n",
    "y = 0\n",
    "n = 1\n",
    "while y + n**3 < 2000:\n",
    "    y+=n**3\n",
    "    n+=1\n",
    "\n",
    "# Decrease n by 1 to get the largest integer\n",
    "n -=1\n",
    "print(n)\n",
    "```\n",
    ":::"
   ]
  },
  {
   "cell_type": "markdown",
   "id": "92f767ad",
   "metadata": {
    "user_expressions": []
   },
   "source": [
    "\n",
    "\n",
    "### `for` loops\n",
    "The for-loop repeats a group of statements a fixed number of times. In a `for`-loop the number of iterations is fixed upon entering the loop. The standard for-loop has\n",
    "general syntax\n",
    "\n",
    "```python\n",
    "for item in list/set/tuple/dictionary:\n",
    "    do something with item\n",
    "```\n",
    "     \n",
    "For example, we can print all elements in the list `[1, 2, 3, 5, 8]` as follows\n",
    "\n",
    "```python\n",
    "for item in [1, 2, 3, 5, 8]:\n",
    "    print(item) \n",
    "```\n",
    "\n",
    "The for-loop iterates over something which we call an *iterable*: an object that is able to return its items one-by-one. Some iterables are very handy. For example, if we want to print 'Hello world' ten times, we can write \n",
    "\n",
    "```python\n",
    "for item in [1, 2, 3, 4, 5, 6, 7, 8, 9, 10]:\n",
    "    print('Hello world')\n",
    "```\n",
    "    \n",
    "but you can imagine that this becomes challenging if we want to do this 1000 times. The built-in `range(start, stop, step)` function in Python returns an iterable that provides numbers from `start` to `stop` with an interval of `step`. Now, to print 'Hello world' 1000 times, we simply use \n",
    "\n",
    "```python\n",
    "for item in range(0, 1000, 1): \n",
    "    print('Hello world')\n",
    "```\n",
    "\n",
    "In practice, we just write `range(0, 1000, 1)` as `range(1000)` when counting from zero with a step size of 1, the default option."
   ]
  },
  {
   "cell_type": "markdown",
   "id": "245fdf69",
   "metadata": {
    "lines_to_next_cell": 0,
    "user_expressions": []
   },
   "source": [
    ":::{admonition} Exercise 2.7\n",
    ":class: tip\n",
    "Use a loop construction to carry out the computations. Write short scripts\n",
    "1. Determine the sum of the first 50 squared numbers with a loop.\n",
    "2. Create a script with just one loop that calculates the sum of all entries of a vector $x$ and also the vector of running sums. (The running sum of a vector $x$ of $n$ entries is the vector of $n$ entries defined as $[x_0, x_0+x_1, x_0+x_1+x_2, \\cdots, x_0+x_1+\\ldots+x_n]$. Test your code for x = $[1, 9, 1, 0, 4]$.\n",
    ":::"
   ]
  },
  {
   "cell_type": "markdown",
   "id": "222e1c1c",
   "metadata": {
    "user_expressions": []
   },
   "source": [
    ":::{admonition} Answer key 2.7\n",
    ":class: seealso\n",
    "1. \n",
    "```Python\n",
    "sum_of_squares = 0\n",
    "# Iterate using a loop to calculate the sum of the first 50 squared numbers\n",
    "for x in range(1,51):\n",
    "    sum_of_squares += x**2\n",
    "print(sum_of_squares)\n",
    "```\n",
    "2.\n",
    "```Python\n",
    "# Given vector x\n",
    "x = [1, 9, 1, 0, 4]\n",
    "\n",
    "# Initialize variables\n",
    "total_sum = 0\n",
    "running_sums = []\n",
    "\n",
    "# Calculate the sum of all entries and the vector of running sums\n",
    "for i in range(len(x)):\n",
    "    total_sum += x[i]\n",
    "    running_sums.append(sum(x[:i + 1]))\n",
    "\n",
    "# Print the results\n",
    "print(\"Vector x:\", x)\n",
    "print(\"Sum of all entries:\", total_sum)\n",
    "print(\"Vector of running sums:\", running_sums)\n",
    "```\n",
    "\n",
    ":::"
   ]
  },
  {
   "cell_type": "markdown",
   "id": "fb0c4ac7",
   "metadata": {
    "user_expressions": []
   },
   "source": [
    "## Nested loops\n",
    "Just like we can *nest* conditional statements in blocks, we can also nest loops. The "
   ]
  },
  {
   "cell_type": "code",
   "execution_count": null,
   "id": "3b851136",
   "metadata": {},
   "outputs": [],
   "source": [
    "for i in range(5):\n",
    "    for j in range(2):\n",
    "        print(i, j)"
   ]
  },
  {
   "cell_type": "markdown",
   "id": "9fd636b2",
   "metadata": {
    "user_expressions": []
   },
   "source": [
    "There are no restrictions on kinds of loops that you nest: a `for` loop can contain a `while` loop and vice versa. Moreover, there are no restrictions on the number of loops that you nest (or the *depth*). You can, for example, nest three loops as follows."
   ]
  },
  {
   "cell_type": "code",
   "execution_count": null,
   "id": "5af8a9e5",
   "metadata": {},
   "outputs": [],
   "source": [
    "for i in range(3):\n",
    "    j = 0\n",
    "    while j < 7:\n",
    "        for k in range(2):\n",
    "            print(i, j, k)\n",
    "            j = j + 2"
   ]
  },
  {
   "cell_type": "markdown",
   "id": "1953f50e",
   "metadata": {
    "user_expressions": []
   },
   "source": [
    ":::{admonition} Exercise 2.8\n",
    ":class: tip\n",
    "Write a guessing game where the user has to guess a secret number. After every guess the program tells the user whether their number was too large or too small. At the end the number of tries needed should be printed. It counts only as one try if they input the same number multiple times consecutively.\n",
    ":::"
   ]
  },
  {
   "cell_type": "markdown",
   "id": "12285dce",
   "metadata": {
    "user_expressions": []
   },
   "source": [
    ":::{admonition} Answer key 2.8\n",
    ":class: seealso\n",
    "```Python\n",
    "# Generate a secret number\n",
    "secret_number = 30\n",
    "\n",
    "# Initialize variables\n",
    "guess = None\n",
    "attempts = 0\n",
    "previous_guess = None\n",
    "\n",
    "# Main loop for the guessing game\n",
    "while guess != secret_number:\n",
    "    # Get user input\n",
    "    guess = int(input(\"Guess the secret number: \"))\n",
    "    \n",
    "    # Check if the guess is too large or too small\n",
    "    if guess > secret_number:\n",
    "        print(\"Too large! Try again.\")\n",
    "    elif guess < secret_number:\n",
    "        print(\"Too small! Try again.\")\n",
    "    \n",
    "    # Count the attempt only if the guess is different from the previous one\n",
    "    if guess != previous_guess:\n",
    "        attempts += 1\n",
    "    \n",
    "    # Store the current guess for the next iteration\n",
    "    previous_guess = guess\n",
    "\n",
    "# Print the result\n",
    "print(f\"Congratulations! You guessed the secret number {secret_number} in {attempts} number of tries.\")\n",
    "```\n",
    "\n",
    ":::"
   ]
  },
  {
   "cell_type": "markdown",
   "id": "cc1c213c",
   "metadata": {
    "user_expressions": []
   },
   "source": [
    ":::{admonition} Exercise 2.9\n",
    ":class: tip\n",
    "Write a program that asks the user for a number $n$ and gives them the possibility to choose between computing the sum and computing the product of $1,\\ldots,n$.\n",
    ":::"
   ]
  },
  {
   "cell_type": "markdown",
   "id": "022e7532",
   "metadata": {
    "user_expressions": []
   },
   "source": [
    ":::{admonition} Answer key 2.9\n",
    ":class: seealso\n",
    "```Python\n",
    "# Ask the user for a number n\n",
    "n = int(input(\"Pick a number: \"))\n",
    "\n",
    "# Display menu for user choice\n",
    "print(\"Choose an operation:\")\n",
    "print(\"1. Compute the sum\")\n",
    "print(\"2. Compute the product\")\n",
    "option = int(input(\"Enter 1 or 2:\"))\n",
    "\n",
    "# Create a list of 1, ..., n\n",
    "number_list = [i for i in range(1, n+1)]\n",
    "\n",
    "if option == 1:\n",
    "    outcome = sum(number_list)\n",
    "    print(\"The sum of 1,..,n is equal to:\", outcome)\n",
    "elif option == 2:\n",
    "    outcome = 1 # Initialize outcome to 1 for multiplication\n",
    "    for num in number_list:\n",
    "        outcome *= num\n",
    "    print(\"The product of 1,..,n is equal to:\", outcome)\n",
    "else:\n",
    "    print(\"Invalid choise, please enter 1 or 2\")\n",
    "```\n",
    ":::"
   ]
  },
  {
   "cell_type": "markdown",
   "id": "84d9b292",
   "metadata": {
    "lines_to_next_cell": 0,
    "user_expressions": []
   },
   "source": [
    ":::{admonition} Exercise 2.10\n",
    ":class: tip \n",
    "Write a program that uses loops to compute [Fibonacci numbers](https://en.wikipedia.org/wiki/Fibonacci_sequence) (as in Exercise 1.12). The scripts asks the user how many numbers should be computed. This can be **any** number, so your code should be flexible.\n",
    ":::"
   ]
  },
  {
   "cell_type": "markdown",
   "id": "db343f44",
   "metadata": {
    "user_expressions": []
   },
   "source": [
    ":::{admonition} Answer key 2.10\n",
    ":class: seealso\n",
    "```Python\n",
    "# Ask the user for a number n\n",
    "n = int(input(\"How many Fibonacci numbers should be computed?: \"))\n",
    "Fibonacci_numbers = [0,1]\n",
    "\n",
    "sum_F=0\n",
    "for i in range(1,n+1):\n",
    "    sum_F = sum(Fibonacci_numbers[-2:])\n",
    "    Fibonacci_numbers.append(sum_F)\n",
    "print(Fibonacci_numbers)\n",
    "```\n",
    ":::"
   ]
  },
  {
   "cell_type": "markdown",
   "id": "421d2dbd",
   "metadata": {
    "user_expressions": []
   },
   "source": [
    "## Function arguments\n",
    "Another option to make your scripts depend on user input is to provide *arguments* to the script. The easiest way to do this is using the `sys` package. Each time a Python script is called, it is called with a list of arguments. The first item in the list is always the name of the script, the second item is the first argument, etc. This means that we can *call* a script with some arguments that define its output. In a very simple case, let's say that we have a script called `add.py` and its contents are \n",
    "\n",
    "```python \n",
    "import sys\n",
    "\n",
    "print(int(sys.argv[1]) + int(sys.argv[2]))\n",
    "```\n",
    "\n",
    "Then we can simply call this script from the command line with two different numbers and we always get the addition of these numbers in return.\n",
    "\n",
    "```bash\n",
    "(base) % python add.py 4 5\n",
    "9\n",
    "(base) % python add.py 23 54\n",
    "77\n",
    "```"
   ]
  }
 ],
 "metadata": {
  "kernelspec": {
   "display_name": "Python 3 (ipykernel)",
   "language": "python",
   "name": "python3"
  }
 },
 "nbformat": 4,
 "nbformat_minor": 5
}