{
 "cells": [
  {
   "cell_type": "markdown",
   "id": "7d3b886d",
   "metadata": {},
   "source": [
    "# Objects\n",
    "\n",
    ":::{admonition} Learning goals\n",
    ":class: note\n",
    "After finishing this chapter, you are expected to be able to\n",
    "* understand what objects are\n",
    "* write basic Python classes\n",
    "* define attributes and methods\n",
    "* understand class inheritance\n",
    ":::\n",
    "\n",
    "## Object-oriented programming\n",
    "Python is an *object-oriented* programming language. That means that we primarily (and actually, *only*) work with objects. Everything in Python is an object. We can define objects for anything. Without knowing it, you have been using objects for the past few weeks. For example, a `list` is an object in Python, a NumPy array is an object, an integer is an object, etc. An object is a variable that has *attributes* (variables) and *methods* (functions). This sounds abstract, but is actually very convenient. \n",
    "\n",
    "You can thing of an object as a 'thing' that has some properties that are just values (attributes) and some functions that do something with/on the object (methods). An attribute is simply a variable with a value. A method is very much like a function: it can have input parameters and can return something. \n",
    "\n",
    "For example, last week you have worked with NumPy arrays. A NumPy `ndarray` is a class that has\n",
    "- attributes, e.g.,\n",
    "  - `shape`\n",
    "  - `size`\n",
    "- methods, e.g.,\n",
    "  - `sort()`\n",
    "  - `max()`\n",
    "  - `sum()`\n",
    "  \n",
    "Any *object* of the same type will have the same attributes and methods, but *can* have different *values* for its attributes. When we're running"
   ]
  },
  {
   "cell_type": "code",
   "execution_count": null,
   "id": "1e3c0d98",
   "metadata": {},
   "outputs": [],
   "source": [
    "import numpy as np\n",
    "\n",
    "some_array = np.array([1, 2, 3])"
   ]
  },
  {
   "cell_type": "markdown",
   "id": "fd20d579",
   "metadata": {},
   "source": [
    "we're actually creating an *instance* of the class `ndarray`. We can verify that by using `type` (as we've done earlier to find that variables are integers, floats, etc."
   ]
  },
  {
   "cell_type": "code",
   "execution_count": null,
   "id": "9a78363c",
   "metadata": {},
   "outputs": [],
   "source": [
    "print(type(some_array))"
   ]
  },
  {
   "cell_type": "markdown",
   "id": "7c3fe865",
   "metadata": {},
   "source": [
    "We can make another array, so that we have two objects of the same class:"
   ]
  },
  {
   "cell_type": "code",
   "execution_count": null,
   "id": "1cacc7cb",
   "metadata": {},
   "outputs": [],
   "source": [
    "some_other_array = np.array([[1, 2],\n",
    "                             [2, 4]])"
   ]
  },
  {
   "cell_type": "markdown",
   "id": "4024aa59",
   "metadata": {},
   "source": [
    "Obviously `other_array` and `some_other_array` are not the same variable, but they do have the same type:"
   ]
  },
  {
   "cell_type": "code",
   "execution_count": null,
   "id": "2057e558",
   "metadata": {},
   "outputs": [],
   "source": [
    "print(type(some_other_array))"
   ]
  },
  {
   "cell_type": "markdown",
   "id": "b17b840a",
   "metadata": {},
   "source": [
    "Both `some_array` and `some_other_array` are instances of the same *class*, namely the `ndarray` class in NumPy, and we can use all attributes and methods defined for that class on either of the instances, as below."
   ]
  },
  {
   "cell_type": "code",
   "execution_count": null,
   "id": "476048b7",
   "metadata": {},
   "outputs": [],
   "source": [
    "print(some_array.shape)\n",
    "print(some_other_array.shape)"
   ]
  },
  {
   "cell_type": "code",
   "execution_count": null,
   "id": "ee83fc31",
   "metadata": {},
   "outputs": [],
   "source": [
    "print(some_array.sum())\n",
    "print(some_other_array.sum())"
   ]
  },
  {
   "cell_type": "markdown",
   "id": "6e1a39c0",
   "metadata": {},
   "source": [
    ":::{admonition} Objects in Python\n",
    ":class: warning\n",
    "Everything in Python is an object!\n",
    ":::\n",
    "\n",
    "Whole books have been written about object-oriented programming. Here, we're just going to show you some basics so you understand how Python handles this topic and you learn some new syntax."
   ]
  },
  {
   "cell_type": "markdown",
   "id": "baa381bb",
   "metadata": {},
   "source": [
    "## Classes\n",
    "So, how do we define a type or class? And what actually is a class? A *class* in Python is a data type for a specific type of object. You can consider it a blueprint for making objects. For example, we can have a `Car` class or `Bike` class. In itself, such a class has no information, but when we make an *instance* of the class we can add specific information. Consider the example of a `Car` class: we can add *attributes* (variables) to each individual *instance* of a car, and define *methods* (functions) for such a car that we can call."
   ]
  },
  {
   "cell_type": "markdown",
   "id": "64a2e136",
   "metadata": {},
   "source": [
    "The most basic `Car` class would look as follows:"
   ]
  },
  {
   "cell_type": "code",
   "execution_count": null,
   "id": "8073d6f8",
   "metadata": {},
   "outputs": [],
   "source": [
    "class Car:\n",
    "    pass"
   ]
  },
  {
   "cell_type": "markdown",
   "id": "1e2382b9",
   "metadata": {},
   "source": [
    "Let's break this down. By using `class` we tell Python that we're defining a class. Furthermore, we provide the name of the class (here `Car`), and end with a `:` (as we do for `def`, `if`, `for` etc.). The second line starts with indentation, and we here use `pass` (as we can do for functions) as we have not yet defined the rest of the class."
   ]
  },
  {
   "cell_type": "markdown",
   "id": "143e2f72",
   "metadata": {},
   "source": [
    ":::{admonition} Class naming conventions\n",
    ":class: note\n",
    "If you like CAPITALS, your patience will finally be rewarded. In Python, naming conventions for classes are different than for variables and functions. Class names are written in *camelcase* and without underscores, i.e., `ClassName` vs. `function_name` or `variable_name`.\n",
    ":::"
   ]
  },
  {
   "cell_type": "markdown",
   "id": "42839a7d",
   "metadata": {},
   "source": [
    "## Attributes\n",
    "We can extend our class by giving it *attributes*, or object variables. For example, let's say that a car always has a maximum speed of 180 km/h. Then we can define a variable within the class that we call `max_speed` and give it a value. This is called a *class attribute* because its value will be the same for any object we make with this class."
   ]
  },
  {
   "cell_type": "code",
   "execution_count": null,
   "id": "dc0ed7fd",
   "metadata": {},
   "outputs": [],
   "source": [
    "class Car:\n",
    "    max_speed = 180"
   ]
  },
  {
   "cell_type": "markdown",
   "id": "040c62cc",
   "metadata": {},
   "source": [
    "We can add other attributes as well. For example, if we assume that a car will always have four wheels, we can create a class attribute `num_wheels = 4`."
   ]
  },
  {
   "cell_type": "code",
   "execution_count": null,
   "id": "f28c1697",
   "metadata": {},
   "outputs": [],
   "source": [
    "class Car:\n",
    "    max_speed = 180\n",
    "    num_wheels = 4"
   ]
  },
  {
   "cell_type": "markdown",
   "id": "49219b9e",
   "metadata": {},
   "source": [
    "## Constructor method\n",
    "Any class will also need *methods*. These are functions that are defined to operate on the class. The *constructor* of a class is called when a new instance of a class (an object) is initialized. In Python, the constructor method should always be named `__init__`. We define methods using `def`, just like we do for functions. If we add a constructor method to our `Car` class, it could look like below. The `__init__` method here has two parameters: `self` and `brand`. A method should always have `self` as an argument as it refers to the object. Our second parameter `brand` is just something that we define for this specific class. In the body of the `__init__` method, we use this parameter to set an *instance attribute*: the `brand` will be used to set the brand of the car itself. The instance attribute is indicated with `self.brand`. "
   ]
  },
  {
   "cell_type": "code",
   "execution_count": null,
   "id": "f58acf69",
   "metadata": {},
   "outputs": [],
   "source": [
    "class Car:\n",
    "    max_speed = 180\n",
    "    num_wheels = 4\n",
    "    \n",
    "    def __init__(self, brand):\n",
    "        self.brand = brand"
   ]
  },
  {
   "cell_type": "markdown",
   "id": "582f944b",
   "metadata": {},
   "source": [
    "![init](https://surfdrive.surf.nl/files/index.php/s/dvxw2CQbH47OvBu/download)"
   ]
  },
  {
   "cell_type": "markdown",
   "id": "344cb164",
   "metadata": {},
   "source": [
    "Now let's use this new class. We can create objects for different cars now, with different brands. Let's first create a single Skoda car. When we run the line below, a new object of class `Car` is made and its `__init__` function is called with `brand=\"Skoda\"`. Note how we don't provide `self` as an argument here: that happens under the hood."
   ]
  },
  {
   "cell_type": "code",
   "execution_count": null,
   "id": "d2dac883",
   "metadata": {},
   "outputs": [],
   "source": [
    "current_car = Car(brand=\"Skoda\")"
   ]
  },
  {
   "cell_type": "markdown",
   "id": "c7876809",
   "metadata": {},
   "source": [
    "If we now check the type of `current_car`, we find that it has class `Car`."
   ]
  },
  {
   "cell_type": "code",
   "execution_count": null,
   "id": "3f39b770",
   "metadata": {},
   "outputs": [],
   "source": [
    "print(type(current_car))"
   ]
  },
  {
   "cell_type": "markdown",
   "id": "95d8887f",
   "metadata": {},
   "source": [
    "If we want to know what the brand is of our car, we can just print its `brand` attribute."
   ]
  },
  {
   "cell_type": "code",
   "execution_count": null,
   "id": "9fe6f259",
   "metadata": {},
   "outputs": [],
   "source": [
    "print('The car is a {}'.format(current_car.brand))"
   ]
  },
  {
   "cell_type": "markdown",
   "id": "9e75cbcd",
   "metadata": {},
   "source": [
    "## Other methods\n",
    "In addition to the `__init__` method, other methods can be defined for a class. For example, for the `Car` class we can define a method that toots the claxon."
   ]
  },
  {
   "cell_type": "code",
   "execution_count": null,
   "id": "eccfde91",
   "metadata": {},
   "outputs": [],
   "source": [
    "class Car:\n",
    "    max_speed = 180\n",
    "    num_wheels = 4\n",
    "    \n",
    "    def __init__(self, brand):\n",
    "        self.brand = brand\n",
    "        \n",
    "    def toot(self, times):\n",
    "        for _ in range(times):\n",
    "            print('Toot!')"
   ]
  },
  {
   "cell_type": "markdown",
   "id": "6160ae78",
   "metadata": {},
   "source": [
    "We can call this method at any time once an object of this class has been created. For example, we can create a car of brand Suzuki, and then use the claxon five times by calling the method `toot` with `times=5`."
   ]
  },
  {
   "cell_type": "code",
   "execution_count": null,
   "id": "80175a78",
   "metadata": {},
   "outputs": [],
   "source": [
    "previous_car = Car(\"Suzuki\")\n",
    "previous_car.toot(5)"
   ]
  },
  {
   "cell_type": "markdown",
   "id": "612ce9b5",
   "metadata": {},
   "source": [
    ":::::{tab-set}\n",
    "\n",
    "::::{tab-item} English\n",
    "\n",
    ":::{admonition} Exercise 7.1\n",
    ":class: tip\n",
    "**Write your answers in a Jupyter notebook file, separate exercises with headers in Markdown, as you have seen in Chapter 6.**\n",
    "\n",
    "\n",
    "Define a class for a circle, call it `Circle`. As attributes, give it an instance attribute `radius` and a method `calculate_area` that should return the area of the circle.\n",
    "\n",
    "Test your new class by making multiple circles with different radii.\n",
    "\n",
    ":::\n",
    "\n",
    "::::\n",
    "\n",
    "::::{tab-item} Nederlands\n",
    "\n",
    ":::{admonition} Opdracht 7.1\n",
    ":class: tip\n",
    "**Schrijf je antwoorden op in een Jupyter notebook. Scheid de vragen met Markdown headers zoals je hebt gezien in Hoofdstuk 6.**\n",
    "\n",
    "Definieer een class voor een cirkel, noem deze `Circle`. Geef de class een instance attribute `radius`en een method `calculate_area` die als output de oppervlakte van de cirkel geeft. \n",
    "\n",
    "Probeer je class uit door meerdere cirkels te maken met verschillende radii.\n",
    ":::\n",
    "\n",
    "::::\n",
    "\n",
    ":::::"
   ]
  },
  {
   "cell_type": "markdown",
   "id": "8b430a8e",
   "metadata": {},
   "source": [
    "## Class inheritance\n",
    "There are natural connections between many classes, and there often is a hierarchy between classes. For example, cars and bikes are both vehicles, so it would make sense if we can make a *parent* class from which we use parts in our cars and bikes classes. This is called *inheritance*. Using inheritance, we can define a class that *inherits* all properties and methods from another class. We call the class that inherits the *child class* or the *derived class* and the class from which we inherit the *parent class* or *base class*. You can think of a derived class as a specialized version of the base class. \n",
    "\n",
    "![inheritance](https://files.realpython.com/media/ic-basic-inheritance.f8dc9ffee4d7.jpg)\n",
    "\n",
    "For example, we could have a parent class that defines a person, and a more specialized child class that defines a student. This works because a student is always a person, but the reverse does not necessarily hold (a person is not always a student). We can first define - in the same was as before - our `Person` class. You have already learned that you can create an object of this class by invoking the `__init__` function, i.e., `x = Person(\"Frenk\", \"Simanos\")`. Now, we have created an object that corresponds to a person, but not yet to a student."
   ]
  },
  {
   "cell_type": "code",
   "execution_count": null,
   "id": "0fc89025",
   "metadata": {},
   "outputs": [],
   "source": [
    "class Person:\n",
    "    def __init__(self, fname, lname):\n",
    "        self.firstname = fname\n",
    "        self.lastname = lname\n",
    "\n",
    "    def print_name(self):\n",
    "        print(\"I am a person and my name is {} {}\".format(self.firstname, self.lastname))\n",
    "\n",
    "#Use the Person class to create an object, and then execute the printname method:\n",
    "x = Person(\"Frenk\", \"Simanos\")\n",
    "x.print_name()"
   ]
  },
  {
   "cell_type": "markdown",
   "id": "c385e577",
   "metadata": {},
   "source": [
    "The derived class of this would have a first name and last name as well. In the simplest case, we can make a derived class as follows. The parentheses after `Student` indicate that this class inherits from `Person`."
   ]
  },
  {
   "cell_type": "code",
   "execution_count": null,
   "id": "491167ad",
   "metadata": {},
   "outputs": [],
   "source": [
    "class Student(Person):\n",
    "    pass"
   ]
  },
  {
   "cell_type": "markdown",
   "id": "cca95f90",
   "metadata": {},
   "source": [
    "We can create a new student now, just like we created a person before."
   ]
  },
  {
   "cell_type": "code",
   "execution_count": null,
   "id": "4deeb98f",
   "metadata": {},
   "outputs": [],
   "source": [
    "x = Student(\"Harry\", \"Potter\")\n",
    "x.print_name()"
   ]
  },
  {
   "cell_type": "markdown",
   "id": "9466076f",
   "metadata": {},
   "source": [
    "The child class has inherited the properties of the parent class, including it's `__init__` and `print_name` methods. We can **override** the `__init__` method of the parent class by defining a new `__init__` method in the derived class. Within that method, you can first call the `__init__` method of the parent class, in this case to set the first name and last name of the student."
   ]
  },
  {
   "cell_type": "code",
   "execution_count": null,
   "id": "7f529c4a",
   "metadata": {},
   "outputs": [],
   "source": [
    "class Student(Person):\n",
    "    def __init__(self, fname, lname):\n",
    "        Person.__init__(self, fname, lname)   # You could here also use super() instead of Person"
   ]
  },
  {
   "cell_type": "markdown",
   "id": "0500369e",
   "metadata": {},
   "source": [
    "Moreover, you can extend the `__init__` method, and add additional attributes. For example, to add a study program to the student, we just adapt the `__init__` method of the `Student` class (but not the `Person` class) and set an attribute. "
   ]
  },
  {
   "cell_type": "code",
   "execution_count": null,
   "id": "c84cac65",
   "metadata": {},
   "outputs": [],
   "source": [
    "class Student(Person):\n",
    "    def __init__(self, fname, lname, program):\n",
    "        Person.__init__(self, fname, lname)   \n",
    "        self.program = program\n",
    "        \n",
    "x = Student(\"Harry\", \"Potter\", \"sorcery\")"
   ]
  },
  {
   "cell_type": "markdown",
   "id": "85c6ba25",
   "metadata": {},
   "source": [
    "We can also **override** the original `print_name` method, or define completely new methods."
   ]
  },
  {
   "cell_type": "code",
   "execution_count": null,
   "id": "43da8349",
   "metadata": {},
   "outputs": [],
   "source": [
    "class Student(Person):\n",
    "    def __init__(self, fname, lname, program):\n",
    "        Person.__init__(self, fname, lname)   \n",
    "        self.program = program\n",
    "    \n",
    "    def print_name(self):         # Overrides method of Person\n",
    "        print(\"I am a person and my name is {} {}. I am a student in {}.\".format(self.firstname, self.lastname, self.program))\n",
    "    \n",
    "    def print_program(self):      # New method specific to Student\n",
    "        print(self.program)\n",
    "        \n",
    "x = Student(\"Harry\", \"Potter\", \"sorcery\")\n",
    "x.print_name()"
   ]
  },
  {
   "cell_type": "markdown",
   "id": "fe00592e",
   "metadata": {},
   "source": [
    "If you think about it, every class - including the `Person` class that we defined - inherits from other classes. In essence, everything in Python is an object, and any new class that you define inherits from Python's `object` class. Even though we never explicitly define them, the `Person` class has a number of methods that we can override. These can be listed using the built-in `dir` function. "
   ]
  },
  {
   "cell_type": "code",
   "execution_count": null,
   "id": "171df535",
   "metadata": {},
   "outputs": [],
   "source": [
    "dir(Person)"
   ]
  },
  {
   "cell_type": "markdown",
   "id": "d6444c25",
   "metadata": {},
   "source": [
    "Python puts no restrictions on the level of inheritance that you use, and we can in fact use *nested inheritance* where a new derived class inherits from a class that is itself derived from a base class. In our example, we could define a derived class for bachelor students, i.e."
   ]
  },
  {
   "cell_type": "code",
   "execution_count": null,
   "id": "3efe236d",
   "metadata": {},
   "outputs": [],
   "source": [
    "class BachelorStudent(Student):\n",
    "    def __init__(self, fname, lname, program, year):\n",
    "        Student.__init__(self, fname, lname, program)\n",
    "        self.year = year\n",
    "        \n",
    "    def printname(self):\n",
    "        print(self.firstname, self.lastname, self.program, self.year)\n",
    "\n",
    "x = BachelorStudent(\"Laila\", \"Koll\", \"TM\", 1)\n",
    "x.printname()"
   ]
  },
  {
   "cell_type": "markdown",
   "id": "e24f490d",
   "metadata": {
    "user_expressions": []
   },
   "source": [
    ":::::{tab-set}\n",
    "\n",
    "::::{tab-item} English\n",
    "\n",
    ":::{admonition} Exercise 7.2\n",
    ":class: tip\n",
    "\n",
    "Design a class for your favorite animal. The class should inherit from the base class `Animal`:\n",
    "\n",
    "```python\n",
    "class Animal:\n",
    "    \n",
    "    def __init__(self, name):\n",
    "        self.sort_name = name\n",
    "```\n",
    "\n",
    "Animals should be able to do at least the following, implemented in appropriate *methods*\n",
    "* make a sound characteristic for that animal\n",
    "* eat their favorite food\n",
    "* tell you their geographic origin\n",
    "\n",
    "In your answer, include code that calls these methods.\n",
    "\n",
    ":::\n",
    "\n",
    "::::\n",
    "\n",
    "::::{tab-item} Nederlands\n",
    "\n",
    ":::{admonition} Opdracht 7.2\n",
    ":class: tip\n",
    "\n",
    "Ontwerp een class voor je favoriete dier. Deze class moet overerven uit de basis class `Animal`:\n",
    "\n",
    "```python\n",
    "class Animal:\n",
    "    \n",
    "    def __init__(self, name):\n",
    "        self.sort_name = name\n",
    "```\n",
    "\n",
    "Dieren moeten in staat zijn om ten minste het volgende te doen, geïmplementeerd in de geschikte *methods* \n",
    "* een karakteristiek geluid maken\n",
    "* hun favoriete voedsel eten\n",
    "* zeggen waar ze vandaan komen \n",
    "\n",
    "Maak een code die all deze methodes aanroept. \n",
    "\n",
    "Een voorbeeld:\n",
    "\n",
    "```python\n",
    "class Tiger(Animal):\n",
    "    \n",
    "    def __init__(self, color):\n",
    "        super().__init__(\"tiger\")\n",
    "        self.color = color\n",
    "    \n",
    "    def make_sound(self):\n",
    "        print(\"Roaaar\")\n",
    "        \n",
    "    def eat_food(self):\n",
    "        print(\"I'm eating tofu\")\n",
    "        \n",
    "    def show_origin(self):\n",
    "        print(\"I live in India\")\n",
    "        \n",
    "\n",
    "tijgetje = Tiger(\"orange\")\n",
    "tijgetje.make_sound()\n",
    "tijgetje.eat_food()\n",
    "tijgetje.show_origin()\n",
    "```\n",
    "\n",
    ":::\n",
    "\n",
    "::::\n",
    "\n",
    ":::::"
   ]
  },
  {
   "cell_type": "code",
   "execution_count": null,
   "id": "ff80d382-d426-4348-96d9-d5ddd3d7dfb3",
   "metadata": {},
   "outputs": [],
   "source": []
  }
 ],
 "metadata": {
  "kernelspec": {
   "display_name": "Python 3 (ipykernel)",
   "language": "python",
   "name": "python3"
  },
  "language_info": {
   "codemirror_mode": {
    "name": "ipython",
    "version": 3
   },
   "file_extension": ".py",
   "mimetype": "text/x-python",
   "name": "python",
   "nbconvert_exporter": "python",
   "pygments_lexer": "ipython3",
   "version": "3.7.16"
  }
 },
 "nbformat": 4,
 "nbformat_minor": 5
}