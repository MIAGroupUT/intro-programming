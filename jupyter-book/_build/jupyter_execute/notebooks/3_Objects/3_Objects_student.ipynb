{
 "cells": [
  {
   "cell_type": "markdown",
   "id": "1c81a121",
   "metadata": {},
   "source": [
    "# Objects\n",
    "\n",
    ":::{admonition} Learning goals\n",
    ":class: note\n",
    "After finishing this chapter, you are expected to\n",
    "* define objects\n",
    "* use subclasses and superclasses\n",
    ":::\n",
    "\n",
    "## Object-oriented programming\n",
    "Python is an example of an *object-oriented* programming language. That means that we primarily (and actually, *only*) work with objects. Everything in Python is an object. An object is an entity that contains data along with associated metadata and/or functionality. We can define objects for anything. \n",
    "\n",
    "Without knowing it, you have been using objects for the past few weeks. For example, a `list` is an object in Python, and \n",
    "\n",
    "A minimal version of an object contains\n",
    "\n",
    "\n",
    "```python\n",
    "\n",
    "```\n",
    "\n",
    "\n",
    "\n",
    "\n",
    "Everything in Python is an object\n",
    "\n",
    ":::{admonition} Objects in Python\n",
    ":class: note\n",
    "Everything in Python is an object.\n",
    ":::\n",
    "\n"
   ]
  },
  {
   "cell_type": "markdown",
   "id": "e910c1d6",
   "metadata": {},
   "source": [
    "## What is object-oriented programming?\n",
    "An object in object-oriented programming has two things:\n",
    "1. *attributes*\n",
    "2. *methods*\n"
   ]
  },
  {
   "cell_type": "markdown",
   "id": "cd2ae202",
   "metadata": {},
   "source": [
    "## Methods and functions\n",
    "You can think of the *methods* of a class as the functions that operate on that class."
   ]
  },
  {
   "cell_type": "markdown",
   "id": "cab6e191",
   "metadata": {},
   "source": [
    "## The `__init__` function\n",
    "Every class in Python has a fixed number of functions"
   ]
  },
  {
   "cell_type": "markdown",
   "id": "971be403",
   "metadata": {},
   "source": [
    "## A simple class\n",
    "Let's start with a basic example. We can define a class for a circle that is centered at the origin. A circle is defined by it's radius. In the `__init__` method"
   ]
  },
  {
   "cell_type": "code",
   "execution_count": null,
   "id": "75888fca",
   "metadata": {},
   "outputs": [],
   "source": [
    "class Circle:\n",
    "    def __init__(self, radius):\n",
    "        self.radius = radius\n",
    "    \n",
    "    def calculate_area(self):\n",
    "        return round(math.pi * self.radius ** 2, 2)"
   ]
  },
  {
   "cell_type": "markdown",
   "id": "19ffee93",
   "metadata": {},
   "source": [
    "## Scope\n"
   ]
  },
  {
   "cell_type": "markdown",
   "id": "eafe2811",
   "metadata": {},
   "source": [
    "## Class inheritance\n",
    "Using inheritance, we can define a class that *inherits* all properties and methods from another class. This is convenient if there is some hierarchy of classes. We call the class that inherits the *child class* or the *derived class* and the class from which we inherit the *parent class* or *base class*. You can think of a derived class as a specialized version of the base class. \n",
    "\n",
    "![inheritance](https://files.realpython.com/media/ic-basic-inheritance.f8dc9ffee4d7.jpg)\n",
    "\n",
    "For example, we could have a parent class that defines a person, and a child class that defines a student. This works because a student is always a person, but the reverse does not necessarily hold (a person is not always a student). We can first define - in the same was as before - our `Person` class. You have already learned that you can create an object of this class by invoking the `__init__` function, i.e., `x = Person(\"John\", \"Doe\")`. Now, we have created an object that corresponds to a person, but not yet to a student."
   ]
  },
  {
   "cell_type": "code",
   "execution_count": null,
   "id": "6e3af4d4",
   "metadata": {},
   "outputs": [],
   "source": [
    "class Person:\n",
    "    def __init__(self, fname, lname):\n",
    "        self.firstname = fname\n",
    "        self.lastname = lname\n",
    "\n",
    "    def printname(self):\n",
    "        print(self.firstname, self.lastname)\n",
    "\n",
    "#Use the Person class to create an object, and then execute the printname method:\n",
    "x = Person(\"John\", \"Doe\")\n",
    "x.printname()"
   ]
  },
  {
   "cell_type": "markdown",
   "id": "bf30dc22",
   "metadata": {},
   "source": [
    "The derived class of this would have a first name and last name as well. In the simplest case, we can make a derived class as follows. The parentheses after `Student` indicate that this class inherits from `Person`."
   ]
  },
  {
   "cell_type": "code",
   "execution_count": null,
   "id": "be07111a",
   "metadata": {},
   "outputs": [],
   "source": [
    "class Student(Person):\n",
    "    pass"
   ]
  },
  {
   "cell_type": "markdown",
   "id": "7307b7b9",
   "metadata": {},
   "source": [
    "We can create a new student now, just like we created a person before."
   ]
  },
  {
   "cell_type": "code",
   "execution_count": null,
   "id": "36e315ee",
   "metadata": {},
   "outputs": [],
   "source": [
    "x = Student(\"Harry\", \"Potter\")\n",
    "x.printname()"
   ]
  },
  {
   "cell_type": "markdown",
   "id": "4a4eda8b",
   "metadata": {},
   "source": [
    "The child class has inherited the properties of the parent class, including it's `__init__` and `printname` methods. We can **override** the `__init__` method of the parent class by defining a new `__init__` method in the derived class. Within that method, you can first call the `__init__` method of the parent class, in this case to set the first name and last name of the student."
   ]
  },
  {
   "cell_type": "code",
   "execution_count": null,
   "id": "f1ec7309",
   "metadata": {},
   "outputs": [],
   "source": [
    "class Student(Person):\n",
    "    def __init__(self, fname, lname):\n",
    "        Person.__init__(self, fname, lname)   # You could here also use super() instead of Person"
   ]
  },
  {
   "cell_type": "markdown",
   "id": "1aff5b9b",
   "metadata": {},
   "source": [
    "Moreover, you can extend the `__init__` method, and add additional attributes. For example, to add a study program to the student, we just adapt the `__init__` method of the `Student` class (but not the `Person` class) and set an attribute. "
   ]
  },
  {
   "cell_type": "code",
   "execution_count": null,
   "id": "60878433",
   "metadata": {},
   "outputs": [],
   "source": [
    "class Student(Person):\n",
    "    def __init__(self, fname, lname, program):\n",
    "        Person.__init__(self, fname, lname)   \n",
    "        self.program = program\n",
    "        \n",
    "x = Student(\"Harry\", \"Potter\", \"sorcery\")"
   ]
  },
  {
   "cell_type": "markdown",
   "id": "2984c2ba",
   "metadata": {},
   "source": [
    "We can again **override** the original `printname` method, or define completely new methods."
   ]
  },
  {
   "cell_type": "code",
   "execution_count": null,
   "id": "ce369aae",
   "metadata": {},
   "outputs": [],
   "source": [
    "class Student(Person):\n",
    "    def __init__(self, fname, lname, program):\n",
    "        Person.__init__(self, fname, lname)   \n",
    "        self.program = program\n",
    "    \n",
    "    def printname(self):         # Overrides method of Person\n",
    "        print(self.firstname, self.lastname, self.program)\n",
    "    \n",
    "    def printprogram(self):      # New method specific to Student\n",
    "        print(self.program)\n",
    "        \n",
    "x = Student(\"Harry\", \"Potter\", \"sorcery\")\n",
    "x.printname()\n",
    "x.printprogram()"
   ]
  },
  {
   "cell_type": "markdown",
   "id": "e96af250",
   "metadata": {},
   "source": [
    "If you think about it, every class - including the `Person` class that we defined - inherits from other classes. In essence, everything in Python is an object, and any new class that you define inherits from Python's `object` class. Even though we never explicitly define them, the `Person` class has a number of methods that we can override. These can be listed using the built-in `dir` function. "
   ]
  },
  {
   "cell_type": "code",
   "execution_count": null,
   "id": "2b723896",
   "metadata": {},
   "outputs": [],
   "source": [
    "dir(Person)"
   ]
  },
  {
   "cell_type": "markdown",
   "id": "bb8e66f4",
   "metadata": {},
   "source": [
    "Python puts no restrictions on the level of inheritance that you use, and we can in fact use *nested inheritance* where a new derived class inherits from a class that is itself derived from a base class. In our example, we could define a derived class for bachelor students, i.e."
   ]
  },
  {
   "cell_type": "code",
   "execution_count": null,
   "id": "a86088ba",
   "metadata": {},
   "outputs": [],
   "source": [
    "class BachelorStudent(Student):\n",
    "    def __init__(self, fname, lname, program, year):\n",
    "        Student.__init__(self, fname, lname, program)\n",
    "        self.year = year\n",
    "        \n",
    "    def printname(self):\n",
    "        print(self.firstname, self.lastname, self.program, self.year)\n",
    "\n",
    "x = BachelorStudent(\"Frenk\", \"Saminis\", \"TM\", 1)\n",
    "x.printname()"
   ]
  },
  {
   "cell_type": "markdown",
   "id": "07b6d8b1",
   "metadata": {},
   "source": [
    ":::{admonition} Exercise\n",
    ":class: tip\n",
    "In this exercise you're going to define a (small) zoo of animals. Your task is to design a base class `Animal` and at least five different species of animals that inherit from this base class. Think carefully about the following\n",
    "* What is the common denominator between animals? \n",
    "\n",
    "Animals should be able to do at least the following\n",
    "* make sounds\n",
    "* have a speed\n",
    "* provide geographic origin\n",
    "\n",
    "In addition, we want you to write a function that determines who will win a race, given two input animals.\n",
    ":::"
   ]
  },
  {
   "cell_type": "code",
   "execution_count": null,
   "id": "bd613cd7",
   "metadata": {},
   "outputs": [],
   "source": []
  },
  {
   "cell_type": "code",
   "execution_count": null,
   "id": "7b396257",
   "metadata": {},
   "outputs": [],
   "source": []
  }
 ],
 "metadata": {
  "jupytext": {
   "cell_metadata_filter": "-all",
   "main_language": "python",
   "notebook_metadata_filter": "-all"
  }
 },
 "nbformat": 4,
 "nbformat_minor": 5
}