{
 "cells": [
  {
   "cell_type": "markdown",
   "id": "2645b63f",
   "metadata": {
    "user_expressions": []
   },
   "source": [
    "# Control structures \n",
    "\n",
    ":::{admonition} Learning goals\n",
    ":class: note\n",
    "After finishing this chapter, you are expected to\n",
    "* use `if`, `elif`, and `else`\n",
    "* write `while` loops \n",
    "* write `for` loops\n",
    ":::"
   ]
  },
  {
   "cell_type": "markdown",
   "id": "f8dd77fc",
   "metadata": {
    "user_expressions": []
   },
   "source": [
    "## Conditional statements with `if`\n",
    "Now that you are able to write and run scripts in VS Code, it is time to do some more interesting programming. So far, your scripts have been quite predictable. They are a series of statements that are executed from top to bottom, i.e., sequential execution. One nice feature of almost all programming languages is that they allow the use of *control structures* that direct the execution of your program. One of the most commonly used control structures is the conditional statement `if`. An `if` statement looks like this:\n",
    "\n",
    "```python\n",
    "if <expr>:\n",
    "    <statement>\n",
    "```\n",
    "\n",
    "Here, `<expr>` is a *boolean* expression, i.e., something that takes on the value `True` or `False`. The `<statement>` is a valid Python statement, something that will be executed if `<expr>` evaluates to `True`. The colon `:` is part of the Python syntax and should always be placed after the boolean expression. Further, note that there is some whitespace in front of the `<statement>`. This is called *indentation* and is also part of the Python syntax. Python uses four spaces as indentation. You usually don't have to care of this yourself: the interpreter and any IDE that knows that you're programming in Python will help you automatically use that indentation when necessary. \n",
    "\n",
    "To get a better feeling about the behavior of the `if`-statement, take a good look at the following code examples. Note that the interpreter only prints `yes` if the `<expr>` is `True`. Otherwise, nothing happens. Also, note that `if y` gets evaluated to `True`. This is so because Python evaluates any integer value larger that is not zero as `True` (we have also seen this in the previous chapter)."
   ]
  },
  {
   "cell_type": "code",
   "execution_count": null,
   "id": "818e936e",
   "metadata": {
    "user_expressions": []
   },
   "outputs": [],
   "source": [
    "x = 0\n",
    "y = 5\n",
    "\n",
    "if x < y:           # True\n",
    "    print('yes')      "
   ]
  },
  {
   "cell_type": "code",
   "execution_count": null,
   "id": "c913863e",
   "metadata": {},
   "outputs": [],
   "source": [
    "if y < x:           # False\n",
    "    print('yes')    "
   ]
  },
  {
   "cell_type": "code",
   "execution_count": null,
   "id": "9252512d",
   "metadata": {},
   "outputs": [],
   "source": [
    "if x:               # False\n",
    "    print('yes')    "
   ]
  },
  {
   "cell_type": "code",
   "execution_count": null,
   "id": "877253dd",
   "metadata": {},
   "outputs": [],
   "source": [
    "if y:               # True\n",
    "    print('yes')    "
   ]
  },
  {
   "cell_type": "markdown",
   "id": "1e922959",
   "metadata": {
    "user_expressions": []
   },
   "source": [
    "In the previous chapter, you have used the `and`, `or` and `not` logical operators that evaluate to a boolean. You can also use these in the expression of your `if` statement, as in the examples below."
   ]
  },
  {
   "cell_type": "code",
   "execution_count": null,
   "id": "2f7abba3",
   "metadata": {},
   "outputs": [],
   "source": [
    "if x or y:          # True\n",
    "    print('yes')    "
   ]
  },
  {
   "cell_type": "code",
   "execution_count": null,
   "id": "f5fb2baa",
   "metadata": {},
   "outputs": [],
   "source": [
    "if x and y:         # False\n",
    "    print('yes')    "
   ]
  },
  {
   "cell_type": "code",
   "execution_count": null,
   "id": "da46746b",
   "metadata": {},
   "outputs": [],
   "source": [
    "if not x:           # True\n",
    "    print('yes')"
   ]
  },
  {
   "cell_type": "markdown",
   "id": "73dec7e0",
   "metadata": {
    "user_expressions": []
   },
   "source": [
    "## Blocks\n",
    "The `<statement>` that follows an `if` condition in Python does not necessarily have to be just one line of code. In fact, you can add a *block* or *suite* of statements after your `if` condition. As long as you stay at the same *indentation level*, these will be jointly executed with the first statement. For example, based on the cases above, we could have the following piece of code:"
   ]
  },
  {
   "cell_type": "code",
   "execution_count": null,
   "id": "4989de30",
   "metadata": {
    "user_expressions": []
   },
   "outputs": [],
   "source": [
    "if y: \n",
    "    print('y')\n",
    "    print('is a non-zero integer')\n",
    "    print('so I will print')\n",
    "    print('yes')"
   ]
  },
  {
   "cell_type": "markdown",
   "id": "dc8f84e9",
   "metadata": {
    "user_expressions": []
   },
   "source": [
    "Here, all the print statements form a block of code at the same indentation level. Within a block, you can have additional if statements. For example, instead of writing `if x and y:` as we did above, you could also write the following to get the exact same behavior. Notice that now we have added two levels of indentation."
   ]
  },
  {
   "cell_type": "code",
   "execution_count": null,
   "id": "0f485765",
   "metadata": {},
   "outputs": [],
   "source": [
    "if x:\n",
    "    if y:\n",
    "        print('yes')"
   ]
  },
  {
   "cell_type": "markdown",
   "id": "574fdc49",
   "metadata": {
    "user_expressions": []
   },
   "source": [
    "Blocks can be nested to arbitrary depth, and depending on the expressions, some lines will be executed while others won't. "
   ]
  },
  {
   "cell_type": "markdown",
   "id": "570e5e55",
   "metadata": {
    "user_expressions": []
   },
   "source": [
    ":::{admonition} Exercise 3.1\n",
    ":class: tip \n",
    "One of the lines in the following code is **not** executed. Which line is it?\n",
    "\n",
    "```python\n",
    "if 'foo' in ['foo', 'bar', 'baz']:       \n",
    "    print('Outer condition is true')      \n",
    "\n",
    "    if 10 > 20:                           \n",
    "        print('Inner condition 1')        \n",
    "\n",
    "    print('Between inner conditions')     \n",
    "\n",
    "    if 10 < 20:                           \n",
    "        print('Inner condition 2')        \n",
    "\n",
    "    print('End of outer condition')       \n",
    "print('After outer condition')            \n",
    "```\n",
    ":::"
   ]
  },
  {
   "cell_type": "markdown",
   "id": "7ff1f0fb",
   "metadata": {
    "user_expressions": []
   },
   "source": [
    "## `else` and `elif`\n",
    "As you might expect, where there's an `if` there can also be an `else`. This `else` is an expression which is evaluated as the opposite of the `if` expression. The statement following this expression is what gets executed if the expression following `if` is evaluated to be `False`. \n",
    "\n",
    "For example, take the following piece of code. In this case, the expression following `if` is obviously `False`, so the statement following `else` will be executed and 'smaller' will be printed. "
   ]
  },
  {
   "cell_type": "code",
   "execution_count": null,
   "id": "b4513ad1",
   "metadata": {
    "user_expressions": []
   },
   "outputs": [],
   "source": [
    "if 10 > 20:\n",
    "    print('larger')\n",
    "else:\n",
    "    print('smaller')"
   ]
  },
  {
   "cell_type": "markdown",
   "id": "5ab908da",
   "metadata": {
    "user_expressions": []
   },
   "source": [
    "A third kind of expression is the `elif` or 'else if' expression that can be used in case there are more than two possible outcomes. Following an `if` expression, you can have any number of `elif` expressions that you desire, potentially followed by an `else` statement. Note that if the expression following `if` is `True`, none of the other expressions will actually be checked. Similarly, as soon as one of the `elif` conditions is true, the other conditions will not be checked. The following provides an example of using `if`, `elif` and `else`."
   ]
  },
  {
   "cell_type": "code",
   "execution_count": null,
   "id": "c14b33f3",
   "metadata": {
    "user_expressions": []
   },
   "outputs": [],
   "source": [
    "language = 'french'\n",
    "if language == 'english':\n",
    "    print('hello')\n",
    "elif language == 'dutch':\n",
    "    print('hallo')\n",
    "elif language == 'french':\n",
    "    print('bonjour')\n",
    "else:\n",
    "    print('unknown language')"
   ]
  },
  {
   "cell_type": "markdown",
   "id": "ab34b3dd",
   "metadata": {
    "user_expressions": []
   },
   "source": [
    ":::{admonition} Exercise 3.2\n",
    ":class: tip\n",
    "In each of the following equations, evaluate the given code fragments. Investigate each of the fragments for the various starting values. Use Python to check your answer. \n",
    "\n",
    "1. What is the value of `m` if   \n",
    "    a) `n = 7`   \n",
    "    b) `n = 0`   \n",
    "    c) `n = -7` ?\n",
    "    ```Python\n",
    "        if n > 1:\n",
    "            m = n + 2\n",
    "        else:\n",
    "            m = n - 1\n",
    "\n",
    "    ```\n",
    "2. What is the value of `t` if   \n",
    "    a) `s = 1`  \n",
    "    b) `s = 7`   \n",
    "    c) `s = 57`   \n",
    "    d) `s = 300`    \n",
    "```Python\n",
    "    if s <= 1:\n",
    "        t = 2*s\n",
    "    elif s < 10:\n",
    "        t = 9 - s\n",
    "    elif s < 100:\n",
    "        t = s**2\n",
    "    else:\n",
    "        t = s\n",
    "```\n",
    "3. What is the value of `h` if  \n",
    "    a) `t = 50`   \n",
    "    b) `t = 19`  \n",
    "    c) `t = -6`  \n",
    "    d) `t = 0`    \n",
    "```Python\n",
    "    if t >= 24:\n",
    "        h = 3*t + 1\n",
    "    elif t < 9:\n",
    "        h = t**2/3 - 2*t\n",
    "    else:\n",
    "        h = -t\n",
    "```\n",
    "4. What is the value of `y` if  \n",
    "    a) `x = -1`  \n",
    "    b) `x = 5`  \n",
    "    c) `x = 30`  \n",
    "    d) `x = 56`  \n",
    "```Python\n",
    "    if 0 < x < 7:\n",
    "        y = 4 * x\n",
    "    elif 7 < x < 55:\n",
    "        y = -10 * x\n",
    "    else:\n",
    "        y = 333\n",
    "```\n",
    ":::"
   ]
  },
  {
   "cell_type": "markdown",
   "id": "6a4207ad",
   "metadata": {
    "user_expressions": []
   },
   "source": [
    ":::{admonition} Exercise 3.3\n",
    ":class: tip\n",
    "A bank will offer a customer a loan if they are 21 or over and have an annual income of at least €21000. Write a Python script that contains the customer's age and income in a dictionary. Depending on the age and income, one of the following lines should be printed (using the `print` function): \n",
    "- 'We are able to offer you a loan.'\n",
    "- 'Unfortunately at this time we are unable to offer you a loan.'\n",
    "\n",
    "Verify your code by testing with \n",
    "- A 40-year old man with an annual income of €11000\n",
    "- A 18-year old woman with an annual income of €25000\n",
    "- A 30-year old woman with an annual income of €40000\n",
    "- A 15-year old boy with an annual income of €5000\n",
    ":::"
   ]
  },
  {
   "cell_type": "markdown",
   "id": "03bfb1df",
   "metadata": {
    "user_expressions": []
   },
   "source": [
    ":::{admonition} Exercise 3.4\n",
    ":class: tip\n",
    "Write a Python script that asks the user for two numbers and prints 'The first number can be divided by the second number' or 'The first number cannot be divided by the second number', depending on which is the case.\n",
    ":::"
   ]
  },
  {
   "cell_type": "markdown",
   "id": "c3a69e6d",
   "metadata": {
    "user_expressions": []
   },
   "source": [
    ":::{admonition} Conditional expression\n",
    ":class: note\n",
    "In addition to the syntax above, Python offers a compact way of writing binary `if`/`else` statements. This is called a *conditional expression* or *ternary operator* and means that the expression\n",
    "\n",
    "```python\n",
    "if 10 > 20:\n",
    "    print('larger')\n",
    "else:\n",
    "    print('smaller')\n",
    "```\n",
    "\n",
    "can also be written in one line of code as \n",
    "\n",
    "```python\n",
    "print('larger') if 10 > 20 else print('smaller')\n",
    "```\n",
    "\n",
    "It can in some cases be useful two write expressions like this, for example when you want to compactly assign a value to a variable. \n",
    "\n",
    "```python\n",
    "coat = 'raincoat' if raining else 'jacket'\n",
    "```\n",
    "\n",
    ":::"
   ]
  },
  {
   "cell_type": "markdown",
   "id": "ae590376",
   "metadata": {
    "user_expressions": []
   },
   "source": [
    "## `while` loops\n",
    "Iteration control structures, loops, are used to repeat a block of statements until some condition is\n",
    "met. Two types of loops exist: the `while`-loop and the `for`-loop. A while loop executes some statement as long as a condition is `True`. We call each time that the statement below `while` is executed an 'iteration'. As soon as the condition is `False` the loop will stop iterating. "
   ]
  },
  {
   "cell_type": "markdown",
   "id": "1ede3673",
   "metadata": {
    "user_expressions": []
   },
   "source": [
    "```python\n",
    "a = 1\n",
    "while a < 10:\n",
    "    print(a)\n",
    "    a += 2\n",
    "```"
   ]
  },
  {
   "cell_type": "markdown",
   "id": "d8d3d2f3",
   "metadata": {
    "user_expressions": []
   },
   "source": [
    "The animation below nicely visualizes how a `while` loop works in this piece of code. As you can see, the `while` statement is checked at the *beginning* of each iteration. If that is the case, the block below the `while` statement is executed. If not, the loop ends. "
   ]
  },
  {
   "cell_type": "markdown",
   "id": "90443bbb",
   "metadata": {
    "user_expressions": []
   },
   "source": [
    "![whileloop](https://surfdrive.surf.nl/files/index.php/s/HdTrPmqyiJpPFjr/download)"
   ]
  },
  {
   "cell_type": "markdown",
   "id": "6876def0",
   "metadata": {
    "user_expressions": []
   },
   "source": [
    "You can use `while` loops for situations in which you do not know beforehand how many iterations you need. For example, we can write a script that uses a `while` loop to create the longest possible list of even numbers that together are less than 40."
   ]
  },
  {
   "cell_type": "code",
   "execution_count": null,
   "id": "43770ab6",
   "metadata": {},
   "outputs": [],
   "source": [
    "even_sum = 0\n",
    "n = 0\n",
    "even_numbers = []\n",
    "\n",
    "\n",
    "while even_sum < 40:\n",
    "    even_sum += n\n",
    "    even_numbers.append(n)\n",
    "    n += 2\n",
    "\n",
    "print(even_sum)\n",
    "print(even_numbers[:-1])"
   ]
  },
  {
   "cell_type": "markdown",
   "id": "2057f575",
   "metadata": {
    "user_expressions": []
   },
   "source": [
    "If you look closely at this example, you can see that `even_sum` is actually larger than 40. This is so because at the moment that `even_sum < 40` became `False` (and the loop stopped), the last number `n`=12 had already been added to `even_numbers`. Hence, we have to use slicing to exclude the last number in the print statement.\n",
    "\n",
    "We could prevent this by using an `if` expression and a `break` statement. Once Python encounters a `break`, it immediately exits whatever loop it is in. In this case, the code could be changed to the following. "
   ]
  },
  {
   "cell_type": "code",
   "execution_count": null,
   "id": "9ae16bb3",
   "metadata": {},
   "outputs": [],
   "source": [
    "even_sum = 0\n",
    "n = 0\n",
    "even_numbers = []\n",
    "\n",
    "while even_sum < 40:\n",
    "    if even_sum + n >= 40: # Check if adding the current number n would let odd_sum exceed 40\n",
    "        break              # If that is the case, get out of the loop immediately\n",
    "    else:                  # If not, continue looping\n",
    "        even_sum += n\n",
    "        even_numbers.append(n)\n",
    "        n += 2 \n",
    "print(even_sum)        \n",
    "print(even_numbers)"
   ]
  },
  {
   "cell_type": "markdown",
   "id": "66d3938d",
   "metadata": {
    "user_expressions": []
   },
   "source": [
    "In addition to `break`, Python also contains a `continue` statement. If Python encounters a `continue` statement, it stays in the loop, but ends the current iteration. In our example, imagine that (for some reason) we do not want to include a number `n` if it can be divided by 6. Then we can add an `elif` statement to check this condition and skip the current iteration if the condition is met."
   ]
  },
  {
   "cell_type": "code",
   "execution_count": null,
   "id": "49ccdc02",
   "metadata": {},
   "outputs": [],
   "source": [
    "even_sum = 0\n",
    "n = 0\n",
    "even_numbers = []\n",
    "\n",
    "while even_sum < 40:\n",
    "    if even_sum + n >= 40: # Check if adding the current number n would let odd_sum exceed 40\n",
    "        break              # If that is the case, get out of the loop immediately\n",
    "    elif n % 6 == 0:       # If the number n can be divided by 6\n",
    "        n += 2             # Increment the number\n",
    "        continue           # Move on to next iteration\n",
    "    else:                  # If neither condition is met, continue looping\n",
    "        even_sum += n\n",
    "        even_numbers.append(n)\n",
    "        n += 2 \n",
    "print(even_sum)  \n",
    "print(even_numbers)"
   ]
  },
  {
   "cell_type": "markdown",
   "id": "6193b3d4",
   "metadata": {
    "lines_to_next_cell": 2,
    "user_expressions": []
   },
   "source": [
    ":::{admonition} Exercise 3.5\n",
    ":class: tip\n",
    "Write a script that determines the largest integer $n$ for which $1^3 + 2^3 + \\cdots + n^3$ is less than 2000.\n",
    ":::"
   ]
  },
  {
   "cell_type": "markdown",
   "id": "25a038f8",
   "metadata": {
    "user_expressions": []
   },
   "source": [
    ":::{admonition} Infinite loops\n",
    ":class: warning\n",
    "A `while` loop will continue running as long as its condition is `True`. That means that it's also possible to make an infinite loop that causes your code to get stuck. For example, the following code will run forever if you don't stop it.\n",
    "```python \n",
    "while True:\n",
    "    print('Running')\n",
    "```\n",
    "\n",
    "If you make such a loop, always make sure that there is also a `break` statement inside (in combination with an `if`) so you an actually exit the loop.\n",
    ":::"
   ]
  },
  {
   "cell_type": "markdown",
   "id": "0af26890",
   "metadata": {
    "user_expressions": []
   },
   "source": [
    ":::{admonition} Exercise 3.6\n",
    ":class: tip\n",
    "Write a guessing game where the user has to guess a secret number. After every guess the program tells the user whether their number was too large or too small. At the end of the game, the number of tries needed by the user should be printed. If a user adds the same number twice in a row, it counts as one try. \n",
    "\n",
    "Start your script with the following code to define the secret number:\n",
    "\n",
    "```python\n",
    "import random\n",
    "\n",
    "secret_number = random.randint(0, 50)\n",
    "\n",
    "# The rest of your code goes here\n",
    "```\n",
    ":::"
   ]
  },
  {
   "cell_type": "markdown",
   "id": "64c366a9",
   "metadata": {
    "user_expressions": []
   },
   "source": [
    "## `for` loops\n",
    "In contrast to a `while`-loop, for which the number of iterations is not defined, in a `for`-loop the number of iterations is fixed upon entering the loop. The standard for-loop has general syntax\n",
    "\n",
    "```python\n",
    "for item in <sequence>:\n",
    "    do something \n",
    "```\n",
    "\n",
    "Here, `<sequence>` can be a list, set, tuple, dictionary, or string. For example, we can print all elements in the list `[1, 2, 3, 5, 8]` as follows"
   ]
  },
  {
   "cell_type": "code",
   "execution_count": null,
   "id": "0cd418a2",
   "metadata": {
    "user_expressions": []
   },
   "outputs": [],
   "source": [
    "for item in [1, 2, 3, 5, 8]:\n",
    "    print(item) "
   ]
  },
  {
   "cell_type": "markdown",
   "id": "26bf15af",
   "metadata": {
    "user_expressions": []
   },
   "source": [
    "The for-loop iterates over something which we call an *iterable*: an object that is able to return its items one-by-one until no more items remain. For example, if we want to print 'Hello world' five times, we can make a list with five items (here digits) and iterate over that list. "
   ]
  },
  {
   "cell_type": "code",
   "execution_count": null,
   "id": "ea982070",
   "metadata": {
    "user_expressions": []
   },
   "outputs": [],
   "source": [
    "for item in [1, 2, 3, 4, 5]:\n",
    "    print('Hello world')"
   ]
  },
  {
   "cell_type": "markdown",
   "id": "5efd9f7d",
   "metadata": {
    "user_expressions": []
   },
   "source": [
    "Note that in the example above, we actually don't do anything with the items in the list. We have here used integers in ascending order, but basically any item of any type will do. In contrast to other programming languages, Python does not use these integers as indices unless you want it to do so. We do have to give a name to the variable that holds the value coming from the list, but we could also use the 'throwaway' variable name `_`. To illustrate this, the previous result could also have been obtained with strings in a list. "
   ]
  },
  {
   "cell_type": "code",
   "execution_count": null,
   "id": "5b8ab79b",
   "metadata": {},
   "outputs": [],
   "source": [
    "for _ in ['person', 'woman', 'man', 'camera', 'tv']:\n",
    "    print('Hello world')"
   ]
  },
  {
   "cell_type": "markdown",
   "id": "8dfcb025",
   "metadata": {
    "user_expressions": []
   },
   "source": [
    "Now let's say that we want to do something a 1000 times. For example, add all integers between 0 and 1000. You can imagine it would be very cumbersome to write out a list with 1000 integers to iterate over. Luckily, the built-in `range(start, stop, step)` function in Python returns an iterable that provides numbers from `start` to `stop` with an interval of `step`. Now, to print 'Hello world' 5 times, we simply use."
   ]
  },
  {
   "cell_type": "code",
   "execution_count": null,
   "id": "55267b94",
   "metadata": {
    "user_expressions": []
   },
   "outputs": [],
   "source": [
    "for _ in range(0, 5, 1): \n",
    "    print('Hello world')"
   ]
  },
  {
   "cell_type": "markdown",
   "id": "7e49343f",
   "metadata": {
    "user_expressions": []
   },
   "source": [
    "The arguments of the `range` function work very similar to slicing that you have seen for lists and tuples. The function returns integers up to but not including the `stop` argument. Moreover, step sizes can be negative. Take a look at the following examples."
   ]
  },
  {
   "cell_type": "code",
   "execution_count": null,
   "id": "327245f1",
   "metadata": {},
   "outputs": [],
   "source": [
    "for digit in range(0, 5, 1):\n",
    "    print(digit)\n",
    "print('---')\n",
    "\n",
    "for digit in range(1, 9, 2):\n",
    "    print(digit)\n",
    "print('---')\n",
    "\n",
    "for digit in range(9, 2, -1):\n",
    "    print(digit)"
   ]
  },
  {
   "cell_type": "markdown",
   "id": "91a9225a",
   "metadata": {
    "user_expressions": []
   },
   "source": [
    "As mentioned above, your `for` loop can iterate over lists, tuples, sets, dictionaries, and strings. For example, we can loop over the letters in a string."
   ]
  },
  {
   "cell_type": "code",
   "execution_count": null,
   "id": "45dbe6f0",
   "metadata": {},
   "outputs": [],
   "source": [
    "some_string = 'coffee'\n",
    "for letter in some_string:\n",
    "    print(letter)"
   ]
  },
  {
   "cell_type": "markdown",
   "id": "4a10f381",
   "metadata": {
    "user_expressions": []
   },
   "source": [
    ":::{admonition} `break` and `continue`\n",
    "Just like in a `while` loop, you can use `break` and `continue` to exit the loop or skip iterations in a `for` loop."
   ]
  },
  {
   "cell_type": "markdown",
   "id": "ab715a3a",
   "metadata": {
    "lines_to_next_cell": 0,
    "user_expressions": []
   },
   "source": [
    ":::{admonition} Exercise 3.7\n",
    ":class: tip\n",
    "Write short scripts using loop constructions for the following tasks.\n",
    "1. Determine the sum of the first 50 squared numbers with a loop.\n",
    "2. Create a script with just one loop that calculates the sum of all entries of a vector $x$ and also the vector of running sums (as a list). The running sum of a vector $x$ of $n$ entries is the vector of $n$ entries defined as $[x_0, x_0+x_1, x_0+x_1+x_2, \\cdots, x_0+x_1+\\ldots+x_n]$. Test your code for x = $[1, 9, 1, 0, 4]$.\n",
    ":::"
   ]
  },
  {
   "cell_type": "markdown",
   "id": "52155d4b",
   "metadata": {
    "user_expressions": []
   },
   "source": [
    "## Nested loops\n",
    "Just like we can *nest* conditional statements in blocks, we can also nest loops. For example, we can generate a multiplication table for numbers 1 to 5 with two nested loops."
   ]
  },
  {
   "cell_type": "code",
   "execution_count": null,
   "id": "57148122",
   "metadata": {},
   "outputs": [],
   "source": [
    "for i in range(1, 6):\n",
    "    row = []\n",
    "    for j in range(1, 6):\n",
    "        row.append(i*j)\n",
    "    print(row)"
   ]
  },
  {
   "cell_type": "markdown",
   "id": "b7317658",
   "metadata": {
    "user_expressions": []
   },
   "source": [
    "There are no restrictions on kinds of loops that you nest: a `for` loop can contain a `while` loop and vice versa. Moreover, there are no restrictions on the number of loops that you nest (or the *depth*). You can, for example, nest three loops as follows."
   ]
  },
  {
   "cell_type": "code",
   "execution_count": null,
   "id": "9f03a8ed",
   "metadata": {},
   "outputs": [],
   "source": [
    "for i in range(3):\n",
    "    j = 0\n",
    "    while j < 7:\n",
    "        for k in range(2):\n",
    "            print(i, j, k)\n",
    "            j = j + 2"
   ]
  },
  {
   "cell_type": "markdown",
   "id": "d5ec14e8",
   "metadata": {
    "user_expressions": []
   },
   "source": [
    "## Simultaneously looping over two sequences\n",
    "Sometimes you might want to loop over two sequences at the same time. An easy example is pairwise multiplication of two vectors: the aim is to compute a new vector in which each element is the product of the elements in the two input item at the same index. For this, you can use the `zip` function that you have seen before and that acts like a zipper conjoining two lists. See below for an example"
   ]
  },
  {
   "cell_type": "code",
   "execution_count": null,
   "id": "73478358",
   "metadata": {},
   "outputs": [],
   "source": [
    "vector_a = [3, 6, 5] # Define an input vector as a list\n",
    "vector_b = [2, 4, 8] # Define a second input vector\n",
    "vector_c = []        # Define an output vector \n",
    "\n",
    "for elem_a, elem_b in zip(vector_a, vector_b): # Jointly iterate over the two input vectors\n",
    "    vector_c.append(elem_a * elem_b)           # Append product of elements to output vector\n",
    "    \n",
    "print(vector_c)"
   ]
  },
  {
   "cell_type": "markdown",
   "id": "84f3e9a3",
   "metadata": {
    "user_expressions": []
   },
   "source": [
    ":::{admonition} Exercise 3.8\n",
    ":class: tip\n",
    "Write a script that does the following \n",
    "- ask the user for a number $n$ \n",
    "- give the user the choice between computing the sum and computing the product of $1,\\ldots,n$\n",
    "- compute the desired result\n",
    "- print the result for the user\n",
    ":::"
   ]
  },
  {
   "cell_type": "markdown",
   "id": "e645fcfa",
   "metadata": {
    "user_expressions": []
   },
   "source": [
    ":::{admonition} Exercise 3.9\n",
    ":class: tip \n",
    "Write a program that uses loops to compute [Fibonacci numbers](https://en.wikipedia.org/wiki/Fibonacci_sequence) (as in Exercise 1.12). The scripts asks the user how many numbers should be computed. This can be **any** number, so your code should be flexible.\n",
    ":::"
   ]
  }
 ],
 "metadata": {
  "kernelspec": {
   "display_name": "Python 3 (ipykernel)",
   "language": "python",
   "name": "python3"
  }
 },
 "nbformat": 4,
 "nbformat_minor": 5
}