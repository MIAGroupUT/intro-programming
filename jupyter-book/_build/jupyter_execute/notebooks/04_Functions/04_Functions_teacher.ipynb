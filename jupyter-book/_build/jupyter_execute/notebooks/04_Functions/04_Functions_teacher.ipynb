{
 "cells": [
  {
   "cell_type": "markdown",
   "id": "e5bc2bb9",
   "metadata": {},
   "source": [
    "# Functions\n",
    "\n",
    ":::{admonition} Learning goals\n",
    ":class: note\n",
    "After finishing this chapter, you are expected to\n",
    "* define a function in Python\n",
    "* understand the concept of scope, local and global variables\n",
    "* create a function with one or more input arguments and one or more output arguments\n",
    "* understand what recursion is and know when to use it and when not\n",
    "* provide arguments to a script\n",
    "* how to format output strings\n",
    "* use Jupyter notebooks\n",
    ":::\n",
    "\n",
    "\n",
    "By now you can write and run a Python script, you can write conditional statements using `if`, `elif` and `else`, and you can write `for` and `while` loops. You can ask the user for input to dynamically change what happens in a script. You've seen that with these building blocks, you can already solve some problems and write small programs. However, if you write scripts with only these building blocks, they can become quite lengthy and full of `if` statements. In Python, if we want to repeatedly do something but the output depends on some input, we are going to need **functions**. In Python, functions are everywhere. In fact, you have already used functions: for example, the `print()` function outputs something to the screen. We *call* this function with some input, and it writes it to the screen."
   ]
  },
  {
   "cell_type": "code",
   "execution_count": null,
   "id": "4c0be68d",
   "metadata": {},
   "outputs": [],
   "source": [
    "print('Hello')\n",
    "print('Goodbye')"
   ]
  },
  {
   "cell_type": "markdown",
   "id": "af076015",
   "metadata": {},
   "source": [
    "Other functions that you have used so far are `len()` and `input()`. You can think of a function as a mini-program that runs within another program or within another function. The main program calls the mini-program and sends information that the mini-program will need as it runs. When the function completes all of its actions, it may send some data back to the main program that has called it. The primary purpose of a function is to allow you to reuse the code within it whenever you need it, using different inputs if required. When you use functions, you are extending your Python vocabulary. This lets you express the solution to your problem in a clearer and more succinct way.\n",
    "\n",
    "## A very basic function\n",
    "Let's start by considering a scenario in which we have a piece of code that we repeatedly need to execute. Let's start by creating a very basic function. Imagine that in our script, every now and every now and then, we'd like to print a few lines. We could write a script that looks something like this\n",
    "\n",
    "``` \n",
    "print('-----------------------------------------------')\n",
    "print('===============================================')\n",
    "\n",
    "some code\n",
    "\n",
    "print('-----------------------------------------------')\n",
    "print('===============================================')\n",
    "\n",
    "some more code \n",
    "\n",
    "print('-----------------------------------------------')\n",
    "print('===============================================')\n",
    "```\n",
    "\n",
    "In this script, the line printing is repetitive, distracting, and taking up a lot of space. Instead, we can also define our own function to print these lines. A function always starts with the keyword `def`, followed by an indented block, just as you have previously seen for loops and conditional statements. The function would look something like this\n",
    "\n",
    "```python\n",
    "def print_lines():\n",
    "    print('-----------------------------------------------')\n",
    "    print('===============================================')\n",
    "```\n",
    "\n",
    "and we can replace all occurences of our line printing in the original script with a *call* to this function. The script then looks like this\n",
    "\n",
    "```python\n",
    "def print_lines():\n",
    "    print('-----------------------------------------------')\n",
    "    print('===============================================')\n",
    "    \n",
    "print_lines()\n",
    "\n",
    "some code\n",
    "\n",
    "print_lines()\n",
    "\n",
    "some more code\n",
    "\n",
    "print_lines()\n",
    "```\n",
    "\n",
    "We have effectively moved the line printing into a mini-program that we just need to call in the right place to get exactly the same result."
   ]
  },
  {
   "cell_type": "markdown",
   "id": "194c0281",
   "metadata": {},
   "source": [
    ":::{admonition} Function naming conventions\n",
    ":class: note\n",
    "In Python, naming conventions for functions are the same as for variables. You should use lowercase letters, and separate words with an underscore, as in the `print_lines()` example above. Since functions represent actions, it’s a best practice to start your function names with a verb to make your code more readable.\n",
    "\n",
    ":::"
   ]
  },
  {
   "cell_type": "markdown",
   "id": "7c1d677f",
   "metadata": {},
   "source": [
    "## Functions with arguments\n",
    "Things get more interesting if our function does no exactly the same whenever it is called, but actually changes its output depending on the input that we provide. For example, we can write a function that takes two numbers and decides which of the two numbers is smallest."
   ]
  },
  {
   "cell_type": "code",
   "execution_count": null,
   "id": "29cfeea0",
   "metadata": {},
   "outputs": [],
   "source": [
    "def find_smallest(number_a, number_b):\n",
    "    if number_a < number_b:\n",
    "        print('{} is the smallest number'.format(number_a))\n",
    "    elif number_b < number_a:\n",
    "        print('{} is the smallest number'.format(number_b))\n",
    "    else:\n",
    "        print('Both numbers are equal')"
   ]
  },
  {
   "cell_type": "markdown",
   "id": "44cbb4e3",
   "metadata": {},
   "source": [
    "This function has two *parameters*: `number_a` and `number_b`. Now, if we want to use this function, we have to *call* it using *arguments*, i.e., values for the parameters, as follows:"
   ]
  },
  {
   "cell_type": "code",
   "execution_count": null,
   "id": "dc8ef0f3",
   "metadata": {},
   "outputs": [],
   "source": [
    "find_smallest(45, 23)"
   ]
  },
  {
   "cell_type": "markdown",
   "id": "50452f4e",
   "metadata": {},
   "source": [
    "In general, you can call a function with any type of variable. Arguments can also be lists, tuples, dictionaries, etc. However, there is a chance that your type is not compatible with what the function was intended for. In that case, Python will throw an exception."
   ]
  },
  {
   "cell_type": "markdown",
   "id": "ce4ca37f",
   "metadata": {},
   "source": [
    ":::{admonition} Exercise 4.1\n",
    ":class: tip\n",
    "Consider Exercise 3.1 about banking. Adapt that script into a function that takes in a customers age and annual income as parameters and prints the required answer.\n",
    ":::"
   ]
  },
  {
   "cell_type": "markdown",
   "id": "7ba23f4f",
   "metadata": {},
   "source": [
    ":::{admonition} Answer key 4.1\n",
    ":class: seealso\n",
    "```Python\n",
    "# Create a function with age and income as inputs\n",
    "def customers_loan(age, income): \n",
    "    if age >= 21 and income >= 21000:\n",
    "        print('We are able to offer you a loan.')\n",
    "    else:\n",
    "        print('Unfortunately at this time we are unable to offer you a loan.')\n",
    "\n",
    "# Example\n",
    "customers_loan(20,10)\n",
    "```\n",
    ":::"
   ]
  },
  {
   "cell_type": "markdown",
   "id": "3dc6f2f8",
   "metadata": {},
   "source": [
    "## Return\n",
    "The `print_lines()` and `find_smallest()` functions only print a result, but do not *return* something. In many cases, you will want to use a function to give you some output value. In Python, we use the keyword `return` to send the result of the function call back to wherever the function was called from. Let's make a very basic function that adds to numbers and returns the result."
   ]
  },
  {
   "cell_type": "code",
   "execution_count": null,
   "id": "2507a7f3",
   "metadata": {
    "lines_to_next_cell": 0
   },
   "outputs": [],
   "source": [
    "def add_numbers(number_a, number_b):\n",
    "    return number_a + number_b\n",
    "\n",
    "add_numbers(34, 21)"
   ]
  },
  {
   "cell_type": "code",
   "execution_count": null,
   "id": "3452ef23",
   "metadata": {
    "lines_to_next_cell": 2
   },
   "outputs": [],
   "source": []
  },
  {
   "cell_type": "markdown",
   "id": "769b02b9",
   "metadata": {},
   "source": [
    ":::{admonition} Returning `pass`\n",
    ":class: note\n",
    "In some cases - when you're coding - it might be convenient not to return anything at all but to already type the header of a function. To make sure that your code runs, each function **must** return something, but what do you return if the function isn't finished? A solution is to return `pass`, which can be used as a placeholder for future code. Note that this can also be used in control structures like `if`, `else`, and loops.\n",
    "\n",
    "```python\n",
    "def unfinished_function():\n",
    "    return pass\n",
    "```\n",
    ":::"
   ]
  },
  {
   "cell_type": "markdown",
   "id": "e61e62a2",
   "metadata": {},
   "source": [
    "## Optional arguments \n",
    "Python differentiates between *required* and *optional* arguments. Required arguments *should* always be provided to the function. If they are not provided, Python throws an error. Consider our `add_numbers()` function above: it has exactly two parameters: `number_a` and `number_b`. If fewer or more arguments are provided, Python throws an error:"
   ]
  },
  {
   "cell_type": "code",
   "execution_count": null,
   "id": "59a03998",
   "metadata": {},
   "outputs": [],
   "source": [
    "add_numbers(3)"
   ]
  },
  {
   "cell_type": "code",
   "execution_count": null,
   "id": "655c2822",
   "metadata": {},
   "outputs": [],
   "source": [
    "add_numbers(3, 4, 5)"
   ]
  },
  {
   "cell_type": "markdown",
   "id": "dbd48840",
   "metadata": {},
   "source": [
    "In this example,`number_a` and `number_b` are both required arguments. A way to make your code more flexible is to use *optional* arguments. If these are not provided, the function still runs. This is because we provide *default* parameter values: if the user does not provide other values, these are used. Consider the following variant on our function, which assumes that `number_b = 37` if not provided."
   ]
  },
  {
   "cell_type": "code",
   "execution_count": null,
   "id": "d1da09cc",
   "metadata": {},
   "outputs": [],
   "source": [
    "def add_numbers_optional(number_a, number_b = 37):\n",
    "    return number_a + number_b\n",
    "\n",
    "print(add_numbers_optional(34, 52))\n",
    "print(add_numbers_optional(12))"
   ]
  },
  {
   "cell_type": "markdown",
   "id": "ad171f7e",
   "metadata": {},
   "source": [
    "To prevent ambiguity about the correspondence between parameters and arguments, it's good to use parameter names when calling a function, like this:"
   ]
  },
  {
   "cell_type": "code",
   "execution_count": null,
   "id": "97e2e5ab",
   "metadata": {},
   "outputs": [],
   "source": [
    "print(add_numbers_optional(number_a = 34, number_b = 52))"
   ]
  },
  {
   "cell_type": "markdown",
   "id": "7260ee90",
   "metadata": {},
   "source": [
    "It is important that if you provide default values for arguments, that this should be done for the last parameter, second-to-last, etc. The parameter list of your function cannot have a required argument after an optional one."
   ]
  },
  {
   "cell_type": "code",
   "execution_count": null,
   "id": "50e6effc",
   "metadata": {},
   "outputs": [],
   "source": [
    "def add_numbers_optional(number_a = 37, number_b):\n",
    "    return number_a + number_b\n",
    "\n",
    "print(add_numbers_optional(number_a = 34, number_b = 52))"
   ]
  },
  {
   "cell_type": "markdown",
   "id": "32dc5a90",
   "metadata": {},
   "source": [
    "## Scope\n",
    "Each variable in Python has a `scope`, which is either local or global.\n",
    "\n",
    "\n",
    "```python\n",
    "x = 4\n",
    "\n",
    "def some_function(x):\n",
    "    print(x)\n",
    "    \n",
    "some_function(10)\n",
    "print(x)\n",
    "```\n",
    "\n",
    "The `x` variable in `some_function` only has a local scope and does not override the global variable `x`."
   ]
  },
  {
   "cell_type": "markdown",
   "id": "34c66b0f",
   "metadata": {},
   "source": [
    "## Recursive functions\n",
    "We can call functions from anywhere, and we can even call a function from within itself. In Python (and in many other languages) there is no reason why a function cannot be called from within itself. This is called a *recursive* function. A well-known example is the factorial $n!$. We can implement this in a function as"
   ]
  },
  {
   "cell_type": "code",
   "execution_count": null,
   "id": "53f5d362",
   "metadata": {},
   "outputs": [],
   "source": [
    "def factorial(n):                   # 1\n",
    "    if n > 0:                       # 2\n",
    "        return n * factorial(n-1)   # 3\n",
    "    else:                           # 4\n",
    "        return 1                    # 5"
   ]
  },
  {
   "cell_type": "code",
   "execution_count": null,
   "id": "991451eb",
   "metadata": {},
   "outputs": [],
   "source": [
    "factorial(3)"
   ]
  },
  {
   "cell_type": "markdown",
   "id": "4d1a1618",
   "metadata": {},
   "source": [
    ":::{admonition} Exercise 4.2\n",
    ":class: tip\n",
    "In the `factorial()` function above, we have added line numbers in comments. Look at the code and see if you can figure out in which order the lines are executed if you call `factorial(3)`. \n",
    ":::"
   ]
  },
  {
   "cell_type": "markdown",
   "id": "a6415bca",
   "metadata": {},
   "source": [
    ":::{admonition} Answer key 4.2\n",
    ":class: seealso\n",
    "1. `factorial(3)` is called in line 1\n",
    "2. 3 > 0 is True, so the function proceeds from line 2 to 3\n",
    "3. 3 * `factorial(3-1)` is calculated in line 3\n",
    "   Now we call the function from within itself, `factorial(2)` will proceed to line 1\n",
    "4. 2 > 0 is True, so the function proceeds from line 2 to 3\n",
    "5. 2 * `factorial(2-1)` is calculated in line 3\n",
    "   Now we call the function from within itself, `factorial(1)` will proceed to line 1\n",
    "6. 1 > 0 is True, so the function proceeds from line 2 to 3\n",
    "7. 2 * `factorial(1-1)` is calculated in line 3\n",
    "   Now we call the function from within itself, `factorial(0)` will proceed to line 1\n",
    "8. 0 > 0 is False, so the function proceeds to line 5\n",
    "   The function returns 1\n",
    "9. Now, `factorial(1)` receives the result of `factorial(0)`, which is 1. So it returns 1 * 1, which is 1.\n",
    "10. Now, `factorial(2)` receives the result of `factorial(1)`, which is 1. So it returns 2 * 1, which is 2.\n",
    "11. Now, `factorial(3)` receives the result of `factorial(2)`, which is 2. So it returns 3 * 2, which is 6.\n",
    "\n",
    "So the order is like 1 - 2 - 3 - 1 - 2 - 3 - 1 - 2 - 3 - 1 - 4 - 5 \n",
    "\n",
    ":::"
   ]
  },
  {
   "cell_type": "markdown",
   "id": "cde62f4f",
   "metadata": {},
   "source": [
    ":::{admonition} Exercise 4.3\n",
    ":class: tip\n",
    "Write a function to calculate the sum of a list of numbers using recursion. Test your function by summing the list `[2, 3, 1, 6, 7]`.\n",
    ":::"
   ]
  },
  {
   "cell_type": "markdown",
   "id": "f568b18a",
   "metadata": {},
   "source": [
    ":::{admonition} Answer key 4.3\n",
    ":class: seealso\n",
    "```Python\n",
    "# Create a function that sums of a list of numbers\n",
    "def summation_list(list_numbers):                   \n",
    "    if len(list_numbers) == 0:               \n",
    "        return 0  \n",
    "    else:                        \n",
    "        return list_numbers[0] + summation_list(list_numbers[1:])  \n",
    "\n",
    "# Example\n",
    "my_list=[2, 3, 1, 6, 7]\n",
    "print(\"Sum of the list:\",summation_list(my_list))\n",
    "```\n",
    ":::"
   ]
  },
  {
   "cell_type": "markdown",
   "id": "c94557e9",
   "metadata": {},
   "source": [
    "## Keyword arguments \n",
    "Explain kwargs here and how to use them."
   ]
  },
  {
   "cell_type": "markdown",
   "id": "5154197d",
   "metadata": {},
   "source": [
    ":::{admonition} Exercise (TODO)\n",
    ":class: tip\n",
    "Something with kwargs\n",
    ":::"
   ]
  },
  {
   "cell_type": "markdown",
   "id": "cd73785f",
   "metadata": {},
   "source": [
    "## Sorting algorithms\n",
    "There are many sorting algorithms, some faster than others, some more complex. The animation below visualizes nine popular sorting algorithms. \n",
    "\n",
    "![sorting](https://surfdrive.surf.nl/files/index.php/s/hjPCX75AhZWBMCo/download)\n",
    "\n",
    "One famous sorting algorithm is *bubble sort*. As you can see in the animation, bubble sort is not very fast. However, it's easy to understand what bubble sort does. We assume a list of $n$ elements. We further assume that a swap function swaps the values of the given array elements.\n",
    "- Step 1 − Check if the first element in the input array is greater than the next element in the array.\n",
    "- Step 2 − If it is greater, swap the two elements; otherwise move the pointer forward in the array.\n",
    "- Step 3 − Repeat Step 2 until we reach the end of the array.\n",
    "- Step 4 − Check if the elements are sorted; if not, repeat the same process (Step 1 to Step 3) from the last element of the array to the first.\n",
    "- Step 5 − The final output achieved is the sorted array."
   ]
  },
  {
   "cell_type": "markdown",
   "id": "aebeefbe",
   "metadata": {},
   "source": [
    ":::{admonition} Exercise 4.5\n",
    ":class: tip\n",
    "Write a function that performs bubble sort. This function should be callable with any list of `int` or `float` numbers and return a sorted list. Call your function `bubble_sort()` and use the code below to test it.\n",
    "\n",
    "```python\n",
    "import numpy as np\n",
    "\n",
    "numbers = list(np.random.randint(0, 1000, 100))\n",
    "print('Before sorting {}'.format(numbers))\n",
    "sorted = bubble_sort(numbers)\n",
    "print('After sorting {}'.format(sorted))\n",
    ":::\n"
   ]
  },
  {
   "cell_type": "markdown",
   "id": "0cff87a0",
   "metadata": {},
   "source": [
    ":::{admonition} Answer key 4.5 \n",
    ":class: seealso\n",
    "```Python\n",
    "def bubble_sort(arr):\n",
    "    n = len(arr)\n",
    "    while n > 0:\n",
    "        last_swap_index = 0\n",
    "        for i in range(1, n):\n",
    "            if arr[i-1] > arr[i]:\n",
    "                # swamp the numbers in the array\n",
    "                arr[i-1], arr[i] = arr[i], arr[i-1]\n",
    "                last_swap_index = i\n",
    "        # The last index a swap was made\n",
    "        n = last_swap_index\n",
    "    return arr\n",
    "\n",
    "import numpy as np\n",
    "\n",
    "numbers = list(np.random.randint(0, 1000, 100))\n",
    "print('Before sorting {}'.format(numbers))\n",
    "sorted = bubble_sort(numbers)\n",
    "print('After sorting {}'.format(sorted))\n",
    "```\n",
    ":::"
   ]
  },
  {
   "cell_type": "markdown",
   "id": "1e5f2582",
   "metadata": {},
   "source": [
    ":::{admonition} Exercise 4.6\n",
    ":class: tip\n",
    "A common operation in linear algebra is computing the dot product between two vectors. Write a function that takes two vectors as input as lists and returns their dot product as a float. Call your function `dot_product()` and use the code below to test it\n",
    "\n",
    "```python\n",
    "vector_a = [3, 5, 9]\n",
    "vector_b = [3.2, 6, -5]\n",
    "print(dot_product(vector_a, vector_b))\n",
    "```\n",
    ":::"
   ]
  },
  {
   "cell_type": "markdown",
   "id": "8a9d7a91",
   "metadata": {},
   "source": [
    ":::{admonition} Answer key 4.6\n",
    ":class: seealso\n",
    "```Python\n",
    "def dot_product(vector_a,vector_b):\n",
    "    if len(vector_a) == len(vector_b):\n",
    "        product = 0\n",
    "        for i in range(len(vector_a)):\n",
    "            product += vector_a[i]*vector_b[i]\n",
    "        return product\n",
    "    else:\n",
    "        raise ValueError(\"Inputs must have the same length\")\n",
    "\n",
    "vector_a = [3, 5, 9]\n",
    "vector_b = [3.2, 6, -5]\n",
    "print(dot_product(vector_a, vector_b))\n",
    "```\n",
    ":::"
   ]
  },
  {
   "cell_type": "code",
   "execution_count": null,
   "id": "0b7ad332",
   "metadata": {},
   "outputs": [],
   "source": [
    "vector_a = [3, 5, 9]\n",
    "vector_b = [3.2, 6, -5]\n",
    "print(dot_product(vector_a, vector_b))"
   ]
  },
  {
   "cell_type": "code",
   "execution_count": null,
   "id": "5741fdbc",
   "metadata": {},
   "outputs": [],
   "source": [
    "n = # \n",
    "prime = is_prime(n)\n",
    "if prime:\n",
    "    print(f'{} is a prime number')\n",
    "else:\n",
    "    print(f'{} is not a prime number')"
   ]
  },
  {
   "cell_type": "markdown",
   "id": "6df9b470",
   "metadata": {},
   "source": [
    "## Built-in functions\n",
    "You don't have to define each function yourself: Python has a number of built-in functions that are available in any Python distribution. Useful functions include the `len`, `print` and `input` functions that you have already used. In addition to the functions that you can write yourself, Python has a number of *built-in* functions. These are functions that are always available if you program in Python. Examples are `print()`. A complete list of built-in functions is available [here](https://docs.python.org/3/library/functions.html). Take a look, you'll likely recognize some of them. We have previously used the `round()` and `range()` functions, and it's clear what - for example - the `abs()` does. Likewise, you have used the `type()` function to find out what the type of a variable is."
   ]
  },
  {
   "cell_type": "markdown",
   "id": "4fa8cc94",
   "metadata": {},
   "source": [
    "### The `main` function\n",
    "When you run a complex Python script, you don't want to run all the lines sequentially, but you want to indicate the interpreter where to *enter* your code. By design, this is the `main` function. The `if`-statement at the bottom is used to make sure that when you import a script into another script (more about that later) Python doesn't execute the full file.\n",
    "\n",
    "```python\n",
    "def main():\n",
    "    print(\"Python main function\")\n",
    "\n",
    "\n",
    "if __name__ == '__main__':\n",
    "    main()\n",
    "```"
   ]
  },
  {
   "cell_type": "markdown",
   "id": "bbe25c27",
   "metadata": {},
   "source": [
    "## Script arguments\n",
    "So far, you have used `input` to ask the user for inputs. Another option to make your scripts depend on user input is to provide *arguments* to the script. The easiest way to do this is using the `sys` package. Each time a Python script is called, it is called with a list of arguments. The first item in the list is always the name of the script, the second item is the first argument, etc. This means that we can *call* a script with some arguments that define its output. In a very simple case, let's say that we have a script called `add.py` and its contents are \n",
    "\n",
    "```python \n",
    "import sys\n",
    "\n",
    "print(int(sys.argv[1]) + int(sys.argv[2]))\n",
    "```\n",
    "\n",
    "Then we can simply call this script from the command line with two different numbers and we always get the addition of these numbers in return.\n",
    "\n",
    "```bash\n",
    "(base) % python add.py 4 5\n",
    "9\n",
    "(base) % python add.py 23 54\n",
    "77\n",
    "```"
   ]
  },
  {
   "cell_type": "markdown",
   "id": "b906c0ef",
   "metadata": {},
   "source": [
    ":::{admonition} Exercise 4.7\n",
    ":class: tip\n",
    "Write a Python function that takes a number $n$ as a parameter and returns whether the number is prime or not. Tip: you can consider [this algorithm](https://en.wikipedia.org/wiki/Sieve_of_Eratosthenes) to make your function efficient. Name your function `is_prime()` and use the following code to test it\n",
    "\n",
    "```python\n",
    "n = # \n",
    "prime = is_prime(n)\n",
    "if prime:\n",
    "    print(f'{} is a prime number')\n",
    "else:\n",
    "    print(f'{} is not a prime number')\n",
    "```\n",
    ":::"
   ]
  },
  {
   "cell_type": "markdown",
   "id": "8f5844c8",
   "metadata": {},
   "source": [
    ":::{admonition} Answer key 4.7\n",
    ":class: seealso\n",
    "```Python\n",
    "def is_prime(n):\n",
    "    if n > 1:\n",
    "        # 1 is not a prime number\n",
    "        if n <= 1:\n",
    "            return False\n",
    "        elif n <= 3:\n",
    "            return True\n",
    "        # When the number is divisible by 2 or 3, it is not a prime number\n",
    "        elif n % 2 == 0 or n % 3 == 0:\n",
    "            return False\n",
    "        i = 5\n",
    "        while i * i <= n:\n",
    "            # Check the divisibility by 6k ± 1 \n",
    "            # With 6k ± 1, any integer greater than 3 can be expressed as one of these forms \n",
    "            # By skipping multiples of 2 and 3, the computational costs decrease\n",
    "            if n % i == 0 or n % (i + 2) == 0:\n",
    "                return False\n",
    "            i += 6\n",
    "        return True\n",
    "    else:\n",
    "        raise ValueError(\"Input must be a positive integer\")\n",
    "\n",
    "n = 8\n",
    "prime = is_prime(n)\n",
    "if prime:\n",
    "    print(f'{n} is a prime number')\n",
    "else:\n",
    "    print(f'{n} is not a prime number')\n",
    "```\n",
    ":::"
   ]
  }
 ],
 "metadata": {
  "jupytext": {
   "cell_metadata_filter": "-all",
   "main_language": "python",
   "notebook_metadata_filter": "-all"
  }
 },
 "nbformat": 4,
 "nbformat_minor": 5
}