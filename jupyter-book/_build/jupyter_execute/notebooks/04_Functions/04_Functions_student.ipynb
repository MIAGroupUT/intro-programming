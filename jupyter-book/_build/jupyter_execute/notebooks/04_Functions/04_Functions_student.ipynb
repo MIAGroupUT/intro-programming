{
 "cells": [
  {
   "cell_type": "markdown",
   "id": "e58bb1e0",
   "metadata": {},
   "source": [
    "# Functions\n",
    "\n",
    ":::{admonition} Learning goals\n",
    ":class: note\n",
    "After finishing this chapter, you are expected to\n",
    "* define a function in Python\n",
    "* understand the concept of scope, local and global variables\n",
    "* create a function with one or more input arguments and one or more output arguments\n",
    "* understand what recursion is and how to use it\n",
    ":::\n",
    "\n",
    "\n",
    "By now you can write and run a Python script, you can write conditional statements using `if`, `elif` and `else`, and you can write `for` and `while` loops. You can ask the user for input to dynamically change what happens in a script. You've seen that with these building blocks, you can already solve some problems and write small programs. However, if you write scripts with only these building blocks, they can become quite lengthy. Most programming languages use **functions**. In Python, functions are everywhere. In fact, you have already used functions: for example, the `print()` function outputs something to the screen. We *call* this function with some input, and it writes this input to the terminal."
   ]
  },
  {
   "cell_type": "code",
   "execution_count": 1,
   "id": "d494dec4",
   "metadata": {},
   "outputs": [
    {
     "name": "stdout",
     "output_type": "stream",
     "text": [
      "Hello\n",
      "Goodbye\n"
     ]
    }
   ],
   "source": [
    "print('Hello')\n",
    "print('Goodbye')"
   ]
  },
  {
   "cell_type": "markdown",
   "id": "abf0c066",
   "metadata": {},
   "source": [
    "Other functions that you have used so far are `len()` and `input()`. You can think of a function as a mini-program that runs within another program or within another function. The main program calls the mini-program and sends information that the mini-program will need as it runs. When the function completes all of its actions, it may send some data back to the main program that has called it. The primary purpose of a function is to allow you to reuse the code within it whenever you need it, using different inputs if required. When you use functions, you are extending your Python vocabulary. This lets you express the solution to your problem in a clearer and more succinct way. Functions can be used many times within one script. For example, when training a neural network, you call the same functions thousands or millions of times. "
   ]
  },
  {
   "cell_type": "markdown",
   "id": "d59073b0",
   "metadata": {},
   "source": [
    "## A basic function\n",
    "Let's start by defining a very simple function. The *header* of a function always starts with the keyword `def`, followed by the name of the function, parentheses, and a colon `:`. The *body* of a function contains the actual Python lines that will be executed. The body is a *block* of code with indentation, just like the statement if you use `if` or `for`. We can define a function that simply writes 'Hello world' to the terminal."
   ]
  },
  {
   "cell_type": "code",
   "execution_count": 2,
   "id": "2d32b5e0",
   "metadata": {},
   "outputs": [],
   "source": [
    "def hello_world():        # This is the header of the function\n",
    "    print('Hello world')  # This is the body of the function"
   ]
  },
  {
   "cell_type": "markdown",
   "id": "6a9796a1",
   "metadata": {},
   "source": [
    "Defining a function does not lead to any output. The function is simply there, but not used. To use the function we have to *call* it, like this:"
   ]
  },
  {
   "cell_type": "code",
   "execution_count": 3,
   "id": "6a132986",
   "metadata": {},
   "outputs": [
    {
     "name": "stdout",
     "output_type": "stream",
     "text": [
      "Hello world\n"
     ]
    }
   ],
   "source": [
    "hello_world()             # Call the hello_world function"
   ]
  },
  {
   "cell_type": "markdown",
   "id": "742dc343",
   "metadata": {},
   "source": [
    "By calling the function, its body gets executed. In this case, the body of the function only contains a call to the built-in `print` function. This also shows that you can call functions from within other functions."
   ]
  },
  {
   "cell_type": "markdown",
   "id": "bafab4dd",
   "metadata": {},
   "source": [
    ":::{admonition} The use of `(` and `)`\n",
    ":class: warning\n",
    "Any time you *call* a function (i.e., use it), you have to use a `(` and a `)`. Note that this is different from *indexing* a list, tuple, dictionary, for which you use `[` and `]`.\n",
    ":::"
   ]
  },
  {
   "cell_type": "markdown",
   "id": "590856dd",
   "metadata": {},
   "source": [
    "## Where do you put a function?\n",
    "You've learned to write Python scripts as `.py` files. You can simply add functions to your script so that they can be used in that script. For example, the following would be a valid `.py` file that you can run in VS Code. Try it out!"
   ]
  },
  {
   "cell_type": "code",
   "execution_count": 4,
   "id": "ca2b844c",
   "metadata": {},
   "outputs": [
    {
     "name": "stdout",
     "output_type": "stream",
     "text": [
      "Hello world\n"
     ]
    }
   ],
   "source": [
    "def hello_world():        # This is the header of the function\n",
    "    print('Hello world')  # This is the body of the function\n",
    "    \n",
    "hello_world()             # Call the hello_world function"
   ]
  },
  {
   "cell_type": "markdown",
   "id": "fad8ec85",
   "metadata": {},
   "source": [
    "It is important that you define your functions **before** you use them. Otherwise, the interpreter does not understand which function you're referring to. So, the following will not work:"
   ]
  },
  {
   "cell_type": "markdown",
   "id": "8850f855",
   "metadata": {},
   "source": [
    "```python \n",
    "hello_world()             # We're trying to call the hello_world function, but it has not been defined\n",
    "\n",
    "def hello_world():        \n",
    "    print('Hello world')  \n",
    "```"
   ]
  },
  {
   "cell_type": "markdown",
   "id": "86ba63ba",
   "metadata": {},
   "source": [
    ":::{admonition} Function naming conventions\n",
    ":class: note\n",
    "In Python, naming conventions for functions are the same as for variables. You should use lowercase letters, and separate words with an underscore, as in the `hello_world()` example above. Since functions represent actions, it’s best practice to start your function names with a verb to make your code more readable. \n",
    "\n",
    ":::"
   ]
  },
  {
   "cell_type": "markdown",
   "id": "499f0747",
   "metadata": {},
   "source": [
    "## Functions with arguments\n",
    "Things get more interesting if our function does not do exactly the same whenever it is called, but changes what it does depending on the input that we provide. For example, we can write a function that takes two numbers and decides which of the two numbers is smallest. For this, we use things that you have already learned: e.g, `if`, `elif`, `else`, string formatting. You can see that the *body* of the function is just a mini-program whose variables are defined in the *header* of the function."
   ]
  },
  {
   "cell_type": "code",
   "execution_count": 5,
   "id": "272d4f66",
   "metadata": {},
   "outputs": [],
   "source": [
    "def find_smallest(number_a, number_b):   # The header of the function with two parameters\n",
    "    if number_a < number_b:\n",
    "        print('{} is the smallest number'.format(number_a))\n",
    "    elif number_b < number_a:\n",
    "        print('{} is the smallest number'.format(number_b))\n",
    "    else:\n",
    "        print('Both numbers are equal')"
   ]
  },
  {
   "cell_type": "markdown",
   "id": "e06c854f",
   "metadata": {},
   "source": [
    "This function has two *parameters*: `number_a` and `number_b`. These parameters are used in the body of the function, in this case in an `if`-statement with comparison operators `<`. Now, if we want to use this function, we have to *call* it using *arguments*, i.e., values for the parameters, as follows:"
   ]
  },
  {
   "cell_type": "code",
   "execution_count": 6,
   "id": "13336874",
   "metadata": {},
   "outputs": [
    {
     "name": "stdout",
     "output_type": "stream",
     "text": [
      "23 is the smallest number\n"
     ]
    }
   ],
   "source": [
    "find_smallest(number_a = 45, number_b = 23)      # Call the function using two arguments"
   ]
  },
  {
   "cell_type": "markdown",
   "id": "1ca29df5",
   "metadata": {},
   "source": [
    "In general, you can create a function with any type of variable. Arguments can also be lists, tuples, dictionaries, etc. However, when you call a function, there is a chance that your type is not compatible with the type that the function was intended for. In that case, Python will throw an exception. You can help others reading your code by *type hinting*: indicating in your function header which type is expected. For the `find_smallest()` function this might look like the following."
   ]
  },
  {
   "cell_type": "code",
   "execution_count": 7,
   "id": "d84b2b97",
   "metadata": {},
   "outputs": [],
   "source": [
    "def find_smallest(number_a: int, number_b: int):  # We have here added types to number_a and number_b\n",
    "    if number_a < number_b:\n",
    "        print('{} is the smallest number'.format(number_a))\n",
    "    elif number_b < number_a:\n",
    "        print('{} is the smallest number'.format(number_b))\n",
    "    else:\n",
    "        print('Both numbers are equal')"
   ]
  },
  {
   "cell_type": "markdown",
   "id": "6e8c1a46",
   "metadata": {},
   "source": [
    "Note that type hinting is a form of documentation: it doesn't change how Python treats your code, but it makes your code more reusable, just like placing comments with `#` and using descriptive names for variables and functions. "
   ]
  },
  {
   "cell_type": "markdown",
   "id": "d8e12768",
   "metadata": {},
   "source": [
    ":::{admonition} Exercise 4.1\n",
    ":class: tip\n",
    "Consider *Exercise 3.3* about banking. Adapt that script into a function called `evaluate_customer` that takes in a customers age (as `int`) and annual income (as `int`) as parameters and prints the required answer. Test your code by calling the function as follows\n",
    "\n",
    "```python\n",
    "def evaluate_customer(age: int, annual_income: int):\n",
    "    ## The body of the function goes here\n",
    "\n",
    "evaluate_customer(40, 11000)\n",
    "evaluate_customer(18, 25000)\n",
    "evaluate_customer(30, 40000)\n",
    "evaluate_customer(15, 5000)    \n",
    "```\n",
    ":::"
   ]
  },
  {
   "cell_type": "markdown",
   "id": "489a381d",
   "metadata": {},
   "source": [
    ":::{admonition} Exercise 4.2\n",
    ":class: tip\n",
    "Write a function `print_code` that takes a 'code' as input and uses that code to print characters to the command line. A code is a string that describes which characters should be printed. Each code consists of pairs of *characters* and *counts*. The maximum count is 9. For example, \n",
    "- when called as `print_code('6+')` the function should print `++++++`\n",
    "- when called as  `print_code('2+4*5+')` the function should print `++****+++++`\n",
    "- when called as  `print_code('2*4+6*')` the function should print `**++++******`, \n",
    "- when called as  `print_code('9a4b3c')` the function should print `aaaaaaaaabbbbccc`\n",
    "\n",
    "To help you get started, here is a layout for your function. You have to change the commented lines in order to make the function work.  \n",
    "\n",
    "```python\n",
    "def print_code(code):\n",
    "    output = ''\n",
    "    for start_ind in range(0, len(code), 2):\n",
    "        fragment = code[start_ind:start_ind+2]\n",
    "        #### based on the fragment, extend the output string\n",
    "    #### print the output string\n",
    "```\n",
    "1. Finish this function and verify that your function works using the examples shown above.  \n",
    "    \n",
    "2. The list below contains multiple codes. Write a script that loops over this list and prints each code. Note that these codes contain spaces. These are treated like characters by Python.\n",
    "    ```python\n",
    "    full_code = ['9 5 6+7 6+', \n",
    "                 '9 3 9+1+3 9+1+', \n",
    "                 '9 1 9+4+1 9+4+', \n",
    "                 '9 9+9+9+2+', \n",
    "                 '9 9+9+9+2+', \n",
    "                 '9 9+9+9+2+', \n",
    "                 '9 1 9+9+9+', \n",
    "                 '9 3 9+9+5+', \n",
    "                 '9 5 9+9+1+', \n",
    "                 '9 7 9+6+', \n",
    "                 '9 9 9+2+', \n",
    "                 '9 9 2 7+', \n",
    "                 '9 9 4 3+', \n",
    "                 '0+']\n",
    "    ```\n",
    ":::"
   ]
  },
  {
   "cell_type": "markdown",
   "id": "3dc49c34",
   "metadata": {},
   "source": [
    "## Return\n",
    "The `hello_world`, `find_smallest`, and `print_code` functions only print a result, but do not *return* anything. In many cases, you will want to use a function to give you some output value that you can use in your script, instead of only writing the answer to the terminal. In Python, we use the keyword `return` to send the result of the function call back to wherever the function was called from. Let's make a very basic function that adds two numbers and returns the result."
   ]
  },
  {
   "cell_type": "code",
   "execution_count": 8,
   "id": "f6e9391a",
   "metadata": {
    "lines_to_next_cell": 0
   },
   "outputs": [
    {
     "name": "stdout",
     "output_type": "stream",
     "text": [
      "The sum is 55\n"
     ]
    }
   ],
   "source": [
    "def add_numbers(number_a, number_b):\n",
    "    return number_a + number_b\n",
    "\n",
    "sum_of_numbers = add_numbers(number_a = 34, number_b = 21)   # The result of the function call is stored in sum_of_numbers\n",
    "print('The sum is {}'.format(sum_of_numbers))                # We can print the value of sum_of_numbers (or use it for something else)"
   ]
  },
  {
   "cell_type": "markdown",
   "id": "28a15564",
   "metadata": {
    "lines_to_next_cell": 2
   },
   "source": [
    "When we call this function, the sum of both numbers is computed and immediately returned. It then takes the place of `add_numbers(number_a = 34, number_b = 21)`, which means that the line now says \n",
    "\n",
    "```python\n",
    "sum_of_numbers = 55\n",
    "```\n",
    "\n",
    "and that the result is directly assigned to the variable `sum_of_numbers`."
   ]
  },
  {
   "cell_type": "markdown",
   "id": "9de38afe",
   "metadata": {},
   "source": [
    "A function can return more than one value. Values to be returned should be separated by a comma, and the output of the function should be assigned to the same number of variables. For example, we can write a function that returns two values: the sum and the product of its inputs."
   ]
  },
  {
   "cell_type": "code",
   "execution_count": 9,
   "id": "02a8bcbc",
   "metadata": {},
   "outputs": [
    {
     "name": "stdout",
     "output_type": "stream",
     "text": [
      "12\n",
      "32\n"
     ]
    }
   ],
   "source": [
    "def compute_sum_and_product(number_a, number_b):\n",
    "    sum_of_numbers = number_a + number_b\n",
    "    product_of_numbers = number_a * number_b\n",
    "    return sum_of_numbers, product_of_numbers         # Return two values, separated by ,\n",
    "\n",
    "summed, multiplied = compute_sum_and_product(4, 8)    # Assign result of the function call to two variables\n",
    "print(summed)\n",
    "print(multiplied)"
   ]
  },
  {
   "cell_type": "markdown",
   "id": "4c90151f",
   "metadata": {},
   "source": [
    ":::{admonition} Returning `pass`\n",
    ":class: note\n",
    "In some cases - when you're coding - it might be convenient not to return anything at all but to already type the header of a function. To make sure that your code runs, each function **must** return something, but what do you return if the function isn't finished? A solution is to return `pass`, which can be used as a placeholder for future code. Note that this can also be used in control structures like `if`, `else`, and loops.\n",
    "\n",
    "```python\n",
    "def unfinished_function():\n",
    "    return pass\n",
    "```\n",
    ":::"
   ]
  },
  {
   "cell_type": "markdown",
   "id": "1998921a",
   "metadata": {},
   "source": [
    "## Optional arguments \n",
    "Python differentiates between *required* and *optional* arguments. Required arguments *should* always be provided to the function. If they are not provided, Python throws an error. Consider our `add_numbers()` function above: it has exactly two parameters: `number_a` and `number_b`. If fewer or more arguments are provided, Python throws an error:"
   ]
  },
  {
   "cell_type": "code",
   "execution_count": 10,
   "id": "f953c5ab",
   "metadata": {},
   "outputs": [
    {
     "ename": "TypeError",
     "evalue": "add_numbers() missing 1 required positional argument: 'number_b'",
     "output_type": "error",
     "traceback": [
      "\u001b[0;31m---------------------------------------------------------------------------\u001b[0m",
      "\u001b[0;31mTypeError\u001b[0m                                 Traceback (most recent call last)",
      "\u001b[0;32m/var/folders/07/x0gf6dj176dfjvrn357t5p6h0000gn/T/ipykernel_96617/2140094660.py\u001b[0m in \u001b[0;36m<module>\u001b[0;34m\u001b[0m\n\u001b[0;32m----> 1\u001b[0;31m \u001b[0madd_numbers\u001b[0m\u001b[0;34m(\u001b[0m\u001b[0mnumber_a\u001b[0m \u001b[0;34m=\u001b[0m \u001b[0;36m3\u001b[0m\u001b[0;34m)\u001b[0m\u001b[0;34m\u001b[0m\u001b[0;34m\u001b[0m\u001b[0m\n\u001b[0m",
      "\u001b[0;31mTypeError\u001b[0m: add_numbers() missing 1 required positional argument: 'number_b'"
     ]
    }
   ],
   "source": [
    "add_numbers(number_a = 3)"
   ]
  },
  {
   "cell_type": "code",
   "execution_count": 11,
   "id": "c4266b45",
   "metadata": {},
   "outputs": [
    {
     "ename": "SyntaxError",
     "evalue": "positional argument follows keyword argument (3779491282.py, line 1)",
     "output_type": "error",
     "traceback": [
      "\u001b[0;36m  File \u001b[0;32m\"/var/folders/07/x0gf6dj176dfjvrn357t5p6h0000gn/T/ipykernel_96617/3779491282.py\"\u001b[0;36m, line \u001b[0;32m1\u001b[0m\n\u001b[0;31m    add_numbers(number_a = 3, number_b = 4, 5)\u001b[0m\n\u001b[0m                                           ^\u001b[0m\n\u001b[0;31mSyntaxError\u001b[0m\u001b[0;31m:\u001b[0m positional argument follows keyword argument\n"
     ]
    }
   ],
   "source": [
    "add_numbers(number_a = 3, number_b = 4, 5)"
   ]
  },
  {
   "cell_type": "markdown",
   "id": "b84ec8b4",
   "metadata": {},
   "source": [
    "In this example,`number_a` and `number_b` are both required arguments. Because of this, we actually don't have to specify which parameter we're assigning the argument to when we call the function. We can call the function *with* or *without* parameter names."
   ]
  },
  {
   "cell_type": "code",
   "execution_count": 12,
   "id": "e520ef5e",
   "metadata": {},
   "outputs": [
    {
     "data": {
      "text/plain": [
       "True"
      ]
     },
     "execution_count": 12,
     "metadata": {},
     "output_type": "execute_result"
    }
   ],
   "source": [
    "add_numbers(number_a = 14, number_b = 75) == add_numbers(14, 75)"
   ]
  },
  {
   "cell_type": "markdown",
   "id": "d6a179cf",
   "metadata": {},
   "source": [
    "A way to make your code more flexible is to use *optional* arguments. If these are not provided, the function still runs. This is because we provide *default* parameter values: if the user does not provide other values, these are used. Consider the following variant on our function, which assumes that `number_b = 37` if not provided."
   ]
  },
  {
   "cell_type": "code",
   "execution_count": 13,
   "id": "d91650c5",
   "metadata": {},
   "outputs": [
    {
     "name": "stdout",
     "output_type": "stream",
     "text": [
      "86\n",
      "49\n"
     ]
    }
   ],
   "source": [
    "def add_numbers_optional(number_a, number_b = 37):\n",
    "    return number_a + number_b\n",
    "\n",
    "print(add_numbers_optional(34, 52))\n",
    "print(add_numbers_optional(12))"
   ]
  },
  {
   "cell_type": "markdown",
   "id": "f3aefc5f",
   "metadata": {},
   "source": [
    "To prevent ambiguity about the correspondence between parameters and arguments, it's good to use parameter names when calling a function, like this:"
   ]
  },
  {
   "cell_type": "code",
   "execution_count": 14,
   "id": "6cba02fa",
   "metadata": {},
   "outputs": [
    {
     "name": "stdout",
     "output_type": "stream",
     "text": [
      "86\n"
     ]
    }
   ],
   "source": [
    "print(add_numbers_optional(number_a = 34, number_b = 52))"
   ]
  },
  {
   "cell_type": "markdown",
   "id": "d89394d1",
   "metadata": {},
   "source": [
    "It is important that if you provide default values for arguments, that this should be done for the last parameter, second-to-last, etc. The parameter list of your function cannot have a required argument after an optional one."
   ]
  },
  {
   "cell_type": "code",
   "execution_count": 15,
   "id": "a860e9b3",
   "metadata": {},
   "outputs": [
    {
     "ename": "SyntaxError",
     "evalue": "non-default argument follows default argument (1073581284.py, line 1)",
     "output_type": "error",
     "traceback": [
      "\u001b[0;36m  File \u001b[0;32m\"/var/folders/07/x0gf6dj176dfjvrn357t5p6h0000gn/T/ipykernel_96617/1073581284.py\"\u001b[0;36m, line \u001b[0;32m1\u001b[0m\n\u001b[0;31m    def add_numbers_optional(number_a = 37, number_b):\u001b[0m\n\u001b[0m                            ^\u001b[0m\n\u001b[0;31mSyntaxError\u001b[0m\u001b[0;31m:\u001b[0m non-default argument follows default argument\n"
     ]
    }
   ],
   "source": [
    "def add_numbers_optional(number_a = 37, number_b):\n",
    "    return number_a + number_b\n",
    "\n",
    "print(add_numbers_optional(number_a = 34, number_b = 52))"
   ]
  },
  {
   "cell_type": "markdown",
   "id": "c36d4560",
   "metadata": {},
   "source": [
    ":::{admonition} Exercise 4.3\n",
    ":class: tip\n",
    "A common operation in linear algebra is computing the dot product between two vectors. The dot product of two vectors $\\mathbf{a}=[a_1, a_2, \\ldots, a_n]$ and $\\mathbf{b}=[b_1, b_2, \\ldots, b_n]$ is defined as\n",
    "\n",
    "$$\\mathbf{a} \\cdot \\mathbf{b} = \\sum_{i=1}^n a_i b_i$$\n",
    "\n",
    "\n",
    "Write a function that takes two vectors $\\mathbf{a}$ and $\\mathbf{b}$ as lists as input and returns their dot product as a floating point number. The dot product can only be computed if the length of $\\mathbf{a}$ and $\\mathbf{b}$ is the same. Let your function check that this is the case, and if not, print a message for the user and return `-1`. Call your function `dot_product()` and use the code below to test it\n",
    "\n",
    "```python\n",
    "vector_a = [3, 5, 9]\n",
    "vector_b = [3.2, 6, -5]\n",
    "print(dot_product(vector_a, vector_b))\n",
    "\n",
    "vector_a = [3, 5, 9, 4]\n",
    "vector_b = [3.2, 6, -5]\n",
    "print(dot_product(vector_a, vector_b))\n",
    "```\n",
    ":::"
   ]
  },
  {
   "cell_type": "markdown",
   "id": "907d11b9",
   "metadata": {},
   "source": [
    "## Scope\n",
    "Each variable in Python has a `scope`. This influences the way that variables are looked up in your code. So far, we have worked with global variables. These are variables that can be accessed anywhere in the code. Setting the value of the variable in a `for` or `while` loop or in an `if`-statement changes the value everywhere. When working with functions, we have to consider the scope of a variable. This means that if a variable is defined in a function, it cannot be accessed outside of that function. \n",
    "\n",
    "Take a look at the following example. We have defined a simple function `add_y` that adds some number to its input. The function works well and we can verify this with the first print statement. The number that is added is defined in a *local* variable `y`. This variable only exists within the function `add_y`. If we want to print the value at the *global* level with `print(y)` Python gives a `NameError`: it cannot find the variable `y` because it does not exist globally. "
   ]
  },
  {
   "cell_type": "code",
   "execution_count": 16,
   "id": "9c0e56cb",
   "metadata": {},
   "outputs": [
    {
     "name": "stdout",
     "output_type": "stream",
     "text": [
      "18\n"
     ]
    },
    {
     "ename": "NameError",
     "evalue": "name 'y' is not defined",
     "output_type": "error",
     "traceback": [
      "\u001b[0;31m---------------------------------------------------------------------------\u001b[0m",
      "\u001b[0;31mNameError\u001b[0m                                 Traceback (most recent call last)",
      "\u001b[0;32m/var/folders/07/x0gf6dj176dfjvrn357t5p6h0000gn/T/ipykernel_96617/1922670122.py\u001b[0m in \u001b[0;36m<module>\u001b[0;34m\u001b[0m\n\u001b[1;32m      4\u001b[0m \u001b[0;34m\u001b[0m\u001b[0m\n\u001b[1;32m      5\u001b[0m \u001b[0mprint\u001b[0m\u001b[0;34m(\u001b[0m\u001b[0madd_y\u001b[0m\u001b[0;34m(\u001b[0m\u001b[0;36m10\u001b[0m\u001b[0;34m)\u001b[0m\u001b[0;34m)\u001b[0m\u001b[0;34m\u001b[0m\u001b[0;34m\u001b[0m\u001b[0m\n\u001b[0;32m----> 6\u001b[0;31m \u001b[0mprint\u001b[0m\u001b[0;34m(\u001b[0m\u001b[0my\u001b[0m\u001b[0;34m)\u001b[0m\u001b[0;34m\u001b[0m\u001b[0;34m\u001b[0m\u001b[0m\n\u001b[0m",
      "\u001b[0;31mNameError\u001b[0m: name 'y' is not defined"
     ]
    }
   ],
   "source": [
    "def add_y(x):\n",
    "    y = 8\n",
    "    return x + y\n",
    "    \n",
    "print(add_y(10))\n",
    "print(y)"
   ]
  },
  {
   "cell_type": "markdown",
   "id": "aeeea740",
   "metadata": {},
   "source": [
    "This also works the other way: if we define a global variable `y`, the function will ignore its value and just use the local variable `y` as long as it's defined. Here, we see that although our global variable `y` is 4 and remains 4, the value of `y` in the function is 5. "
   ]
  },
  {
   "cell_type": "code",
   "execution_count": 17,
   "id": "a524e24c",
   "metadata": {},
   "outputs": [
    {
     "name": "stdout",
     "output_type": "stream",
     "text": [
      "18\n",
      "4\n"
     ]
    }
   ],
   "source": [
    "y = 4\n",
    "\n",
    "def add_y(x):\n",
    "    y = 8\n",
    "    return x + y\n",
    "    \n",
    "print(add_y(10))\n",
    "print(y)"
   ]
  },
  {
   "cell_type": "markdown",
   "id": "783507b6",
   "metadata": {},
   "source": [
    "However, if there is no *local* variable `y` in the function, the global variable `y` will be used instead, as below."
   ]
  },
  {
   "cell_type": "code",
   "execution_count": 18,
   "id": "96715802",
   "metadata": {},
   "outputs": [
    {
     "name": "stdout",
     "output_type": "stream",
     "text": [
      "14\n",
      "4\n"
     ]
    }
   ],
   "source": [
    "y = 4\n",
    "\n",
    "def add_y(x):\n",
    "    return x + y\n",
    "    \n",
    "print(add_y(10))\n",
    "print(y)"
   ]
  },
  {
   "cell_type": "markdown",
   "id": "5852fdc4",
   "metadata": {},
   "source": [
    "There is a particular priority system that Python uses to look up the value of a variable, the LEGB-rule. This stands for local, enclosed, global, built-in.\n",
    "1. Local: these are variables that are defined only in a function.\n",
    "2. Enclosed: an (inner) function can be defined inside another (outer) function. The inner function is able to access the variables of the outer function, but not the other way around.\n",
    "3. Global: global variables at the level of your script.\n",
    "4. Some variable names are `built-in` and are always accessible from everywhere. These are the keywords that you have seen before, i.e.:\n",
    "\n",
    "![keywords](https://images.datacamp.com/image/upload/f_auto,q_auto:best/v1588956604/keywords_c8hxf4.png)\n",
    "\n",
    "If the interpreter looks for the value of a variable, it does so bottom-up, starting at the local level. The figures below nicely visualize this process. Here, `x` is defined within the inner function, so that is the value that is used at that point. If `x` was not defined in the inner function, then `x` in the outer function would be used. If that variable had not been defined, a global variable `x` would be used. And if that didn't work, the interpreter would look for a built-in variable `x` (which does not exist). \n",
    "\n",
    "![scope](https://images.datacamp.com/image/upload/f_auto,q_auto:best/v1588956604/code_dmeddc.png)\n",
    "![morescope](https://images.datacamp.com/image/upload/f_auto,q_auto:best/v1588956604/Scope_fbrzcw.png)\n"
   ]
  },
  {
   "cell_type": "markdown",
   "id": "4c82b47a",
   "metadata": {},
   "source": [
    "## Recursive functions\n",
    "We can call functions from anywhere in a script, as long as it has been defined. Moreover, in Python (and in many other languages) there is no reason why a function cannot be called from within itself. This is called a *recursive* function. Recursion is a concept that can be difficult to understand. The core idea is that you repeatedly call the same function from within itself. This means that the operations that you're applying should be very similar each time the function is called. A well-known example is the factorial $n!=n \\times n-1 \\times n-2 \\times \\cdots \\times 2 \\times 1$. We can implement this in a recursive function as"
   ]
  },
  {
   "cell_type": "code",
   "execution_count": 19,
   "id": "e0c8f272",
   "metadata": {},
   "outputs": [],
   "source": [
    "def factorial(n):                   # 1\n",
    "    if n > 1:                       # 2\n",
    "        return n * factorial(n-1)   # 3\n",
    "    else:                           # 4\n",
    "        return 1                    # 5"
   ]
  },
  {
   "cell_type": "code",
   "execution_count": 20,
   "id": "ab07ef20",
   "metadata": {},
   "outputs": [
    {
     "data": {
      "text/plain": [
       "6"
      ]
     },
     "execution_count": 20,
     "metadata": {},
     "output_type": "execute_result"
    }
   ],
   "source": [
    "factorial(3)"
   ]
  },
  {
   "cell_type": "markdown",
   "id": "be8c9838",
   "metadata": {},
   "source": [
    ":::{admonition} Exercise 4.4\n",
    ":class: tip\n",
    "In the `factorial()` function above, we have added line numbers in comments. Look at the code and see if you can figure out in which order the lines are executed if you call `factorial(3)`. \n",
    ":::"
   ]
  },
  {
   "cell_type": "markdown",
   "id": "8270f8fd",
   "metadata": {},
   "source": [
    "To write a proper recursive function, you need an `if` and `else` expression, where each one corresponds to one of the two scenarions:\n",
    "1. A 'base' condition. This is the point at which the recursion stops and moves back 'up'.\n",
    "2. A change that is applied so that your process comes closer to reaching the base condition.\n",
    "\n",
    "In the example above, the base condition is $n=1$, and the change that is applied is $n-1$. If there is no base condition or no change, your function will just run indefinitely, like a `while` loop without a stopping condition. "
   ]
  },
  {
   "cell_type": "markdown",
   "id": "6706e322",
   "metadata": {},
   "source": [
    ":::{admonition} Exercise 4.5\n",
    ":class: tip\n",
    "Write a function `sum_recursion` to calculate the sum of a list of numbers using recursion.  \n",
    "**Hint**: In your base condition, there is only one item left in the list.\n",
    "\n",
    "Test your function using the following code.\n",
    "\n",
    "```python\n",
    "def sum_recursion(numbers):\n",
    "    # Your function body\n",
    "    \n",
    "numbers_list = [2, 3, 1, 6, 7, 8, 4]\n",
    "summed_list = sum_recursion(numbers_list)\n",
    "print('The sum of {} is {}'.format(numbers_list, summed_list))\n",
    ":::"
   ]
  },
  {
   "cell_type": "markdown",
   "id": "c5a5dc5e",
   "metadata": {},
   "source": [
    "## Built-in functions\n",
    "You don't have to define each function yourself: Python has a number of built-in functions that are available in any Python distribution. Useful functions include the `len`, `print` and `input` functions that you have already used. In addition to the functions that you can write yourself, Python has a number of *built-in* functions. These are functions that are always available if you program in Python. Examples are `print()`. A complete list of built-in functions is available [here](https://docs.python.org/3/library/functions.html). Take a look, you'll likely recognize some of them. We have previously used the `round()` and `range()` functions, and it's clear what - for example - the `abs()` does. Likewise, you have used the `type()` function to find out what the type of a variable is."
   ]
  },
  {
   "cell_type": "markdown",
   "id": "4c4ff08d",
   "metadata": {},
   "source": [
    ":::{admonition} Exercise 4.6\n",
    ":class: tip\n",
    "There are many cases in programming where we need to sort something, usually in ascending order (low to high), sometimes in descending order (high to low). There are also many different sorting algorithms, some faster than others, some more complex. The animation below visualizes eight popular sorting algorithms. The length of the bars indicated their value, and as you can see, each algorithm tries to sort the values from low to high (in ascending order).\n",
    "\n",
    "![sorting](https://surfdrive.surf.nl/files/index.php/s/hjPCX75AhZWBMCo/download)\n",
    "\n",
    "In this exercise, you will implement *bubble sort*. Bubble sort is not the fastest algorithm (as you can see in the animation), but it is (relatively) easy to understand. Let's say that we have a list of numbers that we want to sort. The animation below visualizes bubble sort for a short list.\n",
    "\n",
    "![bubblesort](https://upload.wikimedia.org/wikipedia/commons/c/c8/Bubble-sort-example-300px.gif)\n",
    "\n",
    "\n",
    "Bubble sort does the following:\n",
    "1. Check if the first element in the list is greater than the next element in the list.\n",
    "2. If it is greater, swap the two elements. Otherwise, repeat step 1 for the next element in the list.\n",
    "3. Repeat steps 1 and 2 until you reach the end of the list. \n",
    "4. Check if all elements are sorted:\n",
    "  - If not, repeat the process in step 1 to 3. However, you can now ignore the last element because you know it has the highest value and is in the right place. The next iteration you can ignore the last two elements, etc.\n",
    "  - If yes, the final output is a sorted array. \n",
    "\n",
    "\n",
    "Your task in this exercise is to implement a bubble sort function. Use the provided code below and fill in the missing parts.  \n",
    "**Hint** Use a `while` loop to check whether the list is sorted. You can use the provided `check_sorted` function.\n",
    "\n",
    "```python\n",
    "import numpy as np\n",
    "\n",
    "def check_sorted(numbers):\n",
    "    for i in range(len(numbers)-1):\n",
    "        if numbers[i] >= numbers[i+1]:\n",
    "            return False\n",
    "    return True\n",
    "\n",
    "def bubble_sort(numbers):\n",
    "    # Your code goes here\n",
    "        \n",
    "\n",
    "\n",
    "numbers = list(np.random.permutation(100))\n",
    "print(numbers)\n",
    "print('The list of numbers {} sorted'.format('is' if check_sorted(numbers) else 'is not'))\n",
    "sorted_numbers = bubble_sort(numbers)\n",
    "print(sorted_numbers)\n",
    "print('The list of numbers {} sorted'.format('is' if check_sorted(sorted_numbers) else 'is not'))\n",
    "```\n"
   ]
  },
  {
   "cell_type": "markdown",
   "id": "ca308a0f",
   "metadata": {},
   "source": [
    ":::{admonition} Exercise 4.7\n",
    ":class: tip\n",
    "Write a Python function that takes a number $n$ as a parameter and returns **all prime numbers up to $n$** as a list. Tip: you can consider [this algorithm](https://en.wikipedia.org/wiki/Sieve_of_Eratosthenes) to make your function efficient. Name your function `all_primes()` and use the following code to test it\n",
    "\n",
    "```python\n",
    "def all_primes(n):\n",
    "    # The body of your function goes here\n",
    "\n",
    "n = # \n",
    "primes = all_primes(n)\n",
    "print(primes)\n",
    "```\n",
    ":::"
   ]
  },
  {
   "cell_type": "markdown",
   "id": "5f52b396",
   "metadata": {},
   "source": [
    ":::{admonition} Exercise 4.5\n",
    ":class: tip\n",
    "Write a function that performs bubble sort. This function should be callable with any list of `int` or `float` numbers and return a sorted list. Call your function `bubble_sort()` and use the code below to test it.\n",
    "\n",
    "```python\n",
    "import numpy as np\n",
    "\n",
    "numbers = list(np.random.randint(0, 1000, 100))\n",
    "print('Before sorting {}'.format(numbers))\n",
    "sorted = bubble_sort(numbers)\n",
    "print('After sorting {}'.format(sorted))\n",
    ":::\n"
   ]
  },
  {
   "cell_type": "markdown",
   "id": "7c3a325d",
   "metadata": {},
   "source": [
    ":::{admonition} Answer key 4.5 \n",
    ":class: seealso\n",
    "```Python\n",
    "def bubble_sort(arr):\n",
    "    n = len(arr)\n",
    "    while n > 0:\n",
    "        last_swap_index = 0\n",
    "        for i in range(1, n):\n",
    "            if arr[i-1] > arr[i]:\n",
    "                # swamp the numbers in the array\n",
    "                arr[i-1], arr[i] = arr[i], arr[i-1]\n",
    "                last_swap_index = i\n",
    "        # The last index a swap was made\n",
    "        n = last_swap_index\n",
    "    return arr\n",
    "\n",
    "import numpy as np\n",
    "\n",
    "numbers = list(np.random.randint(0, 1000, 100))\n",
    "print('Before sorting {}'.format(numbers))\n",
    "sorted = bubble_sort(numbers)\n",
    "print('After sorting {}'.format(sorted))\n",
    "```\n",
    ":::"
   ]
  },
  {
   "cell_type": "code",
   "execution_count": null,
   "id": "78f3ea6e",
   "metadata": {},
   "outputs": [],
   "source": []
  }
 ],
 "metadata": {
  "jupytext": {
   "cell_metadata_filter": "-all",
   "main_language": "python",
   "notebook_metadata_filter": "-all"
  },
  "language_info": {
   "codemirror_mode": {
    "name": "ipython",
    "version": 3
   },
   "file_extension": ".py",
   "mimetype": "text/x-python",
   "name": "python",
   "nbconvert_exporter": "python",
   "pygments_lexer": "ipython3",
   "version": "3.7.16"
  }
 },
 "nbformat": 4,
 "nbformat_minor": 5
}