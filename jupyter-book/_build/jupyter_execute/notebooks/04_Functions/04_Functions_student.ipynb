{
 "cells": [
  {
   "cell_type": "markdown",
   "id": "9c602a0f",
   "metadata": {},
   "source": [
    "# Functions\n",
    "\n",
    ":::{admonition} Learning goals\n",
    ":class: note\n",
    "After finishing this chapter, you are expected to\n",
    "* define a function in Python\n",
    "* understand the concept of scope, local and global variables\n",
    "* create a function with one or more input arguments and one or more output arguments\n",
    "* understand what recursion is and how to use it\n",
    ":::\n",
    "\n",
    "\n",
    "By now you can write and run a Python script, you can write conditional statements using `if`, `elif` and `else`, and you can write `for` and `while` loops. You can ask the user for input to dynamically change what happens in a script. You've seen that with these building blocks, you can already solve some problems and write small programs. However, if you write scripts with only these building blocks, they can become quite lengthy. Most programming languages use **functions**. In Python, functions are everywhere. In fact, you have already used functions: for example, the `print()` function outputs something to the screen. We *call* this function with some input, and it writes this input to the terminal."
   ]
  },
  {
   "cell_type": "code",
   "execution_count": null,
   "id": "f83b1e35",
   "metadata": {},
   "outputs": [],
   "source": [
    "print('Hello')\n",
    "print('Goodbye')"
   ]
  },
  {
   "cell_type": "markdown",
   "id": "7366409b",
   "metadata": {},
   "source": [
    "Other functions that you have used so far are `len()` and `input()`. You can think of a function as a mini-program that runs within another program or within another function. The main program calls the mini-program and sends information that the mini-program will need as it runs. When the function completes all of its actions, it may send some data back to the main program that has called it. The primary purpose of a function is to allow you to reuse the code within it whenever you need it, using different inputs if required. When you use functions, you are extending your Python vocabulary. This lets you express the solution to your problem in a clearer and more succinct way. Functions can be used many times within one script. For example, when training a neural network, you call the same functions thousands or millions of times. "
   ]
  },
  {
   "cell_type": "markdown",
   "id": "07b49cc1",
   "metadata": {},
   "source": [
    "## A basic function\n",
    "Let's start by defining a very simple function. The *header* of a function always starts with the keyword `def`, followed by the name of the function, parentheses, and a colon `:`. The *body* of a function contains the actual Python lines that will be executed. The body is a *block* of code with indentation, just like the statement if you use `if` or `for`. We can define a function that simply writes 'Hello world' to the terminal."
   ]
  },
  {
   "cell_type": "code",
   "execution_count": null,
   "id": "9e255bfe",
   "metadata": {},
   "outputs": [],
   "source": [
    "def hello_world():        # This is the header of the function\n",
    "    print('Hello world')  # This is the body of the function"
   ]
  },
  {
   "cell_type": "markdown",
   "id": "628b9f90",
   "metadata": {},
   "source": [
    "Defining a function does not lead to any output. The function is simply there, but not used. To use the function we have to *call* it, like this:"
   ]
  },
  {
   "cell_type": "code",
   "execution_count": null,
   "id": "d3d34dbe",
   "metadata": {},
   "outputs": [],
   "source": [
    "hello_world()             # Call the hello_world function"
   ]
  },
  {
   "cell_type": "markdown",
   "id": "39b38d02",
   "metadata": {},
   "source": [
    "By calling the function, its body gets executed. In this case, the body of the function only contains a call to the built-in `print` function. This also shows that you can call functions from within other functions."
   ]
  },
  {
   "cell_type": "markdown",
   "id": "4b2b7803",
   "metadata": {},
   "source": [
    ":::{admonition} The use of `(` and `)`\n",
    ":class: warning\n",
    "Any time you *call* a function (i.e., use it), you have to use a `(` and a `)`. Note that this is different from *indexing* a list, tuple, dictionary, for which you use `[` and `]`.\n",
    ":::"
   ]
  },
  {
   "cell_type": "markdown",
   "id": "6da44f22",
   "metadata": {},
   "source": [
    "## Where do you put a function?\n",
    "You've learned to write Python scripts as `.py` files. You can simply add functions to your script so that they can be used in that script. For example, the following would be a valid `.py` file that you can run in VS Code. Try it out!"
   ]
  },
  {
   "cell_type": "code",
   "execution_count": null,
   "id": "5d6356df",
   "metadata": {},
   "outputs": [],
   "source": [
    "def hello_world():        # This is the header of the function\n",
    "    print('Hello world')  # This is the body of the function\n",
    "    \n",
    "hello_world()             # Call the hello_world function"
   ]
  },
  {
   "cell_type": "markdown",
   "id": "050e13b9",
   "metadata": {},
   "source": [
    "It is important that you define your functions **before** you use them. Otherwise, the interpreter does not understand which function you're referring to. So, the following will not work:"
   ]
  },
  {
   "cell_type": "markdown",
   "id": "6c3ac361",
   "metadata": {},
   "source": [
    "```python \n",
    "hello_world()             # We're trying to call the hello_world function, but it has not been defined\n",
    "\n",
    "def hello_world():        \n",
    "    print('Hello world')  \n",
    "```"
   ]
  },
  {
   "cell_type": "markdown",
   "id": "288d022c",
   "metadata": {},
   "source": [
    ":::{admonition} Function naming conventions\n",
    ":class: note\n",
    "In Python, naming conventions for functions are the same as for variables. You should use lowercase letters, and separate words with an underscore, as in the `hello_world()` example above. Since functions represent actions, it’s best practice to start your function names with a verb to make your code more readable. \n",
    "\n",
    ":::"
   ]
  },
  {
   "cell_type": "markdown",
   "id": "e09458e9",
   "metadata": {},
   "source": [
    "## Functions with arguments\n",
    "Things get more interesting if our function does not do exactly the same whenever it is called, but changes what it does depending on the input that we provide. For example, we can write a function that takes two numbers and decides which of the two numbers is smallest. For this, we use things that you have already learned: e.g, `if`, `elif`, `else`, string formatting. You can see that the *body* of the function is just a mini-program whose variables are defined in the *header* of the function."
   ]
  },
  {
   "cell_type": "code",
   "execution_count": null,
   "id": "07b110ff",
   "metadata": {},
   "outputs": [],
   "source": [
    "def find_smallest(number_a, number_b):   # The header of the function with two parameters\n",
    "    if number_a < number_b:\n",
    "        print('{} is the smallest number'.format(number_a))\n",
    "    elif number_b < number_a:\n",
    "        print('{} is the smallest number'.format(number_b))\n",
    "    else:\n",
    "        print('Both numbers are equal')"
   ]
  },
  {
   "cell_type": "markdown",
   "id": "16e3c462",
   "metadata": {},
   "source": [
    "This function has two *parameters*: `number_a` and `number_b`. These parameters are used in the body of the function, in this case in an `if`-statement with comparison operators `<`. Now, if we want to use this function, we have to *call* it using *arguments*, i.e., values for the parameters, as follows:"
   ]
  },
  {
   "cell_type": "code",
   "execution_count": null,
   "id": "b92485e8",
   "metadata": {},
   "outputs": [],
   "source": [
    "find_smallest(number_a = 45, number_b = 23)      # Call the function using two arguments"
   ]
  },
  {
   "cell_type": "markdown",
   "id": "16c0c77c",
   "metadata": {},
   "source": [
    "In general, you can create a function with any type of variable. Arguments can also be lists, tuples, dictionaries, etc. However, when you call a function, there is a chance that your type is not compatible with the type that the function was intended for. In that case, Python will throw an exception. You can help others reading your code by *type hinting*: indicating in your function header which type is expected. For the `find_smallest()` function this might look like the following."
   ]
  },
  {
   "cell_type": "code",
   "execution_count": null,
   "id": "c214695f",
   "metadata": {},
   "outputs": [],
   "source": [
    "def find_smallest(number_a: int, number_b: int):  # We have here added types to number_a and number_b\n",
    "    if number_a < number_b:\n",
    "        print('{} is the smallest number'.format(number_a))\n",
    "    elif number_b < number_a:\n",
    "        print('{} is the smallest number'.format(number_b))\n",
    "    else:\n",
    "        print('Both numbers are equal')"
   ]
  },
  {
   "cell_type": "markdown",
   "id": "163e79fc",
   "metadata": {},
   "source": [
    "Note that type hinting is a form of documentation: it doesn't change how Python treats your code, but it makes your code more reusable, just like placing comments with `#` and using descriptive names for variables and functions. "
   ]
  },
  {
   "cell_type": "markdown",
   "id": "3e1841c2",
   "metadata": {},
   "source": [
    ":::{admonition} Exercise 4.1\n",
    ":class: tip\n",
    "Consider *Exercise 3.3* about banking. Adapt that script into a function called `evaluate_customer` that takes in a customers age (as `int`) and annual income (as `int`) as parameters and prints the required answer. Test your code by calling the function as follows\n",
    "\n",
    "```python\n",
    "def evaluate_customer(age: int, annual_income: int):\n",
    "    ## The body of the function goes here\n",
    "\n",
    "evaluate_customer(40, 11000)\n",
    "evaluate_customer(18, 25000)\n",
    "evaluate_customer(30, 40000)\n",
    "evaluate_customer(15, 5000)    \n",
    "```\n",
    ":::"
   ]
  },
  {
   "cell_type": "markdown",
   "id": "481f515c",
   "metadata": {},
   "source": [
    ":::{admonition} Exercise 4.2\n",
    ":class: tip\n",
    "Write a function `print_code` that takes a 'code' as input and uses that code to print characters to the command line. A code is a string that describes which characters should be printed. Each code consists of pairs of *characters* and *counts*. The maximum count is 9. For example, \n",
    "- when called as `print_code('6+')` the function should print `++++++`\n",
    "- when called as  `print_code('2+4*5+')` the function should print `++****+++++`\n",
    "- when called as  `print_code('2*4+6*')` the function should print `**++++******`, \n",
    "- when called as  `print_code('9a4b3c')` the function should print `aaaaaaaaabbbbccc`\n",
    "\n",
    "To help you get started, here is a layout for your function. You have to change the commented lines in order to make the function work.  \n",
    "\n",
    "```python\n",
    "def print_code(code):\n",
    "    output = ''\n",
    "    for start_ind in range(0, len(code), 2):\n",
    "        fragment = code[start_ind:start_ind+2]\n",
    "        #### based on the fragment, extend the output string\n",
    "    #### print the output string\n",
    "```\n",
    "1. Finish this function and verify that your function works using the examples shown above.  \n",
    "    \n",
    "2. The list below contains multiple codes. Write a script that loops over this list and prints each code. Note that these codes contain spaces. These are treated like characters by Python.\n",
    "    ```python\n",
    "    full_code = ['9 5 6+7 6+', \n",
    "                 '9 3 9+1+3 9+1+', \n",
    "                 '9 1 9+4+1 9+4+', \n",
    "                 '9 9+9+9+2+', \n",
    "                 '9 9+9+9+2+', \n",
    "                 '9 9+9+9+2+', \n",
    "                 '9 1 9+9+9+', \n",
    "                 '9 3 9+9+5+', \n",
    "                 '9 5 9+9+1+', \n",
    "                 '9 7 9+6+', \n",
    "                 '9 9 9+2+', \n",
    "                 '9 9 2 7+', \n",
    "                 '9 9 4 3+', \n",
    "                 '0+']\n",
    "    ```\n",
    ":::"
   ]
  },
  {
   "cell_type": "markdown",
   "id": "8b3246cd",
   "metadata": {},
   "source": [
    "## Return\n",
    "The `hello_world`, `find_smallest`, and `print_code` functions only print a result, but do not *return* anything. In many cases, you will want to use a function to give you some output value that you can use in your script, instead of only writing the answer to the terminal. In Python, we use the keyword `return` to send the result of the function call back to wherever the function was called from. Let's make a very basic function that adds two numbers and returns the result."
   ]
  },
  {
   "cell_type": "code",
   "execution_count": null,
   "id": "688367c8",
   "metadata": {
    "lines_to_next_cell": 0
   },
   "outputs": [],
   "source": [
    "def add_numbers(number_a, number_b):\n",
    "    return number_a + number_b\n",
    "\n",
    "sum_of_numbers = add_numbers(number_a = 34, number_b = 21)   # The result of the function call is stored in sum_of_numbers\n",
    "print('The sum is {}'.format(sum_of_numbers))                # We can print the value of sum_of_numbers (or use it for something else)"
   ]
  },
  {
   "cell_type": "markdown",
   "id": "4a90eee5",
   "metadata": {
    "lines_to_next_cell": 2
   },
   "source": [
    "When we call this function, the sum of both numbers is computed and immediately returned. It then takes the place of `add_numbers(number_a = 34, number_b = 21)`, which means that the line now says \n",
    "\n",
    "```python\n",
    "sum_of_numbers = 55\n",
    "```\n",
    "\n",
    "and that the result is directly assigned to the variable `sum_of_numbers`."
   ]
  },
  {
   "cell_type": "markdown",
   "id": "d5ee1cd4",
   "metadata": {},
   "source": [
    "A function can return more than one value. Values to be returned should be separated by a comma, and the output of the function should be assigned to the same number of variables. For example, we can write a function that returns two values: the sum and the product of its inputs."
   ]
  },
  {
   "cell_type": "code",
   "execution_count": null,
   "id": "ee22d5c0",
   "metadata": {},
   "outputs": [],
   "source": [
    "def compute_sum_and_product(number_a, number_b):\n",
    "    sum_of_numbers = number_a + number_b\n",
    "    product_of_numbers = number_a * number_b\n",
    "    return sum_of_numbers, product_of_numbers         # Return two values, separated by ,\n",
    "\n",
    "summed, multiplied = compute_sum_and_product(4, 8)    # Assign result of the function call to two variables\n",
    "print(summed)\n",
    "print(multiplied)"
   ]
  },
  {
   "cell_type": "markdown",
   "id": "80b904f0",
   "metadata": {},
   "source": [
    ":::{admonition} Returning `pass`\n",
    ":class: note\n",
    "In some cases - when you're coding - it might be convenient not to return anything at all but to already type the header of a function. To make sure that your code runs, each function **must** return something, but what do you return if the function isn't finished? A solution is to return `pass`, which can be used as a placeholder for future code. Note that this can also be used in control structures like `if`, `else`, and loops.\n",
    "\n",
    "```python\n",
    "def unfinished_function():\n",
    "    return pass\n",
    "```\n",
    ":::"
   ]
  },
  {
   "cell_type": "markdown",
   "id": "da627970",
   "metadata": {},
   "source": [
    "## Optional arguments \n",
    "Python differentiates between *required* and *optional* arguments. Required arguments *should* always be provided to the function. If they are not provided, Python throws an error. Consider our `add_numbers()` function above: it has exactly two parameters: `number_a` and `number_b`. If fewer or more arguments are provided, Python throws an error:"
   ]
  },
  {
   "cell_type": "code",
   "execution_count": null,
   "id": "0e44de4b",
   "metadata": {},
   "outputs": [],
   "source": [
    "add_numbers(number_a = 3)"
   ]
  },
  {
   "cell_type": "code",
   "execution_count": null,
   "id": "5a499b8a",
   "metadata": {},
   "outputs": [],
   "source": [
    "add_numbers(number_a = 3, number_b = 4, 5)"
   ]
  },
  {
   "cell_type": "markdown",
   "id": "fe39c569",
   "metadata": {},
   "source": [
    "In this example,`number_a` and `number_b` are both required arguments. Because of this, we actually don't have to specify which parameter we're assigning the argument to when we call the function. We can call the function *with* or *without* parameter names."
   ]
  },
  {
   "cell_type": "code",
   "execution_count": null,
   "id": "c5158b66",
   "metadata": {},
   "outputs": [],
   "source": [
    "add_numbers(number_a = 14, number_b = 75) == add_numbers(14, 75)"
   ]
  },
  {
   "cell_type": "markdown",
   "id": "40522822",
   "metadata": {},
   "source": [
    "A way to make your code more flexible is to use *optional* arguments. If these are not provided, the function still runs. This is because we provide *default* parameter values: if the user does not provide other values, these are used. Consider the following variant on our function, which assumes that `number_b = 37` if not provided."
   ]
  },
  {
   "cell_type": "code",
   "execution_count": null,
   "id": "1661d04f",
   "metadata": {},
   "outputs": [],
   "source": [
    "def add_numbers_optional(number_a, number_b = 37):\n",
    "    return number_a + number_b\n",
    "\n",
    "print(add_numbers_optional(34, 52))\n",
    "print(add_numbers_optional(12))"
   ]
  },
  {
   "cell_type": "markdown",
   "id": "a9fe552d",
   "metadata": {},
   "source": [
    "To prevent ambiguity about the correspondence between parameters and arguments, it's good to use parameter names when calling a function, like this:"
   ]
  },
  {
   "cell_type": "code",
   "execution_count": null,
   "id": "b8cd1b89",
   "metadata": {},
   "outputs": [],
   "source": [
    "print(add_numbers_optional(number_a = 34, number_b = 52))"
   ]
  },
  {
   "cell_type": "markdown",
   "id": "c6d7f240",
   "metadata": {},
   "source": [
    "It is important that if you provide default values for arguments, that this should be done for the last parameter, second-to-last, etc. The parameter list of your function cannot have a required argument after an optional one."
   ]
  },
  {
   "cell_type": "code",
   "execution_count": null,
   "id": "cb1b9b28",
   "metadata": {},
   "outputs": [],
   "source": [
    "def add_numbers_optional(number_a = 37, number_b):\n",
    "    return number_a + number_b\n",
    "\n",
    "print(add_numbers_optional(number_a = 34, number_b = 52))"
   ]
  },
  {
   "cell_type": "markdown",
   "id": "d2519168",
   "metadata": {},
   "source": [
    ":::{admonition} Exercise 4.3\n",
    ":class: tip\n",
    "A common operation in linear algebra is computing the dot product between two vectors. The dot product of two vectors $\\mathbf{a}=[a_1, a_2, \\ldots, a_n]$ and $\\mathbf{b}=[b_1, b_2, \\ldots, b_n]$ is defined as\n",
    "\n",
    "$$\\mathbf{a} \\cdot \\mathbf{b} = \\sum_{i=1}^n a_i b_i$$\n",
    "\n",
    "\n",
    "Write a function that takes two vectors $\\mathbf{a}$ and $\\mathbf{b}$ as lists as input and returns their dot product as a floating point number. The dot product can only be computed if the length of $\\mathbf{a}$ and $\\mathbf{b}$ is the same. Let your function check that this is the case, and if not, print a message for the user and return `-1`. Call your function `dot_product()` and use the code below to test it\n",
    "\n",
    "```python\n",
    "vector_a = [3, 5, 9]\n",
    "vector_b = [3.2, 6, -5]\n",
    "print(dot_product(vector_a, vector_b))\n",
    "\n",
    "vector_a = [3, 5, 9, 4]\n",
    "vector_b = [3.2, 6, -5]\n",
    "print(dot_product(vector_a, vector_b))\n",
    "```\n",
    ":::"
   ]
  },
  {
   "cell_type": "markdown",
   "id": "0f558e1f",
   "metadata": {},
   "source": [
    "## Scope\n",
    "Each variable in Python has a `scope`. This influences the way that variables are looked up in your code. So far, we have worked with global variables. These are variables that can be accessed anywhere in the code. Setting the value of the variable in a `for` or `while` loop or in an `if`-statement changes the value everywhere. When working with functions, we have to consider the scope of a variable. This means that if a variable is defined in a function, it cannot be accessed outside of that function. \n",
    "\n",
    "Take a look at the following example. We have defined a simple function `add_y` that adds some number to its input. The function works well and we can verify this with the first print statement. The number that is added is defined in a *local* variable `y`. This variable only exists within the function `add_y`. If we want to print the value at the *global* level with `print(y)` Python gives a `NameError`: it cannot find the variable `y` because it does not exist globally. "
   ]
  },
  {
   "cell_type": "code",
   "execution_count": null,
   "id": "e5826e89",
   "metadata": {},
   "outputs": [],
   "source": [
    "def add_y(x):\n",
    "    y = 8\n",
    "    return x + y\n",
    "    \n",
    "print(add_y(10))\n",
    "print(y)"
   ]
  },
  {
   "cell_type": "markdown",
   "id": "a6b40253",
   "metadata": {},
   "source": [
    "This also works the other way: if we define a global variable `y`, the function will ignore its value and just use the local variable `y` as long as it's defined. Here, we see that although our global variable `y` is 4 and remains 4, the value of `y` in the function is 5. "
   ]
  },
  {
   "cell_type": "code",
   "execution_count": null,
   "id": "84f3c5af",
   "metadata": {},
   "outputs": [],
   "source": [
    "y = 4\n",
    "\n",
    "def add_y(x):\n",
    "    y = 8\n",
    "    return x + y\n",
    "    \n",
    "print(add_y(10))\n",
    "print(y)"
   ]
  },
  {
   "cell_type": "markdown",
   "id": "53321258",
   "metadata": {},
   "source": [
    "However, if there is no *local* variable `y` in the function, the global variable `y` will be used instead, as below."
   ]
  },
  {
   "cell_type": "code",
   "execution_count": null,
   "id": "cdc28cac",
   "metadata": {},
   "outputs": [],
   "source": [
    "y = 4\n",
    "\n",
    "def add_y(x):\n",
    "    return x + y\n",
    "    \n",
    "print(add_y(10))\n",
    "print(y)"
   ]
  },
  {
   "cell_type": "markdown",
   "id": "e1f859c9",
   "metadata": {},
   "source": [
    "There is a particular priority system that Python uses to look up the value of a variable, the LEGB-rule. This stands for local, enclosed, global, built-in.\n",
    "1. Local: these are variables that are defined only in a function.\n",
    "2. Enclosed: an (inner) function can be defined inside another (outer) function. The inner function is able to access the variables of the outer function, but not the other way around.\n",
    "3. Global: global variables at the level of your script.\n",
    "4. Some variable names are `built-in` and are always accessible from everywhere. These are the keywords that you have seen before, i.e.:\n",
    "\n",
    "![keywords](https://images.datacamp.com/image/upload/f_auto,q_auto:best/v1588956604/keywords_c8hxf4.png)\n",
    "\n",
    "If the interpreter looks for the value of a variable, it does so bottom-up, starting at the local level. The figures below nicely visualize this process. Here, `x` is defined within the inner function, so that is the value that is used at that point. If `x` was not defined in the inner function, then `x` in the outer function would be used. If that variable had not been defined, a global variable `x` would be used. And if that didn't work, the interpreter would look for a built-in variable `x` (which does not exist). \n",
    "\n",
    "![scope](https://images.datacamp.com/image/upload/f_auto,q_auto:best/v1588956604/code_dmeddc.png)\n",
    "![morescope](https://images.datacamp.com/image/upload/f_auto,q_auto:best/v1588956604/Scope_fbrzcw.png)\n"
   ]
  },
  {
   "cell_type": "markdown",
   "id": "9a4426c5",
   "metadata": {},
   "source": [
    "## Recursive functions\n",
    "We can call functions from anywhere in a script, as long as it has been defined. Moreover, in Python (and in many other languages) there is no reason why a function cannot be called from within itself. This is called a *recursive* function. Recursion is a concept that can be difficult to understand. The core idea is that you repeatedly call the same function from within itself. This means that the operations that you're applying should be very similar each time the function is called. A well-known example is the factorial $n!=n \\times n-1 \\times n-2 \\times \\cdots \\times 2 \\times 1$. We can implement this in a recursive function as"
   ]
  },
  {
   "cell_type": "code",
   "execution_count": null,
   "id": "0cbd20bc",
   "metadata": {},
   "outputs": [],
   "source": [
    "def factorial(n):                   # 1\n",
    "    if n > 1:                       # 2\n",
    "        return n * factorial(n-1)   # 3\n",
    "    else:                           # 4\n",
    "        return 1                    # 5"
   ]
  },
  {
   "cell_type": "code",
   "execution_count": null,
   "id": "7fe844f3",
   "metadata": {},
   "outputs": [],
   "source": [
    "factorial(3)"
   ]
  },
  {
   "cell_type": "markdown",
   "id": "a9b25116",
   "metadata": {},
   "source": [
    ":::{admonition} Exercise 4.4\n",
    ":class: tip\n",
    "In the `factorial()` function above, we have added line numbers in comments. Look at the code and see if you can figure out in which order the lines are executed if you call `factorial(3)`. \n",
    ":::"
   ]
  },
  {
   "cell_type": "markdown",
   "id": "f7accf7e",
   "metadata": {},
   "source": [
    "To write a proper recursive function, you need an `if` and `else` expression, where each one corresponds to one of the two scenarions:\n",
    "1. A 'base' condition. This is the point at which the recursion stops and moves back 'up'.\n",
    "2. A change that is applied so that your process comes closer to reaching the base condition.\n",
    "\n",
    "In the example above, the base condition is $n=1$, and the change that is applied is $n-1$. If there is no base condition or no change, your function will just run indefinitely, like a `while` loop without a stopping condition. "
   ]
  },
  {
   "cell_type": "markdown",
   "id": "d97850dd",
   "metadata": {},
   "source": [
    ":::::{tab-set}\n",
    "\n",
    "::::{tab-item} English\n",
    "\n",
    ":::{admonition} Exercise 4.5\n",
    ":class: tip\n",
    "Write a function `sum_recursion` to calculate the sum of a list of numbers using recursion.  \n",
    "**Hint**: In your base condition, there is only one item left in the list.\n",
    "\n",
    "Test your function using the following code.\n",
    "\n",
    "```python\n",
    "def sum_recursion(numbers):\n",
    "    # Your function body\n",
    "    \n",
    "numbers_list = [2, 3, 1, 6, 7, 8, 4]\n",
    "summed_list = sum_recursion(numbers_list)\n",
    "print('The sum of {} is {}'.format(numbers_list, summed_list))\n",
    ":::\n",
    "\n",
    "::::\n",
    "\n",
    "::::{tab-item} Nederlands\n",
    "\n",
    ":::{admonition} Opdracht 4.5\n",
    ":class: tip\n",
    "Schrijf een functie `sum_recursion` die met behulp van recursie (zoals in de `factorial` functie gebruikt wordt) de som van een `list` met getallen bepaalt. Dus, stel dat we een lijst getallen `[2, 3, 1, 6, 7, 8, 4]` hebben, dan moet de functie 31 als antwoord teruggegeven.\n",
    "\n",
    "Zorg ervoor dat de functie een `if` en een `else` statement bevat. Hier staat een opzetje van de functie en code om je functie te testen.\n",
    "\n",
    "```python\n",
    "def sum_recursion(numbers):\n",
    "    if len(numbers) == 1:\n",
    "        return numbers[0]\n",
    "    else: \n",
    "        # Your code\n",
    "    \n",
    "numbers_list = [2, 3, 1, 6, 7, 8, 4]\n",
    "summed_list = sum_recursion(numbers_list)\n",
    "print('The sum of {} is {}'.format(numbers_list, summed_list))\n",
    ":::\n",
    "\n",
    "::::\n",
    "\n",
    ":::::"
   ]
  },
  {
   "cell_type": "markdown",
   "id": "9eda17b9",
   "metadata": {},
   "source": [
    "## Built-in functions\n",
    "You don't have to define each function yourself: Python has a number of built-in functions that are available in any Python distribution. Useful functions include the `len`, `print` and `input` functions that you have already used. In addition to the functions that you can write yourself, Python has a number of *built-in* functions. These are functions that are always available if you program in Python. Examples are `print()`. A complete list of built-in functions is available [here](https://docs.python.org/3/library/functions.html). Take a look, you'll likely recognize some of them. We have previously used the `round()` and `range()` functions, and it's clear what - for example - the `abs()` does. Likewise, you have used the `type()` function to find out what the type of a variable is."
   ]
  },
  {
   "cell_type": "markdown",
   "id": "419713e6",
   "metadata": {},
   "source": [
    ":::::{tab-set}\n",
    "\n",
    "::::{tab-item} English\n",
    "\n",
    ":::{admonition} Exercise 4.6\n",
    ":class: tip\n",
    "There are many cases in programming where we need to sort something, usually in ascending order (low to high), sometimes in descending order (high to low). There are also many different sorting algorithms, some faster than others, some more complex. The animation below visualizes eight popular sorting algorithms. The length of the bars indicated their value, and as you can see, each algorithm tries to sort the values from low to high (in ascending order).\n",
    "\n",
    "![sorting](https://surfdrive.surf.nl/files/index.php/s/hjPCX75AhZWBMCo/download)\n",
    "\n",
    "In this exercise, you will implement *bubble sort*. Bubble sort is not the fastest algorithm (as you can see in the animation), but it is (relatively) easy to understand. Let's say that we have a list of numbers that we want to sort. The animation below visualizes bubble sort for a short list.\n",
    "\n",
    "![bubblesort](https://upload.wikimedia.org/wikipedia/commons/c/c8/Bubble-sort-example-300px.gif)\n",
    "\n",
    "\n",
    "Bubble sort does the following:\n",
    "1. Check if the first element in the list is greater than the next element in the list.\n",
    "2. If it is greater, swap the two elements. Otherwise, repeat step 1 for the next element in the list.\n",
    "3. Repeat steps 1 and 2 until you reach the end of the list. \n",
    "4. Check if all elements are sorted:\n",
    "  - If not, repeat the process in step 1 to 3. However, you can now ignore the last element because you know it has the highest value and is in the right place. The next iteration you can ignore the last two elements, etc.\n",
    "  - If yes, the final output is a sorted array. \n",
    "\n",
    "\n",
    "Your task in this exercise is to implement a bubble sort function. Use the provided code below and fill in the missing parts.  \n",
    "**Hint** Use a `while` loop to check whether the list is sorted. You can use the provided `check_sorted` function.\n",
    "\n",
    "```python\n",
    "import numpy as np\n",
    "\n",
    "def check_sorted(numbers):\n",
    "    for i in range(len(numbers)-1):\n",
    "        if numbers[i] >= numbers[i+1]:\n",
    "            return False\n",
    "    return True\n",
    "\n",
    "def bubble_sort(numbers):\n",
    "    # Your code goes here\n",
    "        \n",
    "\n",
    "\n",
    "numbers = list(np.random.permutation(100))\n",
    "print(numbers)\n",
    "print('The list of numbers {} sorted'.format('is' if check_sorted(numbers) else 'is not'))\n",
    "sorted_numbers = bubble_sort(numbers)\n",
    "print(sorted_numbers)\n",
    "print('The list of numbers {} sorted'.format('is' if check_sorted(sorted_numbers) else 'is not'))\n",
    "```\n",
    ":::\n",
    "\n",
    "::::\n",
    "\n",
    "::::{tab-item} Nederlands\n",
    "\n",
    ":::{admonition} Opdracht 4.6\n",
    ":class: tip\n",
    "Er bestaan veel verschillende manieren om een lijst te segmenteren. De animatie hieronder laat een paar van die algoritmes zien. Zoals je kunt zien, zijn sommige algoritmes sneller dan andere algoritmes.\n",
    "\n",
    "![sorting](https://surfdrive.surf.nl/files/index.php/s/hjPCX75AhZWBMCo/download)\n",
    "\n",
    "In deze opdracht ga je zelf een sorteeralgoritme implementeren. Het algoritme dat je gaat implementeren is *bubble sort*. Bubble sort is niet zo snel, maar wel eenvoudig om te begrijpen. De animate hieronder visualiseer het principe van bubble sort.\n",
    "\n",
    "![bubblesort](https://upload.wikimedia.org/wikipedia/commons/c/c8/Bubble-sort-example-300px.gif)\n",
    "\n",
    "Bubble sort werkt als volgt voor een lijst getallen die ik oplopende volgorde wordt gesorteerd:\n",
    "1. Loop door de gehele lijst getallen heen. Als er twee buurelementen zijn in de lijst die niet op de goede volgorde staan (dus de eerste is hoger dan de tweede), draai je die om. Als je op deze manier één keer door de hele lijst bent gestapt weet je dat de hoogste waarde zich in ieder geval geheel op het einde bevindt.\n",
    "2. Controleer of de lijst goed gesorteerd is. Als dat het geval is geef je de rij terug als oplossing.\n",
    "3. Als de rij niet gesorteerd is loop je nog een keer door de hele rij heen, maar negeer je het laatste element: je weet immmers dat dat de hoogste waarde is.\n",
    "4. Dit process herhaal je tot de hele lijst goed gesorteerd is. Telkens negeer je een extra element aan het einde van de lijst, want na $n$ stappen weet je dat de $n$ elementen op het einde van de lijst wel goed gesorteerd zijn.\n",
    "\n",
    "Het doel van deze opdracht is een eigen implementatie te maken. In onderstaande code moet je de missende regels toevoegen. We raden aan om een `while` loop te gebruiken om telkens te checken of de rij gesorteerd is. Om te kijken of de rij gesorteerd is, kun je de `check_sorted` functie gebruiken.\n",
    "\n",
    "```python\n",
    "import numpy as np\n",
    "\n",
    "def check_sorted(numbers):\n",
    "    for i in range(len(numbers)-1):\n",
    "        if numbers[i] >= numbers[i+1]:\n",
    "            return False\n",
    "    return True\n",
    "\n",
    "def bubble_sort(numbers):\n",
    "    # Your code goes here\n",
    "        \n",
    "\n",
    "\n",
    "numbers = list(np.random.permutation(100))\n",
    "print(numbers)\n",
    "print('The list of numbers {} sorted'.format('is' if check_sorted(numbers) else 'is not'))\n",
    "sorted_numbers = bubble_sort(numbers)\n",
    "print(sorted_numbers)\n",
    "print('The list of numbers {} sorted'.format('is' if check_sorted(sorted_numbers) else 'is not'))\n",
    "```\n",
    ":::\n",
    "\n",
    "::::\n",
    "\n",
    ":::::"
   ]
  },
  {
   "cell_type": "markdown",
   "id": "6fe54268",
   "metadata": {},
   "source": [
    ":::::{tab-set}\n",
    "\n",
    "::::{tab-item} English\n",
    "\n",
    ":::{admonition} Exercise 4.7\n",
    ":class: tip\n",
    "Write a Python function that takes a number $n$ as a parameter and returns **all prime numbers up to $n$** as a list. Tip: you can consider [this algorithm](https://en.wikipedia.org/wiki/Sieve_of_Eratosthenes) to make your function efficient. Name your function `all_primes()` and use the following code to test it\n",
    "\n",
    "```python\n",
    "def all_primes(n):\n",
    "    # The body of your function goes here\n",
    "\n",
    "n = # \n",
    "primes = all_primes(n)\n",
    "print(primes)\n",
    "```\n",
    ":::\n",
    "\n",
    "::::\n",
    "\n",
    "::::{tab-item} Nederlands\n",
    "\n",
    ":::{admonition} Opdracht 4.7\n",
    ":class: tip\n",
    "Schrijf een Python functie die alle priemgetallen tot het getal $n$ in een lijst terug geeft (returnt). Dus bijvoorbeeld, voor `n=8` moet de functie `[2, 3, 5, 7]` teruggeven. Je kunt hiervoor de [*Zeef van Eratosthenes*](https://nl.wikipedia.org/wiki/Zeef_van_Eratosthenes) gebruiken. Dit is een bekend algoritme waarbij je telkens het volgende doet\n",
    "\n",
    "- Maak een gesorteerde lijst van alle getallen van 2 tot $n$.\n",
    "- Kies het kleinste getal uit de lijst.\n",
    "- Streep alle veelvouden van het gekozen getal door (maar niet het getal zelf).\n",
    "- Kies het volgende getal uit de lijst en ga verder met stap 3.\n",
    "\n",
    "![plaatjezeef](https://upload.wikimedia.org/wikipedia/commons/b/b9/Sieve_of_Eratosthenes_animation.gif).\n",
    "\n",
    "Noem je functie `all_primes()` en gebruik de code hieronder om je functie te testen.\n",
    "\n",
    "```python\n",
    "def all_primes(n):\n",
    "    # The body of your function goes here\n",
    "\n",
    "n = # \n",
    "primes = all_primes(n)\n",
    "print(primes)\n",
    "```\n",
    ":::\n",
    "\n",
    "\n",
    "::::\n",
    "\n",
    ":::::"
   ]
  },
  {
   "cell_type": "code",
   "execution_count": null,
   "id": "b3813277",
   "metadata": {},
   "outputs": [],
   "source": []
  }
 ],
 "metadata": {
  "jupytext": {
   "cell_metadata_filter": "-all",
   "main_language": "python",
   "notebook_metadata_filter": "-all"
  }
 },
 "nbformat": 4,
 "nbformat_minor": 5
}