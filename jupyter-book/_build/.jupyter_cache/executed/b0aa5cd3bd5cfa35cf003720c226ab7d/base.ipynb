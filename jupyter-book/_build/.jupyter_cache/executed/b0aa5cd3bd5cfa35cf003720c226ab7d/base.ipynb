{
 "cells": [
  {
   "cell_type": "code",
   "execution_count": 1,
   "id": "11194b8f",
   "metadata": {},
   "outputs": [
    {
     "ename": "SyntaxError",
     "evalue": "invalid syntax (2457528420.py, line 6)",
     "output_type": "error",
     "traceback": [
      "\u001b[0;36m  File \u001b[0;32m\"/var/folders/07/x0gf6dj176dfjvrn357t5p6h0000gn/T/ipykernel_51446/2457528420.py\"\u001b[0;36m, line \u001b[0;32m6\u001b[0m\n\u001b[0;31m    mat_contents =\u001b[0m\n\u001b[0m                   ^\u001b[0m\n\u001b[0;31mSyntaxError\u001b[0m\u001b[0;31m:\u001b[0m invalid syntax\n"
     ]
    }
   ],
   "source": [
    "import scipy.io\n",
    "import numpy as np\n",
    "from scipy.io import loadmat\n",
    "\n",
    "# Laden van het bestand glucosedata.mat met functie loadmat\n",
    "mat_contents = \n",
    "\n",
    "# Laad de variabele glucodat\n",
    "glucodat = "
   ]
  },
  {
   "cell_type": "code",
   "execution_count": 2,
   "id": "04e18b09",
   "metadata": {},
   "outputs": [
    {
     "ename": "FileNotFoundError",
     "evalue": "[Errno 2] No such file or directory: 'C:/Users/veerl/Documents/Inleiding Programmeren/tm-introduction-programming/data/glucosedata.mat'",
     "output_type": "error",
     "traceback": [
      "\u001b[0;31m---------------------------------------------------------------------------\u001b[0m",
      "\u001b[0;31mFileNotFoundError\u001b[0m                         Traceback (most recent call last)",
      "\u001b[0;32m~/opt/anaconda3/envs/notebook_collaboration/lib/python3.7/site-packages/scipy/io/matlab/mio.py\u001b[0m in \u001b[0;36m_open_file\u001b[0;34m(file_like, appendmat, mode)\u001b[0m\n\u001b[1;32m     38\u001b[0m     \u001b[0;32mtry\u001b[0m\u001b[0;34m:\u001b[0m\u001b[0;34m\u001b[0m\u001b[0;34m\u001b[0m\u001b[0m\n\u001b[0;32m---> 39\u001b[0;31m         \u001b[0;32mreturn\u001b[0m \u001b[0mopen\u001b[0m\u001b[0;34m(\u001b[0m\u001b[0mfile_like\u001b[0m\u001b[0;34m,\u001b[0m \u001b[0mmode\u001b[0m\u001b[0;34m)\u001b[0m\u001b[0;34m,\u001b[0m \u001b[0;32mTrue\u001b[0m\u001b[0;34m\u001b[0m\u001b[0;34m\u001b[0m\u001b[0m\n\u001b[0m\u001b[1;32m     40\u001b[0m     \u001b[0;32mexcept\u001b[0m \u001b[0mIOError\u001b[0m \u001b[0;32mas\u001b[0m \u001b[0me\u001b[0m\u001b[0;34m:\u001b[0m\u001b[0;34m\u001b[0m\u001b[0;34m\u001b[0m\u001b[0m\n",
      "\u001b[0;31mFileNotFoundError\u001b[0m: [Errno 2] No such file or directory: 'C:/Users/veerl/Documents/Inleiding Programmeren/tm-introduction-programming/data/glucosedata.mat'",
      "\nDuring handling of the above exception, another exception occurred:\n",
      "\u001b[0;31mFileNotFoundError\u001b[0m                         Traceback (most recent call last)",
      "\u001b[0;32m/var/folders/07/x0gf6dj176dfjvrn357t5p6h0000gn/T/ipykernel_51446/1909997843.py\u001b[0m in \u001b[0;36m<module>\u001b[0;34m\u001b[0m\n\u001b[1;32m      4\u001b[0m \u001b[0;34m\u001b[0m\u001b[0m\n\u001b[1;32m      5\u001b[0m \u001b[0;31m# Laden van het bestand glucosedata.mat met functie loadmat\u001b[0m\u001b[0;34m\u001b[0m\u001b[0;34m\u001b[0m\u001b[0;34m\u001b[0m\u001b[0m\n\u001b[0;32m----> 6\u001b[0;31m \u001b[0mmat_contents\u001b[0m \u001b[0;34m=\u001b[0m \u001b[0mloadmat\u001b[0m\u001b[0;34m(\u001b[0m\u001b[0;34m'C:/Users/veerl/Documents/Inleiding Programmeren/tm-introduction-programming/data/glucosedata.mat'\u001b[0m\u001b[0;34m)\u001b[0m\u001b[0;34m\u001b[0m\u001b[0;34m\u001b[0m\u001b[0m\n\u001b[0m\u001b[1;32m      7\u001b[0m \u001b[0;34m\u001b[0m\u001b[0m\n\u001b[1;32m      8\u001b[0m \u001b[0;31m# De variabele glucodat\u001b[0m\u001b[0;34m\u001b[0m\u001b[0;34m\u001b[0m\u001b[0;34m\u001b[0m\u001b[0m\n",
      "\u001b[0;32m~/opt/anaconda3/envs/notebook_collaboration/lib/python3.7/site-packages/scipy/io/matlab/mio.py\u001b[0m in \u001b[0;36mloadmat\u001b[0;34m(file_name, mdict, appendmat, **kwargs)\u001b[0m\n\u001b[1;32m    222\u001b[0m     \"\"\"\n\u001b[1;32m    223\u001b[0m     \u001b[0mvariable_names\u001b[0m \u001b[0;34m=\u001b[0m \u001b[0mkwargs\u001b[0m\u001b[0;34m.\u001b[0m\u001b[0mpop\u001b[0m\u001b[0;34m(\u001b[0m\u001b[0;34m'variable_names'\u001b[0m\u001b[0;34m,\u001b[0m \u001b[0;32mNone\u001b[0m\u001b[0;34m)\u001b[0m\u001b[0;34m\u001b[0m\u001b[0;34m\u001b[0m\u001b[0m\n\u001b[0;32m--> 224\u001b[0;31m     \u001b[0;32mwith\u001b[0m \u001b[0m_open_file_context\u001b[0m\u001b[0;34m(\u001b[0m\u001b[0mfile_name\u001b[0m\u001b[0;34m,\u001b[0m \u001b[0mappendmat\u001b[0m\u001b[0;34m)\u001b[0m \u001b[0;32mas\u001b[0m \u001b[0mf\u001b[0m\u001b[0;34m:\u001b[0m\u001b[0;34m\u001b[0m\u001b[0;34m\u001b[0m\u001b[0m\n\u001b[0m\u001b[1;32m    225\u001b[0m         \u001b[0mMR\u001b[0m\u001b[0;34m,\u001b[0m \u001b[0m_\u001b[0m \u001b[0;34m=\u001b[0m \u001b[0mmat_reader_factory\u001b[0m\u001b[0;34m(\u001b[0m\u001b[0mf\u001b[0m\u001b[0;34m,\u001b[0m \u001b[0;34m**\u001b[0m\u001b[0mkwargs\u001b[0m\u001b[0;34m)\u001b[0m\u001b[0;34m\u001b[0m\u001b[0;34m\u001b[0m\u001b[0m\n\u001b[1;32m    226\u001b[0m         \u001b[0mmatfile_dict\u001b[0m \u001b[0;34m=\u001b[0m \u001b[0mMR\u001b[0m\u001b[0;34m.\u001b[0m\u001b[0mget_variables\u001b[0m\u001b[0;34m(\u001b[0m\u001b[0mvariable_names\u001b[0m\u001b[0;34m)\u001b[0m\u001b[0;34m\u001b[0m\u001b[0;34m\u001b[0m\u001b[0m\n",
      "\u001b[0;32m~/opt/anaconda3/envs/notebook_collaboration/lib/python3.7/contextlib.py\u001b[0m in \u001b[0;36m__enter__\u001b[0;34m(self)\u001b[0m\n\u001b[1;32m    110\u001b[0m         \u001b[0;32mdel\u001b[0m \u001b[0mself\u001b[0m\u001b[0;34m.\u001b[0m\u001b[0margs\u001b[0m\u001b[0;34m,\u001b[0m \u001b[0mself\u001b[0m\u001b[0;34m.\u001b[0m\u001b[0mkwds\u001b[0m\u001b[0;34m,\u001b[0m \u001b[0mself\u001b[0m\u001b[0;34m.\u001b[0m\u001b[0mfunc\u001b[0m\u001b[0;34m\u001b[0m\u001b[0;34m\u001b[0m\u001b[0m\n\u001b[1;32m    111\u001b[0m         \u001b[0;32mtry\u001b[0m\u001b[0;34m:\u001b[0m\u001b[0;34m\u001b[0m\u001b[0;34m\u001b[0m\u001b[0m\n\u001b[0;32m--> 112\u001b[0;31m             \u001b[0;32mreturn\u001b[0m \u001b[0mnext\u001b[0m\u001b[0;34m(\u001b[0m\u001b[0mself\u001b[0m\u001b[0;34m.\u001b[0m\u001b[0mgen\u001b[0m\u001b[0;34m)\u001b[0m\u001b[0;34m\u001b[0m\u001b[0;34m\u001b[0m\u001b[0m\n\u001b[0m\u001b[1;32m    113\u001b[0m         \u001b[0;32mexcept\u001b[0m \u001b[0mStopIteration\u001b[0m\u001b[0;34m:\u001b[0m\u001b[0;34m\u001b[0m\u001b[0;34m\u001b[0m\u001b[0m\n\u001b[1;32m    114\u001b[0m             \u001b[0;32mraise\u001b[0m \u001b[0mRuntimeError\u001b[0m\u001b[0;34m(\u001b[0m\u001b[0;34m\"generator didn't yield\"\u001b[0m\u001b[0;34m)\u001b[0m \u001b[0;32mfrom\u001b[0m \u001b[0;32mNone\u001b[0m\u001b[0;34m\u001b[0m\u001b[0;34m\u001b[0m\u001b[0m\n",
      "\u001b[0;32m~/opt/anaconda3/envs/notebook_collaboration/lib/python3.7/site-packages/scipy/io/matlab/mio.py\u001b[0m in \u001b[0;36m_open_file_context\u001b[0;34m(file_like, appendmat, mode)\u001b[0m\n\u001b[1;32m     15\u001b[0m \u001b[0;34m@\u001b[0m\u001b[0mcontextmanager\u001b[0m\u001b[0;34m\u001b[0m\u001b[0;34m\u001b[0m\u001b[0m\n\u001b[1;32m     16\u001b[0m \u001b[0;32mdef\u001b[0m \u001b[0m_open_file_context\u001b[0m\u001b[0;34m(\u001b[0m\u001b[0mfile_like\u001b[0m\u001b[0;34m,\u001b[0m \u001b[0mappendmat\u001b[0m\u001b[0;34m,\u001b[0m \u001b[0mmode\u001b[0m\u001b[0;34m=\u001b[0m\u001b[0;34m'rb'\u001b[0m\u001b[0;34m)\u001b[0m\u001b[0;34m:\u001b[0m\u001b[0;34m\u001b[0m\u001b[0;34m\u001b[0m\u001b[0m\n\u001b[0;32m---> 17\u001b[0;31m     \u001b[0mf\u001b[0m\u001b[0;34m,\u001b[0m \u001b[0mopened\u001b[0m \u001b[0;34m=\u001b[0m \u001b[0m_open_file\u001b[0m\u001b[0;34m(\u001b[0m\u001b[0mfile_like\u001b[0m\u001b[0;34m,\u001b[0m \u001b[0mappendmat\u001b[0m\u001b[0;34m,\u001b[0m \u001b[0mmode\u001b[0m\u001b[0;34m)\u001b[0m\u001b[0;34m\u001b[0m\u001b[0;34m\u001b[0m\u001b[0m\n\u001b[0m\u001b[1;32m     18\u001b[0m     \u001b[0;32mtry\u001b[0m\u001b[0;34m:\u001b[0m\u001b[0;34m\u001b[0m\u001b[0;34m\u001b[0m\u001b[0m\n\u001b[1;32m     19\u001b[0m         \u001b[0;32myield\u001b[0m \u001b[0mf\u001b[0m\u001b[0;34m\u001b[0m\u001b[0;34m\u001b[0m\u001b[0m\n",
      "\u001b[0;32m~/opt/anaconda3/envs/notebook_collaboration/lib/python3.7/site-packages/scipy/io/matlab/mio.py\u001b[0m in \u001b[0;36m_open_file\u001b[0;34m(file_like, appendmat, mode)\u001b[0m\n\u001b[1;32m     43\u001b[0m             \u001b[0;32mif\u001b[0m \u001b[0mappendmat\u001b[0m \u001b[0;32mand\u001b[0m \u001b[0;32mnot\u001b[0m \u001b[0mfile_like\u001b[0m\u001b[0;34m.\u001b[0m\u001b[0mendswith\u001b[0m\u001b[0;34m(\u001b[0m\u001b[0;34m'.mat'\u001b[0m\u001b[0;34m)\u001b[0m\u001b[0;34m:\u001b[0m\u001b[0;34m\u001b[0m\u001b[0;34m\u001b[0m\u001b[0m\n\u001b[1;32m     44\u001b[0m                 \u001b[0mfile_like\u001b[0m \u001b[0;34m+=\u001b[0m \u001b[0;34m'.mat'\u001b[0m\u001b[0;34m\u001b[0m\u001b[0;34m\u001b[0m\u001b[0m\n\u001b[0;32m---> 45\u001b[0;31m             \u001b[0;32mreturn\u001b[0m \u001b[0mopen\u001b[0m\u001b[0;34m(\u001b[0m\u001b[0mfile_like\u001b[0m\u001b[0;34m,\u001b[0m \u001b[0mmode\u001b[0m\u001b[0;34m)\u001b[0m\u001b[0;34m,\u001b[0m \u001b[0;32mTrue\u001b[0m\u001b[0;34m\u001b[0m\u001b[0;34m\u001b[0m\u001b[0m\n\u001b[0m\u001b[1;32m     46\u001b[0m         \u001b[0;32melse\u001b[0m\u001b[0;34m:\u001b[0m\u001b[0;34m\u001b[0m\u001b[0;34m\u001b[0m\u001b[0m\n\u001b[1;32m     47\u001b[0m             raise IOError(\n",
      "\u001b[0;31mFileNotFoundError\u001b[0m: [Errno 2] No such file or directory: 'C:/Users/veerl/Documents/Inleiding Programmeren/tm-introduction-programming/data/glucosedata.mat'"
     ]
    }
   ],
   "source": [
    "import scipy.io\n",
    "import numpy as np\n",
    "from scipy.io import loadmat\n",
    "\n",
    "# Laden van het bestand glucosedata.mat met functie loadmat\n",
    "mat_contents = loadmat('C:/Users/veerl/Documents/Inleiding Programmeren/tm-introduction-programming/data/glucosedata.mat')\n",
    "\n",
    "# De variabele glucodat \n",
    "glucodat = mat_contents['glucodat']"
   ]
  },
  {
   "cell_type": "code",
   "execution_count": 3,
   "id": "20c9a12c",
   "metadata": {},
   "outputs": [],
   "source": [
    "# Your code..."
   ]
  },
  {
   "cell_type": "code",
   "execution_count": 4,
   "id": "4d0bb09f",
   "metadata": {},
   "outputs": [
    {
     "ename": "NameError",
     "evalue": "name 'glucodat' is not defined",
     "output_type": "error",
     "traceback": [
      "\u001b[0;31m---------------------------------------------------------------------------\u001b[0m",
      "\u001b[0;31mNameError\u001b[0m                                 Traceback (most recent call last)",
      "\u001b[0;32m/var/folders/07/x0gf6dj176dfjvrn357t5p6h0000gn/T/ipykernel_51446/286901398.py\u001b[0m in \u001b[0;36m<module>\u001b[0;34m\u001b[0m\n\u001b[1;32m      1\u001b[0m \u001b[0;31m# Type van de variabele glucodat\u001b[0m\u001b[0;34m\u001b[0m\u001b[0;34m\u001b[0m\u001b[0;34m\u001b[0m\u001b[0m\n\u001b[0;32m----> 2\u001b[0;31m \u001b[0mprint\u001b[0m\u001b[0;34m(\u001b[0m\u001b[0mtype\u001b[0m\u001b[0;34m(\u001b[0m\u001b[0mglucodat\u001b[0m\u001b[0;34m)\u001b[0m\u001b[0;34m)\u001b[0m\u001b[0;34m\u001b[0m\u001b[0;34m\u001b[0m\u001b[0m\n\u001b[0m\u001b[1;32m      3\u001b[0m \u001b[0;34m\u001b[0m\u001b[0m\n\u001b[1;32m      4\u001b[0m \u001b[0;31m# Displaying the fields of glucodat\u001b[0m\u001b[0;34m\u001b[0m\u001b[0;34m\u001b[0m\u001b[0;34m\u001b[0m\u001b[0m\n\u001b[1;32m      5\u001b[0m \u001b[0mIDs\u001b[0m \u001b[0;34m=\u001b[0m \u001b[0mglucodat\u001b[0m\u001b[0;34m.\u001b[0m\u001b[0mdtype\u001b[0m\u001b[0;34m.\u001b[0m\u001b[0mnames\u001b[0m\u001b[0;34m\u001b[0m\u001b[0;34m\u001b[0m\u001b[0m\n",
      "\u001b[0;31mNameError\u001b[0m: name 'glucodat' is not defined"
     ]
    }
   ],
   "source": [
    "# Type van de variabele glucodat\n",
    "print(type(glucodat)) \n",
    "\n",
    "# Displaying the fields of glucodat\n",
    "IDs = glucodat.dtype.names\n",
    "\n",
    "# Het aantal patiënten is gelijk aan het aantal velden (fields) in glucodat\n",
    "aantal_patienten = len(IDs)\n",
    "print(f\"Het totaal aantal patiënten is: {aantal_patienten}\") # In totaal 131 patiënten"
   ]
  },
  {
   "cell_type": "code",
   "execution_count": 5,
   "id": "108d0474",
   "metadata": {},
   "outputs": [],
   "source": [
    "# Your code..."
   ]
  },
  {
   "cell_type": "code",
   "execution_count": 6,
   "id": "86b3a256",
   "metadata": {},
   "outputs": [
    {
     "ename": "NameError",
     "evalue": "name 'IDs' is not defined",
     "output_type": "error",
     "traceback": [
      "\u001b[0;31m---------------------------------------------------------------------------\u001b[0m",
      "\u001b[0;31mNameError\u001b[0m                                 Traceback (most recent call last)",
      "\u001b[0;32m/var/folders/07/x0gf6dj176dfjvrn357t5p6h0000gn/T/ipykernel_51446/1232127747.py\u001b[0m in \u001b[0;36m<module>\u001b[0;34m\u001b[0m\n\u001b[1;32m      8\u001b[0m \u001b[0;34m\u001b[0m\u001b[0m\n\u001b[1;32m      9\u001b[0m \u001b[0;31m# Kies drie willekeurige patiënten\u001b[0m\u001b[0;34m\u001b[0m\u001b[0;34m\u001b[0m\u001b[0;34m\u001b[0m\u001b[0m\n\u001b[0;32m---> 10\u001b[0;31m \u001b[0mselected_patients\u001b[0m\u001b[0;34m=\u001b[0m\u001b[0mrandom\u001b[0m\u001b[0;34m.\u001b[0m\u001b[0msample\u001b[0m\u001b[0;34m(\u001b[0m\u001b[0mIDs\u001b[0m\u001b[0;34m,\u001b[0m\u001b[0;36m3\u001b[0m\u001b[0;34m)\u001b[0m\u001b[0;34m\u001b[0m\u001b[0;34m\u001b[0m\u001b[0m\n\u001b[0m\u001b[1;32m     11\u001b[0m \u001b[0;34m\u001b[0m\u001b[0m\n\u001b[1;32m     12\u001b[0m \u001b[0;31m# Loop door de geselecteerde patiënten\u001b[0m\u001b[0;34m\u001b[0m\u001b[0;34m\u001b[0m\u001b[0;34m\u001b[0m\u001b[0m\n",
      "\u001b[0;31mNameError\u001b[0m: name 'IDs' is not defined"
     ]
    }
   ],
   "source": [
    "import matplotlib.pyplot as plt\n",
    "import numpy as np\n",
    "import random\n",
    "\n",
    "# Definieer de parameters voor de schatting van de gemiddelde bloedglucoseconcentratie\n",
    "a = 12.71  # mmol/mol\n",
    "b = 4.70587  # L/mol\n",
    "\n",
    "# Kies drie willekeurige patiënten\n",
    "selected_patients=random.sample(IDs,3)\n",
    "\n",
    "# Loop door de geselecteerde patiënten\n",
    "plt.figure(figsize=(15, 5 * len(selected_patients)))\n",
    "\n",
    "for i, patient_id in enumerate(selected_patients, start=1):\n",
    "    # Haal de CGM, BGM en HbA1c data op voor de huidige patiënt\n",
    "    CGM_time = glucodat[patient_id][0, 0]['CGM'][0, 0]['time'][0, 0]\n",
    "    CGM_data = glucodat[patient_id][0, 0]['CGM'][0, 0]['data'][0, 0]\n",
    "\n",
    "    BGM_time = glucodat[patient_id][0, 0]['BGM'][0, 0]['time'][0, 0]\n",
    "    BGM_data = glucodat[patient_id][0, 0]['BGM'][0, 0]['data'][0, 0]\n",
    "\n",
    "    HbA1c_time = glucodat[patient_id][0, 0]['HbA1c'][0, 0]['time'][0, 0]\n",
    "    HbA1c_data = glucodat[patient_id][0, 0]['HbA1c'][0, 0]['data'][0, 0]\n",
    "\n",
    "    # Plot alle waarden van de huidige patiënt in één subplot\n",
    "    plt.subplot(len(selected_patients), 1, i)\n",
    "\n",
    "    # Plot de CGM van de patiënt als functie van tijd\n",
    "    plt.plot(CGM_time, CGM_data, label='CGM')\n",
    "    \n",
    "    # Plot de BGM van de patiënt als functie van tijd (gebruik stem)\n",
    "    #plt.stem(bgm_time, bgm_data, label='BGM',linefmt ='pink',markerfmt ='D')\n",
    "    plt.plot(BGM_time, BGM_data, label='BGM')\n",
    "    \n",
    "    # Bereken de geschatte gemiddelde bloedglucoseconcentratie g\n",
    "    g_estimate = HbA1c_data - a / b\n",
    "\n",
    "    # Plot de geschatte gemiddelde bloedglucoseconcentratie\n",
    "    plt.plot(HbA1c_time[0], g_estimate[0], label='Gemiddelde glucoseconcentratie')\n",
    "\n",
    "    # Zet labels en titel\n",
    "    plt.title('Patient {}'.format(patient_id))\n",
    "    plt.xlabel('Tijd(dagen)')\n",
    "    plt.ylabel('Concentratie (mmol/L)')\n",
    "    plt.legend()\n",
    "\n",
    "plt.tight_layout()\n",
    "plt.show()\n",
    "\n",
    "\n",
    "\n"
   ]
  },
  {
   "cell_type": "code",
   "execution_count": 7,
   "id": "01d0613a",
   "metadata": {},
   "outputs": [],
   "source": [
    "# Your code..."
   ]
  },
  {
   "cell_type": "code",
   "execution_count": 8,
   "id": "5617e730",
   "metadata": {},
   "outputs": [
    {
     "ename": "NameError",
     "evalue": "name 'glucodat' is not defined",
     "output_type": "error",
     "traceback": [
      "\u001b[0;31m---------------------------------------------------------------------------\u001b[0m",
      "\u001b[0;31mNameError\u001b[0m                                 Traceback (most recent call last)",
      "\u001b[0;32m/var/folders/07/x0gf6dj176dfjvrn357t5p6h0000gn/T/ipykernel_51446/1308286635.py\u001b[0m in \u001b[0;36m<module>\u001b[0;34m\u001b[0m\n\u001b[1;32m     17\u001b[0m \u001b[0;31m# Selecteer 1 patiënt\u001b[0m\u001b[0;34m\u001b[0m\u001b[0;34m\u001b[0m\u001b[0;34m\u001b[0m\u001b[0m\n\u001b[1;32m     18\u001b[0m \u001b[0mselect_ID\u001b[0m\u001b[0;34m=\u001b[0m\u001b[0;34m'ID_293'\u001b[0m\u001b[0;34m\u001b[0m\u001b[0;34m\u001b[0m\u001b[0m\n\u001b[0;32m---> 19\u001b[0;31m \u001b[0mCGM_signaal\u001b[0m \u001b[0;34m=\u001b[0m \u001b[0mglucodat\u001b[0m\u001b[0;34m[\u001b[0m\u001b[0mselect_ID\u001b[0m\u001b[0;34m]\u001b[0m\u001b[0;34m[\u001b[0m\u001b[0;36m0\u001b[0m\u001b[0;34m,\u001b[0m \u001b[0;36m0\u001b[0m\u001b[0;34m]\u001b[0m\u001b[0;34m[\u001b[0m\u001b[0;34m'CGM'\u001b[0m\u001b[0;34m]\u001b[0m\u001b[0;34m[\u001b[0m\u001b[0;36m0\u001b[0m\u001b[0;34m,\u001b[0m \u001b[0;36m0\u001b[0m\u001b[0;34m]\u001b[0m\u001b[0;34m[\u001b[0m\u001b[0;34m'data'\u001b[0m\u001b[0;34m]\u001b[0m\u001b[0;34m[\u001b[0m\u001b[0;36m0\u001b[0m\u001b[0;34m,\u001b[0m \u001b[0;36m0\u001b[0m\u001b[0;34m]\u001b[0m\u001b[0;34m\u001b[0m\u001b[0;34m\u001b[0m\u001b[0m\n\u001b[0m\u001b[1;32m     20\u001b[0m \u001b[0;34m\u001b[0m\u001b[0m\n\u001b[1;32m     21\u001b[0m \u001b[0;31m# Roep de functie aan\u001b[0m\u001b[0;34m\u001b[0m\u001b[0;34m\u001b[0m\u001b[0;34m\u001b[0m\u001b[0m\n",
      "\u001b[0;31mNameError\u001b[0m: name 'glucodat' is not defined"
     ]
    }
   ],
   "source": [
    "def Gluc_param(CGM_signaal):\n",
    "    # Constants voor de eA1c berekening\n",
    "    a = 12.71\n",
    "    b = 4.70587\n",
    "\n",
    "    # Bereken eA1c\n",
    "    eA1c = a + b * CGM_signaal.mean()\n",
    "\n",
    "    # Bereken TAR, TIR, TBR percentages # KLOPT DIT OF MOET HET DELEN DOOR HET TOTAAL AANTAL SIGNALEN ZIJN\n",
    "    tar_percentage = (CGM_signaal > 10.0).mean() * 100\n",
    "    tir_percentage = ((CGM_signaal >= 3.9) & (CGM_signaal <= 10.0)).mean() * 100\n",
    "    tbr_percentage = (CGM_signaal < 3.9).mean() * 100\n",
    "\n",
    "    return eA1c, tar_percentage, tir_percentage, tbr_percentage\n",
    "\n",
    "# Voorbeeldgebruik:\n",
    "# Selecteer 1 patiënt\n",
    "select_ID='ID_293'\n",
    "CGM_signaal = glucodat[select_ID][0, 0]['CGM'][0, 0]['data'][0, 0]\n",
    "\n",
    "# Roep de functie aan\n",
    "eA1c, tar, tir, tbr = Gluc_param(CGM_signaal)\n",
    "\n",
    "# Toon de resultaten\n",
    "print(f\"eA1c: {eA1c} mmol/mol\")\n",
    "print(f\"TAR: {tar}%\")\n",
    "print(f\"TIR: {tir}%\")\n",
    "print(f\"TBR: {tbr}%\")"
   ]
  },
  {
   "cell_type": "code",
   "execution_count": 9,
   "id": "958984c4",
   "metadata": {},
   "outputs": [],
   "source": [
    "# Your code..."
   ]
  },
  {
   "cell_type": "code",
   "execution_count": 10,
   "id": "8bea88e0",
   "metadata": {},
   "outputs": [
    {
     "ename": "NameError",
     "evalue": "name 'IDs' is not defined",
     "output_type": "error",
     "traceback": [
      "\u001b[0;31m---------------------------------------------------------------------------\u001b[0m",
      "\u001b[0;31mNameError\u001b[0m                                 Traceback (most recent call last)",
      "\u001b[0;32m/var/folders/07/x0gf6dj176dfjvrn357t5p6h0000gn/T/ipykernel_51446/1040279718.py\u001b[0m in \u001b[0;36m<module>\u001b[0;34m\u001b[0m\n\u001b[1;32m      1\u001b[0m \u001b[0;31m# 1: Sla alle klinische parametrs op in één matrix\u001b[0m\u001b[0;34m\u001b[0m\u001b[0;34m\u001b[0m\u001b[0;34m\u001b[0m\u001b[0m\n\u001b[0;32m----> 2\u001b[0;31m \u001b[0mGluc_parameters\u001b[0m\u001b[0;34m=\u001b[0m\u001b[0mnp\u001b[0m\u001b[0;34m.\u001b[0m\u001b[0mzeros\u001b[0m\u001b[0;34m(\u001b[0m\u001b[0;34m(\u001b[0m\u001b[0;36m4\u001b[0m\u001b[0;34m,\u001b[0m\u001b[0mlen\u001b[0m\u001b[0;34m(\u001b[0m\u001b[0mIDs\u001b[0m\u001b[0;34m)\u001b[0m\u001b[0;34m)\u001b[0m\u001b[0;34m)\u001b[0m\u001b[0;34m\u001b[0m\u001b[0;34m\u001b[0m\u001b[0m\n\u001b[0m\u001b[1;32m      3\u001b[0m \u001b[0mpatient_groep\u001b[0m \u001b[0;34m=\u001b[0m \u001b[0mnp\u001b[0m\u001b[0;34m.\u001b[0m\u001b[0mzeros\u001b[0m\u001b[0;34m(\u001b[0m\u001b[0mlen\u001b[0m\u001b[0;34m(\u001b[0m\u001b[0mIDs\u001b[0m\u001b[0;34m)\u001b[0m\u001b[0;34m)\u001b[0m\u001b[0;34m\u001b[0m\u001b[0;34m\u001b[0m\u001b[0m\n\u001b[1;32m      4\u001b[0m \u001b[0;34m\u001b[0m\u001b[0m\n\u001b[1;32m      5\u001b[0m \u001b[0;32mfor\u001b[0m \u001b[0mi\u001b[0m\u001b[0;34m,\u001b[0m \u001b[0mpatient_id\u001b[0m \u001b[0;32min\u001b[0m \u001b[0menumerate\u001b[0m\u001b[0;34m(\u001b[0m\u001b[0mIDs\u001b[0m\u001b[0;34m)\u001b[0m\u001b[0;34m:\u001b[0m\u001b[0;34m\u001b[0m\u001b[0;34m\u001b[0m\u001b[0m\n",
      "\u001b[0;31mNameError\u001b[0m: name 'IDs' is not defined"
     ]
    }
   ],
   "source": [
    "# 1: Sla alle klinische parametrs op in één matrix\n",
    "Gluc_parameters=np.zeros((4,len(IDs)))\n",
    "patient_groep = np.zeros(len(IDs))\n",
    "\n",
    "for i, patient_id in enumerate(IDs):\n",
    "    # Hiermee kan je de data van de ... \n",
    "    CGM_signaal = glucodat[patient_id][0,0]['CGM'][0,0]['data'][0,0]\n",
    "    eA1c, tar, tir, tbr = Gluc_param(CGM_signaal)\n",
    "    # Sla de parameters op in de matrix\n",
    "    Gluc_parameters[:, i] = [eA1c, tar, tir, tbr]\n",
    "\n",
    "# 2: Maak een vector met verschillende nummers voor de verschillende groepen\n",
    "# Onderverdeel in patiëntgroepen op basis van eA1c\n",
    "patient_groepen = np.where(Gluc_parameters[0, :] <= 53, 0, np.where(Gluc_parameters[0, :] < 63, 2, 1)) # Let op dat \n",
    "#je de middelste groep niet definieërd maar wel op plek 1 in de matrix zet!!\n",
    "\n",
    "# 3: Bereken de gemiddelde TBR, TIR en TAr voor de verschillende groepen\n",
    "# Lijsten voor het opslaan van gemiddelde waarden per groep\n",
    "# bepaal de posities dat patient_groepen is gelijk aan groep 0\n",
    "# Lijst met posities van elke patiëntgroep\n",
    "posities_groepen = [np.where(patient_groepen == i)[0] for i in range(3)]\n",
    "\n",
    "# Bereken gemiddelde waarden per groep\n",
    "gemiddelde_tar = [np.mean(Gluc_parameters[1,posities]) for posities in posities_groepen]\n",
    "gemiddelde_tir = [np.mean(Gluc_parameters[2,posities]) for posities in posities_groepen]\n",
    "gemiddelde_tbr = [np.mean(Gluc_parameters[3,posities]) for posities in posities_groepen]\n",
    "\n",
    "# Toon de resultaten\n",
    "print(\"Gemiddelde TBR, TIR en TAR per patiëntgroep:\")\n",
    "print(\"Patiëntgroep 0 (Laag):\")\n",
    "print(f\"TBR: {gemiddelde_tbr[0]}, TIR: {gemiddelde_tir[0]}, TAR: {gemiddelde_tar[0]}\")\n",
    "print(\"Patiëntgroep 1 (Midden):\")\n",
    "print(f\"TBR: {gemiddelde_tbr[1]}, TIR: {gemiddelde_tir[1]}, TAR: {gemiddelde_tar[1]}\")\n",
    "print(\"Patiëntgroep 2 (Hoog):\")\n",
    "print(f\"TBR: {gemiddelde_tbr[2]}, TIR: {gemiddelde_tir[2]}, TAR: {gemiddelde_tar[2]}\")\n",
    "\n",
    "# 4: Maak een bar-graph\n",
    "\n",
    "# Patiëntgroepnamen\n",
    "groepen = ['Laag', 'Midden', 'Hoog']\n",
    "\n",
    "# Breedte van de bars\n",
    "bar_breedte = 0.35\n",
    "\n",
    "# Positie op de x-as voor elke groep\n",
    "posities = np.arange(len(groepen))\n",
    "\n",
    "# Maak de stacked bar chart\n",
    "fig, ax = plt.subplots()\n",
    "bar_tbr = ax.bar(posities - bar_breedte/2, gemiddelde_tbr, bar_breedte, label='TBR')\n",
    "bar_tir = ax.bar(posities - bar_breedte/2, gemiddelde_tir, bar_breedte, label='TIR', bottom=gemiddelde_tbr)\n",
    "bar_tar = ax.bar(posities - bar_breedte/2, gemiddelde_tar, bar_breedte, label='TAR', bottom=np.array(gemiddelde_tbr) + np.array(gemiddelde_tir))\n",
    "\n",
    "# Voeg labels, titels en legenda toe\n",
    "ax.set_xlabel('Patiëntgroepen')\n",
    "ax.set_ylabel('Percentage')\n",
    "ax.set_title('Gemiddelde TBR, TIR en TAR per patiëntgroep')\n",
    "ax.set_xticks(posities)\n",
    "ax.set_xticklabels(groepen)\n",
    "ax.legend()\n",
    "\n",
    "# Toon de plot\n",
    "plt.show()"
   ]
  },
  {
   "cell_type": "code",
   "execution_count": 11,
   "id": "36205ed7",
   "metadata": {},
   "outputs": [],
   "source": [
    "\n",
    "def movingav(x, M):\n",
    "    \"\"\"\n",
    "    x: input vector\n",
    "    M: orde van het filter\n",
    "\n",
    "    Returns:\n",
    "    y: output vector na toepassing van moving average filter\n",
    "    \"\"\"\n",
    "    # Controleer of de orde M geldig is\n",
    "    if M < 0:\n",
    "        raise ValueError('Orde M moet een niet-negatief geheel getal zijn.')\n",
    "\n",
    "    # Bepaal de coëfficiënten van het moving average filter\n",
    "    b = np.ones(M + 1) / (M + 1)\n",
    "\n",
    "    # Pas het filter toe op de inputvector x\n",
    "    y = np.convolve(x, b, mode='same')\n",
    "\n",
    "    return y"
   ]
  },
  {
   "cell_type": "code",
   "execution_count": 12,
   "id": "37b05c72",
   "metadata": {},
   "outputs": [],
   "source": [
    "# Your code... + uitleg"
   ]
  },
  {
   "cell_type": "code",
   "execution_count": 13,
   "id": "0ebdfdf6",
   "metadata": {},
   "outputs": [
    {
     "name": "stdout",
     "output_type": "stream",
     "text": [
      "[0.33333333 0.66666667 1.         1.         1.         0.66666667]\n"
     ]
    },
    {
     "data": {
      "image/png": "[encoded data removed]",
      "text/plain": [
       "<Figure size 640x480 with 1 Axes>"
      ]
     },
     "metadata": {},
     "output_type": "display_data"
    }
   ],
   "source": [
    "# Controle code\n",
    "x = np.array([0, 1, 1, 1, 1, 1])\n",
    "t = np.array([0, 1, 2, 3, 4, 5])\n",
    "M = 2\n",
    "y = movingav(x, M)\n",
    "print(y)\n",
    "\n",
    "plt.stem(t,y) # ook wel \"lollipop plot\" genoemd\n",
    "plt.show()"
   ]
  },
  {
   "cell_type": "code",
   "execution_count": 14,
   "id": "aa2a66c9",
   "metadata": {},
   "outputs": [],
   "source": [
    "# Your code..."
   ]
  },
  {
   "cell_type": "code",
   "execution_count": 15,
   "id": "a9693de0",
   "metadata": {},
   "outputs": [
    {
     "ename": "NameError",
     "evalue": "name 'IDs' is not defined",
     "output_type": "error",
     "traceback": [
      "\u001b[0;31m---------------------------------------------------------------------------\u001b[0m",
      "\u001b[0;31mNameError\u001b[0m                                 Traceback (most recent call last)",
      "\u001b[0;32m/var/folders/07/x0gf6dj176dfjvrn357t5p6h0000gn/T/ipykernel_51446/3595474949.py\u001b[0m in \u001b[0;36m<module>\u001b[0;34m\u001b[0m\n\u001b[1;32m      1\u001b[0m \u001b[0;31m# Kies drie willekeurige patiënten\u001b[0m\u001b[0;34m\u001b[0m\u001b[0;34m\u001b[0m\u001b[0;34m\u001b[0m\u001b[0m\n\u001b[0;32m----> 2\u001b[0;31m \u001b[0mselected_patients\u001b[0m\u001b[0;34m=\u001b[0m\u001b[0mrandom\u001b[0m\u001b[0;34m.\u001b[0m\u001b[0msample\u001b[0m\u001b[0;34m(\u001b[0m\u001b[0mIDs\u001b[0m\u001b[0;34m,\u001b[0m\u001b[0;36m3\u001b[0m\u001b[0;34m)\u001b[0m\u001b[0;34m\u001b[0m\u001b[0;34m\u001b[0m\u001b[0m\n\u001b[0m\u001b[1;32m      3\u001b[0m \u001b[0;34m\u001b[0m\u001b[0m\n\u001b[1;32m      4\u001b[0m \u001b[0;31m# Bepaal filter orde\u001b[0m\u001b[0;34m\u001b[0m\u001b[0;34m\u001b[0m\u001b[0;34m\u001b[0m\u001b[0m\n\u001b[1;32m      5\u001b[0m \u001b[0mM\u001b[0m\u001b[0;34m=\u001b[0m\u001b[0;36m2\u001b[0m\u001b[0;34m\u001b[0m\u001b[0;34m\u001b[0m\u001b[0m\n",
      "\u001b[0;31mNameError\u001b[0m: name 'IDs' is not defined"
     ]
    }
   ],
   "source": [
    "# Kies drie willekeurige patiënten\n",
    "selected_patients=random.sample(IDs,3)\n",
    "\n",
    "# Bepaal filter orde\n",
    "M=2\n",
    "\n",
    "# Loop door de geselecteerde patiënten\n",
    "plt.figure(figsize=(15, 5 * len(selected_patients)))\n",
    "\n",
    "for i, patient_id in enumerate(selected_patients, start=1):\n",
    "    # Haal de CGM, BGM en HbA1c data op voor de huidige patiënt\n",
    "    CGM_time = glucodat[patient_id][0, 0]['CGM'][0, 0]['time'][0, 0]\n",
    "    CGM_data = glucodat[patient_id][0, 0]['CGM'][0, 0]['data'][0, 0]\n",
    "    \n",
    "    flattened_cgm_data = CGM_data.flatten()\n",
    "    CGM_filt = movingav(flattened_cgm_data, M)\n",
    "\n",
    "    HbA1c_time = glucodat[patient_id][0, 0]['HbA1c'][0, 0]['time'][0, 0]\n",
    "    HbA1c_data = glucodat[patient_id][0, 0]['HbA1c'][0, 0]['data'][0, 0]\n",
    "\n",
    "    # Plot alle waarden van de huidige patiënt in één subplot\n",
    "    plt.subplot(len(selected_patients), 1, i)\n",
    "\n",
    "    # Plot de CGM van de patiënt als functie van tijd\n",
    "    plt.plot(CGM_time, CGM_data, label='CGM')\n",
    "    \n",
    "    # Plot de BGM van de patiënt als functie van tijd (gebruik stem)\n",
    "    plt.plot(CGM_time, CGM_filt, label='Gefilterd CGM')\n",
    "    \n",
    "    # Bereken de geschatte gemiddelde bloedglucoseconcentratie g\n",
    "    g_estimate = HbA1c_data - a / b\n",
    "\n",
    "    # Plot de geschatte gemiddelde bloedglucoseconcentratie\n",
    "    plt.plot(HbA1c_time[0], g_estimate[0], label='Gemiddelde glucoseconcentratie')\n",
    "\n",
    "    # Zet labels en titel\n",
    "    plt.title('Patient {}'.format(patient_id))\n",
    "    plt.xlabel('Tijd(dagen)')\n",
    "    plt.ylabel('Concentratie (mmol/L)')\n",
    "    plt.legend()\n",
    "\n",
    "plt.tight_layout()\n",
    "plt.show()\n"
   ]
  },
  {
   "cell_type": "code",
   "execution_count": 16,
   "id": "39a9613d",
   "metadata": {},
   "outputs": [],
   "source": [
    "# Your code... + uitleg"
   ]
  },
  {
   "cell_type": "code",
   "execution_count": 17,
   "id": "547d4bac",
   "metadata": {},
   "outputs": [
    {
     "ename": "NameError",
     "evalue": "name 'glucodat' is not defined",
     "output_type": "error",
     "traceback": [
      "\u001b[0;31m---------------------------------------------------------------------------\u001b[0m",
      "\u001b[0;31mNameError\u001b[0m                                 Traceback (most recent call last)",
      "\u001b[0;32m/var/folders/07/x0gf6dj176dfjvrn357t5p6h0000gn/T/ipykernel_51446/3234937313.py\u001b[0m in \u001b[0;36m<module>\u001b[0;34m\u001b[0m\n\u001b[1;32m     12\u001b[0m \u001b[0;32mfor\u001b[0m \u001b[0mi\u001b[0m\u001b[0;34m,\u001b[0m \u001b[0mM\u001b[0m \u001b[0;32min\u001b[0m \u001b[0menumerate\u001b[0m\u001b[0;34m(\u001b[0m\u001b[0mM_select\u001b[0m\u001b[0;34m,\u001b[0m \u001b[0mstart\u001b[0m\u001b[0;34m=\u001b[0m\u001b[0;36m1\u001b[0m\u001b[0;34m)\u001b[0m\u001b[0;34m:\u001b[0m\u001b[0;34m\u001b[0m\u001b[0;34m\u001b[0m\u001b[0m\n\u001b[1;32m     13\u001b[0m     \u001b[0;31m# Haal de CGM, BGM en HbA1c data op voor de huidige patiënt\u001b[0m\u001b[0;34m\u001b[0m\u001b[0;34m\u001b[0m\u001b[0;34m\u001b[0m\u001b[0m\n\u001b[0;32m---> 14\u001b[0;31m     \u001b[0mCGM_time\u001b[0m \u001b[0;34m=\u001b[0m \u001b[0mglucodat\u001b[0m\u001b[0;34m[\u001b[0m\u001b[0mpatient_id\u001b[0m\u001b[0;34m]\u001b[0m\u001b[0;34m[\u001b[0m\u001b[0;36m0\u001b[0m\u001b[0;34m,\u001b[0m \u001b[0;36m0\u001b[0m\u001b[0;34m]\u001b[0m\u001b[0;34m[\u001b[0m\u001b[0;34m'CGM'\u001b[0m\u001b[0;34m]\u001b[0m\u001b[0;34m[\u001b[0m\u001b[0;36m0\u001b[0m\u001b[0;34m,\u001b[0m \u001b[0;36m0\u001b[0m\u001b[0;34m]\u001b[0m\u001b[0;34m[\u001b[0m\u001b[0;34m'time'\u001b[0m\u001b[0;34m]\u001b[0m\u001b[0;34m[\u001b[0m\u001b[0;36m0\u001b[0m\u001b[0;34m,\u001b[0m \u001b[0;36m0\u001b[0m\u001b[0;34m]\u001b[0m\u001b[0;34m\u001b[0m\u001b[0;34m\u001b[0m\u001b[0m\n\u001b[0m\u001b[1;32m     15\u001b[0m     \u001b[0mCGM_data\u001b[0m \u001b[0;34m=\u001b[0m \u001b[0mglucodat\u001b[0m\u001b[0;34m[\u001b[0m\u001b[0mpatient_id\u001b[0m\u001b[0;34m]\u001b[0m\u001b[0;34m[\u001b[0m\u001b[0;36m0\u001b[0m\u001b[0;34m,\u001b[0m \u001b[0;36m0\u001b[0m\u001b[0;34m]\u001b[0m\u001b[0;34m[\u001b[0m\u001b[0;34m'CGM'\u001b[0m\u001b[0;34m]\u001b[0m\u001b[0;34m[\u001b[0m\u001b[0;36m0\u001b[0m\u001b[0;34m,\u001b[0m \u001b[0;36m0\u001b[0m\u001b[0;34m]\u001b[0m\u001b[0;34m[\u001b[0m\u001b[0;34m'data'\u001b[0m\u001b[0;34m]\u001b[0m\u001b[0;34m[\u001b[0m\u001b[0;36m0\u001b[0m\u001b[0;34m,\u001b[0m \u001b[0;36m0\u001b[0m\u001b[0;34m]\u001b[0m\u001b[0;34m\u001b[0m\u001b[0;34m\u001b[0m\u001b[0m\n\u001b[1;32m     16\u001b[0m \u001b[0;34m\u001b[0m\u001b[0m\n",
      "\u001b[0;31mNameError\u001b[0m: name 'glucodat' is not defined"
     ]
    },
    {
     "data": {
      "text/plain": [
       "<Figure size 1500x1500 with 0 Axes>"
      ]
     },
     "metadata": {},
     "output_type": "display_data"
    }
   ],
   "source": [
    "# Selecteer één willekeurige patiënt \n",
    "patient_id='ID_293'\n",
    "\n",
    "# Gebruik meerdere ordes\n",
    "dag_samp= round(24*60*0.2) # (uren*minuten*1/samp_freq)\n",
    "week_samp= round(7*24*60*0.2) # (dagen*uren*minuten*1/samp_freq)\n",
    "M_select=np.array([2,dag_samp,week_samp])\n",
    "\n",
    "# Loop door de geselecteerde patiënten\n",
    "plt.figure(figsize=(15, 5 * len(M_select)))\n",
    "\n",
    "for i, M in enumerate(M_select, start=1):\n",
    "    # Haal de CGM, BGM en HbA1c data op voor de huidige patiënt\n",
    "    CGM_time = glucodat[patient_id][0, 0]['CGM'][0, 0]['time'][0, 0]\n",
    "    CGM_data = glucodat[patient_id][0, 0]['CGM'][0, 0]['data'][0, 0]\n",
    "    \n",
    "    flattened_cgm_data = CGM_data.flatten()\n",
    "    CGM_filt = movingav(flattened_cgm_data, M)\n",
    "\n",
    "    HbA1c_time = glucodat[patient_id][0, 0]['HbA1c'][0, 0]['time'][0, 0]\n",
    "    HbA1c_data = glucodat[patient_id][0, 0]['HbA1c'][0, 0]['data'][0, 0]\n",
    "\n",
    "    # Plot alle waarden van de huidige patiënt in één subplot\n",
    "    plt.subplot(len(M_select), 1, i)\n",
    "\n",
    "    # Plot de CGM van de patiënt als functie van tijd\n",
    "    plt.plot(CGM_time, CGM_data, label='CGM')\n",
    "    \n",
    "    # Plot de BGM van de patiënt als functie van tijd (gebruik stem)\n",
    "    plt.plot(CGM_time, CGM_filt, label='Gefilterd CGM')\n",
    "    \n",
    "    # Bereken de geschatte gemiddelde bloedglucoseconcentratie g\n",
    "    g_estimate = HbA1c_data - a / b\n",
    "\n",
    "    # Plot de geschatte gemiddelde bloedglucoseconcentratie\n",
    "    plt.plot(HbA1c_time[0], g_estimate[0], label='Gemiddelde glucoseconcentratie')\n",
    "\n",
    "    # Zet labels en titel\n",
    "    plt.title('Patient {}'.format(patient_id))\n",
    "    plt.xlabel('Tijd(dagen)')\n",
    "    plt.ylabel('Concentratie (mmol/L)')\n",
    "    plt.legend()\n",
    "\n",
    "plt.tight_layout()\n",
    "plt.show()\n"
   ]
  }
 ],
 "metadata": {
  "jupytext": {
   "cell_metadata_filter": "-all",
   "main_language": "python",
   "notebook_metadata_filter": "-all"
  },
  "language_info": {
   "codemirror_mode": {
    "name": "ipython",
    "version": 3
   },
   "file_extension": ".py",
   "mimetype": "text/x-python",
   "name": "python",
   "nbconvert_exporter": "python",
   "pygments_lexer": "ipython3",
   "version": "3.7.16"
  }
 },
 "nbformat": 4,
 "nbformat_minor": 5
}