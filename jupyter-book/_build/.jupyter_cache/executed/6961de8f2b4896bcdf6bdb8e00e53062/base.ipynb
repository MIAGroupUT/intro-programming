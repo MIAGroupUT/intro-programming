{
 "cells": [
  {
   "cell_type": "code",
   "execution_count": 1,
   "id": "d494dec4",
   "metadata": {},
   "outputs": [
    {
     "name": "stdout",
     "output_type": "stream",
     "text": [
      "Hello\n",
      "Goodbye\n"
     ]
    }
   ],
   "source": [
    "print('Hello')\n",
    "print('Goodbye')"
   ]
  },
  {
   "cell_type": "code",
   "execution_count": 2,
   "id": "2d32b5e0",
   "metadata": {},
   "outputs": [],
   "source": [
    "def hello_world():        # This is the header of the function\n",
    "    print('Hello world')  # This is the body of the function"
   ]
  },
  {
   "cell_type": "code",
   "execution_count": 3,
   "id": "6a132986",
   "metadata": {},
   "outputs": [
    {
     "name": "stdout",
     "output_type": "stream",
     "text": [
      "Hello world\n"
     ]
    }
   ],
   "source": [
    "hello_world()             # Call the hello_world function"
   ]
  },
  {
   "cell_type": "code",
   "execution_count": 4,
   "id": "ca2b844c",
   "metadata": {},
   "outputs": [
    {
     "name": "stdout",
     "output_type": "stream",
     "text": [
      "Hello world\n"
     ]
    }
   ],
   "source": [
    "def hello_world():        # This is the header of the function\n",
    "    print('Hello world')  # This is the body of the function\n",
    "    \n",
    "hello_world()             # Call the hello_world function"
   ]
  },
  {
   "cell_type": "code",
   "execution_count": 5,
   "id": "272d4f66",
   "metadata": {},
   "outputs": [],
   "source": [
    "def find_smallest(number_a, number_b):   # The header of the function with two parameters\n",
    "    if number_a < number_b:\n",
    "        print('{} is the smallest number'.format(number_a))\n",
    "    elif number_b < number_a:\n",
    "        print('{} is the smallest number'.format(number_b))\n",
    "    else:\n",
    "        print('Both numbers are equal')"
   ]
  },
  {
   "cell_type": "code",
   "execution_count": 6,
   "id": "13336874",
   "metadata": {},
   "outputs": [
    {
     "name": "stdout",
     "output_type": "stream",
     "text": [
      "23 is the smallest number\n"
     ]
    }
   ],
   "source": [
    "find_smallest(number_a = 45, number_b = 23)      # Call the function using two arguments"
   ]
  },
  {
   "cell_type": "code",
   "execution_count": 7,
   "id": "d84b2b97",
   "metadata": {},
   "outputs": [],
   "source": [
    "def find_smallest(number_a: int, number_b: int):  # We have here added types to number_a and number_b\n",
    "    if number_a < number_b:\n",
    "        print('{} is the smallest number'.format(number_a))\n",
    "    elif number_b < number_a:\n",
    "        print('{} is the smallest number'.format(number_b))\n",
    "    else:\n",
    "        print('Both numbers are equal')"
   ]
  },
  {
   "cell_type": "code",
   "execution_count": 8,
   "id": "f6e9391a",
   "metadata": {
    "lines_to_next_cell": 0
   },
   "outputs": [
    {
     "name": "stdout",
     "output_type": "stream",
     "text": [
      "The sum is 55\n"
     ]
    }
   ],
   "source": [
    "def add_numbers(number_a, number_b):\n",
    "    return number_a + number_b\n",
    "\n",
    "sum_of_numbers = add_numbers(number_a = 34, number_b = 21)   # The result of the function call is stored in sum_of_numbers\n",
    "print('The sum is {}'.format(sum_of_numbers))                # We can print the value of sum_of_numbers (or use it for something else)"
   ]
  },
  {
   "cell_type": "code",
   "execution_count": 9,
   "id": "02a8bcbc",
   "metadata": {},
   "outputs": [
    {
     "name": "stdout",
     "output_type": "stream",
     "text": [
      "12\n",
      "32\n"
     ]
    }
   ],
   "source": [
    "def compute_sum_and_product(number_a, number_b):\n",
    "    sum_of_numbers = number_a + number_b\n",
    "    product_of_numbers = number_a * number_b\n",
    "    return sum_of_numbers, product_of_numbers         # Return two values, separated by ,\n",
    "\n",
    "summed, multiplied = compute_sum_and_product(4, 8)    # Assign result of the function call to two variables\n",
    "print(summed)\n",
    "print(multiplied)"
   ]
  },
  {
   "cell_type": "code",
   "execution_count": 10,
   "id": "f953c5ab",
   "metadata": {},
   "outputs": [
    {
     "ename": "TypeError",
     "evalue": "add_numbers() missing 1 required positional argument: 'number_b'",
     "output_type": "error",
     "traceback": [
      "\u001b[0;31m---------------------------------------------------------------------------\u001b[0m",
      "\u001b[0;31mTypeError\u001b[0m                                 Traceback (most recent call last)",
      "\u001b[0;32m/var/folders/07/x0gf6dj176dfjvrn357t5p6h0000gn/T/ipykernel_96617/2140094660.py\u001b[0m in \u001b[0;36m<module>\u001b[0;34m\u001b[0m\n\u001b[0;32m----> 1\u001b[0;31m \u001b[0madd_numbers\u001b[0m\u001b[0;34m(\u001b[0m\u001b[0mnumber_a\u001b[0m \u001b[0;34m=\u001b[0m \u001b[0;36m3\u001b[0m\u001b[0;34m)\u001b[0m\u001b[0;34m\u001b[0m\u001b[0;34m\u001b[0m\u001b[0m\n\u001b[0m",
      "\u001b[0;31mTypeError\u001b[0m: add_numbers() missing 1 required positional argument: 'number_b'"
     ]
    }
   ],
   "source": [
    "add_numbers(number_a = 3)"
   ]
  },
  {
   "cell_type": "code",
   "execution_count": 11,
   "id": "c4266b45",
   "metadata": {},
   "outputs": [
    {
     "ename": "SyntaxError",
     "evalue": "positional argument follows keyword argument (3779491282.py, line 1)",
     "output_type": "error",
     "traceback": [
      "\u001b[0;36m  File \u001b[0;32m\"/var/folders/07/x0gf6dj176dfjvrn357t5p6h0000gn/T/ipykernel_96617/3779491282.py\"\u001b[0;36m, line \u001b[0;32m1\u001b[0m\n\u001b[0;31m    add_numbers(number_a = 3, number_b = 4, 5)\u001b[0m\n\u001b[0m                                           ^\u001b[0m\n\u001b[0;31mSyntaxError\u001b[0m\u001b[0;31m:\u001b[0m positional argument follows keyword argument\n"
     ]
    }
   ],
   "source": [
    "add_numbers(number_a = 3, number_b = 4, 5)"
   ]
  },
  {
   "cell_type": "code",
   "execution_count": 12,
   "id": "e520ef5e",
   "metadata": {},
   "outputs": [
    {
     "data": {
      "text/plain": [
       "True"
      ]
     },
     "execution_count": 12,
     "metadata": {},
     "output_type": "execute_result"
    }
   ],
   "source": [
    "add_numbers(number_a = 14, number_b = 75) == add_numbers(14, 75)"
   ]
  },
  {
   "cell_type": "code",
   "execution_count": 13,
   "id": "d91650c5",
   "metadata": {},
   "outputs": [
    {
     "name": "stdout",
     "output_type": "stream",
     "text": [
      "86\n",
      "49\n"
     ]
    }
   ],
   "source": [
    "def add_numbers_optional(number_a, number_b = 37):\n",
    "    return number_a + number_b\n",
    "\n",
    "print(add_numbers_optional(34, 52))\n",
    "print(add_numbers_optional(12))"
   ]
  },
  {
   "cell_type": "code",
   "execution_count": 14,
   "id": "6cba02fa",
   "metadata": {},
   "outputs": [
    {
     "name": "stdout",
     "output_type": "stream",
     "text": [
      "86\n"
     ]
    }
   ],
   "source": [
    "print(add_numbers_optional(number_a = 34, number_b = 52))"
   ]
  },
  {
   "cell_type": "code",
   "execution_count": 15,
   "id": "a860e9b3",
   "metadata": {},
   "outputs": [
    {
     "ename": "SyntaxError",
     "evalue": "non-default argument follows default argument (1073581284.py, line 1)",
     "output_type": "error",
     "traceback": [
      "\u001b[0;36m  File \u001b[0;32m\"/var/folders/07/x0gf6dj176dfjvrn357t5p6h0000gn/T/ipykernel_96617/1073581284.py\"\u001b[0;36m, line \u001b[0;32m1\u001b[0m\n\u001b[0;31m    def add_numbers_optional(number_a = 37, number_b):\u001b[0m\n\u001b[0m                            ^\u001b[0m\n\u001b[0;31mSyntaxError\u001b[0m\u001b[0;31m:\u001b[0m non-default argument follows default argument\n"
     ]
    }
   ],
   "source": [
    "def add_numbers_optional(number_a = 37, number_b):\n",
    "    return number_a + number_b\n",
    "\n",
    "print(add_numbers_optional(number_a = 34, number_b = 52))"
   ]
  },
  {
   "cell_type": "code",
   "execution_count": 16,
   "id": "9c0e56cb",
   "metadata": {},
   "outputs": [
    {
     "name": "stdout",
     "output_type": "stream",
     "text": [
      "18\n"
     ]
    },
    {
     "ename": "NameError",
     "evalue": "name 'y' is not defined",
     "output_type": "error",
     "traceback": [
      "\u001b[0;31m---------------------------------------------------------------------------\u001b[0m",
      "\u001b[0;31mNameError\u001b[0m                                 Traceback (most recent call last)",
      "\u001b[0;32m/var/folders/07/x0gf6dj176dfjvrn357t5p6h0000gn/T/ipykernel_96617/1922670122.py\u001b[0m in \u001b[0;36m<module>\u001b[0;34m\u001b[0m\n\u001b[1;32m      4\u001b[0m \u001b[0;34m\u001b[0m\u001b[0m\n\u001b[1;32m      5\u001b[0m \u001b[0mprint\u001b[0m\u001b[0;34m(\u001b[0m\u001b[0madd_y\u001b[0m\u001b[0;34m(\u001b[0m\u001b[0;36m10\u001b[0m\u001b[0;34m)\u001b[0m\u001b[0;34m)\u001b[0m\u001b[0;34m\u001b[0m\u001b[0;34m\u001b[0m\u001b[0m\n\u001b[0;32m----> 6\u001b[0;31m \u001b[0mprint\u001b[0m\u001b[0;34m(\u001b[0m\u001b[0my\u001b[0m\u001b[0;34m)\u001b[0m\u001b[0;34m\u001b[0m\u001b[0;34m\u001b[0m\u001b[0m\n\u001b[0m",
      "\u001b[0;31mNameError\u001b[0m: name 'y' is not defined"
     ]
    }
   ],
   "source": [
    "def add_y(x):\n",
    "    y = 8\n",
    "    return x + y\n",
    "    \n",
    "print(add_y(10))\n",
    "print(y)"
   ]
  },
  {
   "cell_type": "code",
   "execution_count": 17,
   "id": "a524e24c",
   "metadata": {},
   "outputs": [
    {
     "name": "stdout",
     "output_type": "stream",
     "text": [
      "18\n",
      "4\n"
     ]
    }
   ],
   "source": [
    "y = 4\n",
    "\n",
    "def add_y(x):\n",
    "    y = 8\n",
    "    return x + y\n",
    "    \n",
    "print(add_y(10))\n",
    "print(y)"
   ]
  },
  {
   "cell_type": "code",
   "execution_count": 18,
   "id": "96715802",
   "metadata": {},
   "outputs": [
    {
     "name": "stdout",
     "output_type": "stream",
     "text": [
      "14\n",
      "4\n"
     ]
    }
   ],
   "source": [
    "y = 4\n",
    "\n",
    "def add_y(x):\n",
    "    return x + y\n",
    "    \n",
    "print(add_y(10))\n",
    "print(y)"
   ]
  },
  {
   "cell_type": "code",
   "execution_count": 19,
   "id": "e0c8f272",
   "metadata": {},
   "outputs": [],
   "source": [
    "def factorial(n):                   # 1\n",
    "    if n > 1:                       # 2\n",
    "        return n * factorial(n-1)   # 3\n",
    "    else:                           # 4\n",
    "        return 1                    # 5"
   ]
  },
  {
   "cell_type": "code",
   "execution_count": 20,
   "id": "ab07ef20",
   "metadata": {},
   "outputs": [
    {
     "data": {
      "text/plain": [
       "6"
      ]
     },
     "execution_count": 20,
     "metadata": {},
     "output_type": "execute_result"
    }
   ],
   "source": [
    "factorial(3)"
   ]
  },
  {
   "cell_type": "code",
   "execution_count": null,
   "id": "78f3ea6e",
   "metadata": {},
   "outputs": [],
   "source": []
  }
 ],
 "metadata": {
  "jupytext": {
   "cell_metadata_filter": "-all",
   "main_language": "python",
   "notebook_metadata_filter": "-all"
  },
  "language_info": {
   "codemirror_mode": {
    "name": "ipython",
    "version": 3
   },
   "file_extension": ".py",
   "mimetype": "text/x-python",
   "name": "python",
   "nbconvert_exporter": "python",
   "pygments_lexer": "ipython3",
   "version": "3.7.16"
  }
 },
 "nbformat": 4,
 "nbformat_minor": 5
}