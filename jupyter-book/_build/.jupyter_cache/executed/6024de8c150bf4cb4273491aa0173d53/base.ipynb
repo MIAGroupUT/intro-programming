{
 "cells": [
  {
   "cell_type": "code",
   "execution_count": 1,
   "id": "b2fadaed",
   "metadata": {
    "lines_to_next_cell": 0
   },
   "outputs": [
    {
     "name": "stdout",
     "output_type": "stream",
     "text": [
      "[-1.          0.14112001  7.        ]\n",
      "3\n",
      "(3,)\n"
     ]
    }
   ],
   "source": [
    "import numpy as np\n",
    "\n",
    "v = np.array([-1, np.sin(3), 7])\n",
    "print(v)\n",
    "print(len(v))\n",
    "print(v.shape)"
   ]
  },
  {
   "cell_type": "code",
   "execution_count": null,
   "id": "e68f1078",
   "metadata": {
    "lines_to_next_cell": 2
   },
   "outputs": [],
   "source": []
  },
  {
   "cell_type": "code",
   "execution_count": 2,
   "id": "bba7c949",
   "metadata": {},
   "outputs": [
    {
     "name": "stdout",
     "output_type": "stream",
     "text": [
      "[ 1  5 11]\n",
      "[ 3  7 13]\n"
     ]
    }
   ],
   "source": [
    "v = np.array([-1, 2, 7])\n",
    "w = np.array([2, 3,  4])\n",
    "z = v + w                  # an element-by-element sum\n",
    "print(z)\n",
    "\n",
    "zz = z + 2                 # add 2 to every element of vector z\n",
    "print(zz)"
   ]
  },
  {
   "cell_type": "code",
   "execution_count": 3,
   "id": "0987dbde",
   "metadata": {},
   "outputs": [
    {
     "name": "stdout",
     "output_type": "stream",
     "text": [
      "2\n",
      "[-1  4  7]\n"
     ]
    }
   ],
   "source": [
    "print(v[1])                # print second element in the array\n",
    "v[1] = 4                   # change second element in the array to a 4\n",
    "print(v)"
   ]
  },
  {
   "cell_type": "code",
   "execution_count": 4,
   "id": "145fe6ab",
   "metadata": {},
   "outputs": [
    {
     "name": "stdout",
     "output_type": "stream",
     "text": [
      "[[1 3 4]]\n",
      "[[1]\n",
      " [3]\n",
      " [4]]\n"
     ]
    }
   ],
   "source": [
    "v_row = np.array([[1, 3, 4]])     # look closely, you'll see two square brackets instead of one\n",
    "print(v_row)\n",
    "v_col = np.array([[1], [3], [4]]) # now each element has its own row\n",
    "print(v_col)"
   ]
  },
  {
   "cell_type": "code",
   "execution_count": 5,
   "id": "ce0f8508",
   "metadata": {},
   "outputs": [
    {
     "name": "stdout",
     "output_type": "stream",
     "text": [
      "[[2 4 5]\n",
      " [4 6 7]\n",
      " [5 7 8]]\n"
     ]
    }
   ],
   "source": [
    "print(v_row + v_col)"
   ]
  },
  {
   "cell_type": "code",
   "execution_count": null,
   "id": "9edb003b",
   "metadata": {},
   "outputs": [],
   "source": []
  },
  {
   "cell_type": "code",
   "execution_count": 6,
   "id": "156234f9",
   "metadata": {},
   "outputs": [
    {
     "data": {
      "text/plain": [
       "[[1, 2, 3], [4, 5, 6], [1, 2, 3], [5, 8, 13]]"
      ]
     },
     "execution_count": 6,
     "metadata": {},
     "output_type": "execute_result"
    }
   ],
   "source": [
    "# If we don't make arrays, these matrices are just treated as lists\n",
    "a = [[1, 2, 3],\n",
    "     [4, 5, 6]]\n",
    "\n",
    "b = [[1, 2, 3],\n",
    "     [5, 8, 13]]\n",
    "\n",
    "a + b"
   ]
  },
  {
   "cell_type": "code",
   "execution_count": 7,
   "id": "8da9fd1c",
   "metadata": {},
   "outputs": [
    {
     "name": "stdout",
     "output_type": "stream",
     "text": [
      "[[ 2  4  6]\n",
      " [ 9 13 19]]\n",
      "[[1.         1.         1.        ]\n",
      " [0.8        0.625      0.46153846]]\n",
      "[[ 1  4  9]\n",
      " [20 40 78]]\n",
      "[[ 14  60]\n",
      " [ 32 138]]\n"
     ]
    }
   ],
   "source": [
    "import numpy as np\n",
    "a = np.array([[1, 2, 3],\n",
    "              [4, 5, 6]])\n",
    "\n",
    "b = np.array([[1, 2, 3],\n",
    "              [5, 8, 13]])\n",
    "\n",
    "print(a + b)\n",
    "print(a / b)\n",
    "print(a * b)\n",
    "print(a @ b.T)"
   ]
  },
  {
   "cell_type": "code",
   "execution_count": null,
   "id": "26304ac2",
   "metadata": {},
   "outputs": [],
   "source": []
  }
 ],
 "metadata": {
  "jupytext": {
   "cell_metadata_filter": "-all",
   "main_language": "python",
   "notebook_metadata_filter": "-all"
  },
  "language_info": {
   "codemirror_mode": {
    "name": "ipython",
    "version": 3
   },
   "file_extension": ".py",
   "mimetype": "text/x-python",
   "name": "python",
   "nbconvert_exporter": "python",
   "pygments_lexer": "ipython3",
   "version": "3.7.16"
  }
 },
 "nbformat": 4,
 "nbformat_minor": 5
}