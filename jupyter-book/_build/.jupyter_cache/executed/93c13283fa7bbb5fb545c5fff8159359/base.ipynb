{
 "cells": [
  {
   "cell_type": "code",
   "execution_count": 1,
   "id": "4ec5d3d8",
   "metadata": {},
   "outputs": [
    {
     "name": "stdout",
     "output_type": "stream",
     "text": [
      "Hello\n",
      "Goodbye\n"
     ]
    }
   ],
   "source": [
    "print('Hello')\n",
    "print('Goodbye')"
   ]
  },
  {
   "cell_type": "code",
   "execution_count": 2,
   "id": "39c445ed",
   "metadata": {},
   "outputs": [],
   "source": [
    "def find_smallest(number_a, number_b):\n",
    "    if number_a < number_b:\n",
    "        print('{} is the smallest number'.format(number_a))\n",
    "    elif number_b < number_a:\n",
    "        print('{} is the smallest number'.format(number_b))\n",
    "    else:\n",
    "        print('Both numbers are equal')"
   ]
  },
  {
   "cell_type": "code",
   "execution_count": 3,
   "id": "cd7fea33",
   "metadata": {},
   "outputs": [
    {
     "name": "stdout",
     "output_type": "stream",
     "text": [
      "23 is the smallest number\n"
     ]
    }
   ],
   "source": [
    "find_smallest(number_a = 45, number_b = 23)  # Call the function using two arguments"
   ]
  },
  {
   "cell_type": "code",
   "execution_count": 4,
   "id": "149edaf9",
   "metadata": {
    "lines_to_next_cell": 0
   },
   "outputs": [
    {
     "name": "stdout",
     "output_type": "stream",
     "text": [
      "The sum is 55\n"
     ]
    }
   ],
   "source": [
    "def add_numbers(number_a, number_b):\n",
    "    return number_a + number_b\n",
    "\n",
    "sum_of_numbers = add_numbers(number_a = 34, number_b = 21)   # We call the function using two arguments\n",
    "print('The sum is {}'.format(sum_of_numbers))"
   ]
  },
  {
   "cell_type": "code",
   "execution_count": 5,
   "id": "a137a743",
   "metadata": {},
   "outputs": [
    {
     "ename": "TypeError",
     "evalue": "add_numbers() missing 1 required positional argument: 'number_b'",
     "output_type": "error",
     "traceback": [
      "\u001b[0;31m---------------------------------------------------------------------------\u001b[0m",
      "\u001b[0;31mTypeError\u001b[0m                                 Traceback (most recent call last)",
      "\u001b[0;32m/var/folders/07/x0gf6dj176dfjvrn357t5p6h0000gn/T/ipykernel_35806/2140094660.py\u001b[0m in \u001b[0;36m<module>\u001b[0;34m\u001b[0m\n\u001b[0;32m----> 1\u001b[0;31m \u001b[0madd_numbers\u001b[0m\u001b[0;34m(\u001b[0m\u001b[0mnumber_a\u001b[0m \u001b[0;34m=\u001b[0m \u001b[0;36m3\u001b[0m\u001b[0;34m)\u001b[0m\u001b[0;34m\u001b[0m\u001b[0;34m\u001b[0m\u001b[0m\n\u001b[0m",
      "\u001b[0;31mTypeError\u001b[0m: add_numbers() missing 1 required positional argument: 'number_b'"
     ]
    }
   ],
   "source": [
    "add_numbers(number_a = 3)"
   ]
  },
  {
   "cell_type": "code",
   "execution_count": 6,
   "id": "c4932966",
   "metadata": {},
   "outputs": [
    {
     "ename": "SyntaxError",
     "evalue": "keyword argument repeated (238350148.py, line 1)",
     "output_type": "error",
     "traceback": [
      "\u001b[0;36m  File \u001b[0;32m\"/var/folders/07/x0gf6dj176dfjvrn357t5p6h0000gn/T/ipykernel_35806/238350148.py\"\u001b[0;36m, line \u001b[0;32m1\u001b[0m\n\u001b[0;31m    add_numbers(number_b = 3, number_b = 4, 5)\u001b[0m\n\u001b[0m                             ^\u001b[0m\n\u001b[0;31mSyntaxError\u001b[0m\u001b[0;31m:\u001b[0m keyword argument repeated\n"
     ]
    }
   ],
   "source": [
    "add_numbers(number_b = 3, number_b = 4, 5)"
   ]
  },
  {
   "cell_type": "code",
   "execution_count": 7,
   "id": "f1403368",
   "metadata": {},
   "outputs": [
    {
     "data": {
      "text/plain": [
       "True"
      ]
     },
     "execution_count": 7,
     "metadata": {},
     "output_type": "execute_result"
    }
   ],
   "source": [
    "add_numbers(number_a = 14, number_b = 75) == add_numbers(14, 75)"
   ]
  },
  {
   "cell_type": "code",
   "execution_count": 8,
   "id": "b93185b9",
   "metadata": {},
   "outputs": [
    {
     "name": "stdout",
     "output_type": "stream",
     "text": [
      "86\n",
      "49\n"
     ]
    }
   ],
   "source": [
    "def add_numbers_optional(number_a, number_b = 37):\n",
    "    return number_a + number_b\n",
    "\n",
    "print(add_numbers_optional(34, 52))\n",
    "print(add_numbers_optional(12))"
   ]
  },
  {
   "cell_type": "code",
   "execution_count": 9,
   "id": "99344200",
   "metadata": {},
   "outputs": [
    {
     "name": "stdout",
     "output_type": "stream",
     "text": [
      "86\n"
     ]
    }
   ],
   "source": [
    "print(add_numbers_optional(number_a = 34, number_b = 52))"
   ]
  },
  {
   "cell_type": "code",
   "execution_count": 10,
   "id": "ad1182ae",
   "metadata": {},
   "outputs": [
    {
     "ename": "SyntaxError",
     "evalue": "non-default argument follows default argument (1073581284.py, line 1)",
     "output_type": "error",
     "traceback": [
      "\u001b[0;36m  File \u001b[0;32m\"/var/folders/07/x0gf6dj176dfjvrn357t5p6h0000gn/T/ipykernel_35806/1073581284.py\"\u001b[0;36m, line \u001b[0;32m1\u001b[0m\n\u001b[0;31m    def add_numbers_optional(number_a = 37, number_b):\u001b[0m\n\u001b[0m                            ^\u001b[0m\n\u001b[0;31mSyntaxError\u001b[0m\u001b[0;31m:\u001b[0m non-default argument follows default argument\n"
     ]
    }
   ],
   "source": [
    "def add_numbers_optional(number_a = 37, number_b):\n",
    "    return number_a + number_b\n",
    "\n",
    "print(add_numbers_optional(number_a = 34, number_b = 52))"
   ]
  },
  {
   "cell_type": "code",
   "execution_count": 11,
   "id": "735b912d",
   "metadata": {},
   "outputs": [],
   "source": [
    "def factorial(n):                   # 1\n",
    "    if n > 0:                       # 2\n",
    "        return n * factorial(n-1)   # 3\n",
    "    else:                           # 4\n",
    "        return 1                    # 5"
   ]
  },
  {
   "cell_type": "code",
   "execution_count": 12,
   "id": "02e43582",
   "metadata": {},
   "outputs": [
    {
     "data": {
      "text/plain": [
       "6"
      ]
     },
     "execution_count": 12,
     "metadata": {},
     "output_type": "execute_result"
    }
   ],
   "source": [
    "factorial(3)"
   ]
  },
  {
   "cell_type": "code",
   "execution_count": 13,
   "id": "b0d97466",
   "metadata": {},
   "outputs": [
    {
     "ename": "NameError",
     "evalue": "name 'dot_product' is not defined",
     "output_type": "error",
     "traceback": [
      "\u001b[0;31m---------------------------------------------------------------------------\u001b[0m",
      "\u001b[0;31mNameError\u001b[0m                                 Traceback (most recent call last)",
      "\u001b[0;32m/var/folders/07/x0gf6dj176dfjvrn357t5p6h0000gn/T/ipykernel_35806/896397102.py\u001b[0m in \u001b[0;36m<module>\u001b[0;34m\u001b[0m\n\u001b[1;32m      1\u001b[0m \u001b[0mvector_a\u001b[0m \u001b[0;34m=\u001b[0m \u001b[0;34m[\u001b[0m\u001b[0;36m3\u001b[0m\u001b[0;34m,\u001b[0m \u001b[0;36m5\u001b[0m\u001b[0;34m,\u001b[0m \u001b[0;36m9\u001b[0m\u001b[0;34m]\u001b[0m\u001b[0;34m\u001b[0m\u001b[0;34m\u001b[0m\u001b[0m\n\u001b[1;32m      2\u001b[0m \u001b[0mvector_b\u001b[0m \u001b[0;34m=\u001b[0m \u001b[0;34m[\u001b[0m\u001b[0;36m3.2\u001b[0m\u001b[0;34m,\u001b[0m \u001b[0;36m6\u001b[0m\u001b[0;34m,\u001b[0m \u001b[0;34m-\u001b[0m\u001b[0;36m5\u001b[0m\u001b[0;34m]\u001b[0m\u001b[0;34m\u001b[0m\u001b[0;34m\u001b[0m\u001b[0m\n\u001b[0;32m----> 3\u001b[0;31m \u001b[0mprint\u001b[0m\u001b[0;34m(\u001b[0m\u001b[0mdot_product\u001b[0m\u001b[0;34m(\u001b[0m\u001b[0mvector_a\u001b[0m\u001b[0;34m,\u001b[0m \u001b[0mvector_b\u001b[0m\u001b[0;34m)\u001b[0m\u001b[0;34m)\u001b[0m\u001b[0;34m\u001b[0m\u001b[0;34m\u001b[0m\u001b[0m\n\u001b[0m",
      "\u001b[0;31mNameError\u001b[0m: name 'dot_product' is not defined"
     ]
    }
   ],
   "source": [
    "vector_a = [3, 5, 9]\n",
    "vector_b = [3.2, 6, -5]\n",
    "print(dot_product(vector_a, vector_b))"
   ]
  },
  {
   "cell_type": "code",
   "execution_count": 14,
   "id": "e8a4f535",
   "metadata": {},
   "outputs": [
    {
     "ename": "SyntaxError",
     "evalue": "invalid syntax (726729786.py, line 1)",
     "output_type": "error",
     "traceback": [
      "\u001b[0;36m  File \u001b[0;32m\"/var/folders/07/x0gf6dj176dfjvrn357t5p6h0000gn/T/ipykernel_35806/726729786.py\"\u001b[0;36m, line \u001b[0;32m1\u001b[0m\n\u001b[0;31m    n = #\u001b[0m\n\u001b[0m          ^\u001b[0m\n\u001b[0;31mSyntaxError\u001b[0m\u001b[0;31m:\u001b[0m invalid syntax\n"
     ]
    }
   ],
   "source": [
    "n = # \n",
    "prime = is_prime(n)\n",
    "if prime:\n",
    "    print(f'{} is a prime number')\n",
    "else:\n",
    "    print(f'{} is not a prime number')"
   ]
  }
 ],
 "metadata": {
  "jupytext": {
   "cell_metadata_filter": "-all",
   "main_language": "python",
   "notebook_metadata_filter": "-all"
  },
  "language_info": {
   "codemirror_mode": {
    "name": "ipython",
    "version": 3
   },
   "file_extension": ".py",
   "mimetype": "text/x-python",
   "name": "python",
   "nbconvert_exporter": "python",
   "pygments_lexer": "ipython3",
   "version": "3.7.16"
  }
 },
 "nbformat": 4,
 "nbformat_minor": 5
}