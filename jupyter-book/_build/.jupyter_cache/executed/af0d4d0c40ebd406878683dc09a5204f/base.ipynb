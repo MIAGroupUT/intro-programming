{
 "cells": [
  {
   "cell_type": "code",
   "execution_count": 1,
   "id": "940addc9",
   "metadata": {},
   "outputs": [],
   "source": [
    "import numpy as np\n",
    "\n",
    "some_array = np.array([1, 2, 3])"
   ]
  },
  {
   "cell_type": "code",
   "execution_count": 2,
   "id": "07f22f39",
   "metadata": {},
   "outputs": [
    {
     "name": "stdout",
     "output_type": "stream",
     "text": [
      "<class 'numpy.ndarray'>\n"
     ]
    }
   ],
   "source": [
    "print(type(some_array))"
   ]
  },
  {
   "cell_type": "code",
   "execution_count": 3,
   "id": "081cf942",
   "metadata": {},
   "outputs": [],
   "source": [
    "some_other_array = np.array([[1, 2],\n",
    "                             [2, 4]])"
   ]
  },
  {
   "cell_type": "code",
   "execution_count": 4,
   "id": "545995f0",
   "metadata": {},
   "outputs": [
    {
     "name": "stdout",
     "output_type": "stream",
     "text": [
      "<class 'numpy.ndarray'>\n"
     ]
    }
   ],
   "source": [
    "print(type(some_other_array))"
   ]
  },
  {
   "cell_type": "code",
   "execution_count": 5,
   "id": "20d16c31",
   "metadata": {},
   "outputs": [
    {
     "name": "stdout",
     "output_type": "stream",
     "text": [
      "(3,)\n",
      "(2, 2)\n"
     ]
    }
   ],
   "source": [
    "print(some_array.shape)\n",
    "print(some_other_array.shape)"
   ]
  },
  {
   "cell_type": "code",
   "execution_count": 6,
   "id": "de16c085",
   "metadata": {},
   "outputs": [
    {
     "name": "stdout",
     "output_type": "stream",
     "text": [
      "6\n",
      "9\n"
     ]
    }
   ],
   "source": [
    "print(some_array.sum())\n",
    "print(some_other_array.sum())"
   ]
  },
  {
   "cell_type": "code",
   "execution_count": 7,
   "id": "96971966",
   "metadata": {},
   "outputs": [],
   "source": [
    "class Car:\n",
    "    pass"
   ]
  },
  {
   "cell_type": "code",
   "execution_count": 8,
   "id": "d6c62a7e",
   "metadata": {},
   "outputs": [],
   "source": [
    "class Car:\n",
    "    max_speed = 180"
   ]
  },
  {
   "cell_type": "code",
   "execution_count": 9,
   "id": "38e1c3b3",
   "metadata": {},
   "outputs": [],
   "source": [
    "class Car:\n",
    "    max_speed = 180\n",
    "    num_wheels = 4"
   ]
  },
  {
   "cell_type": "code",
   "execution_count": 10,
   "id": "38512546",
   "metadata": {},
   "outputs": [],
   "source": [
    "class Car:\n",
    "    max_speed = 180\n",
    "    num_wheels = 4\n",
    "    \n",
    "    def __init__(self, brand):\n",
    "        self.brand = brand"
   ]
  },
  {
   "cell_type": "code",
   "execution_count": 11,
   "id": "ad75ef0b",
   "metadata": {},
   "outputs": [],
   "source": [
    "current_car = Car(brand=\"Skoda\")"
   ]
  },
  {
   "cell_type": "code",
   "execution_count": 12,
   "id": "7cf8dfaf",
   "metadata": {},
   "outputs": [
    {
     "name": "stdout",
     "output_type": "stream",
     "text": [
      "<class '__main__.Car'>\n"
     ]
    }
   ],
   "source": [
    "print(type(current_car))"
   ]
  },
  {
   "cell_type": "code",
   "execution_count": 13,
   "id": "fe770af7",
   "metadata": {},
   "outputs": [
    {
     "name": "stdout",
     "output_type": "stream",
     "text": [
      "The car is a Skoda\n"
     ]
    }
   ],
   "source": [
    "print('The car is a {}'.format(current_car.brand))"
   ]
  },
  {
   "cell_type": "code",
   "execution_count": 14,
   "id": "07200b08",
   "metadata": {},
   "outputs": [],
   "source": [
    "class Car:\n",
    "    max_speed = 180\n",
    "    num_wheels = 4\n",
    "    \n",
    "    def __init__(self, brand):\n",
    "        self.brand = brand\n",
    "        \n",
    "    def toot(self, times):\n",
    "        for _ in range(times):\n",
    "            print('Toot!')"
   ]
  },
  {
   "cell_type": "code",
   "execution_count": 15,
   "id": "f4ed2e17",
   "metadata": {},
   "outputs": [
    {
     "name": "stdout",
     "output_type": "stream",
     "text": [
      "Toot!\n",
      "Toot!\n",
      "Toot!\n",
      "Toot!\n",
      "Toot!\n"
     ]
    }
   ],
   "source": [
    "previous_car = Car(\"Suzuki\")\n",
    "previous_car.toot(5)"
   ]
  },
  {
   "cell_type": "code",
   "execution_count": 16,
   "id": "fdf1c966",
   "metadata": {},
   "outputs": [
    {
     "name": "stdout",
     "output_type": "stream",
     "text": [
      "I am a person and my name is Frenk Simanos\n"
     ]
    }
   ],
   "source": [
    "class Person:\n",
    "    def __init__(self, fname, lname):\n",
    "        self.firstname = fname\n",
    "        self.lastname = lname\n",
    "\n",
    "    def print_name(self):\n",
    "        print(\"I am a person and my name is {} {}\".format(self.firstname, self.lastname))\n",
    "\n",
    "#Use the Person class to create an object, and then execute the printname method:\n",
    "x = Person(\"Frenk\", \"Simanos\")\n",
    "x.print_name()"
   ]
  },
  {
   "cell_type": "code",
   "execution_count": 17,
   "id": "9af879ef",
   "metadata": {},
   "outputs": [],
   "source": [
    "class Student(Person):\n",
    "    pass"
   ]
  },
  {
   "cell_type": "code",
   "execution_count": 18,
   "id": "d4c61d7b",
   "metadata": {},
   "outputs": [
    {
     "name": "stdout",
     "output_type": "stream",
     "text": [
      "I am a person and my name is Harry Potter\n"
     ]
    }
   ],
   "source": [
    "x = Student(\"Harry\", \"Potter\")\n",
    "x.print_name()"
   ]
  },
  {
   "cell_type": "code",
   "execution_count": 19,
   "id": "3e204b68",
   "metadata": {},
   "outputs": [],
   "source": [
    "class Student(Person):\n",
    "    def __init__(self, fname, lname):\n",
    "        Person.__init__(self, fname, lname)   # You could here also use super() instead of Person"
   ]
  },
  {
   "cell_type": "code",
   "execution_count": 20,
   "id": "882cfa88",
   "metadata": {},
   "outputs": [],
   "source": [
    "class Student(Person):\n",
    "    def __init__(self, fname, lname, program):\n",
    "        Person.__init__(self, fname, lname)   \n",
    "        self.program = program\n",
    "        \n",
    "x = Student(\"Harry\", \"Potter\", \"sorcery\")"
   ]
  },
  {
   "cell_type": "code",
   "execution_count": 21,
   "id": "5979a818",
   "metadata": {},
   "outputs": [
    {
     "name": "stdout",
     "output_type": "stream",
     "text": [
      "I am a person and my name is Harry Potter. I am a student in sorcery.\n"
     ]
    }
   ],
   "source": [
    "class Student(Person):\n",
    "    def __init__(self, fname, lname, program):\n",
    "        Person.__init__(self, fname, lname)   \n",
    "        self.program = program\n",
    "    \n",
    "    def print_name(self):         # Overrides method of Person\n",
    "        print(\"I am a person and my name is {} {}. I am a student in {}.\".format(self.firstname, self.lastname, self.program))\n",
    "    \n",
    "    def print_program(self):      # New method specific to Student\n",
    "        print(self.program)\n",
    "        \n",
    "x = Student(\"Harry\", \"Potter\", \"sorcery\")\n",
    "x.print_name()"
   ]
  },
  {
   "cell_type": "code",
   "execution_count": 22,
   "id": "c74e6c5e",
   "metadata": {},
   "outputs": [
    {
     "data": {
      "text/plain": [
       "['__class__',\n",
       " '__delattr__',\n",
       " '__dict__',\n",
       " '__dir__',\n",
       " '__doc__',\n",
       " '__eq__',\n",
       " '__format__',\n",
       " '__ge__',\n",
       " '__getattribute__',\n",
       " '__gt__',\n",
       " '__hash__',\n",
       " '__init__',\n",
       " '__init_subclass__',\n",
       " '__le__',\n",
       " '__lt__',\n",
       " '__module__',\n",
       " '__ne__',\n",
       " '__new__',\n",
       " '__reduce__',\n",
       " '__reduce_ex__',\n",
       " '__repr__',\n",
       " '__setattr__',\n",
       " '__sizeof__',\n",
       " '__str__',\n",
       " '__subclasshook__',\n",
       " '__weakref__',\n",
       " 'print_name']"
      ]
     },
     "execution_count": 22,
     "metadata": {},
     "output_type": "execute_result"
    }
   ],
   "source": [
    "dir(Person)"
   ]
  },
  {
   "cell_type": "code",
   "execution_count": 23,
   "id": "2aaef378",
   "metadata": {},
   "outputs": [
    {
     "name": "stdout",
     "output_type": "stream",
     "text": [
      "Laila Koll TM 1\n"
     ]
    }
   ],
   "source": [
    "class BachelorStudent(Student):\n",
    "    def __init__(self, fname, lname, program, year):\n",
    "        Student.__init__(self, fname, lname, program)\n",
    "        self.year = year\n",
    "        \n",
    "    def printname(self):\n",
    "        print(self.firstname, self.lastname, self.program, self.year)\n",
    "\n",
    "x = BachelorStudent(\"Laila\", \"Koll\", \"TM\", 1)\n",
    "x.printname()"
   ]
  }
 ],
 "metadata": {
  "kernelspec": {
   "display_name": "Python 3 (ipykernel)",
   "language": "python",
   "name": "python3"
  },
  "language_info": {
   "codemirror_mode": {
    "name": "ipython",
    "version": 3
   },
   "file_extension": ".py",
   "mimetype": "text/x-python",
   "name": "python",
   "nbconvert_exporter": "python",
   "pygments_lexer": "ipython3",
   "version": "3.7.16"
  }
 },
 "nbformat": 4,
 "nbformat_minor": 5
}