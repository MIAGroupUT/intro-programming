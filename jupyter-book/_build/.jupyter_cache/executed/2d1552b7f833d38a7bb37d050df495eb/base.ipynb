{
 "cells": [
  {
   "cell_type": "code",
   "execution_count": 1,
   "id": "c170cc5e",
   "metadata": {},
   "outputs": [],
   "source": [
    "def factorial(n):                   # 1\n",
    "    if n > 0:                       # 2\n",
    "        return n * factorial(n-1)   # 3\n",
    "    else:                           # 4\n",
    "        return 1                    # 5"
   ]
  },
  {
   "cell_type": "code",
   "execution_count": 2,
   "id": "1dbf7bfa",
   "metadata": {},
   "outputs": [
    {
     "data": {
      "text/plain": [
       "6"
      ]
     },
     "execution_count": 2,
     "metadata": {},
     "output_type": "execute_result"
    }
   ],
   "source": [
    "factorial(3)"
   ]
  },
  {
   "cell_type": "code",
   "execution_count": 3,
   "id": "4440b363",
   "metadata": {},
   "outputs": [
    {
     "name": "stdout",
     "output_type": "stream",
     "text": [
      "Before sorting [969, 97, 324, 559, 903, 844, 72, 602, 699, 192, 463, 207, 475, 464, 814, 80, 767, 381, 834, 754, 72, 216, 4, 175, 724, 989, 637, 99, 135, 228, 282, 244, 150, 947, 447, 505, 456, 400, 82, 845, 631, 191, 870, 634, 110, 313, 345, 265, 115, 423, 323, 683, 405, 943, 262, 604, 729, 691, 35, 864, 652, 596, 325, 912, 827, 859, 730, 19, 92, 40, 732, 872, 994, 647, 330, 362, 648, 80, 821, 386, 147, 97, 363, 540, 53, 483, 910, 760, 381, 146, 258, 313, 900, 532, 203, 705, 698, 106, 968, 775]\n"
     ]
    },
    {
     "ename": "NameError",
     "evalue": "name 'bubble_sort' is not defined",
     "output_type": "error",
     "traceback": [
      "\u001b[0;31m---------------------------------------------------------------------------\u001b[0m",
      "\u001b[0;31mNameError\u001b[0m                                 Traceback (most recent call last)",
      "\u001b[0;32m/var/folders/07/x0gf6dj176dfjvrn357t5p6h0000gn/T/ipykernel_32070/1510315538.py\u001b[0m in \u001b[0;36m<module>\u001b[0;34m\u001b[0m\n\u001b[1;32m      3\u001b[0m \u001b[0mnumbers\u001b[0m \u001b[0;34m=\u001b[0m \u001b[0mlist\u001b[0m\u001b[0;34m(\u001b[0m\u001b[0mnp\u001b[0m\u001b[0;34m.\u001b[0m\u001b[0mrandom\u001b[0m\u001b[0;34m.\u001b[0m\u001b[0mrandint\u001b[0m\u001b[0;34m(\u001b[0m\u001b[0;36m0\u001b[0m\u001b[0;34m,\u001b[0m \u001b[0;36m1000\u001b[0m\u001b[0;34m,\u001b[0m \u001b[0;36m100\u001b[0m\u001b[0;34m)\u001b[0m\u001b[0;34m)\u001b[0m\u001b[0;34m\u001b[0m\u001b[0;34m\u001b[0m\u001b[0m\n\u001b[1;32m      4\u001b[0m \u001b[0mprint\u001b[0m\u001b[0;34m(\u001b[0m\u001b[0;34m'Before sorting {}'\u001b[0m\u001b[0;34m.\u001b[0m\u001b[0mformat\u001b[0m\u001b[0;34m(\u001b[0m\u001b[0mnumbers\u001b[0m\u001b[0;34m)\u001b[0m\u001b[0;34m)\u001b[0m\u001b[0;34m\u001b[0m\u001b[0;34m\u001b[0m\u001b[0m\n\u001b[0;32m----> 5\u001b[0;31m \u001b[0msorted\u001b[0m \u001b[0;34m=\u001b[0m \u001b[0mbubble_sort\u001b[0m\u001b[0;34m(\u001b[0m\u001b[0mnumbers\u001b[0m\u001b[0;34m)\u001b[0m\u001b[0;34m\u001b[0m\u001b[0;34m\u001b[0m\u001b[0m\n\u001b[0m\u001b[1;32m      6\u001b[0m \u001b[0mprint\u001b[0m\u001b[0;34m(\u001b[0m\u001b[0;34m'After sorting {}'\u001b[0m\u001b[0;34m.\u001b[0m\u001b[0mformat\u001b[0m\u001b[0;34m(\u001b[0m\u001b[0msorted\u001b[0m\u001b[0;34m)\u001b[0m\u001b[0;34m)\u001b[0m\u001b[0;34m\u001b[0m\u001b[0;34m\u001b[0m\u001b[0m\n",
      "\u001b[0;31mNameError\u001b[0m: name 'bubble_sort' is not defined"
     ]
    }
   ],
   "source": [
    "import numpy as np\n",
    "\n",
    "numbers = list(np.random.randint(0, 1000, 100))\n",
    "print('Before sorting {}'.format(numbers))\n",
    "sorted = bubble_sort(numbers)\n",
    "print('After sorting {}'.format(sorted))"
   ]
  },
  {
   "cell_type": "code",
   "execution_count": 4,
   "id": "6b24f461",
   "metadata": {},
   "outputs": [
    {
     "ename": "NameError",
     "evalue": "name 'dot_product' is not defined",
     "output_type": "error",
     "traceback": [
      "\u001b[0;31m---------------------------------------------------------------------------\u001b[0m",
      "\u001b[0;31mNameError\u001b[0m                                 Traceback (most recent call last)",
      "\u001b[0;32m/var/folders/07/x0gf6dj176dfjvrn357t5p6h0000gn/T/ipykernel_32070/896397102.py\u001b[0m in \u001b[0;36m<module>\u001b[0;34m\u001b[0m\n\u001b[1;32m      1\u001b[0m \u001b[0mvector_a\u001b[0m \u001b[0;34m=\u001b[0m \u001b[0;34m[\u001b[0m\u001b[0;36m3\u001b[0m\u001b[0;34m,\u001b[0m \u001b[0;36m5\u001b[0m\u001b[0;34m,\u001b[0m \u001b[0;36m9\u001b[0m\u001b[0;34m]\u001b[0m\u001b[0;34m\u001b[0m\u001b[0;34m\u001b[0m\u001b[0m\n\u001b[1;32m      2\u001b[0m \u001b[0mvector_b\u001b[0m \u001b[0;34m=\u001b[0m \u001b[0;34m[\u001b[0m\u001b[0;36m3.2\u001b[0m\u001b[0;34m,\u001b[0m \u001b[0;36m6\u001b[0m\u001b[0;34m,\u001b[0m \u001b[0;34m-\u001b[0m\u001b[0;36m5\u001b[0m\u001b[0;34m]\u001b[0m\u001b[0;34m\u001b[0m\u001b[0;34m\u001b[0m\u001b[0m\n\u001b[0;32m----> 3\u001b[0;31m \u001b[0mprint\u001b[0m\u001b[0;34m(\u001b[0m\u001b[0mdot_product\u001b[0m\u001b[0;34m(\u001b[0m\u001b[0mvector_a\u001b[0m\u001b[0;34m,\u001b[0m \u001b[0mvector_b\u001b[0m\u001b[0;34m)\u001b[0m\u001b[0;34m)\u001b[0m\u001b[0;34m\u001b[0m\u001b[0;34m\u001b[0m\u001b[0m\n\u001b[0m",
      "\u001b[0;31mNameError\u001b[0m: name 'dot_product' is not defined"
     ]
    }
   ],
   "source": [
    "vector_a = [3, 5, 9]\n",
    "vector_b = [3.2, 6, -5]\n",
    "print(dot_product(vector_a, vector_b))"
   ]
  },
  {
   "cell_type": "code",
   "execution_count": 5,
   "id": "2afe39a2",
   "metadata": {},
   "outputs": [
    {
     "ename": "SyntaxError",
     "evalue": "invalid syntax (726729786.py, line 1)",
     "output_type": "error",
     "traceback": [
      "\u001b[0;36m  File \u001b[0;32m\"/var/folders/07/x0gf6dj176dfjvrn357t5p6h0000gn/T/ipykernel_32070/726729786.py\"\u001b[0;36m, line \u001b[0;32m1\u001b[0m\n\u001b[0;31m    n = #\u001b[0m\n\u001b[0m          ^\u001b[0m\n\u001b[0;31mSyntaxError\u001b[0m\u001b[0;31m:\u001b[0m invalid syntax\n"
     ]
    }
   ],
   "source": [
    "n = # \n",
    "prime = is_prime(n)\n",
    "if prime:\n",
    "    print(f'{} is a prime number')\n",
    "else:\n",
    "    print(f'{} is not a prime number')"
   ]
  },
  {
   "cell_type": "code",
   "execution_count": null,
   "id": "8954dda4",
   "metadata": {},
   "outputs": [],
   "source": []
  }
 ],
 "metadata": {
  "jupytext": {
   "cell_metadata_filter": "-all",
   "main_language": "python",
   "notebook_metadata_filter": "-all"
  },
  "language_info": {
   "codemirror_mode": {
    "name": "ipython",
    "version": 3
   },
   "file_extension": ".py",
   "mimetype": "text/x-python",
   "name": "python",
   "nbconvert_exporter": "python",
   "pygments_lexer": "ipython3",
   "version": "3.7.16"
  }
 },
 "nbformat": 4,
 "nbformat_minor": 5
}