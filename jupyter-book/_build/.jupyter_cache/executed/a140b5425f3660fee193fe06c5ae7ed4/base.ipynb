{
 "cells": [
  {
   "cell_type": "code",
   "execution_count": 1,
   "id": "53a13900",
   "metadata": {},
   "outputs": [],
   "source": [
    "class Circle:\n",
    "    def __init__(self, radius):\n",
    "        self.radius = radius\n",
    "    \n",
    "    def calculate_area(self):\n",
    "        return round(math.pi * self.radius ** 2, 2)"
   ]
  },
  {
   "cell_type": "code",
   "execution_count": 2,
   "id": "8c1c89f8",
   "metadata": {},
   "outputs": [
    {
     "name": "stdout",
     "output_type": "stream",
     "text": [
      "John Doe\n"
     ]
    }
   ],
   "source": [
    "class Person:\n",
    "    def __init__(self, fname, lname):\n",
    "        self.firstname = fname\n",
    "        self.lastname = lname\n",
    "\n",
    "    def printname(self):\n",
    "        print(self.firstname, self.lastname)\n",
    "\n",
    "#Use the Person class to create an object, and then execute the printname method:\n",
    "x = Person(\"John\", \"Doe\")\n",
    "x.printname()"
   ]
  },
  {
   "cell_type": "code",
   "execution_count": 3,
   "id": "6ddf397f",
   "metadata": {},
   "outputs": [],
   "source": [
    "class Student(Person):\n",
    "    pass"
   ]
  },
  {
   "cell_type": "code",
   "execution_count": 4,
   "id": "f8dfabcf",
   "metadata": {},
   "outputs": [
    {
     "name": "stdout",
     "output_type": "stream",
     "text": [
      "Harry Potter\n"
     ]
    }
   ],
   "source": [
    "x = Student(\"Harry\", \"Potter\")\n",
    "x.printname()"
   ]
  },
  {
   "cell_type": "code",
   "execution_count": 5,
   "id": "4ba99613",
   "metadata": {},
   "outputs": [],
   "source": [
    "class Student(Person):\n",
    "    def __init__(self, fname, lname):\n",
    "        Person.__init__(self, fname, lname)   # You could here also use super() instead of Person"
   ]
  },
  {
   "cell_type": "code",
   "execution_count": 6,
   "id": "7de65711",
   "metadata": {},
   "outputs": [],
   "source": [
    "class Student(Person):\n",
    "    def __init__(self, fname, lname, program):\n",
    "        Person.__init__(self, fname, lname)   \n",
    "        self.program = program\n",
    "        \n",
    "x = Student(\"Harry\", \"Potter\", \"sorcery\")"
   ]
  },
  {
   "cell_type": "code",
   "execution_count": 7,
   "id": "35cbd171",
   "metadata": {},
   "outputs": [
    {
     "name": "stdout",
     "output_type": "stream",
     "text": [
      "Harry Potter sorcery\n",
      "sorcery\n"
     ]
    }
   ],
   "source": [
    "class Student(Person):\n",
    "    def __init__(self, fname, lname, program):\n",
    "        Person.__init__(self, fname, lname)   \n",
    "        self.program = program\n",
    "    \n",
    "    def printname(self):         # Overrides method of Person\n",
    "        print(self.firstname, self.lastname, self.program)\n",
    "    \n",
    "    def printprogram(self):      # New method specific to Student\n",
    "        print(self.program)\n",
    "        \n",
    "x = Student(\"Harry\", \"Potter\", \"sorcery\")\n",
    "x.printname()\n",
    "x.printprogram()"
   ]
  },
  {
   "cell_type": "code",
   "execution_count": 8,
   "id": "47cef8a0",
   "metadata": {},
   "outputs": [
    {
     "data": {
      "text/plain": [
       "['__class__',\n",
       " '__delattr__',\n",
       " '__dict__',\n",
       " '__dir__',\n",
       " '__doc__',\n",
       " '__eq__',\n",
       " '__format__',\n",
       " '__ge__',\n",
       " '__getattribute__',\n",
       " '__gt__',\n",
       " '__hash__',\n",
       " '__init__',\n",
       " '__init_subclass__',\n",
       " '__le__',\n",
       " '__lt__',\n",
       " '__module__',\n",
       " '__ne__',\n",
       " '__new__',\n",
       " '__reduce__',\n",
       " '__reduce_ex__',\n",
       " '__repr__',\n",
       " '__setattr__',\n",
       " '__sizeof__',\n",
       " '__str__',\n",
       " '__subclasshook__',\n",
       " '__weakref__',\n",
       " 'printname']"
      ]
     },
     "execution_count": 8,
     "metadata": {},
     "output_type": "execute_result"
    }
   ],
   "source": [
    "dir(Person)"
   ]
  },
  {
   "cell_type": "code",
   "execution_count": 9,
   "id": "c9b895ef",
   "metadata": {},
   "outputs": [
    {
     "name": "stdout",
     "output_type": "stream",
     "text": [
      "Frenk Saminis TM 1\n"
     ]
    }
   ],
   "source": [
    "class BachelorStudent(Student):\n",
    "    def __init__(self, fname, lname, program, year):\n",
    "        Student.__init__(self, fname, lname, program)\n",
    "        self.year = year\n",
    "        \n",
    "    def printname(self):\n",
    "        print(self.firstname, self.lastname, self.program, self.year)\n",
    "\n",
    "x = BachelorStudent(\"Frenk\", \"Saminis\", \"TM\", 1)\n",
    "x.printname()"
   ]
  },
  {
   "cell_type": "code",
   "execution_count": null,
   "id": "2e2c5680",
   "metadata": {},
   "outputs": [],
   "source": []
  }
 ],
 "metadata": {
  "jupytext": {
   "cell_metadata_filter": "-all",
   "main_language": "python",
   "notebook_metadata_filter": "-all"
  },
  "language_info": {
   "codemirror_mode": {
    "name": "ipython",
    "version": 3
   },
   "file_extension": ".py",
   "mimetype": "text/x-python",
   "name": "python",
   "nbconvert_exporter": "python",
   "pygments_lexer": "ipython3",
   "version": "3.7.16"
  }
 },
 "nbformat": 4,
 "nbformat_minor": 5
}