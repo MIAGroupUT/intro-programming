{
 "cells": [
  {
   "cell_type": "code",
   "execution_count": 1,
   "id": "a2fb6b58",
   "metadata": {},
   "outputs": [],
   "source": [
    "course_name = 'Introduction to programming'\n",
    "year = 2024"
   ]
  },
  {
   "cell_type": "code",
   "execution_count": 2,
   "id": "1aeac24a",
   "metadata": {},
   "outputs": [],
   "source": [
    "digits = (3, 5, 4)"
   ]
  },
  {
   "cell_type": "code",
   "execution_count": 3,
   "id": "de450e6a",
   "metadata": {},
   "outputs": [],
   "source": [
    "student_names = ('Alice', 'Bob', 'Claire')"
   ]
  },
  {
   "cell_type": "code",
   "execution_count": 4,
   "id": "16a848de",
   "metadata": {},
   "outputs": [],
   "source": [
    "passed_course = (True, False, True)"
   ]
  },
  {
   "cell_type": "code",
   "execution_count": 5,
   "id": "1f24eaa2",
   "metadata": {},
   "outputs": [
    {
     "name": "stdout",
     "output_type": "stream",
     "text": [
      "Alice\n"
     ]
    }
   ],
   "source": [
    "print(student_names[0])"
   ]
  },
  {
   "cell_type": "code",
   "execution_count": 6,
   "id": "6b2190c0",
   "metadata": {},
   "outputs": [
    {
     "name": "stdout",
     "output_type": "stream",
     "text": [
      "Bob\n",
      "Claire\n"
     ]
    }
   ],
   "source": [
    "print(student_names[1])\n",
    "print(student_names[2])"
   ]
  },
  {
   "cell_type": "code",
   "execution_count": 7,
   "id": "9cb8fb12",
   "metadata": {},
   "outputs": [
    {
     "name": "stdout",
     "output_type": "stream",
     "text": [
      "('Alice', 'Bob', 'Claire')\n"
     ]
    }
   ],
   "source": [
    "print(student_names)"
   ]
  },
  {
   "cell_type": "code",
   "execution_count": 8,
   "id": "f3992c85",
   "metadata": {},
   "outputs": [
    {
     "ename": "TypeError",
     "evalue": "'tuple' object does not support item assignment",
     "output_type": "error",
     "traceback": [
      "\u001b[0;31m---------------------------------------------------------------------------\u001b[0m",
      "\u001b[0;31mTypeError\u001b[0m                                 Traceback (most recent call last)",
      "\u001b[0;32m/var/folders/07/x0gf6dj176dfjvrn357t5p6h0000gn/T/ipykernel_32053/34016667.py\u001b[0m in \u001b[0;36m<module>\u001b[0;34m\u001b[0m\n\u001b[0;32m----> 1\u001b[0;31m \u001b[0mstudent_names\u001b[0m\u001b[0;34m[\u001b[0m\u001b[0;36m1\u001b[0m\u001b[0;34m]\u001b[0m \u001b[0;34m=\u001b[0m \u001b[0;34m'Bert'\u001b[0m\u001b[0;34m\u001b[0m\u001b[0;34m\u001b[0m\u001b[0m\n\u001b[0m",
      "\u001b[0;31mTypeError\u001b[0m: 'tuple' object does not support item assignment"
     ]
    }
   ],
   "source": [
    "student_names[1] = 'Bert'"
   ]
  },
  {
   "cell_type": "code",
   "execution_count": 9,
   "id": "373aabc6",
   "metadata": {},
   "outputs": [
    {
     "name": "stdout",
     "output_type": "stream",
     "text": [
      "('tomato', 'ham')\n"
     ]
    }
   ],
   "source": [
    "food = ('spam', 'egg', 'bacon', 'tomato', 'ham', 'lobster')\n",
    "print(food[3:5])"
   ]
  },
  {
   "cell_type": "code",
   "execution_count": 10,
   "id": "f58dfc26",
   "metadata": {},
   "outputs": [
    {
     "name": "stdout",
     "output_type": "stream",
     "text": [
      "('spam', 'egg', 'bacon', 'tomato')\n",
      "('bacon', 'tomato', 'ham', 'lobster')\n"
     ]
    }
   ],
   "source": [
    "print(food[:4])\n",
    "print(food[2:])"
   ]
  },
  {
   "cell_type": "code",
   "execution_count": 11,
   "id": "e02c6e37",
   "metadata": {},
   "outputs": [
    {
     "name": "stdout",
     "output_type": "stream",
     "text": [
      "('spam', 'egg', 'bacon', 'tomato', 'ham', 'lobster')\n"
     ]
    }
   ],
   "source": [
    "print(food[:])"
   ]
  },
  {
   "cell_type": "code",
   "execution_count": 12,
   "id": "6ca30079",
   "metadata": {},
   "outputs": [
    {
     "name": "stdout",
     "output_type": "stream",
     "text": [
      "('bacon', 'ham')\n"
     ]
    }
   ],
   "source": [
    "print(food[2:6:2])"
   ]
  },
  {
   "cell_type": "code",
   "execution_count": 13,
   "id": "7bb384ef",
   "metadata": {},
   "outputs": [
    {
     "name": "stdout",
     "output_type": "stream",
     "text": [
      "()\n"
     ]
    }
   ],
   "source": [
    "print(food[2:6:-1])"
   ]
  },
  {
   "cell_type": "code",
   "execution_count": 14,
   "id": "175e4239",
   "metadata": {},
   "outputs": [
    {
     "name": "stdout",
     "output_type": "stream",
     "text": [
      "('lobster', 'ham', 'tomato')\n"
     ]
    }
   ],
   "source": [
    "print(food[6:2:-1])"
   ]
  },
  {
   "cell_type": "code",
   "execution_count": 15,
   "id": "3f8e31aa",
   "metadata": {},
   "outputs": [
    {
     "name": "stdout",
     "output_type": "stream",
     "text": [
      "('lobster', 'ham', 'tomato', 'bacon', 'egg', 'spam')\n"
     ]
    }
   ],
   "source": [
    "print(food[::-1])"
   ]
  },
  {
   "cell_type": "code",
   "execution_count": 16,
   "id": "081b08ad",
   "metadata": {},
   "outputs": [
    {
     "name": "stdout",
     "output_type": "stream",
     "text": [
      "6\n"
     ]
    }
   ],
   "source": [
    "print(len(food))"
   ]
  },
  {
   "cell_type": "code",
   "execution_count": 17,
   "id": "aaa46783",
   "metadata": {},
   "outputs": [
    {
     "name": "stdout",
     "output_type": "stream",
     "text": [
      "('cheese', 'bread', ('tomato', 'eggplant'), 'milk')\n",
      "eggplant\n"
     ]
    }
   ],
   "source": [
    "vegetables = ('tomato', 'eggplant')\n",
    "groceries = ('cheese', 'bread', vegetables, 'milk')\n",
    "print(groceries)\n",
    "print(groceries[2][1])"
   ]
  },
  {
   "cell_type": "code",
   "execution_count": 18,
   "id": "5c786cbc",
   "metadata": {},
   "outputs": [
    {
     "name": "stdout",
     "output_type": "stream",
     "text": [
      "[3, 5, 4]\n"
     ]
    }
   ],
   "source": [
    "digits = [3, 5, 4] \n",
    "print(digits)"
   ]
  },
  {
   "cell_type": "code",
   "execution_count": 19,
   "id": "32e2e91c",
   "metadata": {},
   "outputs": [
    {
     "name": "stdout",
     "output_type": "stream",
     "text": [
      "[3, 6, 4]\n"
     ]
    }
   ],
   "source": [
    "digits[1] = 6\n",
    "print(digits)"
   ]
  },
  {
   "cell_type": "code",
   "execution_count": 20,
   "id": "319cddb1",
   "metadata": {},
   "outputs": [
    {
     "name": "stdout",
     "output_type": "stream",
     "text": [
      "[3, 6, 4, 6]\n"
     ]
    }
   ],
   "source": [
    "digits.append(6)\n",
    "print(digits)"
   ]
  },
  {
   "cell_type": "code",
   "execution_count": 21,
   "id": "015157c4",
   "metadata": {},
   "outputs": [
    {
     "name": "stdout",
     "output_type": "stream",
     "text": [
      "[3, 6, 4, 6, 7, 8]\n"
     ]
    }
   ],
   "source": [
    "digits.extend([7, 8])\n",
    "print(digits)"
   ]
  },
  {
   "cell_type": "code",
   "execution_count": 22,
   "id": "1d08ed19",
   "metadata": {},
   "outputs": [
    {
     "name": "stdout",
     "output_type": "stream",
     "text": [
      "[3, 6, 4, 6, 7, 8, 9, 10]\n"
     ]
    }
   ],
   "source": [
    "digits += [9, 10]\n",
    "print(digits)"
   ]
  },
  {
   "cell_type": "code",
   "execution_count": 23,
   "id": "a4a74242",
   "metadata": {},
   "outputs": [
    {
     "name": "stdout",
     "output_type": "stream",
     "text": [
      "['apple', 'cherry']\n",
      "banana\n",
      "['apple']\n"
     ]
    }
   ],
   "source": [
    "fruits = ['apple', 'banana', 'cherry']\n",
    "popped = fruits.pop(1)\n",
    "print(fruits)\n",
    "print(popped)\n",
    "fruits.remove('cherry')\n",
    "print(fruits)"
   ]
  },
  {
   "cell_type": "code",
   "execution_count": 24,
   "id": "ca335ae7",
   "metadata": {},
   "outputs": [
    {
     "name": "stdout",
     "output_type": "stream",
     "text": [
      "['hodor', 'hodor']\n"
     ]
    }
   ],
   "source": [
    "motto = ['hodor', 'hodor', 'hodor']\n",
    "motto.remove('hodor')\n",
    "print(motto)"
   ]
  },
  {
   "cell_type": "code",
   "execution_count": 25,
   "id": "f7bb08c0",
   "metadata": {},
   "outputs": [
    {
     "name": "stdout",
     "output_type": "stream",
     "text": [
      "{3, 4, 5}\n"
     ]
    }
   ],
   "source": [
    "digits = {3, 5, 5, 4}\n",
    "print(digits)"
   ]
  },
  {
   "cell_type": "code",
   "execution_count": 26,
   "id": "464be546",
   "metadata": {},
   "outputs": [
    {
     "name": "stdout",
     "output_type": "stream",
     "text": [
      "{'Dean', 'Bob'}\n",
      "{'Bob', 'Dean', 'Fran', 'Adam', 'Edward', 'Claire'}\n",
      "{'Claire', 'Adam'}\n"
     ]
    }
   ],
   "source": [
    "team_a = {'Adam', 'Bob', 'Claire', 'Dean'}\n",
    "team_b = {'Bob', 'Dean', 'Edward', 'Fran'}\n",
    "print(team_a.intersection(team_b)) # Who is in both groups (intersection)\n",
    "print(team_a.union(team_b)) # All people (union)\n",
    "print(team_a.difference(team_b)) # Everyone who is uniquely in group a"
   ]
  },
  {
   "cell_type": "code",
   "execution_count": 27,
   "id": "5f48de18",
   "metadata": {},
   "outputs": [
    {
     "name": "stdout",
     "output_type": "stream",
     "text": [
      "{'Bob', 'Dean', 'Adam', 'Edward', 'Claire'}\n",
      "{'Bob', 'Dean', 'Adam', 'Edward', 'Claire'}\n"
     ]
    }
   ],
   "source": [
    "team_a.add('Edward')\n",
    "print(team_a)\n",
    "print(team_a)"
   ]
  },
  {
   "cell_type": "code",
   "execution_count": 28,
   "id": "bec2f68a",
   "metadata": {},
   "outputs": [
    {
     "name": "stdout",
     "output_type": "stream",
     "text": [
      "{'brand': 'Ford', 'model': 'Mustang', 'year': 1964}\n"
     ]
    }
   ],
   "source": [
    "car = {\"brand\": \"Ford\", \"model\": \"Mustang\", \"year\": 1964}\n",
    "print(car)"
   ]
  },
  {
   "cell_type": "code",
   "execution_count": 29,
   "id": "1c54bbf7",
   "metadata": {},
   "outputs": [
    {
     "name": "stdout",
     "output_type": "stream",
     "text": [
      "Ford\n"
     ]
    }
   ],
   "source": [
    "print(car['brand'])"
   ]
  },
  {
   "cell_type": "code",
   "execution_count": 30,
   "id": "2fca6ab1",
   "metadata": {},
   "outputs": [
    {
     "name": "stdout",
     "output_type": "stream",
     "text": [
      "{'brand': 'Ford', 'model': 'Mustang', 'year': 1964, 'color': 'Blue'}\n"
     ]
    }
   ],
   "source": [
    "car['color'] = 'Blue'\n",
    "print(car)"
   ]
  },
  {
   "cell_type": "code",
   "execution_count": 31,
   "id": "e3924030",
   "metadata": {},
   "outputs": [
    {
     "name": "stdout",
     "output_type": "stream",
     "text": [
      "{'brand': 'Ford', 'year': 1964, 'color': 'Blue'}\n"
     ]
    }
   ],
   "source": [
    "del car['model']\n",
    "print(car)"
   ]
  },
  {
   "cell_type": "code",
   "execution_count": 32,
   "id": "8820c3d0",
   "metadata": {},
   "outputs": [
    {
     "name": "stdout",
     "output_type": "stream",
     "text": [
      "{1, 2, 3, 4, 5}\n",
      "(1, 2, 3, 4, 1, 2, 3, 1, 2, 3, 4, 5)\n"
     ]
    }
   ],
   "source": [
    "digits_list = [1, 2, 3, 4, 1, 2, 3, 1, 2, 3, 4, 5]\n",
    "print(set(digits_list)) # Cast digits_list to a set \n",
    "print(tuple(digits_list)) # Cast digits_list to a tuple"
   ]
  },
  {
   "cell_type": "code",
   "execution_count": 33,
   "id": "3d96436e",
   "metadata": {},
   "outputs": [
    {
     "name": "stdout",
     "output_type": "stream",
     "text": [
      "['brand', 'model', 'year']\n",
      "['Ford', 'Mustang', 1964]\n"
     ]
    }
   ],
   "source": [
    "car = {\"brand\": \"Ford\", \"model\": \"Mustang\", \"year\": 1964}\n",
    "print(list(car.keys()))\n",
    "print(list(car.values()))"
   ]
  },
  {
   "cell_type": "code",
   "execution_count": 34,
   "id": "b59a772b",
   "metadata": {},
   "outputs": [
    {
     "data": {
      "text/plain": [
       "{'brand': 'Ford', 'model': 'Mustang', 'year': 1964}"
      ]
     },
     "execution_count": 34,
     "metadata": {},
     "output_type": "execute_result"
    }
   ],
   "source": [
    "keys = ['brand', 'model', 'year']\n",
    "values = ['Ford', 'Mustang', 1964]\n",
    "dict(list(zip(keys, values)))"
   ]
  },
  {
   "cell_type": "code",
   "execution_count": 35,
   "id": "270aaf19",
   "metadata": {},
   "outputs": [
    {
     "name": "stdout",
     "output_type": "stream",
     "text": [
      "True\n",
      "True\n",
      "True\n",
      "True\n"
     ]
    }
   ],
   "source": [
    "digits = [1, 2, 3, 4]\n",
    "print(1 in digits)\n",
    "print(1 in (set(digits)))\n",
    "print(1 in tuple(digits))\n",
    "digits_dict = {1: 4, 2: 5}\n",
    "print(1 in digits_dict)"
   ]
  },
  {
   "cell_type": "code",
   "execution_count": 36,
   "id": "f4df5788",
   "metadata": {},
   "outputs": [
    {
     "data": {
      "text/plain": [
       "False"
      ]
     },
     "execution_count": 36,
     "metadata": {},
     "output_type": "execute_result"
    }
   ],
   "source": [
    "car = {\"brand\": \"Ford\", \"model\": \"Mustang\", \"year\": 1964}\n",
    "'brand' not in car"
   ]
  },
  {
   "cell_type": "code",
   "execution_count": 37,
   "id": "18bfe877",
   "metadata": {},
   "outputs": [
    {
     "name": "stdout",
     "output_type": "stream",
     "text": [
      "The sum of 45 and 76 is 121\n"
     ]
    }
   ],
   "source": [
    "a = 45\n",
    "b = 76\n",
    "print('The sum of {} and {} is {}'.format(a, b, a+b))"
   ]
  },
  {
   "cell_type": "code",
   "execution_count": 38,
   "id": "53791b40",
   "metadata": {},
   "outputs": [
    {
     "name": "stdout",
     "output_type": "stream",
     "text": [
      "The sum of 45 and 76 is 121\n"
     ]
    }
   ],
   "source": [
    "a = 45\n",
    "b = 76\n",
    "print('The sum of {number_a} and {number_b} is {sum_numbers}'.format(number_a=a, number_b=b, sum_numbers=a+b))"
   ]
  },
  {
   "cell_type": "code",
   "execution_count": 39,
   "id": "b4842d69",
   "metadata": {},
   "outputs": [
    {
     "name": "stdout",
     "output_type": "stream",
     "text": [
      "0.1111111111111111\n",
      "0.11\n",
      "0.11\n"
     ]
    }
   ],
   "source": [
    "a = 1/9\n",
    "print(a)  # Prints the 'raw' value of a with many decimals\n",
    "print('{:.2f}'.format(a)) # Only prints two decimals\n",
    "print('{number:.2f}'.format(number=a))  # Same as in previous line, but now with named argument"
   ]
  }
 ],
 "metadata": {
  "jupytext": {
   "cell_metadata_filter": "-all",
   "main_language": "python",
   "notebook_metadata_filter": "-all"
  },
  "language_info": {
   "codemirror_mode": {
    "name": "ipython",
    "version": 3
   },
   "file_extension": ".py",
   "mimetype": "text/x-python",
   "name": "python",
   "nbconvert_exporter": "python",
   "pygments_lexer": "ipython3",
   "version": "3.7.16"
  }
 },
 "nbformat": 4,
 "nbformat_minor": 5
}