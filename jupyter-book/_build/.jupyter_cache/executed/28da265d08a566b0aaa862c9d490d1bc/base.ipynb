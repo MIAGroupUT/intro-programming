{
 "cells": [
  {
   "cell_type": "code",
   "execution_count": 1,
   "id": "e27f9f21",
   "metadata": {},
   "outputs": [
    {
     "name": "stdout",
     "output_type": "stream",
     "text": [
      "[-1.          0.14112001  7.        ]\n",
      "3\n",
      "(3,)\n"
     ]
    }
   ],
   "source": [
    "import numpy as np\n",
    "\n",
    "v = np.array([-1, np.sin(3), 7])\n",
    "print(v)\n",
    "print(len(v))\n",
    "print(v.shape)"
   ]
  },
  {
   "cell_type": "code",
   "execution_count": 2,
   "id": "e202ce24",
   "metadata": {},
   "outputs": [
    {
     "name": "stdout",
     "output_type": "stream",
     "text": [
      "[ 1  5 11]\n",
      "[ 3  7 13]\n"
     ]
    }
   ],
   "source": [
    "v = np.array([-1, 2, 7])\n",
    "w = np.array([2, 3,  4])\n",
    "z = v + w                  # an element-by-element sum\n",
    "print(z)\n",
    "\n",
    "zz = z + 2                 # add 2 to every element of vector z\n",
    "print(zz)"
   ]
  },
  {
   "cell_type": "code",
   "execution_count": 3,
   "id": "e29976d8",
   "metadata": {},
   "outputs": [
    {
     "name": "stdout",
     "output_type": "stream",
     "text": [
      "2\n",
      "[-1  4  7]\n"
     ]
    }
   ],
   "source": [
    "print(v[1])                # print second element in the array\n",
    "v[1] = 4                   # change second element in the array to a 4\n",
    "print(v)"
   ]
  },
  {
   "cell_type": "code",
   "execution_count": 4,
   "id": "e2992ee1",
   "metadata": {},
   "outputs": [
    {
     "name": "stdout",
     "output_type": "stream",
     "text": [
      "[[1 3 4]]\n",
      "[[1]\n",
      " [3]\n",
      " [4]]\n"
     ]
    }
   ],
   "source": [
    "v_row = np.array([[1, 3, 4]])     # look closely, you'll see two square brackets instead of one\n",
    "print(v_row)\n",
    "v_col = np.array([[1], [3], [4]]) # now each element has its own row\n",
    "print(v_col)"
   ]
  },
  {
   "cell_type": "code",
   "execution_count": 5,
   "id": "22225f50",
   "metadata": {},
   "outputs": [
    {
     "name": "stdout",
     "output_type": "stream",
     "text": [
      "[[2 4 5]\n",
      " [4 6 7]\n",
      " [5 7 8]]\n"
     ]
    }
   ],
   "source": [
    "print(v_row + v_col)"
   ]
  },
  {
   "cell_type": "code",
   "execution_count": null,
   "id": "aab8d2cf",
   "metadata": {},
   "outputs": [],
   "source": []
  }
 ],
 "metadata": {
  "jupytext": {
   "cell_metadata_filter": "-all",
   "main_language": "python",
   "notebook_metadata_filter": "-all"
  },
  "language_info": {
   "codemirror_mode": {
    "name": "ipython",
    "version": 3
   },
   "file_extension": ".py",
   "mimetype": "text/x-python",
   "name": "python",
   "nbconvert_exporter": "python",
   "pygments_lexer": "ipython3",
   "version": "3.7.16"
  }
 },
 "nbformat": 4,
 "nbformat_minor": 5
}