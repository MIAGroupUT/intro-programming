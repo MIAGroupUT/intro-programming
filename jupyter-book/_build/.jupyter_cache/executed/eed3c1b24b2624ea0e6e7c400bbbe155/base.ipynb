{
 "cells": [
  {
   "cell_type": "code",
   "execution_count": 1,
   "id": "7a4ba49b",
   "metadata": {},
   "outputs": [],
   "source": [
    "import numpy as np"
   ]
  },
  {
   "cell_type": "code",
   "execution_count": 2,
   "id": "f737b111",
   "metadata": {},
   "outputs": [],
   "source": [
    "numbers = [1, 2, 3]\n",
    "numbers_array = np.array(numbers)"
   ]
  },
  {
   "cell_type": "code",
   "execution_count": 3,
   "id": "b5f7a1dc",
   "metadata": {},
   "outputs": [
    {
     "name": "stdout",
     "output_type": "stream",
     "text": [
      "List\n",
      "1\n",
      "[2, 3]\n",
      "[1, 3]\n",
      "Array\n",
      "1\n",
      "[2 3]\n",
      "[1 3]\n"
     ]
    }
   ],
   "source": [
    "print('List')\n",
    "print(numbers[0])\n",
    "print(numbers[1:])\n",
    "print(numbers[::2])\n",
    "\n",
    "print('Array')\n",
    "print(numbers_array[0])\n",
    "print(numbers_array[1:])\n",
    "print(numbers_array[::2])"
   ]
  },
  {
   "cell_type": "code",
   "execution_count": 4,
   "id": "134c2570",
   "metadata": {},
   "outputs": [
    {
     "name": "stdout",
     "output_type": "stream",
     "text": [
      "3\n"
     ]
    }
   ],
   "source": [
    "print(numbers_array.size)"
   ]
  },
  {
   "cell_type": "code",
   "execution_count": 5,
   "id": "a5deb561",
   "metadata": {},
   "outputs": [
    {
     "name": "stdout",
     "output_type": "stream",
     "text": [
      "(3,)\n"
     ]
    }
   ],
   "source": [
    "# Print the shape of numbers_array\n",
    "print(numbers_array.shape)"
   ]
  },
  {
   "cell_type": "code",
   "execution_count": 6,
   "id": "11183184",
   "metadata": {},
   "outputs": [
    {
     "name": "stdout",
     "output_type": "stream",
     "text": [
      "[[1 2]\n",
      " [3 4]]\n"
     ]
    }
   ],
   "source": [
    "array_2D = np.array([[1, 2],\n",
    "                     [3, 4]])\n",
    "\n",
    "print(array_2D)"
   ]
  },
  {
   "cell_type": "code",
   "execution_count": 7,
   "id": "657d8d0c",
   "metadata": {},
   "outputs": [
    {
     "name": "stdout",
     "output_type": "stream",
     "text": [
      "[[[1 2]\n",
      "  [3 4]]\n",
      "\n",
      " [[5 6]\n",
      "  [7 8]]]\n"
     ]
    }
   ],
   "source": [
    "array_3D = np.array([[[1, 2],\n",
    "                      [3, 4]],\n",
    "                     [[5, 6],\n",
    "                      [7, 8]]])\n",
    "\n",
    "print(array_3D)"
   ]
  },
  {
   "cell_type": "code",
   "execution_count": 8,
   "id": "8c33ba2a",
   "metadata": {},
   "outputs": [
    {
     "name": "stdout",
     "output_type": "stream",
     "text": [
      "[0. 0. 0. 0. 0.]\n",
      "[1. 1. 1. 1. 1.]\n"
     ]
    }
   ],
   "source": [
    "zeros_array = np.zeros((5))\n",
    "print(zeros_array)\n",
    "ones_array = np.ones((5))\n",
    "print(ones_array)"
   ]
  },
  {
   "cell_type": "code",
   "execution_count": 9,
   "id": "067a3709",
   "metadata": {},
   "outputs": [
    {
     "name": "stdout",
     "output_type": "stream",
     "text": [
      "2D array\n",
      "[[0. 0.]\n",
      " [0. 0.]]\n",
      "3D array\n",
      "[[[1. 1.]\n",
      "  [1. 1.]]\n",
      "\n",
      " [[1. 1.]\n",
      "  [1. 1.]]]\n"
     ]
    }
   ],
   "source": [
    "# Initialize a 2D array\n",
    "print('2D array')\n",
    "print(np.zeros((2, 2)))\n",
    "# Initialize a 3D array\n",
    "print('3D array')\n",
    "print(np.ones((2, 2, 2)))"
   ]
  },
  {
   "cell_type": "code",
   "execution_count": 10,
   "id": "ef4f15f1",
   "metadata": {},
   "outputs": [
    {
     "name": "stdout",
     "output_type": "stream",
     "text": [
      "[[[1. 1.]\n",
      "  [1. 1.]]\n",
      "\n",
      " [[1. 1.]\n",
      "  [1. 1.]]]\n"
     ]
    }
   ],
   "source": [
    "array_3D = np.array([[[1, 2],\n",
    "                      [3, 4]],\n",
    "                     [[5, 6],\n",
    "                      [7, 8]]])\n",
    "\n",
    "ones_array = np.ones(array_3D.shape)\n",
    "print(ones_array)"
   ]
  },
  {
   "cell_type": "code",
   "execution_count": 11,
   "id": "18bf5752",
   "metadata": {},
   "outputs": [
    {
     "name": "stdout",
     "output_type": "stream",
     "text": [
      "[[[1 1]\n",
      "  [1 1]]\n",
      "\n",
      " [[1 1]\n",
      "  [1 1]]]\n"
     ]
    }
   ],
   "source": [
    "ones_array = np.ones_like(array_3D)\n",
    "print(ones_array)"
   ]
  },
  {
   "cell_type": "code",
   "execution_count": 12,
   "id": "a5e6bf45",
   "metadata": {},
   "outputs": [
    {
     "name": "stdout",
     "output_type": "stream",
     "text": [
      "[-1.  -0.5  0.   0.5  1. ]\n"
     ]
    }
   ],
   "source": [
    "spaced_values = np.linspace(start=-1.0, stop=1.0, num=5)\n",
    "print(spaced_values)"
   ]
  },
  {
   "cell_type": "code",
   "execution_count": 13,
   "id": "51cce190",
   "metadata": {},
   "outputs": [
    {
     "name": "stdout",
     "output_type": "stream",
     "text": [
      "[-1.  -0.5  0.   0.5]\n"
     ]
    }
   ],
   "source": [
    "spaced_values = np.arange(start=-1.0, stop=1.0, step=0.5)\n",
    "print(spaced_values)"
   ]
  },
  {
   "cell_type": "code",
   "execution_count": 14,
   "id": "dd404442",
   "metadata": {},
   "outputs": [
    {
     "name": "stdout",
     "output_type": "stream",
     "text": [
      "[[0.36069425 0.89464115]\n",
      " [0.02028105 0.3121142 ]]\n"
     ]
    }
   ],
   "source": [
    "rand_array = np.random.rand(2, 2)\n",
    "print(rand_array)"
   ]
  },
  {
   "cell_type": "code",
   "execution_count": 15,
   "id": "202f45fd",
   "metadata": {},
   "outputs": [
    {
     "name": "stdout",
     "output_type": "stream",
     "text": [
      "[[-0.24511339  0.18541057]\n",
      " [-0.88932985 -0.13098254]]\n"
     ]
    }
   ],
   "source": [
    "randn_array = np.random.randn(2, 2)\n",
    "print(randn_array)"
   ]
  },
  {
   "cell_type": "code",
   "execution_count": 16,
   "id": "75f67b19",
   "metadata": {},
   "outputs": [
    {
     "data": {
      "image/png": "[encoded data removed]",
      "text/plain": [
       "<Figure size 1000x600 with 2 Axes>"
      ]
     },
     "metadata": {},
     "output_type": "display_data"
    }
   ],
   "source": [
    "import matplotlib.pyplot as plt\n",
    "\n",
    "uniform_values = np.random.rand(10000)\n",
    "normal_values = np.random.randn(10000)\n",
    "\n",
    "fig, (ax1, ax2) = plt.subplots(1, 2, figsize=(10, 6))\n",
    "ax1.hist(uniform_values, bins=20, edgecolor='white');\n",
    "ax1.set_title('Uniform distribution');\n",
    "ax1.set_ylabel('Frequency');\n",
    "ax2.hist(normal_values, bins=20, edgecolor='white');\n",
    "ax2.set_title('Normal distribution');\n",
    "ax2.set_ylabel('Frequency');"
   ]
  },
  {
   "cell_type": "code",
   "execution_count": 17,
   "id": "62037da0",
   "metadata": {},
   "outputs": [
    {
     "name": "stdout",
     "output_type": "stream",
     "text": [
      "[[ 0.90073187 -0.27831204]\n",
      " [ 1.14835336  4.33897188]]\n"
     ]
    }
   ],
   "source": [
    "rand_array = np.random.uniform(low=-5.0, high=5.0, size=(2,2))\n",
    "print(rand_array)\n",
    "\n",
    "randn_array = np.random.normal(loc=-10.0, scale=2.0, size=(2,2))"
   ]
  },
  {
   "cell_type": "code",
   "execution_count": 18,
   "id": "9e660671",
   "metadata": {},
   "outputs": [
    {
     "name": "stdout",
     "output_type": "stream",
     "text": [
      "[[6 8]\n",
      " [7 7]]\n"
     ]
    }
   ],
   "source": [
    "rand_array = np.random.randint(low=0, high=10, size=(2, 2))\n",
    "print(rand_array)"
   ]
  },
  {
   "cell_type": "code",
   "execution_count": 19,
   "id": "9ba75924",
   "metadata": {},
   "outputs": [
    {
     "name": "stdout",
     "output_type": "stream",
     "text": [
      "[[ 7  0 18  4]\n",
      " [ 7  7  0  1]\n",
      " [ 6  2  7 16]\n",
      " [17  5  8 19]]\n",
      "[[7 0]\n",
      " [7 7]]\n"
     ]
    }
   ],
   "source": [
    "square_matrix = np.random.randint(low=0, high=20, size=(4, 4))\n",
    "print(square_matrix)\n",
    "print(square_matrix[:2, :2])"
   ]
  },
  {
   "cell_type": "code",
   "execution_count": 20,
   "id": "472f5438",
   "metadata": {},
   "outputs": [
    {
     "name": "stdout",
     "output_type": "stream",
     "text": [
      "[[ 7  1]\n",
      " [ 5 19]]\n"
     ]
    }
   ],
   "source": [
    "print(square_matrix[1::2, 1::2])"
   ]
  },
  {
   "cell_type": "code",
   "execution_count": 21,
   "id": "0867a1e8",
   "metadata": {},
   "outputs": [
    {
     "name": "stdout",
     "output_type": "stream",
     "text": [
      "[ 7  0 18  4]\n",
      "[ 7  7  6 17]\n"
     ]
    }
   ],
   "source": [
    "print(square_matrix[0, :])  # Print the first row of square_matrix\n",
    "print(square_matrix[:, 0])  # Print the first column of square_matrix"
   ]
  },
  {
   "cell_type": "code",
   "execution_count": 22,
   "id": "e3a1f3cf",
   "metadata": {},
   "outputs": [
    {
     "name": "stdout",
     "output_type": "stream",
     "text": [
      "[ 7  0 18  4]\n"
     ]
    }
   ],
   "source": [
    "print(square_matrix[0])"
   ]
  },
  {
   "cell_type": "code",
   "execution_count": 23,
   "id": "a7820417",
   "metadata": {},
   "outputs": [
    {
     "name": "stdout",
     "output_type": "stream",
     "text": [
      "[[19  8  5 17]\n",
      " [16  7  2  6]\n",
      " [ 1  0  7  7]\n",
      " [ 4 18  0  7]]\n"
     ]
    }
   ],
   "source": [
    "print(square_matrix[::-1, ::-1])  # Flips the matrix up-down and left-right"
   ]
  },
  {
   "cell_type": "code",
   "execution_count": 24,
   "id": "4b1044a4",
   "metadata": {},
   "outputs": [
    {
     "name": "stdout",
     "output_type": "stream",
     "text": [
      "[[1. 0. 1. 0. 1. 0. 1. 0.]\n",
      " [0. 1. 0. 1. 0. 1. 0. 1.]\n",
      " [1. 0. 1. 0. 1. 0. 1. 0.]\n",
      " [0. 1. 0. 1. 0. 1. 0. 1.]\n",
      " [1. 0. 1. 0. 1. 0. 1. 0.]\n",
      " [0. 1. 0. 1. 0. 1. 0. 1.]\n",
      " [1. 0. 1. 0. 1. 0. 1. 0.]\n",
      " [0. 1. 0. 1. 0. 1. 0. 1.]]\n"
     ]
    }
   ],
   "source": [
    "board = np.zeros((8, 8))   # Make an 8 x 8 times array of zeros\n",
    "board[::2, ::2] = 1        # Set every even element of every even row to 1\n",
    "board[1::2, 1::2] = 1      # Set every odd element of every odd row to 1\n",
    "print(board)"
   ]
  },
  {
   "cell_type": "code",
   "execution_count": 25,
   "id": "43d9984d",
   "metadata": {},
   "outputs": [
    {
     "name": "stdout",
     "output_type": "stream",
     "text": [
      "array a\n",
      "[[0. 0. 0. 0. 0.]\n",
      " [0. 0. 0. 0. 0.]\n",
      " [0. 0. 0. 0. 0.]\n",
      " [0. 0. 0. 0. 0.]\n",
      " [0. 0. 0. 0. 0.]]\n",
      "array b\n",
      "[[1. 1. 1. 1. 1.]\n",
      " [1. 1. 1. 1. 1.]\n",
      " [1. 1. 1. 1. 1.]\n",
      " [1. 1. 1. 1. 1.]\n",
      " [1. 1. 1. 1. 1.]]\n",
      "changed a\n",
      "[[1. 1. 1. 1. 1.]\n",
      " [0. 0. 0. 0. 0.]\n",
      " [1. 1. 1. 1. 1.]\n",
      " [0. 0. 0. 0. 0.]\n",
      " [1. 1. 1. 1. 1.]]\n"
     ]
    }
   ],
   "source": [
    "rand_matrix_a = np.zeros((5, 5))\n",
    "rand_matrix_b = np.ones((5, 5))\n",
    "print('array a')\n",
    "print(rand_matrix_a)\n",
    "print('array b')\n",
    "print(rand_matrix_b)\n",
    "rand_matrix_a[::2, :] = rand_matrix_b[::2, :]\n",
    "print('changed a')\n",
    "print(rand_matrix_a)"
   ]
  },
  {
   "cell_type": "code",
   "execution_count": 26,
   "id": "2a688039",
   "metadata": {},
   "outputs": [
    {
     "name": "stdout",
     "output_type": "stream",
     "text": [
      "[ 5  7 11 13]\n"
     ]
    }
   ],
   "source": [
    "a = np.array([1, 5, 3, 7]) # Create one array\n",
    "b = np.array([4, 2, 8, 6]) # Create second array\n",
    "\n",
    "print(a+b)"
   ]
  },
  {
   "cell_type": "code",
   "execution_count": 27,
   "id": "658b7021",
   "metadata": {},
   "outputs": [
    {
     "name": "stdout",
     "output_type": "stream",
     "text": [
      "[0.25       2.5        0.375      1.16666667]\n"
     ]
    }
   ],
   "source": [
    "print(a/b)"
   ]
  },
  {
   "cell_type": "code",
   "execution_count": 28,
   "id": "e377b319",
   "metadata": {},
   "outputs": [
    {
     "name": "stdout",
     "output_type": "stream",
     "text": [
      "[0 2 0 1]\n"
     ]
    }
   ],
   "source": [
    "print(a//b)"
   ]
  },
  {
   "cell_type": "code",
   "execution_count": 29,
   "id": "1d83a4e8",
   "metadata": {},
   "outputs": [
    {
     "name": "stdout",
     "output_type": "stream",
     "text": [
      "[     1     25   6561 117649]\n"
     ]
    }
   ],
   "source": [
    "print(a**b)"
   ]
  },
  {
   "cell_type": "code",
   "execution_count": 30,
   "id": "98671d0c",
   "metadata": {},
   "outputs": [
    {
     "name": "stdout",
     "output_type": "stream",
     "text": [
      "[1 1 3 1]\n"
     ]
    }
   ],
   "source": [
    "print(a%b)"
   ]
  },
  {
   "cell_type": "code",
   "execution_count": 31,
   "id": "c05d6f0c",
   "metadata": {},
   "outputs": [
    {
     "name": "stdout",
     "output_type": "stream",
     "text": [
      "[False  True False  True]\n"
     ]
    }
   ],
   "source": [
    "print(a>b)"
   ]
  },
  {
   "cell_type": "code",
   "execution_count": 32,
   "id": "3819e6b8",
   "metadata": {},
   "outputs": [
    {
     "name": "stdout",
     "output_type": "stream",
     "text": [
      "[ True False  True False]\n"
     ]
    }
   ],
   "source": [
    "print(a<b)"
   ]
  },
  {
   "cell_type": "code",
   "execution_count": 33,
   "id": "5f07e9f8",
   "metadata": {},
   "outputs": [
    {
     "name": "stdout",
     "output_type": "stream",
     "text": [
      "[False False False False]\n"
     ]
    }
   ],
   "source": [
    "print(a==b)"
   ]
  },
  {
   "cell_type": "code",
   "execution_count": 34,
   "id": "4b028028",
   "metadata": {},
   "outputs": [
    {
     "name": "stdout",
     "output_type": "stream",
     "text": [
      "[1 5 3 7]\n"
     ]
    }
   ],
   "source": [
    "print(a)"
   ]
  },
  {
   "cell_type": "code",
   "execution_count": 35,
   "id": "fd14eba7",
   "metadata": {},
   "outputs": [
    {
     "name": "stdout",
     "output_type": "stream",
     "text": [
      "[ 5  7 11 13]\n"
     ]
    }
   ],
   "source": [
    "a+=b\n",
    "print(a)"
   ]
  },
  {
   "cell_type": "code",
   "execution_count": 36,
   "id": "90ea5db8",
   "metadata": {},
   "outputs": [
    {
     "name": "stdout",
     "output_type": "stream",
     "text": [
      "[1 5 3 7]\n"
     ]
    }
   ],
   "source": [
    "a-=b\n",
    "print(a)"
   ]
  },
  {
   "cell_type": "code",
   "execution_count": 37,
   "id": "1c64a878",
   "metadata": {},
   "outputs": [
    {
     "name": "stdout",
     "output_type": "stream",
     "text": [
      "[ 4 10 24 42]\n"
     ]
    }
   ],
   "source": [
    "a*=b\n",
    "print(a)"
   ]
  },
  {
   "cell_type": "code",
   "execution_count": 38,
   "id": "4ecc3991",
   "metadata": {},
   "outputs": [
    {
     "name": "stdout",
     "output_type": "stream",
     "text": [
      "[2.         3.16227766 4.89897949 6.4807407 ]\n"
     ]
    }
   ],
   "source": [
    "print(np.sqrt(a))"
   ]
  },
  {
   "cell_type": "code",
   "execution_count": 39,
   "id": "1403cc80",
   "metadata": {},
   "outputs": [
    {
     "name": "stdout",
     "output_type": "stream",
     "text": [
      "[5.45981500e+01 2.20264658e+04 2.64891221e+10 1.73927494e+18]\n"
     ]
    }
   ],
   "source": [
    "print(np.exp(a))"
   ]
  },
  {
   "cell_type": "code",
   "execution_count": 40,
   "id": "2d6afd0f",
   "metadata": {},
   "outputs": [
    {
     "name": "stdout",
     "output_type": "stream",
     "text": [
      "[1.38629436 2.30258509 3.17805383 3.73766962]\n"
     ]
    }
   ],
   "source": [
    "print(np.log(a))"
   ]
  },
  {
   "cell_type": "code",
   "execution_count": 41,
   "id": "2f8b62c1",
   "metadata": {},
   "outputs": [
    {
     "name": "stdout",
     "output_type": "stream",
     "text": [
      "[0.60205999 1.         1.38021124 1.62324929]\n"
     ]
    }
   ],
   "source": [
    "print(np.log10(a))"
   ]
  },
  {
   "cell_type": "code",
   "execution_count": 42,
   "id": "606bf045",
   "metadata": {
    "lines_to_next_cell": 2
   },
   "outputs": [
    {
     "name": "stdout",
     "output_type": "stream",
     "text": [
      "[2 4 6]\n"
     ]
    }
   ],
   "source": [
    "a = np.array([1, 2, 3])\n",
    "b = 2\n",
    "result = a * b\n",
    "print(result)"
   ]
  },
  {
   "cell_type": "code",
   "execution_count": 43,
   "id": "55ad190e",
   "metadata": {},
   "outputs": [
    {
     "name": "stdout",
     "output_type": "stream",
     "text": [
      "[[8 6 8 3]\n",
      " [1 9 2 6]\n",
      " [1 4 6 4]\n",
      " [7 4 6 1]]\n",
      "The minimum value is 1\n"
     ]
    }
   ],
   "source": [
    "rand_matrix = np.random.randint(low=0, high=10, size=((4, 4)))\n",
    "print(rand_matrix)\n",
    "print('The minimum value is {}'.format(np.min(rand_matrix))) # Prints the minimum across *all* entries in the matrix"
   ]
  },
  {
   "cell_type": "code",
   "execution_count": 44,
   "id": "2f89e6a1",
   "metadata": {},
   "outputs": [
    {
     "name": "stdout",
     "output_type": "stream",
     "text": [
      "The minimum values are [1 4 2 1]\n"
     ]
    }
   ],
   "source": [
    "print('The minimum values are {}'.format(np.min(rand_matrix, axis=0)))"
   ]
  },
  {
   "cell_type": "code",
   "execution_count": 45,
   "id": "04b57c2f",
   "metadata": {},
   "outputs": [
    {
     "name": "stdout",
     "output_type": "stream",
     "text": [
      "The minimum values are [3 1 1 1]\n"
     ]
    }
   ],
   "source": [
    "print('The minimum values are {}'.format(np.min(rand_matrix, axis=1)))"
   ]
  },
  {
   "cell_type": "code",
   "execution_count": 46,
   "id": "3054630f",
   "metadata": {},
   "outputs": [
    {
     "name": "stdout",
     "output_type": "stream",
     "text": [
      "[ 4.  7.  6.  3.  5.  9. nan  4. 10. nan  8.  6.  9. 12.]\n"
     ]
    }
   ],
   "source": [
    "temperatures = np.array([4, 7, 6, 3, 5, 9, np.nan, 4, 10, np.nan, 8, 6, 9, 12])\n",
    "print(temperatures)"
   ]
  },
  {
   "cell_type": "code",
   "execution_count": 47,
   "id": "4dd819bf",
   "metadata": {},
   "outputs": [
    {
     "data": {
      "text/plain": [
       "array([False, False, False, False, False, False,  True, False, False,\n",
       "        True, False, False, False, False])"
      ]
     },
     "execution_count": 47,
     "metadata": {},
     "output_type": "execute_result"
    }
   ],
   "source": [
    "np.isnan(temperatures)"
   ]
  },
  {
   "cell_type": "code",
   "execution_count": 48,
   "id": "e73cde0a",
   "metadata": {},
   "outputs": [
    {
     "data": {
      "text/plain": [
       "True"
      ]
     },
     "execution_count": 48,
     "metadata": {},
     "output_type": "execute_result"
    }
   ],
   "source": [
    "np.isnan(temperatures).any()"
   ]
  },
  {
   "cell_type": "code",
   "execution_count": 49,
   "id": "a9d33a50",
   "metadata": {},
   "outputs": [
    {
     "data": {
      "text/plain": [
       "nan"
      ]
     },
     "execution_count": 49,
     "metadata": {},
     "output_type": "execute_result"
    }
   ],
   "source": [
    "np.max(temperatures)"
   ]
  },
  {
   "cell_type": "code",
   "execution_count": 50,
   "id": "b50dd621",
   "metadata": {},
   "outputs": [
    {
     "data": {
      "text/plain": [
       "nan"
      ]
     },
     "execution_count": 50,
     "metadata": {},
     "output_type": "execute_result"
    }
   ],
   "source": [
    "np.sum(temperatures)"
   ]
  },
  {
   "cell_type": "code",
   "execution_count": 51,
   "id": "f25c3deb",
   "metadata": {},
   "outputs": [
    {
     "data": {
      "text/plain": [
       "12.0"
      ]
     },
     "execution_count": 51,
     "metadata": {},
     "output_type": "execute_result"
    }
   ],
   "source": [
    "np.nanmax(temperatures)"
   ]
  },
  {
   "cell_type": "code",
   "execution_count": 52,
   "id": "771dab23",
   "metadata": {},
   "outputs": [
    {
     "data": {
      "text/plain": [
       "83.0"
      ]
     },
     "execution_count": 52,
     "metadata": {},
     "output_type": "execute_result"
    }
   ],
   "source": [
    "np.nansum(temperatures)"
   ]
  },
  {
   "cell_type": "code",
   "execution_count": 53,
   "id": "d4adf6b0",
   "metadata": {},
   "outputs": [
    {
     "data": {
      "text/plain": [
       "6.916666666666667"
      ]
     },
     "execution_count": 53,
     "metadata": {},
     "output_type": "execute_result"
    }
   ],
   "source": [
    "np.nanmean(temperatures)"
   ]
  },
  {
   "cell_type": "code",
   "execution_count": 54,
   "id": "7c40059f",
   "metadata": {},
   "outputs": [
    {
     "name": "stdout",
     "output_type": "stream",
     "text": [
      "[1 3 5]\n"
     ]
    }
   ],
   "source": [
    "a = np.array([1, 2, 3, 4, 5])\n",
    "print(a[[0, 2, -1]])          # Provide a list of indices, here [0, 2, -1]"
   ]
  },
  {
   "cell_type": "code",
   "execution_count": 55,
   "id": "4d4892bc",
   "metadata": {},
   "outputs": [
    {
     "name": "stdout",
     "output_type": "stream",
     "text": [
      "[[6 6 5 4]\n",
      " [3 8 8 7]\n",
      " [7 0 6 4]\n",
      " [0 4 7 8]]\n",
      "[6 4]\n"
     ]
    }
   ],
   "source": [
    "a = np.random.randint(0, 10, (4, 4))\n",
    "print(a)\n",
    "print(a[[0, 2], [1, 3]])"
   ]
  },
  {
   "cell_type": "code",
   "execution_count": 56,
   "id": "30454af7",
   "metadata": {},
   "outputs": [
    {
     "name": "stdout",
     "output_type": "stream",
     "text": [
      "[1 2 5]\n"
     ]
    }
   ],
   "source": [
    "a = np.array([1, 2, 3, 4, 5])\n",
    "print(a[[True, True, False, False, True]])"
   ]
  },
  {
   "cell_type": "code",
   "execution_count": 57,
   "id": "696a7b97",
   "metadata": {},
   "outputs": [
    {
     "name": "stdout",
     "output_type": "stream",
     "text": [
      "[False False  True  True  True]\n"
     ]
    }
   ],
   "source": [
    "mask = a > 2\n",
    "print(mask)      # This array has the same shape as variable a"
   ]
  },
  {
   "cell_type": "code",
   "execution_count": 58,
   "id": "7c96f6e3",
   "metadata": {},
   "outputs": [
    {
     "name": "stdout",
     "output_type": "stream",
     "text": [
      "[3 4 5]\n"
     ]
    }
   ],
   "source": [
    "print(a[mask])"
   ]
  },
  {
   "cell_type": "code",
   "execution_count": 59,
   "id": "6753c464",
   "metadata": {},
   "outputs": [
    {
     "name": "stdout",
     "output_type": "stream",
     "text": [
      "[3 4 5]\n"
     ]
    }
   ],
   "source": [
    "print(a[a>2])"
   ]
  },
  {
   "cell_type": "code",
   "execution_count": 60,
   "id": "f513cb5b",
   "metadata": {},
   "outputs": [
    {
     "name": "stdout",
     "output_type": "stream",
     "text": [
      "[9 3 4 3 4 4 9 5 5 5 3]\n"
     ]
    }
   ],
   "source": [
    "a = np.random.randint(0, 10, (4, 4))\n",
    "print(a[a>2])     # Print all values from the 2D matrix that are larger than 2"
   ]
  },
  {
   "cell_type": "code",
   "execution_count": 61,
   "id": "791f61e1",
   "metadata": {
    "lines_to_next_cell": 2
   },
   "outputs": [
    {
     "name": "stdout",
     "output_type": "stream",
     "text": [
      "Full matrix\n",
      "[[8 4 4 4 6 6 1 5]\n",
      " [5 2 8 7 5 0 7 8]\n",
      " [6 6 5 0 5 7 5 1]\n",
      " [7 3 6 6 0 5 1 0]\n",
      " [0 6 5 9 6 1 1 4]\n",
      " [9 4 0 7 7 6 1 7]\n",
      " [6 9 9 9 7 4 2 3]\n",
      " [3 1 8 7 3 2 5 8]]\n",
      "Selected rows, every second element\n",
      "[[8 4 6 1]\n",
      " [6 5 5 5]\n",
      " [7 6 0 1]\n",
      " [0 5 6 1]\n",
      " [3 8 3 5]]\n"
     ]
    }
   ],
   "source": [
    "a = np.random.randint(0, 10, (8, 8))\n",
    "print('Full matrix')\n",
    "print(a)\n",
    "print('Selected rows, every second element')\n",
    "print(a[np.sum(a, 0)>35, ::2]) # Here we select only those rows whose sum is >35, and in those rows only every second element"
   ]
  },
  {
   "cell_type": "code",
   "execution_count": 62,
   "id": "99af297a",
   "metadata": {},
   "outputs": [
    {
     "name": "stdout",
     "output_type": "stream",
     "text": [
      "[[1 2 3 4]\n",
      " [5 6 7 8]]\n",
      "[[1 2]\n",
      " [3 4]\n",
      " [5 6]\n",
      " [7 8]]\n"
     ]
    }
   ],
   "source": [
    "landscape = np.array([[1, 2, 3, 4],\n",
    "                      [5, 6, 7, 8]])\n",
    "print(landscape)\n",
    "portrait = np.reshape(landscape, (4, 2))\n",
    "print(portrait)"
   ]
  },
  {
   "cell_type": "code",
   "execution_count": 63,
   "id": "13b9da1b",
   "metadata": {},
   "outputs": [
    {
     "name": "stdout",
     "output_type": "stream",
     "text": [
      "[[[1 2]\n",
      "  [3 4]]\n",
      "\n",
      " [[5 6]\n",
      "  [7 8]]]\n"
     ]
    }
   ],
   "source": [
    "cube = np.reshape(portrait, (2, 2, 2))\n",
    "print(cube)"
   ]
  },
  {
   "cell_type": "code",
   "execution_count": 64,
   "id": "2ac4a1a9",
   "metadata": {},
   "outputs": [
    {
     "name": "stdout",
     "output_type": "stream",
     "text": [
      "[1 2 3 4 5 6 7 8]\n",
      "[1 2 3 4 5 6 7 8]\n"
     ]
    }
   ],
   "source": [
    "bar = np.reshape(cube, (8))\n",
    "print(bar)\n",
    "\n",
    "bar_flat = cube.flatten()\n",
    "print(bar_flat)"
   ]
  },
  {
   "cell_type": "code",
   "execution_count": 65,
   "id": "9861f0b9",
   "metadata": {},
   "outputs": [
    {
     "name": "stdout",
     "output_type": "stream",
     "text": [
      "[[1 2]\n",
      " [3 4]]\n",
      "[[1 3]\n",
      " [2 4]]\n"
     ]
    }
   ],
   "source": [
    "a = np.array([[1, 2],\n",
    "              [3, 4]])\n",
    "\n",
    "print(a)\n",
    "print(a.T)"
   ]
  },
  {
   "cell_type": "code",
   "execution_count": 66,
   "id": "d67b2068",
   "metadata": {},
   "outputs": [
    {
     "name": "stdout",
     "output_type": "stream",
     "text": [
      "[[1 2 5 6]\n",
      " [3 4 7 8]]\n"
     ]
    }
   ],
   "source": [
    "a = np.array([[1, 2],\n",
    "              [3, 4]])\n",
    "b = np.array([[5, 6],\n",
    "              [7, 8]])\n",
    "\n",
    "print(np.hstack((a, b)))"
   ]
  },
  {
   "cell_type": "code",
   "execution_count": 67,
   "id": "bf9873ab",
   "metadata": {},
   "outputs": [
    {
     "name": "stdout",
     "output_type": "stream",
     "text": [
      "[[1 2]\n",
      " [3 4]\n",
      " [5 6]\n",
      " [7 8]]\n"
     ]
    }
   ],
   "source": [
    "print(np.vstack((a, b)))"
   ]
  },
  {
   "cell_type": "code",
   "execution_count": 68,
   "id": "76a9c8cb",
   "metadata": {},
   "outputs": [
    {
     "name": "stdout",
     "output_type": "stream",
     "text": [
      "[[1 2 5 6]\n",
      " [3 4 7 8]]\n"
     ]
    }
   ],
   "source": [
    "print(np.concatenate((a, b), axis=1)) # Same as hstack"
   ]
  },
  {
   "cell_type": "code",
   "execution_count": 69,
   "id": "f3e0de0e",
   "metadata": {},
   "outputs": [
    {
     "name": "stdout",
     "output_type": "stream",
     "text": [
      "[[1 2]\n",
      " [3 4]\n",
      " [5 6]\n",
      " [7 8]]\n"
     ]
    }
   ],
   "source": [
    "print(np.concatenate((a, b), axis=0)) # Same as vstack"
   ]
  },
  {
   "cell_type": "code",
   "execution_count": 70,
   "id": "d52fb310",
   "metadata": {},
   "outputs": [
    {
     "name": "stdout",
     "output_type": "stream",
     "text": [
      "[1 2 1 2 1 2 1 2 1 2]\n"
     ]
    }
   ],
   "source": [
    "element = np.array([1, 2])\n",
    "tile_result = np.tile(element, (5))\n",
    "print(tile_result)"
   ]
  },
  {
   "cell_type": "code",
   "execution_count": 71,
   "id": "15ee463d",
   "metadata": {},
   "outputs": [],
   "source": [
    "random_array = np.random.rand(10, 10)\n",
    "np.save('random', random_array)"
   ]
  },
  {
   "cell_type": "code",
   "execution_count": 72,
   "id": "67bf3e52",
   "metadata": {},
   "outputs": [],
   "source": [
    "random_restored = np.load('random.npy')"
   ]
  },
  {
   "cell_type": "code",
   "execution_count": 73,
   "id": "4d32215f",
   "metadata": {},
   "outputs": [],
   "source": [
    "a=np.array([[1, 2, 3], [4, 5, 6]]) # Create an array\n",
    "b=np.array([1, 2])                 # Create another array\n",
    "np.savez('multiple.npz', a=a, b=b) # Save both arrays in one file"
   ]
  },
  {
   "cell_type": "code",
   "execution_count": 74,
   "id": "28b722e1",
   "metadata": {},
   "outputs": [
    {
     "name": "stdout",
     "output_type": "stream",
     "text": [
      "['a', 'b']\n",
      "[[1 2 3]\n",
      " [4 5 6]]\n",
      "[1 2]\n"
     ]
    }
   ],
   "source": [
    "data = np.load('multiple.npz')\n",
    "print(data.files) # Gives the names of the variables in the npz file\n",
    "print(data['a'])  # Get the variable with the key 'a'\n",
    "print(data['b'])  # Get the variable with the key 'b' \n",
    "data.close()"
   ]
  },
  {
   "cell_type": "code",
   "execution_count": 75,
   "id": "67e1dc4e",
   "metadata": {},
   "outputs": [],
   "source": [
    "# Dot product \n",
    "import numpy as np\n",
    "\n",
    "def dot_product(a, b):\n",
    "    dot = 0\n",
    "    for v_a, v_b in zip(a, b):\n",
    "        dot += v_a * v_b\n",
    "    return dot"
   ]
  },
  {
   "cell_type": "code",
   "execution_count": 76,
   "id": "609f51fc",
   "metadata": {},
   "outputs": [
    {
     "name": "stdout",
     "output_type": "stream",
     "text": [
      "224 µs ± 2.28 µs per loop (mean ± std. dev. of 7 runs, 100 loops each)\n"
     ]
    }
   ],
   "source": [
    "a = np.random.randint(0, 1000, 1000) # Make a random array\n",
    "b = np.random.randint(0, 1000, 1000) # Make another random array\n",
    "\n",
    "%timeit -n 100 dot_product(a, b)     # Use our for loop"
   ]
  },
  {
   "cell_type": "code",
   "execution_count": 77,
   "id": "810ea0cc",
   "metadata": {},
   "outputs": [
    {
     "name": "stdout",
     "output_type": "stream",
     "text": [
      "The slowest run took 5.24 times longer than the fastest. This could mean that an intermediate result is being cached.\n",
      "3 µs ± 2.76 µs per loop (mean ± std. dev. of 7 runs, 100 loops each)\n"
     ]
    }
   ],
   "source": [
    "%timeit -n 100 np.dot(a, b)          # Use the standard NumPy function"
   ]
  },
  {
   "cell_type": "code",
   "execution_count": 78,
   "id": "d6c0a74e",
   "metadata": {},
   "outputs": [
    {
     "name": "stdout",
     "output_type": "stream",
     "text": [
      "3.574371299966342\n"
     ]
    }
   ],
   "source": [
    "some_array = np.random.rand(10)\n",
    "print(np.sum(some_array))"
   ]
  },
  {
   "cell_type": "code",
   "execution_count": 79,
   "id": "dcc17a35",
   "metadata": {},
   "outputs": [
    {
     "name": "stdout",
     "output_type": "stream",
     "text": [
      "3.574371299966342\n"
     ]
    }
   ],
   "source": [
    "print(some_array.sum())"
   ]
  },
  {
   "cell_type": "code",
   "execution_count": 80,
   "id": "354124f6",
   "metadata": {},
   "outputs": [
    {
     "name": "stdout",
     "output_type": "stream",
     "text": [
      "min\n",
      "Function 0.03801172453066126\n",
      "Method 0.03801172453066126\n"
     ]
    }
   ],
   "source": [
    "print('min')\n",
    "# Function\n",
    "print('Function {}'.format(np.min(some_array)))\n",
    "# Method\n",
    "print('Method {}'.format(some_array.min()))"
   ]
  },
  {
   "cell_type": "code",
   "execution_count": 81,
   "id": "e9a31fd6",
   "metadata": {},
   "outputs": [
    {
     "name": "stdout",
     "output_type": "stream",
     "text": [
      "sum\n",
      "Function 3.574371299966342\n",
      "Method 3.574371299966342\n"
     ]
    }
   ],
   "source": [
    "print('sum')\n",
    "# Function\n",
    "print('Function {}'.format(np.sum(some_array)))\n",
    "# Method\n",
    "print('Method {}'.format(some_array.sum()))"
   ]
  },
  {
   "cell_type": "code",
   "execution_count": 82,
   "id": "63c0c464",
   "metadata": {},
   "outputs": [
    {
     "name": "stdout",
     "output_type": "stream",
     "text": [
      "mean\n",
      "Function 0.35743712999663424\n",
      "Method 0.35743712999663424\n"
     ]
    }
   ],
   "source": [
    "print('mean')\n",
    "# Function\n",
    "print('Function {}'.format(np.mean(some_array)))\n",
    "# Method\n",
    "print('Method {}'.format(some_array.mean()))"
   ]
  },
  {
   "cell_type": "code",
   "execution_count": 83,
   "id": "fd796591",
   "metadata": {},
   "outputs": [
    {
     "name": "stdout",
     "output_type": "stream",
     "text": [
      "reshape\n",
      "Function [[0.56698275 0.22297514]\n",
      " [0.13279186 0.07752349]\n",
      " [0.69431676 0.38553124]\n",
      " [0.03801172 0.54677128]\n",
      " [0.13134643 0.77812062]]\n",
      "Method [[0.56698275 0.22297514]\n",
      " [0.13279186 0.07752349]\n",
      " [0.69431676 0.38553124]\n",
      " [0.03801172 0.54677128]\n",
      " [0.13134643 0.77812062]]\n"
     ]
    }
   ],
   "source": [
    "print('reshape')\n",
    "# Function\n",
    "print('Function {}'.format(np.reshape(some_array, (5, 2))))\n",
    "# Method\n",
    "print('Method {}'.format(some_array.reshape(5, 2)))"
   ]
  },
  {
   "cell_type": "code",
   "execution_count": 84,
   "id": "c9c44dd5",
   "metadata": {},
   "outputs": [
    {
     "name": "stdout",
     "output_type": "stream",
     "text": [
      "[6 9 7 2 9 7 6 6 5 4]\n"
     ]
    }
   ],
   "source": [
    "unsorted_array = np.random.randint(0, 10, (10))\n",
    "print(unsorted_array)"
   ]
  },
  {
   "cell_type": "code",
   "execution_count": 85,
   "id": "fcc86ce8",
   "metadata": {},
   "outputs": [
    {
     "name": "stdout",
     "output_type": "stream",
     "text": [
      "Sorted array after sorting: [2 4 5 6 6 6 7 7 9 9]\n",
      "Unsorted array after sorting: [6 9 7 2 9 7 6 6 5 4]\n"
     ]
    }
   ],
   "source": [
    "sorted_array = np.sort(unsorted_array) # Use the sort function\n",
    "print('Sorted array after sorting: {}'.format(sorted_array))\n",
    "print('Unsorted array after sorting: {}'.format(unsorted_array))"
   ]
  },
  {
   "cell_type": "code",
   "execution_count": 86,
   "id": "599a9132",
   "metadata": {},
   "outputs": [
    {
     "name": "stdout",
     "output_type": "stream",
     "text": [
      "Unsorted array after sorting: [2 4 5 6 6 6 7 7 9 9]\n"
     ]
    }
   ],
   "source": [
    "unsorted_array.sort()\n",
    "print('Unsorted array after sorting: {}'.format(unsorted_array))"
   ]
  }
 ],
 "metadata": {
  "kernelspec": {
   "display_name": "Python 3 (ipykernel)",
   "language": "python",
   "name": "python3"
  },
  "language_info": {
   "codemirror_mode": {
    "name": "ipython",
    "version": 3
   },
   "file_extension": ".py",
   "mimetype": "text/x-python",
   "name": "python",
   "nbconvert_exporter": "python",
   "pygments_lexer": "ipython3",
   "version": "3.7.16"
  }
 },
 "nbformat": 4,
 "nbformat_minor": 5
}