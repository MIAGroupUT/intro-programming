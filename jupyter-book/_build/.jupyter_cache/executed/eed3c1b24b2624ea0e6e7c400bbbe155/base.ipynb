{
 "cells": [
  {
   "cell_type": "code",
   "execution_count": 1,
   "id": "a90c23d4",
   "metadata": {},
   "outputs": [],
   "source": [
    "import numpy as np"
   ]
  },
  {
   "cell_type": "code",
   "execution_count": 2,
   "id": "9c06aee8",
   "metadata": {},
   "outputs": [],
   "source": [
    "numbers = [1, 2, 3]\n",
    "numbers_array = np.array(numbers)"
   ]
  },
  {
   "cell_type": "code",
   "execution_count": 3,
   "id": "dc34c430",
   "metadata": {},
   "outputs": [
    {
     "name": "stdout",
     "output_type": "stream",
     "text": [
      "List\n",
      "1\n",
      "[2, 3]\n",
      "[1, 3]\n",
      "Array\n",
      "1\n",
      "[2 3]\n",
      "[1 3]\n"
     ]
    }
   ],
   "source": [
    "print('List')\n",
    "print(numbers[0])\n",
    "print(numbers[1:])\n",
    "print(numbers[::2])\n",
    "\n",
    "print('Array')\n",
    "print(numbers_array[0])\n",
    "print(numbers_array[1:])\n",
    "print(numbers_array[::2])"
   ]
  },
  {
   "cell_type": "code",
   "execution_count": 4,
   "id": "3474e881",
   "metadata": {},
   "outputs": [
    {
     "name": "stdout",
     "output_type": "stream",
     "text": [
      "3\n"
     ]
    }
   ],
   "source": [
    "print(numbers_array.size)"
   ]
  },
  {
   "cell_type": "code",
   "execution_count": 5,
   "id": "f002eed5",
   "metadata": {},
   "outputs": [
    {
     "name": "stdout",
     "output_type": "stream",
     "text": [
      "(3,)\n"
     ]
    }
   ],
   "source": [
    "# Print the shape of numbers_array\n",
    "print(numbers_array.shape)"
   ]
  },
  {
   "cell_type": "code",
   "execution_count": 6,
   "id": "93280329",
   "metadata": {},
   "outputs": [
    {
     "name": "stdout",
     "output_type": "stream",
     "text": [
      "[[1 2]\n",
      " [3 4]]\n"
     ]
    }
   ],
   "source": [
    "array_2D = np.array([[1, 2],\n",
    "                     [3, 4]])\n",
    "\n",
    "print(array_2D)"
   ]
  },
  {
   "cell_type": "code",
   "execution_count": 7,
   "id": "87fcfdd5",
   "metadata": {},
   "outputs": [
    {
     "name": "stdout",
     "output_type": "stream",
     "text": [
      "[[[1 2]\n",
      "  [3 4]]\n",
      "\n",
      " [[5 6]\n",
      "  [7 8]]]\n"
     ]
    }
   ],
   "source": [
    "array_3D = np.array([[[1, 2],\n",
    "                      [3, 4]],\n",
    "                     [[5, 6],\n",
    "                      [7, 8]]])\n",
    "\n",
    "print(array_3D)"
   ]
  },
  {
   "cell_type": "code",
   "execution_count": 8,
   "id": "e62c9832",
   "metadata": {},
   "outputs": [
    {
     "name": "stdout",
     "output_type": "stream",
     "text": [
      "[0. 0. 0. 0. 0.]\n",
      "[1. 1. 1. 1. 1.]\n"
     ]
    }
   ],
   "source": [
    "zeros_array = np.zeros((5))\n",
    "print(zeros_array)\n",
    "ones_array = np.ones((5))\n",
    "print(ones_array)"
   ]
  },
  {
   "cell_type": "code",
   "execution_count": 9,
   "id": "ad493811",
   "metadata": {},
   "outputs": [
    {
     "name": "stdout",
     "output_type": "stream",
     "text": [
      "2D array\n",
      "[[0. 0.]\n",
      " [0. 0.]]\n",
      "3D array\n",
      "[[[1. 1.]\n",
      "  [1. 1.]]\n",
      "\n",
      " [[1. 1.]\n",
      "  [1. 1.]]]\n"
     ]
    }
   ],
   "source": [
    "# Initialize a 2D array\n",
    "print('2D array')\n",
    "print(np.zeros((2, 2)))\n",
    "# Initialize a 3D array\n",
    "print('3D array')\n",
    "print(np.ones((2, 2, 2)))"
   ]
  },
  {
   "cell_type": "code",
   "execution_count": 10,
   "id": "182c3302",
   "metadata": {},
   "outputs": [
    {
     "name": "stdout",
     "output_type": "stream",
     "text": [
      "[[[1. 1.]\n",
      "  [1. 1.]]\n",
      "\n",
      " [[1. 1.]\n",
      "  [1. 1.]]]\n"
     ]
    }
   ],
   "source": [
    "array_3D = np.array([[[1, 2],\n",
    "                      [3, 4]],\n",
    "                     [[5, 6],\n",
    "                      [7, 8]]])\n",
    "\n",
    "ones_array = np.ones(array_3D.shape)\n",
    "print(ones_array)"
   ]
  },
  {
   "cell_type": "code",
   "execution_count": 11,
   "id": "d04bc92b",
   "metadata": {},
   "outputs": [
    {
     "name": "stdout",
     "output_type": "stream",
     "text": [
      "[[[1 1]\n",
      "  [1 1]]\n",
      "\n",
      " [[1 1]\n",
      "  [1 1]]]\n"
     ]
    }
   ],
   "source": [
    "ones_array = np.ones_like(array_3D)\n",
    "print(ones_array)"
   ]
  },
  {
   "cell_type": "code",
   "execution_count": 12,
   "id": "80792c28",
   "metadata": {},
   "outputs": [
    {
     "name": "stdout",
     "output_type": "stream",
     "text": [
      "[-1.  -0.5  0.   0.5  1. ]\n"
     ]
    }
   ],
   "source": [
    "spaced_values = np.linspace(start=-1.0, stop=1.0, num=5)\n",
    "print(spaced_values)"
   ]
  },
  {
   "cell_type": "code",
   "execution_count": 13,
   "id": "d8808027",
   "metadata": {},
   "outputs": [
    {
     "name": "stdout",
     "output_type": "stream",
     "text": [
      "[-1.  -0.5  0.   0.5]\n"
     ]
    }
   ],
   "source": [
    "spaced_values = np.arange(start=-1.0, stop=1.0, step=0.5)\n",
    "print(spaced_values)"
   ]
  },
  {
   "cell_type": "code",
   "execution_count": 14,
   "id": "d743aac8",
   "metadata": {},
   "outputs": [
    {
     "name": "stdout",
     "output_type": "stream",
     "text": [
      "[[0.92439953 0.81238608]\n",
      " [0.20535585 0.27594122]]\n"
     ]
    }
   ],
   "source": [
    "rand_array = np.random.rand(2, 2)\n",
    "print(rand_array)"
   ]
  },
  {
   "cell_type": "code",
   "execution_count": 15,
   "id": "e0b5ddfd",
   "metadata": {},
   "outputs": [
    {
     "name": "stdout",
     "output_type": "stream",
     "text": [
      "[[ 1.23733634  0.80177996]\n",
      " [ 1.08663424 -1.81928823]]\n"
     ]
    }
   ],
   "source": [
    "randn_array = np.random.randn(2, 2)\n",
    "print(randn_array)"
   ]
  },
  {
   "cell_type": "code",
   "execution_count": 16,
   "id": "598dbae2",
   "metadata": {},
   "outputs": [
    {
     "data": {
      "image/png": "[encoded data removed]",
      "text/plain": [
       "<Figure size 1000x600 with 2 Axes>"
      ]
     },
     "metadata": {},
     "output_type": "display_data"
    }
   ],
   "source": [
    "import matplotlib.pyplot as plt\n",
    "\n",
    "uniform_values = np.random.rand(10000)\n",
    "normal_values = np.random.randn(10000)\n",
    "\n",
    "fig, (ax1, ax2) = plt.subplots(1, 2, figsize=(10, 6))\n",
    "ax1.hist(uniform_values, bins=20, edgecolor='white');\n",
    "ax1.set_title('Uniform distribution');\n",
    "ax1.set_ylabel('Frequency');\n",
    "ax2.hist(normal_values, bins=20, edgecolor='white');\n",
    "ax2.set_title('Normal distribution');\n",
    "ax2.set_ylabel('Frequency');"
   ]
  },
  {
   "cell_type": "code",
   "execution_count": 17,
   "id": "e34b822a",
   "metadata": {},
   "outputs": [
    {
     "name": "stdout",
     "output_type": "stream",
     "text": [
      "[[-3.26057003  3.79402318]\n",
      " [-3.00690893 -2.71545998]]\n"
     ]
    }
   ],
   "source": [
    "rand_array = np.random.uniform(low=-5.0, high=5.0, size=(2,2))\n",
    "print(rand_array)\n",
    "\n",
    "randn_array = np.random.normal(loc=-10.0, scale=2.0, size=(2,2))"
   ]
  },
  {
   "cell_type": "code",
   "execution_count": 18,
   "id": "41a6615c",
   "metadata": {},
   "outputs": [
    {
     "name": "stdout",
     "output_type": "stream",
     "text": [
      "[[2 2]\n",
      " [0 7]]\n"
     ]
    }
   ],
   "source": [
    "rand_array = np.random.randint(low=0, high=10, size=(2, 2))\n",
    "print(rand_array)"
   ]
  },
  {
   "cell_type": "code",
   "execution_count": 19,
   "id": "99b111d4",
   "metadata": {},
   "outputs": [
    {
     "name": "stdout",
     "output_type": "stream",
     "text": [
      "[[ 7 18  9  1]\n",
      " [18  9  1  9]\n",
      " [18 15 13  0]\n",
      " [ 4 16  5  9]]\n",
      "[[ 7 18]\n",
      " [18  9]]\n"
     ]
    }
   ],
   "source": [
    "square_matrix = np.random.randint(low=0, high=20, size=(4, 4))\n",
    "print(square_matrix)\n",
    "print(square_matrix[:2, :2])"
   ]
  },
  {
   "cell_type": "code",
   "execution_count": 20,
   "id": "29768d28",
   "metadata": {},
   "outputs": [
    {
     "name": "stdout",
     "output_type": "stream",
     "text": [
      "[[ 9  9]\n",
      " [16  9]]\n"
     ]
    }
   ],
   "source": [
    "print(square_matrix[1::2, 1::2])"
   ]
  },
  {
   "cell_type": "code",
   "execution_count": 21,
   "id": "92b86bae",
   "metadata": {},
   "outputs": [
    {
     "name": "stdout",
     "output_type": "stream",
     "text": [
      "[ 7 18  9  1]\n",
      "[ 7 18 18  4]\n"
     ]
    }
   ],
   "source": [
    "print(square_matrix[0, :])  # Print the first row of square_matrix\n",
    "print(square_matrix[:, 0])  # Print the first column of square_matrix"
   ]
  },
  {
   "cell_type": "code",
   "execution_count": 22,
   "id": "8e7d94ea",
   "metadata": {},
   "outputs": [
    {
     "name": "stdout",
     "output_type": "stream",
     "text": [
      "[ 7 18  9  1]\n"
     ]
    }
   ],
   "source": [
    "print(square_matrix[0])"
   ]
  },
  {
   "cell_type": "code",
   "execution_count": 23,
   "id": "62dbc0ef",
   "metadata": {},
   "outputs": [
    {
     "name": "stdout",
     "output_type": "stream",
     "text": [
      "[[ 9  5 16  4]\n",
      " [ 0 13 15 18]\n",
      " [ 9  1  9 18]\n",
      " [ 1  9 18  7]]\n"
     ]
    }
   ],
   "source": [
    "print(square_matrix[::-1, ::-1])  # Flips the matrix up-down and left-right"
   ]
  },
  {
   "cell_type": "code",
   "execution_count": 24,
   "id": "73ce4d40",
   "metadata": {},
   "outputs": [
    {
     "name": "stdout",
     "output_type": "stream",
     "text": [
      "[[1. 0. 1. 0. 1. 0. 1. 0.]\n",
      " [0. 1. 0. 1. 0. 1. 0. 1.]\n",
      " [1. 0. 1. 0. 1. 0. 1. 0.]\n",
      " [0. 1. 0. 1. 0. 1. 0. 1.]\n",
      " [1. 0. 1. 0. 1. 0. 1. 0.]\n",
      " [0. 1. 0. 1. 0. 1. 0. 1.]\n",
      " [1. 0. 1. 0. 1. 0. 1. 0.]\n",
      " [0. 1. 0. 1. 0. 1. 0. 1.]]\n"
     ]
    }
   ],
   "source": [
    "board = np.zeros((8, 8))   # Make an 8 x 8 times array of zeros\n",
    "board[::2, ::2] = 1        # Set every even element of every even row to 1\n",
    "board[1::2, 1::2] = 1      # Set every odd element of every odd row to 1\n",
    "print(board)"
   ]
  },
  {
   "cell_type": "code",
   "execution_count": 25,
   "id": "a228cfb8",
   "metadata": {},
   "outputs": [
    {
     "name": "stdout",
     "output_type": "stream",
     "text": [
      "array a\n",
      "[[0. 0. 0. 0. 0.]\n",
      " [0. 0. 0. 0. 0.]\n",
      " [0. 0. 0. 0. 0.]\n",
      " [0. 0. 0. 0. 0.]\n",
      " [0. 0. 0. 0. 0.]]\n",
      "array b\n",
      "[[1. 1. 1. 1. 1.]\n",
      " [1. 1. 1. 1. 1.]\n",
      " [1. 1. 1. 1. 1.]\n",
      " [1. 1. 1. 1. 1.]\n",
      " [1. 1. 1. 1. 1.]]\n",
      "changed a\n",
      "[[1. 1. 1. 1. 1.]\n",
      " [0. 0. 0. 0. 0.]\n",
      " [1. 1. 1. 1. 1.]\n",
      " [0. 0. 0. 0. 0.]\n",
      " [1. 1. 1. 1. 1.]]\n"
     ]
    }
   ],
   "source": [
    "rand_matrix_a = np.zeros((5, 5))\n",
    "rand_matrix_b = np.ones((5, 5))\n",
    "print('array a')\n",
    "print(rand_matrix_a)\n",
    "print('array b')\n",
    "print(rand_matrix_b)\n",
    "rand_matrix_a[::2, :] = rand_matrix_b[::2, :]\n",
    "print('changed a')\n",
    "print(rand_matrix_a)"
   ]
  },
  {
   "cell_type": "code",
   "execution_count": 26,
   "id": "79962de4",
   "metadata": {},
   "outputs": [
    {
     "name": "stdout",
     "output_type": "stream",
     "text": [
      "[ 5  7 11 13]\n"
     ]
    }
   ],
   "source": [
    "a = np.array([1, 5, 3, 7]) # Create one array\n",
    "b = np.array([4, 2, 8, 6]) # Create second array\n",
    "\n",
    "print(a+b)"
   ]
  },
  {
   "cell_type": "code",
   "execution_count": 27,
   "id": "66a1211c",
   "metadata": {},
   "outputs": [
    {
     "name": "stdout",
     "output_type": "stream",
     "text": [
      "[0.25       2.5        0.375      1.16666667]\n"
     ]
    }
   ],
   "source": [
    "print(a/b)"
   ]
  },
  {
   "cell_type": "code",
   "execution_count": 28,
   "id": "8371bb16",
   "metadata": {},
   "outputs": [
    {
     "name": "stdout",
     "output_type": "stream",
     "text": [
      "[0 2 0 1]\n"
     ]
    }
   ],
   "source": [
    "print(a//b)"
   ]
  },
  {
   "cell_type": "code",
   "execution_count": 29,
   "id": "24156b9b",
   "metadata": {},
   "outputs": [
    {
     "name": "stdout",
     "output_type": "stream",
     "text": [
      "[     1     25   6561 117649]\n"
     ]
    }
   ],
   "source": [
    "print(a**b)"
   ]
  },
  {
   "cell_type": "code",
   "execution_count": 30,
   "id": "de8d9b98",
   "metadata": {},
   "outputs": [
    {
     "name": "stdout",
     "output_type": "stream",
     "text": [
      "[1 1 3 1]\n"
     ]
    }
   ],
   "source": [
    "print(a%b)"
   ]
  },
  {
   "cell_type": "code",
   "execution_count": 31,
   "id": "2ec33d8e",
   "metadata": {},
   "outputs": [
    {
     "name": "stdout",
     "output_type": "stream",
     "text": [
      "[False  True False  True]\n"
     ]
    }
   ],
   "source": [
    "print(a>b)"
   ]
  },
  {
   "cell_type": "code",
   "execution_count": 32,
   "id": "49c664bc",
   "metadata": {},
   "outputs": [
    {
     "name": "stdout",
     "output_type": "stream",
     "text": [
      "[ True False  True False]\n"
     ]
    }
   ],
   "source": [
    "print(a<b)"
   ]
  },
  {
   "cell_type": "code",
   "execution_count": 33,
   "id": "dfe34e8e",
   "metadata": {},
   "outputs": [
    {
     "name": "stdout",
     "output_type": "stream",
     "text": [
      "[False False False False]\n"
     ]
    }
   ],
   "source": [
    "print(a==b)"
   ]
  },
  {
   "cell_type": "code",
   "execution_count": 34,
   "id": "bd4cb320",
   "metadata": {},
   "outputs": [
    {
     "name": "stdout",
     "output_type": "stream",
     "text": [
      "[1 5 3 7]\n"
     ]
    }
   ],
   "source": [
    "print(a)"
   ]
  },
  {
   "cell_type": "code",
   "execution_count": 35,
   "id": "d3a2c55f",
   "metadata": {},
   "outputs": [
    {
     "name": "stdout",
     "output_type": "stream",
     "text": [
      "[ 5  7 11 13]\n"
     ]
    }
   ],
   "source": [
    "a+=b\n",
    "print(a)"
   ]
  },
  {
   "cell_type": "code",
   "execution_count": 36,
   "id": "e0b59181",
   "metadata": {},
   "outputs": [
    {
     "name": "stdout",
     "output_type": "stream",
     "text": [
      "[1 5 3 7]\n"
     ]
    }
   ],
   "source": [
    "a-=b\n",
    "print(a)"
   ]
  },
  {
   "cell_type": "code",
   "execution_count": 37,
   "id": "5021675f",
   "metadata": {},
   "outputs": [
    {
     "name": "stdout",
     "output_type": "stream",
     "text": [
      "[ 4 10 24 42]\n"
     ]
    }
   ],
   "source": [
    "a*=b\n",
    "print(a)"
   ]
  },
  {
   "cell_type": "code",
   "execution_count": 38,
   "id": "529685c4",
   "metadata": {},
   "outputs": [
    {
     "name": "stdout",
     "output_type": "stream",
     "text": [
      "[2.         3.16227766 4.89897949 6.4807407 ]\n"
     ]
    }
   ],
   "source": [
    "print(np.sqrt(a))"
   ]
  },
  {
   "cell_type": "code",
   "execution_count": 39,
   "id": "324418b8",
   "metadata": {},
   "outputs": [
    {
     "name": "stdout",
     "output_type": "stream",
     "text": [
      "[5.45981500e+01 2.20264658e+04 2.64891221e+10 1.73927494e+18]\n"
     ]
    }
   ],
   "source": [
    "print(np.exp(a))"
   ]
  },
  {
   "cell_type": "code",
   "execution_count": 40,
   "id": "2cdd39a8",
   "metadata": {},
   "outputs": [
    {
     "name": "stdout",
     "output_type": "stream",
     "text": [
      "[1.38629436 2.30258509 3.17805383 3.73766962]\n"
     ]
    }
   ],
   "source": [
    "print(np.log(a))"
   ]
  },
  {
   "cell_type": "code",
   "execution_count": 41,
   "id": "e36254a2",
   "metadata": {},
   "outputs": [
    {
     "name": "stdout",
     "output_type": "stream",
     "text": [
      "[0.60205999 1.         1.38021124 1.62324929]\n"
     ]
    }
   ],
   "source": [
    "print(np.log10(a))"
   ]
  },
  {
   "cell_type": "code",
   "execution_count": 42,
   "id": "ba70dcda",
   "metadata": {
    "lines_to_next_cell": 2
   },
   "outputs": [
    {
     "name": "stdout",
     "output_type": "stream",
     "text": [
      "[2 4 6]\n"
     ]
    }
   ],
   "source": [
    "a = np.array([1, 2, 3])\n",
    "b = 2\n",
    "result = a * b\n",
    "print(result)"
   ]
  },
  {
   "cell_type": "code",
   "execution_count": 43,
   "id": "586b8686",
   "metadata": {},
   "outputs": [
    {
     "name": "stdout",
     "output_type": "stream",
     "text": [
      "[[7 9 9 8]\n",
      " [3 7 8 8]\n",
      " [3 2 5 8]\n",
      " [1 3 1 1]]\n",
      "The minimum value is 1\n"
     ]
    }
   ],
   "source": [
    "rand_matrix = np.random.randint(low=0, high=10, size=((4, 4)))\n",
    "print(rand_matrix)\n",
    "print('The minimum value is {}'.format(np.min(rand_matrix))) # Prints the minimum across *all* entries in the matrix"
   ]
  },
  {
   "cell_type": "code",
   "execution_count": 44,
   "id": "0a2530c7",
   "metadata": {},
   "outputs": [
    {
     "name": "stdout",
     "output_type": "stream",
     "text": [
      "The minimum values are [1 2 1 1]\n"
     ]
    }
   ],
   "source": [
    "print('The minimum values are {}'.format(np.min(rand_matrix, axis=0)))"
   ]
  },
  {
   "cell_type": "code",
   "execution_count": 45,
   "id": "b401ce7f",
   "metadata": {},
   "outputs": [
    {
     "name": "stdout",
     "output_type": "stream",
     "text": [
      "The minimum values are [7 3 2 1]\n"
     ]
    }
   ],
   "source": [
    "print('The minimum values are {}'.format(np.min(rand_matrix, axis=1)))"
   ]
  },
  {
   "cell_type": "code",
   "execution_count": 46,
   "id": "8e1d8f36",
   "metadata": {},
   "outputs": [
    {
     "name": "stdout",
     "output_type": "stream",
     "text": [
      "[ 4.  7.  6.  3.  5.  9. nan  4. 10. nan  8.  6.  9. 12.]\n"
     ]
    }
   ],
   "source": [
    "temperatures = np.array([4, 7, 6, 3, 5, 9, np.nan, 4, 10, np.nan, 8, 6, 9, 12])\n",
    "print(temperatures)"
   ]
  },
  {
   "cell_type": "code",
   "execution_count": 47,
   "id": "cfa786ec",
   "metadata": {},
   "outputs": [
    {
     "data": {
      "text/plain": [
       "array([False, False, False, False, False, False,  True, False, False,\n",
       "        True, False, False, False, False])"
      ]
     },
     "execution_count": 47,
     "metadata": {},
     "output_type": "execute_result"
    }
   ],
   "source": [
    "np.isnan(temperatures)"
   ]
  },
  {
   "cell_type": "code",
   "execution_count": 48,
   "id": "f06b1bd7",
   "metadata": {},
   "outputs": [
    {
     "data": {
      "text/plain": [
       "True"
      ]
     },
     "execution_count": 48,
     "metadata": {},
     "output_type": "execute_result"
    }
   ],
   "source": [
    "np.isnan(temperatures).any()"
   ]
  },
  {
   "cell_type": "code",
   "execution_count": 49,
   "id": "e6b57261",
   "metadata": {},
   "outputs": [
    {
     "data": {
      "text/plain": [
       "nan"
      ]
     },
     "execution_count": 49,
     "metadata": {},
     "output_type": "execute_result"
    }
   ],
   "source": [
    "np.max(temperatures)"
   ]
  },
  {
   "cell_type": "code",
   "execution_count": 50,
   "id": "573cd711",
   "metadata": {},
   "outputs": [
    {
     "data": {
      "text/plain": [
       "nan"
      ]
     },
     "execution_count": 50,
     "metadata": {},
     "output_type": "execute_result"
    }
   ],
   "source": [
    "np.sum(temperatures)"
   ]
  },
  {
   "cell_type": "code",
   "execution_count": 51,
   "id": "a142f0ba",
   "metadata": {},
   "outputs": [
    {
     "data": {
      "text/plain": [
       "12.0"
      ]
     },
     "execution_count": 51,
     "metadata": {},
     "output_type": "execute_result"
    }
   ],
   "source": [
    "np.nanmax(temperatures)"
   ]
  },
  {
   "cell_type": "code",
   "execution_count": 52,
   "id": "7e528b1c",
   "metadata": {},
   "outputs": [
    {
     "data": {
      "text/plain": [
       "83.0"
      ]
     },
     "execution_count": 52,
     "metadata": {},
     "output_type": "execute_result"
    }
   ],
   "source": [
    "np.nansum(temperatures)"
   ]
  },
  {
   "cell_type": "code",
   "execution_count": 53,
   "id": "2347ec4b",
   "metadata": {},
   "outputs": [
    {
     "data": {
      "text/plain": [
       "6.916666666666667"
      ]
     },
     "execution_count": 53,
     "metadata": {},
     "output_type": "execute_result"
    }
   ],
   "source": [
    "np.nanmean(temperatures)"
   ]
  },
  {
   "cell_type": "code",
   "execution_count": 54,
   "id": "a4e1eda4",
   "metadata": {},
   "outputs": [
    {
     "name": "stdout",
     "output_type": "stream",
     "text": [
      "[1 3 5]\n"
     ]
    }
   ],
   "source": [
    "a = np.array([1, 2, 3, 4, 5])\n",
    "print(a[[0, 2, -1]])          # Provide a list of indices, here [0, 2, -1]"
   ]
  },
  {
   "cell_type": "code",
   "execution_count": 55,
   "id": "4fa781da",
   "metadata": {},
   "outputs": [
    {
     "name": "stdout",
     "output_type": "stream",
     "text": [
      "[[8 5 5 3]\n",
      " [4 7 7 6]\n",
      " [7 2 5 0]\n",
      " [4 3 3 3]]\n",
      "[5 0]\n"
     ]
    }
   ],
   "source": [
    "a = np.random.randint(0, 10, (4, 4))\n",
    "print(a)\n",
    "print(a[[0, 2], [1, 3]])"
   ]
  },
  {
   "cell_type": "code",
   "execution_count": 56,
   "id": "7ded132e",
   "metadata": {},
   "outputs": [
    {
     "name": "stdout",
     "output_type": "stream",
     "text": [
      "[1 2 5]\n"
     ]
    }
   ],
   "source": [
    "a = np.array([1, 2, 3, 4, 5])\n",
    "print(a[[True, True, False, False, True]])"
   ]
  },
  {
   "cell_type": "code",
   "execution_count": 57,
   "id": "b93d4c82",
   "metadata": {},
   "outputs": [
    {
     "name": "stdout",
     "output_type": "stream",
     "text": [
      "[False False  True  True  True]\n"
     ]
    }
   ],
   "source": [
    "mask = a > 2\n",
    "print(mask)      # This array has the same shape as variable a"
   ]
  },
  {
   "cell_type": "code",
   "execution_count": 58,
   "id": "41df49d5",
   "metadata": {},
   "outputs": [
    {
     "name": "stdout",
     "output_type": "stream",
     "text": [
      "[3 4 5]\n"
     ]
    }
   ],
   "source": [
    "print(a[mask])"
   ]
  },
  {
   "cell_type": "code",
   "execution_count": 59,
   "id": "38998133",
   "metadata": {},
   "outputs": [
    {
     "name": "stdout",
     "output_type": "stream",
     "text": [
      "[3 4 5]\n"
     ]
    }
   ],
   "source": [
    "print(a[a>2])"
   ]
  },
  {
   "cell_type": "code",
   "execution_count": 60,
   "id": "8fe859b3",
   "metadata": {},
   "outputs": [
    {
     "name": "stdout",
     "output_type": "stream",
     "text": [
      "[8 5 9 4 8 4 3 8 4 9]\n"
     ]
    }
   ],
   "source": [
    "a = np.random.randint(0, 10, (4, 4))\n",
    "print(a[a>2])     # Print all values from the 2D matrix that are larger than 2"
   ]
  },
  {
   "cell_type": "code",
   "execution_count": 61,
   "id": "f412081e",
   "metadata": {
    "lines_to_next_cell": 2
   },
   "outputs": [
    {
     "name": "stdout",
     "output_type": "stream",
     "text": [
      "Full matrix\n",
      "[[2 0 2 5 4 9 0 1]\n",
      " [2 5 3 4 8 7 5 0]\n",
      " [9 6 7 3 8 2 7 3]\n",
      " [9 1 6 5 8 5 2 5]\n",
      " [2 5 0 8 2 5 0 2]\n",
      " [1 6 1 2 9 3 1 4]\n",
      " [5 9 4 2 4 4 5 4]\n",
      " [5 5 1 2 2 0 3 3]]\n",
      "Selected rows, every second element\n",
      "[[2 3 8 5]\n",
      " [2 0 2 0]]\n"
     ]
    }
   ],
   "source": [
    "a = np.random.randint(0, 10, (8, 8))\n",
    "print('Full matrix')\n",
    "print(a)\n",
    "print('Selected rows, every second element')\n",
    "print(a[np.sum(a, 0)>35, ::2]) # Here we select only those rows whose sum is >35, and in those rows only every second element"
   ]
  },
  {
   "cell_type": "code",
   "execution_count": 62,
   "id": "fdf187c6",
   "metadata": {},
   "outputs": [
    {
     "name": "stdout",
     "output_type": "stream",
     "text": [
      "[[1 2 3 4]\n",
      " [5 6 7 8]]\n",
      "[[1 2]\n",
      " [3 4]\n",
      " [5 6]\n",
      " [7 8]]\n"
     ]
    }
   ],
   "source": [
    "landscape = np.array([[1, 2, 3, 4],\n",
    "                      [5, 6, 7, 8]])\n",
    "print(landscape)\n",
    "portrait = np.reshape(landscape, (4, 2))\n",
    "print(portrait)"
   ]
  },
  {
   "cell_type": "code",
   "execution_count": 63,
   "id": "77bf0718",
   "metadata": {},
   "outputs": [
    {
     "name": "stdout",
     "output_type": "stream",
     "text": [
      "[[[1 2]\n",
      "  [3 4]]\n",
      "\n",
      " [[5 6]\n",
      "  [7 8]]]\n"
     ]
    }
   ],
   "source": [
    "cube = np.reshape(portrait, (2, 2, 2))\n",
    "print(cube)"
   ]
  },
  {
   "cell_type": "code",
   "execution_count": 64,
   "id": "d5f59517",
   "metadata": {},
   "outputs": [
    {
     "name": "stdout",
     "output_type": "stream",
     "text": [
      "[1 2 3 4 5 6 7 8]\n",
      "[1 2 3 4 5 6 7 8]\n"
     ]
    }
   ],
   "source": [
    "bar = np.reshape(cube, (8))\n",
    "print(bar)\n",
    "\n",
    "bar_flat = cube.flatten()\n",
    "print(bar_flat)"
   ]
  },
  {
   "cell_type": "code",
   "execution_count": 65,
   "id": "4f3f7d39",
   "metadata": {},
   "outputs": [
    {
     "name": "stdout",
     "output_type": "stream",
     "text": [
      "[[1 2]\n",
      " [3 4]]\n",
      "[[1 3]\n",
      " [2 4]]\n"
     ]
    }
   ],
   "source": [
    "a = np.array([[1, 2],\n",
    "              [3, 4]])\n",
    "\n",
    "print(a)\n",
    "print(a.T)"
   ]
  },
  {
   "cell_type": "code",
   "execution_count": 66,
   "id": "1c9503a3",
   "metadata": {},
   "outputs": [
    {
     "name": "stdout",
     "output_type": "stream",
     "text": [
      "[[1 2 5 6]\n",
      " [3 4 7 8]]\n"
     ]
    }
   ],
   "source": [
    "a = np.array([[1, 2],\n",
    "              [3, 4]])\n",
    "b = np.array([[5, 6],\n",
    "              [7, 8]])\n",
    "\n",
    "print(np.hstack((a, b)))"
   ]
  },
  {
   "cell_type": "code",
   "execution_count": 67,
   "id": "e142ce8b",
   "metadata": {},
   "outputs": [
    {
     "name": "stdout",
     "output_type": "stream",
     "text": [
      "[[1 2]\n",
      " [3 4]\n",
      " [5 6]\n",
      " [7 8]]\n"
     ]
    }
   ],
   "source": [
    "print(np.vstack((a, b)))"
   ]
  },
  {
   "cell_type": "code",
   "execution_count": 68,
   "id": "5e0a940d",
   "metadata": {},
   "outputs": [
    {
     "name": "stdout",
     "output_type": "stream",
     "text": [
      "[[1 2 5 6]\n",
      " [3 4 7 8]]\n"
     ]
    }
   ],
   "source": [
    "print(np.concatenate((a, b), axis=1)) # Same as hstack"
   ]
  },
  {
   "cell_type": "code",
   "execution_count": 69,
   "id": "156d016d",
   "metadata": {},
   "outputs": [
    {
     "name": "stdout",
     "output_type": "stream",
     "text": [
      "[[1 2]\n",
      " [3 4]\n",
      " [5 6]\n",
      " [7 8]]\n"
     ]
    }
   ],
   "source": [
    "print(np.concatenate((a, b), axis=0)) # Same as vstack"
   ]
  },
  {
   "cell_type": "code",
   "execution_count": 70,
   "id": "e669be1c",
   "metadata": {},
   "outputs": [
    {
     "name": "stdout",
     "output_type": "stream",
     "text": [
      "[1 2 1 2 1 2 1 2 1 2]\n"
     ]
    }
   ],
   "source": [
    "element = np.array([1, 2])\n",
    "tile_result = np.tile(element, (5))\n",
    "print(tile_result)"
   ]
  },
  {
   "cell_type": "code",
   "execution_count": 71,
   "id": "ce826748",
   "metadata": {},
   "outputs": [],
   "source": [
    "random_array = np.random.rand(10, 10)\n",
    "np.save('random', random_array)"
   ]
  },
  {
   "cell_type": "code",
   "execution_count": 72,
   "id": "3293b789",
   "metadata": {},
   "outputs": [],
   "source": [
    "random_restored = np.load('random.npy')"
   ]
  },
  {
   "cell_type": "code",
   "execution_count": 73,
   "id": "8a6691d0",
   "metadata": {},
   "outputs": [],
   "source": [
    "a=np.array([[1, 2, 3], [4, 5, 6]]) # Create an array\n",
    "b=np.array([1, 2])                 # Create another array\n",
    "np.savez('multiple.npz', a=a, b=b) # Save both arrays in one file"
   ]
  },
  {
   "cell_type": "code",
   "execution_count": 74,
   "id": "067ba19f",
   "metadata": {},
   "outputs": [
    {
     "name": "stdout",
     "output_type": "stream",
     "text": [
      "['a', 'b']\n",
      "[[1 2 3]\n",
      " [4 5 6]]\n",
      "[1 2]\n"
     ]
    }
   ],
   "source": [
    "data = np.load('multiple.npz')\n",
    "print(data.files) # Gives the names of the variables in the npz file\n",
    "print(data['a'])  # Get the variable with the key 'a'\n",
    "print(data['b'])  # Get the variable with the key 'b' \n",
    "data.close()"
   ]
  },
  {
   "cell_type": "code",
   "execution_count": 75,
   "id": "0d715e37",
   "metadata": {},
   "outputs": [],
   "source": [
    "# Dot product \n",
    "import numpy as np\n",
    "\n",
    "def dot_product(a, b):\n",
    "    dot = 0\n",
    "    for v_a, v_b in zip(a, b):\n",
    "        dot += v_a * v_b\n",
    "    return dot"
   ]
  },
  {
   "cell_type": "code",
   "execution_count": 76,
   "id": "931cafed",
   "metadata": {},
   "outputs": [
    {
     "name": "stdout",
     "output_type": "stream",
     "text": [
      "225 µs ± 2.5 µs per loop (mean ± std. dev. of 7 runs, 100 loops each)"
     ]
    },
    {
     "name": "stdout",
     "output_type": "stream",
     "text": [
      "\n"
     ]
    }
   ],
   "source": [
    "a = np.random.randint(0, 1000, 1000) # Make a random array\n",
    "b = np.random.randint(0, 1000, 1000) # Make another random array\n",
    "\n",
    "%timeit -n 100 dot_product(a, b)     # Use our for loop"
   ]
  },
  {
   "cell_type": "code",
   "execution_count": 77,
   "id": "49fe3549",
   "metadata": {},
   "outputs": [
    {
     "name": "stdout",
     "output_type": "stream",
     "text": [
      "2.73 µs ± 1.99 µs per loop (mean ± std. dev. of 7 runs, 100 loops each)\n"
     ]
    }
   ],
   "source": [
    "%timeit -n 100 np.dot(a, b)          # Use the standard NumPy function"
   ]
  },
  {
   "cell_type": "code",
   "execution_count": 78,
   "id": "6aa92a70",
   "metadata": {},
   "outputs": [
    {
     "name": "stdout",
     "output_type": "stream",
     "text": [
      "5.834175759227194\n"
     ]
    }
   ],
   "source": [
    "some_array = np.random.rand(10)\n",
    "print(np.sum(some_array))"
   ]
  },
  {
   "cell_type": "code",
   "execution_count": 79,
   "id": "444ed61f",
   "metadata": {},
   "outputs": [
    {
     "name": "stdout",
     "output_type": "stream",
     "text": [
      "5.834175759227194\n"
     ]
    }
   ],
   "source": [
    "print(some_array.sum())"
   ]
  },
  {
   "cell_type": "code",
   "execution_count": 80,
   "id": "eb037b8e",
   "metadata": {},
   "outputs": [
    {
     "name": "stdout",
     "output_type": "stream",
     "text": [
      "min\n",
      "Function 0.2458941386430764\n",
      "Method 0.2458941386430764\n"
     ]
    }
   ],
   "source": [
    "print('min')\n",
    "# Function\n",
    "print('Function {}'.format(np.min(some_array)))\n",
    "# Method\n",
    "print('Method {}'.format(some_array.min()))"
   ]
  },
  {
   "cell_type": "code",
   "execution_count": 81,
   "id": "7bc1ee20",
   "metadata": {},
   "outputs": [
    {
     "name": "stdout",
     "output_type": "stream",
     "text": [
      "sum\n",
      "Function 5.834175759227194\n",
      "Method 5.834175759227194\n"
     ]
    }
   ],
   "source": [
    "print('sum')\n",
    "# Function\n",
    "print('Function {}'.format(np.sum(some_array)))\n",
    "# Method\n",
    "print('Method {}'.format(some_array.sum()))"
   ]
  },
  {
   "cell_type": "code",
   "execution_count": 82,
   "id": "a99dc630",
   "metadata": {},
   "outputs": [
    {
     "name": "stdout",
     "output_type": "stream",
     "text": [
      "mean\n",
      "Function 0.5834175759227194\n",
      "Method 0.5834175759227194\n"
     ]
    }
   ],
   "source": [
    "print('mean')\n",
    "# Function\n",
    "print('Function {}'.format(np.mean(some_array)))\n",
    "# Method\n",
    "print('Method {}'.format(some_array.mean()))"
   ]
  },
  {
   "cell_type": "code",
   "execution_count": 83,
   "id": "f088ded2",
   "metadata": {},
   "outputs": [
    {
     "name": "stdout",
     "output_type": "stream",
     "text": [
      "reshape\n",
      "Function [[0.63120072 0.4924672 ]\n",
      " [0.24589414 0.96001143]\n",
      " [0.30490878 0.74468667]\n",
      " [0.69458278 0.59666093]\n",
      " [0.50352123 0.66024187]]\n",
      "Method [[0.63120072 0.4924672 ]\n",
      " [0.24589414 0.96001143]\n",
      " [0.30490878 0.74468667]\n",
      " [0.69458278 0.59666093]\n",
      " [0.50352123 0.66024187]]\n"
     ]
    }
   ],
   "source": [
    "print('reshape')\n",
    "# Function\n",
    "print('Function {}'.format(np.reshape(some_array, (5, 2))))\n",
    "# Method\n",
    "print('Method {}'.format(some_array.reshape(5, 2)))"
   ]
  },
  {
   "cell_type": "code",
   "execution_count": 84,
   "id": "86908c93",
   "metadata": {},
   "outputs": [
    {
     "name": "stdout",
     "output_type": "stream",
     "text": [
      "[9 0 5 0 2 8 0 8 4 0]\n"
     ]
    }
   ],
   "source": [
    "unsorted_array = np.random.randint(0, 10, (10))\n",
    "print(unsorted_array)"
   ]
  },
  {
   "cell_type": "code",
   "execution_count": 85,
   "id": "304f78e8",
   "metadata": {},
   "outputs": [
    {
     "name": "stdout",
     "output_type": "stream",
     "text": [
      "Sorted array after sorting: [0 0 0 0 2 4 5 8 8 9]\n",
      "Unsorted array after sorting: [9 0 5 0 2 8 0 8 4 0]\n"
     ]
    }
   ],
   "source": [
    "sorted_array = np.sort(unsorted_array) # Use the sort function\n",
    "print('Sorted array after sorting: {}'.format(sorted_array))\n",
    "print('Unsorted array after sorting: {}'.format(unsorted_array))"
   ]
  },
  {
   "cell_type": "code",
   "execution_count": 86,
   "id": "2f962b7d",
   "metadata": {},
   "outputs": [
    {
     "name": "stdout",
     "output_type": "stream",
     "text": [
      "Unsorted array after sorting: [0 0 0 0 2 4 5 8 8 9]\n"
     ]
    }
   ],
   "source": [
    "unsorted_array.sort()\n",
    "print('Unsorted array after sorting: {}'.format(unsorted_array))"
   ]
  }
 ],
 "metadata": {
  "kernelspec": {
   "display_name": "Python 3 (ipykernel)",
   "language": "python",
   "name": "python3"
  },
  "language_info": {
   "codemirror_mode": {
    "name": "ipython",
    "version": 3
   },
   "file_extension": ".py",
   "mimetype": "text/x-python",
   "name": "python",
   "nbconvert_exporter": "python",
   "pygments_lexer": "ipython3",
   "version": "3.7.16"
  }
 },
 "nbformat": 4,
 "nbformat_minor": 5
}