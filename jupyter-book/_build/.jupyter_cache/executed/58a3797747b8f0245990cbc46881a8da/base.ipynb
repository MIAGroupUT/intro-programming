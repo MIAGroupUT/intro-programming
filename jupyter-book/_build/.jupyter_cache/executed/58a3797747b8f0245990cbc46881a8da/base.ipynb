{
 "cells": [
  {
   "cell_type": "code",
   "execution_count": 1,
   "id": "519820e3",
   "metadata": {},
   "outputs": [
    {
     "name": "stdout",
     "output_type": "stream",
     "text": [
      "{0: 'D:\\\\projectdata\\\\patient0', 1: 'D:\\\\projectdata\\\\patient1', 2: 'D:\\\\projectdata\\\\patient2'}\n"
     ]
    }
   ],
   "source": [
    "patient_paths = {0: 'D:\\projectdata\\patient0',\n",
    "                 1: 'D:\\projectdata\\patient1',\n",
    "                 2: 'D:\\projectdata\\patient2'}\n",
    "print(patient_paths)"
   ]
  },
  {
   "cell_type": "code",
   "execution_count": 2,
   "id": "c1e43435",
   "metadata": {},
   "outputs": [
    {
     "name": "stdout",
     "output_type": "stream",
     "text": [
      "{0: 'D:\\\\projectdata/patient0', 1: 'D:\\\\projectdata/patient1', 2: 'D:\\\\projectdata/patient2'}\n"
     ]
    }
   ],
   "source": [
    "import os\n",
    "\n",
    "base_path = 'D:\\projectdata'\n",
    "patient_paths = {0: os.path.join(base_path, 'patient0'),\n",
    "                 1: os.path.join(base_path, 'patient1'),\n",
    "                 2: os.path.join(base_path, 'patient2')}\n",
    "print(patient_paths)"
   ]
  },
  {
   "cell_type": "code",
   "execution_count": 3,
   "id": "344cf6aa",
   "metadata": {},
   "outputs": [
    {
     "ename": "SyntaxError",
     "evalue": "EOL while scanning string literal (666752191.py, line 1)",
     "output_type": "error",
     "traceback": [
      "\u001b[0;36m  File \u001b[0;32m\"/var/folders/07/x0gf6dj176dfjvrn357t5p6h0000gn/T/ipykernel_32036/666752191.py\"\u001b[0;36m, line \u001b[0;32m1\u001b[0m\n\u001b[0;31m    patient_paths = {0: 'D:\\projectdata\\patient0\\',\u001b[0m\n\u001b[0m                                                   ^\u001b[0m\n\u001b[0;31mSyntaxError\u001b[0m\u001b[0;31m:\u001b[0m EOL while scanning string literal\n"
     ]
    }
   ],
   "source": [
    "patient_paths = {0: 'D:\\projectdata\\patient0\\',\n",
    "                 1: 'D:\\projectdata\\patient1\\',\n",
    "                 2: 'D:\\projectdata\\patient2\\'}"
   ]
  },
  {
   "cell_type": "code",
   "execution_count": 4,
   "id": "2855ab65",
   "metadata": {},
   "outputs": [],
   "source": [
    "f = open(r'/Users/jmwolterink/Library/CloudStorage/OneDrive-UniversityofTwente/Teaching/TM/M3/heartnew.txt')"
   ]
  },
  {
   "cell_type": "code",
   "execution_count": 5,
   "id": "9d8b74fa",
   "metadata": {},
   "outputs": [],
   "source": [
    "for line in f:\n",
    "    print(line.strip('\\n'))"
   ]
  },
  {
   "cell_type": "code",
   "execution_count": null,
   "id": "a7bd8449",
   "metadata": {},
   "outputs": [],
   "source": []
  }
 ],
 "metadata": {
  "jupytext": {
   "cell_metadata_filter": "-all",
   "main_language": "python",
   "notebook_metadata_filter": "-all"
  },
  "language_info": {
   "codemirror_mode": {
    "name": "ipython",
    "version": 3
   },
   "file_extension": ".py",
   "mimetype": "text/x-python",
   "name": "python",
   "nbconvert_exporter": "python",
   "pygments_lexer": "ipython3",
   "version": "3.7.16"
  }
 },
 "nbformat": 4,
 "nbformat_minor": 5
}