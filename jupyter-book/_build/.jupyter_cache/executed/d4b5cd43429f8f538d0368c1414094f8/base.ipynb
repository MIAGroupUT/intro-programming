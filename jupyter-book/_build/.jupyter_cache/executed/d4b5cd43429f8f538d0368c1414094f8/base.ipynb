{
 "cells": [
  {
   "cell_type": "code",
   "execution_count": 1,
   "id": "e9c43c0a",
   "metadata": {},
   "outputs": [
    {
     "name": "stdout",
     "output_type": "stream",
     "text": [
      "0 0\n",
      "0 1\n",
      "1 0\n",
      "1 1\n",
      "2 0\n",
      "2 1\n",
      "3 0\n",
      "3 1\n",
      "4 0\n",
      "4 1\n"
     ]
    }
   ],
   "source": [
    "for i in range(5):\n",
    "    for j in range(2):\n",
    "        print(i, j)"
   ]
  },
  {
   "cell_type": "code",
   "execution_count": 2,
   "id": "fcece42a",
   "metadata": {},
   "outputs": [
    {
     "name": "stdout",
     "output_type": "stream",
     "text": [
      "0 0 0\n",
      "0 2 1\n",
      "0 4 0\n",
      "0 6 1\n",
      "1 0 0\n",
      "1 2 1\n",
      "1 4 0\n",
      "1 6 1\n",
      "2 0 0\n",
      "2 2 1\n",
      "2 4 0\n",
      "2 6 1\n"
     ]
    }
   ],
   "source": [
    "for i in range(3):\n",
    "    j = 0\n",
    "    while j < 7:\n",
    "        for k in range(2):\n",
    "            print(i, j, k)\n",
    "            j = j + 2"
   ]
  }
 ],
 "metadata": {
  "kernelspec": {
   "display_name": "Python 3 (ipykernel)",
   "language": "python",
   "name": "python3"
  },
  "language_info": {
   "codemirror_mode": {
    "name": "ipython",
    "version": 3
   },
   "file_extension": ".py",
   "mimetype": "text/x-python",
   "name": "python",
   "nbconvert_exporter": "python",
   "pygments_lexer": "ipython3",
   "version": "3.7.16"
  }
 },
 "nbformat": 4,
 "nbformat_minor": 5
}