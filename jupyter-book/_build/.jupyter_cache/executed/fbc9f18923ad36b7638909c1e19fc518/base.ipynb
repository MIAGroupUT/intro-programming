{
 "cells": [
  {
   "cell_type": "code",
   "execution_count": 1,
   "id": "d55df2f4",
   "metadata": {
    "tags": [
     "student"
    ]
   },
   "outputs": [],
   "source": [
    "image = \"TODO\"\n",
    "label = \"TODO\""
   ]
  },
  {
   "cell_type": "code",
   "execution_count": 2,
   "id": "fc021698",
   "metadata": {
    "tags": [
     "hide-input"
    ]
   },
   "outputs": [
    {
     "data": {
      "text/html": [
       "<div style='background-color:rgba(80,255,80,0.4); padding:20px'>\n",
       "    <b>Exercise</b>: Choose the appropriate function in \n",
       "        <a href=\"https://docs.monai.io/en/stable\"><code>monai</code></a> to compute the dice.\n",
       "</div>\n"
      ],
      "text/plain": [
       "<IPython.core.display.HTML object>"
      ]
     },
     "metadata": {},
     "output_type": "display_data"
    }
   ],
   "source": [
    "%%html\n",
    "<div style='background-color:rgba(80,255,80,0.4); padding:20px'>\n",
    "    <b>Exercise</b>: Choose the appropriate function in \n",
    "        <a href=\"https://docs.monai.io/en/stable\"><code>monai</code></a> to compute the dice.\n",
    "</div>"
   ]
  },
  {
   "cell_type": "code",
   "execution_count": 3,
   "id": "df3d15ff",
   "metadata": {},
   "outputs": [
    {
     "data": {
      "text/plain": [
       "range(0, 5)"
      ]
     },
     "execution_count": 3,
     "metadata": {},
     "output_type": "execute_result"
    }
   ],
   "source": [
    "range(5)"
   ]
  },
  {
   "cell_type": "code",
   "execution_count": null,
   "id": "19800d0c",
   "metadata": {},
   "outputs": [],
   "source": []
  }
 ],
 "metadata": {
  "kernelspec": {
   "display_name": "Python 3 (ipykernel)",
   "language": "python",
   "name": "python3"
  },
  "language_info": {
   "codemirror_mode": {
    "name": "ipython",
    "version": 3
   },
   "file_extension": ".py",
   "mimetype": "text/x-python",
   "name": "python",
   "nbconvert_exporter": "python",
   "pygments_lexer": "ipython3",
   "version": "3.7.16"
  }
 },
 "nbformat": 4,
 "nbformat_minor": 5
}