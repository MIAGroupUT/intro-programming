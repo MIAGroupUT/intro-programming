{
 "cells": [
  {
   "cell_type": "code",
   "execution_count": 1,
   "id": "b4b628a0",
   "metadata": {},
   "outputs": [],
   "source": [
    "course_name = 'Introduction to programming'\n",
    "year = 2024"
   ]
  },
  {
   "cell_type": "code",
   "execution_count": 2,
   "id": "d91d6044",
   "metadata": {},
   "outputs": [],
   "source": [
    "digits = (3, 5, 4)"
   ]
  },
  {
   "cell_type": "code",
   "execution_count": 3,
   "id": "b1785839",
   "metadata": {},
   "outputs": [],
   "source": [
    "student_names = ('Alice', 'Bob', 'Claire')"
   ]
  },
  {
   "cell_type": "code",
   "execution_count": 4,
   "id": "5314cfd9",
   "metadata": {},
   "outputs": [],
   "source": [
    "passed_course = (True, False, True)"
   ]
  },
  {
   "cell_type": "code",
   "execution_count": 5,
   "id": "22b2d5b5",
   "metadata": {},
   "outputs": [
    {
     "name": "stdout",
     "output_type": "stream",
     "text": [
      "Alice\n"
     ]
    }
   ],
   "source": [
    "print(student_names[0])"
   ]
  },
  {
   "cell_type": "code",
   "execution_count": 6,
   "id": "d6aa49b4",
   "metadata": {},
   "outputs": [
    {
     "name": "stdout",
     "output_type": "stream",
     "text": [
      "Bob\n",
      "Claire\n"
     ]
    }
   ],
   "source": [
    "print(student_names[1])\n",
    "print(student_names[2])"
   ]
  },
  {
   "cell_type": "code",
   "execution_count": 7,
   "id": "0805caec",
   "metadata": {},
   "outputs": [
    {
     "name": "stdout",
     "output_type": "stream",
     "text": [
      "('Alice', 'Bob', 'Claire')\n"
     ]
    }
   ],
   "source": [
    "print(student_names)"
   ]
  },
  {
   "cell_type": "code",
   "execution_count": 8,
   "id": "d9b3929b",
   "metadata": {},
   "outputs": [
    {
     "ename": "TypeError",
     "evalue": "'tuple' object does not support item assignment",
     "output_type": "error",
     "traceback": [
      "\u001b[0;31m---------------------------------------------------------------------------\u001b[0m",
      "\u001b[0;31mTypeError\u001b[0m                                 Traceback (most recent call last)",
      "\u001b[0;32m/var/folders/07/x0gf6dj176dfjvrn357t5p6h0000gn/T/ipykernel_32018/34016667.py\u001b[0m in \u001b[0;36m<module>\u001b[0;34m\u001b[0m\n\u001b[0;32m----> 1\u001b[0;31m \u001b[0mstudent_names\u001b[0m\u001b[0;34m[\u001b[0m\u001b[0;36m1\u001b[0m\u001b[0;34m]\u001b[0m \u001b[0;34m=\u001b[0m \u001b[0;34m'Bert'\u001b[0m\u001b[0;34m\u001b[0m\u001b[0;34m\u001b[0m\u001b[0m\n\u001b[0m",
      "\u001b[0;31mTypeError\u001b[0m: 'tuple' object does not support item assignment"
     ]
    }
   ],
   "source": [
    "student_names[1] = 'Bert'"
   ]
  },
  {
   "cell_type": "code",
   "execution_count": 9,
   "id": "4a6dac42",
   "metadata": {},
   "outputs": [
    {
     "name": "stdout",
     "output_type": "stream",
     "text": [
      "('tomato', 'ham')\n"
     ]
    }
   ],
   "source": [
    "food = ('spam', 'egg', 'bacon', 'tomato', 'ham', 'lobster')\n",
    "print(food[3:5])"
   ]
  },
  {
   "cell_type": "code",
   "execution_count": 10,
   "id": "7190876c",
   "metadata": {},
   "outputs": [
    {
     "name": "stdout",
     "output_type": "stream",
     "text": [
      "('spam', 'egg', 'bacon', 'tomato')\n",
      "('bacon', 'tomato', 'ham', 'lobster')\n"
     ]
    }
   ],
   "source": [
    "print(food[:4])\n",
    "print(food[2:])"
   ]
  },
  {
   "cell_type": "code",
   "execution_count": 11,
   "id": "14c6c52e",
   "metadata": {},
   "outputs": [
    {
     "name": "stdout",
     "output_type": "stream",
     "text": [
      "('spam', 'egg', 'bacon', 'tomato', 'ham', 'lobster')\n"
     ]
    }
   ],
   "source": [
    "print(food[:])"
   ]
  },
  {
   "cell_type": "code",
   "execution_count": 12,
   "id": "0f93b07b",
   "metadata": {},
   "outputs": [
    {
     "name": "stdout",
     "output_type": "stream",
     "text": [
      "('bacon', 'ham')\n"
     ]
    }
   ],
   "source": [
    "print(food[2:6:2])"
   ]
  },
  {
   "cell_type": "code",
   "execution_count": 13,
   "id": "2668b6ce",
   "metadata": {},
   "outputs": [
    {
     "name": "stdout",
     "output_type": "stream",
     "text": [
      "()\n"
     ]
    }
   ],
   "source": [
    "print(food[2:6:-1])"
   ]
  },
  {
   "cell_type": "code",
   "execution_count": 14,
   "id": "cb8a54ca",
   "metadata": {},
   "outputs": [
    {
     "name": "stdout",
     "output_type": "stream",
     "text": [
      "('lobster', 'ham', 'tomato')\n"
     ]
    }
   ],
   "source": [
    "print(food[6:2:-1])"
   ]
  },
  {
   "cell_type": "code",
   "execution_count": 15,
   "id": "5f8b4364",
   "metadata": {},
   "outputs": [
    {
     "name": "stdout",
     "output_type": "stream",
     "text": [
      "('lobster', 'ham', 'tomato', 'bacon', 'egg', 'spam')\n"
     ]
    }
   ],
   "source": [
    "print(food[::-1])"
   ]
  },
  {
   "cell_type": "code",
   "execution_count": 16,
   "id": "1b2b25a4",
   "metadata": {},
   "outputs": [
    {
     "name": "stdout",
     "output_type": "stream",
     "text": [
      "6\n"
     ]
    }
   ],
   "source": [
    "print(len(food))"
   ]
  },
  {
   "cell_type": "code",
   "execution_count": 17,
   "id": "50454003",
   "metadata": {},
   "outputs": [
    {
     "name": "stdout",
     "output_type": "stream",
     "text": [
      "('cheese', 'bread', ('tomato', 'eggplant'), 'milk')\n",
      "eggplant\n"
     ]
    }
   ],
   "source": [
    "vegetables = ('tomato', 'eggplant')\n",
    "groceries = ('cheese', 'bread', vegetables, 'milk')\n",
    "print(groceries)\n",
    "print(groceries[2][1])"
   ]
  },
  {
   "cell_type": "code",
   "execution_count": 18,
   "id": "f1e5feac",
   "metadata": {},
   "outputs": [
    {
     "name": "stdout",
     "output_type": "stream",
     "text": [
      "[3, 5, 4]\n"
     ]
    }
   ],
   "source": [
    "digits = [3, 5, 4] \n",
    "print(digits)"
   ]
  },
  {
   "cell_type": "code",
   "execution_count": 19,
   "id": "e9de438e",
   "metadata": {},
   "outputs": [
    {
     "name": "stdout",
     "output_type": "stream",
     "text": [
      "[3, 6, 4]\n"
     ]
    }
   ],
   "source": [
    "digits[1] = 6\n",
    "print(digits)"
   ]
  },
  {
   "cell_type": "code",
   "execution_count": 20,
   "id": "ae72b81c",
   "metadata": {},
   "outputs": [
    {
     "name": "stdout",
     "output_type": "stream",
     "text": [
      "[3, 6, 4, 6]\n"
     ]
    }
   ],
   "source": [
    "digits.append(6)\n",
    "print(digits)"
   ]
  },
  {
   "cell_type": "code",
   "execution_count": 21,
   "id": "2e1f2eda",
   "metadata": {},
   "outputs": [
    {
     "name": "stdout",
     "output_type": "stream",
     "text": [
      "[3, 6, 4, 6, 7, 8]\n"
     ]
    }
   ],
   "source": [
    "digits.extend([7, 8])\n",
    "print(digits)"
   ]
  },
  {
   "cell_type": "code",
   "execution_count": 22,
   "id": "979735e1",
   "metadata": {},
   "outputs": [
    {
     "name": "stdout",
     "output_type": "stream",
     "text": [
      "[3, 6, 4, 6, 7, 8, 9, 10]\n"
     ]
    }
   ],
   "source": [
    "digits += [9, 10]\n",
    "print(digits)"
   ]
  },
  {
   "cell_type": "code",
   "execution_count": 23,
   "id": "3a857b38",
   "metadata": {},
   "outputs": [
    {
     "name": "stdout",
     "output_type": "stream",
     "text": [
      "['Alice', 'Bob', 'Clark', 'Denise']\n"
     ]
    }
   ],
   "source": [
    "student_names = []\n",
    "student_names.append('Alice')\n",
    "student_names.append('Bob')\n",
    "student_names += ['Clark', 'Denise']\n",
    "print(student_names)"
   ]
  },
  {
   "cell_type": "code",
   "execution_count": 24,
   "id": "dceaa8aa",
   "metadata": {},
   "outputs": [
    {
     "name": "stdout",
     "output_type": "stream",
     "text": [
      "['apple', 'cherry']\n",
      "banana\n",
      "['apple']\n"
     ]
    }
   ],
   "source": [
    "fruits = ['apple', 'banana', 'cherry']\n",
    "popped = fruits.pop(1)\n",
    "print(fruits)\n",
    "print(popped)\n",
    "fruits.remove('cherry')\n",
    "print(fruits)"
   ]
  },
  {
   "cell_type": "code",
   "execution_count": 25,
   "id": "a69e494a",
   "metadata": {},
   "outputs": [
    {
     "name": "stdout",
     "output_type": "stream",
     "text": [
      "['hodor', 'hodor']\n"
     ]
    }
   ],
   "source": [
    "motto = ['hodor', 'hodor', 'hodor']\n",
    "motto.remove('hodor')\n",
    "print(motto)"
   ]
  },
  {
   "cell_type": "code",
   "execution_count": 26,
   "id": "5fa88025",
   "metadata": {},
   "outputs": [
    {
     "name": "stdout",
     "output_type": "stream",
     "text": [
      "{3, 4, 5}\n"
     ]
    }
   ],
   "source": [
    "digits = {3, 5, 5, 4}\n",
    "print(digits)"
   ]
  },
  {
   "cell_type": "code",
   "execution_count": 27,
   "id": "ac7e27fa",
   "metadata": {},
   "outputs": [
    {
     "name": "stdout",
     "output_type": "stream",
     "text": [
      "{'Bob', 'Dean'}\n",
      "{'Claire', 'Edward', 'Dean', 'Fran', 'Bob', 'Adam'}\n",
      "{'Claire', 'Adam'}\n"
     ]
    }
   ],
   "source": [
    "team_a = {'Adam', 'Bob', 'Claire', 'Dean'}\n",
    "team_b = {'Bob', 'Dean', 'Edward', 'Fran'}\n",
    "print(team_a.intersection(team_b)) # Who is in both groups (intersection)\n",
    "print(team_a.union(team_b)) # All people (union)\n",
    "print(team_a.difference(team_b)) # Everyone who is uniquely in group a"
   ]
  },
  {
   "cell_type": "code",
   "execution_count": 28,
   "id": "0476101f",
   "metadata": {},
   "outputs": [
    {
     "name": "stdout",
     "output_type": "stream",
     "text": [
      "{'Claire', 'Edward', 'Dean', 'Bob', 'Adam'}\n"
     ]
    }
   ],
   "source": [
    "team_a.add('Edward')\n",
    "print(team_a)"
   ]
  },
  {
   "cell_type": "code",
   "execution_count": 29,
   "id": "e6b93baf",
   "metadata": {},
   "outputs": [
    {
     "name": "stdout",
     "output_type": "stream",
     "text": [
      "{'brand': 'Ford', 'model': 'Mustang', 'year': 1964}\n"
     ]
    }
   ],
   "source": [
    "car = {\"brand\": \"Ford\", \"model\": \"Mustang\", \"year\": 1964}\n",
    "print(car)"
   ]
  },
  {
   "cell_type": "code",
   "execution_count": 30,
   "id": "345b38f2",
   "metadata": {},
   "outputs": [
    {
     "name": "stdout",
     "output_type": "stream",
     "text": [
      "Ford\n"
     ]
    }
   ],
   "source": [
    "print(car['brand'])"
   ]
  },
  {
   "cell_type": "code",
   "execution_count": 31,
   "id": "577eb2e5",
   "metadata": {},
   "outputs": [
    {
     "name": "stdout",
     "output_type": "stream",
     "text": [
      "{'brand': 'Ford', 'model': 'Mustang', 'year': 1964, 'color': 'Blue'}\n"
     ]
    }
   ],
   "source": [
    "car['color'] = 'Blue'\n",
    "print(car)"
   ]
  },
  {
   "cell_type": "code",
   "execution_count": 32,
   "id": "253ca67d",
   "metadata": {},
   "outputs": [
    {
     "name": "stdout",
     "output_type": "stream",
     "text": [
      "{'brand': 'Ford', 'year': 1964, 'color': 'Blue'}\n"
     ]
    }
   ],
   "source": [
    "del car['model']\n",
    "print(car)"
   ]
  },
  {
   "cell_type": "code",
   "execution_count": 33,
   "id": "1c4fd1f9",
   "metadata": {},
   "outputs": [
    {
     "name": "stdout",
     "output_type": "stream",
     "text": [
      "{1, 2, 3, 4, 5}\n",
      "(1, 2, 3, 4, 1, 2, 3, 1, 2, 3, 4, 5)\n"
     ]
    }
   ],
   "source": [
    "digits_list = [1, 2, 3, 4, 1, 2, 3, 1, 2, 3, 4, 5]\n",
    "print(set(digits_list)) # Cast digits_list to a set \n",
    "print(tuple(digits_list)) # Cast digits_list to a tuple"
   ]
  },
  {
   "cell_type": "code",
   "execution_count": 34,
   "id": "60227a60",
   "metadata": {},
   "outputs": [
    {
     "name": "stdout",
     "output_type": "stream",
     "text": [
      "['brand', 'model', 'year']\n",
      "['Ford', 'Mustang', 1964]\n"
     ]
    }
   ],
   "source": [
    "car = {\"brand\": \"Ford\", \"model\": \"Mustang\", \"year\": 1964}\n",
    "print(list(car.keys()))\n",
    "print(list(car.values()))"
   ]
  },
  {
   "cell_type": "code",
   "execution_count": 35,
   "id": "eab0c5b9",
   "metadata": {},
   "outputs": [
    {
     "data": {
      "text/plain": [
       "{'brand': 'Ford', 'model': 'Mustang', 'year': 1964}"
      ]
     },
     "execution_count": 35,
     "metadata": {},
     "output_type": "execute_result"
    }
   ],
   "source": [
    "keys = ['brand', 'model', 'year']\n",
    "values = ['Ford', 'Mustang', 1964]\n",
    "dict(list(zip(keys, values)))"
   ]
  },
  {
   "cell_type": "code",
   "execution_count": 36,
   "id": "c2789a3d",
   "metadata": {},
   "outputs": [
    {
     "name": "stdout",
     "output_type": "stream",
     "text": [
      "True\n",
      "True\n",
      "True\n",
      "True\n"
     ]
    }
   ],
   "source": [
    "digits = [1, 2, 3, 4]\n",
    "print(1 in digits)\n",
    "print(1 in (set(digits)))\n",
    "print(1 in tuple(digits))\n",
    "digits_dict = {1: 4, 2: 5}\n",
    "print(1 in digits_dict)"
   ]
  },
  {
   "cell_type": "code",
   "execution_count": 37,
   "id": "684fd96e",
   "metadata": {},
   "outputs": [
    {
     "data": {
      "text/plain": [
       "False"
      ]
     },
     "execution_count": 37,
     "metadata": {},
     "output_type": "execute_result"
    }
   ],
   "source": [
    "car = {\"brand\": \"Ford\", \"model\": \"Mustang\", \"year\": 1964}\n",
    "'brand' not in car"
   ]
  },
  {
   "cell_type": "code",
   "execution_count": 38,
   "id": "bbcbb42b",
   "metadata": {},
   "outputs": [
    {
     "name": "stdout",
     "output_type": "stream",
     "text": [
      "True\n",
      "True\n",
      "False\n"
     ]
    }
   ],
   "source": [
    "my_string = 'supercalifragilisticexpialidocious'\n",
    "print('i' in my_string)\n",
    "print('califragi' in my_string)\n",
    "print('z' in my_string)"
   ]
  },
  {
   "cell_type": "code",
   "execution_count": 39,
   "id": "7e92ef30",
   "metadata": {},
   "outputs": [
    {
     "name": "stdout",
     "output_type": "stream",
     "text": [
      "The sum of 45 and 76 is 121\n"
     ]
    }
   ],
   "source": [
    "a = 45\n",
    "b = 76\n",
    "print('The sum of {} and {} is {}'.format(a, b, a+b))"
   ]
  },
  {
   "cell_type": "code",
   "execution_count": 40,
   "id": "e97127ae",
   "metadata": {},
   "outputs": [
    {
     "name": "stdout",
     "output_type": "stream",
     "text": [
      "The sum of 45 and 76 is 121\n"
     ]
    }
   ],
   "source": [
    "a = 45\n",
    "b = 76\n",
    "print('The sum of {number_a} and {number_b} is {sum_numbers}'.format(number_a=a, number_b=b, sum_numbers=a+b))"
   ]
  },
  {
   "cell_type": "code",
   "execution_count": 41,
   "id": "ad8578c1",
   "metadata": {},
   "outputs": [
    {
     "name": "stdout",
     "output_type": "stream",
     "text": [
      "0.1111111111111111\n",
      "0.11\n",
      "0.11\n"
     ]
    }
   ],
   "source": [
    "a = 1/9\n",
    "print(a)  # Prints the 'raw' value of a with many decimals\n",
    "print('{:.2f}'.format(a)) # Only prints two decimals\n",
    "print('{number:.2f}'.format(number=a))  # Same as in previous line, but now with named argument"
   ]
  }
 ],
 "metadata": {
  "jupytext": {
   "cell_metadata_filter": "-all",
   "main_language": "python",
   "notebook_metadata_filter": "-all"
  },
  "language_info": {
   "codemirror_mode": {
    "name": "ipython",
    "version": 3
   },
   "file_extension": ".py",
   "mimetype": "text/x-python",
   "name": "python",
   "nbconvert_exporter": "python",
   "pygments_lexer": "ipython3",
   "version": "3.7.16"
  }
 },
 "nbformat": 4,
 "nbformat_minor": 5
}