{
 "cells": [
  {
   "cell_type": "code",
   "execution_count": 1,
   "id": "1424d0b1",
   "metadata": {
    "user_expressions": []
   },
   "outputs": [
    {
     "name": "stdout",
     "output_type": "stream",
     "text": [
      "yes\n"
     ]
    }
   ],
   "source": [
    "x = 0\n",
    "y = 5\n",
    "\n",
    "if x < y:           # True\n",
    "    print('yes')      "
   ]
  },
  {
   "cell_type": "code",
   "execution_count": 2,
   "id": "b5652643",
   "metadata": {},
   "outputs": [],
   "source": [
    "if y < x:           # False\n",
    "    print('yes')    "
   ]
  },
  {
   "cell_type": "code",
   "execution_count": 3,
   "id": "ef04f1c3",
   "metadata": {},
   "outputs": [],
   "source": [
    "if x:               # False\n",
    "    print('yes')    "
   ]
  },
  {
   "cell_type": "code",
   "execution_count": 4,
   "id": "33f59fbd",
   "metadata": {},
   "outputs": [
    {
     "name": "stdout",
     "output_type": "stream",
     "text": [
      "yes\n"
     ]
    }
   ],
   "source": [
    "if y:               # True\n",
    "    print('yes')    "
   ]
  },
  {
   "cell_type": "code",
   "execution_count": 5,
   "id": "5b15e563",
   "metadata": {},
   "outputs": [
    {
     "name": "stdout",
     "output_type": "stream",
     "text": [
      "yes\n"
     ]
    }
   ],
   "source": [
    "if x or y:          # True\n",
    "    print('yes')    "
   ]
  },
  {
   "cell_type": "code",
   "execution_count": 6,
   "id": "57cfc8ad",
   "metadata": {},
   "outputs": [],
   "source": [
    "if x and y:         # False\n",
    "    print('yes')    "
   ]
  },
  {
   "cell_type": "code",
   "execution_count": 7,
   "id": "8caff808",
   "metadata": {},
   "outputs": [
    {
     "name": "stdout",
     "output_type": "stream",
     "text": [
      "yes\n"
     ]
    }
   ],
   "source": [
    "if not x:           # True\n",
    "    print('yes')"
   ]
  },
  {
   "cell_type": "code",
   "execution_count": 8,
   "id": "3c5fb96e",
   "metadata": {
    "user_expressions": []
   },
   "outputs": [
    {
     "name": "stdout",
     "output_type": "stream",
     "text": [
      "y\n",
      "is a non-zero integer\n",
      "so I will print\n",
      "yes\n"
     ]
    }
   ],
   "source": [
    "if y: \n",
    "    print('y')\n",
    "    print('is a non-zero integer')\n",
    "    print('so I will print')\n",
    "    print('yes')"
   ]
  },
  {
   "cell_type": "code",
   "execution_count": 9,
   "id": "5f1b4c27",
   "metadata": {},
   "outputs": [],
   "source": [
    "if x:\n",
    "    if y:\n",
    "        print('yes')"
   ]
  },
  {
   "cell_type": "code",
   "execution_count": 10,
   "id": "1880166f",
   "metadata": {
    "user_expressions": []
   },
   "outputs": [
    {
     "name": "stdout",
     "output_type": "stream",
     "text": [
      "smaller\n"
     ]
    }
   ],
   "source": [
    "if 10 > 20:\n",
    "    print('larger')\n",
    "else:\n",
    "    print('smaller')"
   ]
  },
  {
   "cell_type": "code",
   "execution_count": 11,
   "id": "2dd29cdf",
   "metadata": {
    "user_expressions": []
   },
   "outputs": [
    {
     "name": "stdout",
     "output_type": "stream",
     "text": [
      "bonjour\n"
     ]
    }
   ],
   "source": [
    "language = 'french'\n",
    "if language == 'english':\n",
    "    print('hello')\n",
    "elif language == 'dutch':\n",
    "    print('hallo')\n",
    "elif language == 'french':\n",
    "    print('bonjour')\n",
    "else:\n",
    "    print('unknown language')"
   ]
  },
  {
   "cell_type": "code",
   "execution_count": 12,
   "id": "e2aceae8",
   "metadata": {},
   "outputs": [
    {
     "name": "stdout",
     "output_type": "stream",
     "text": [
      "42\n",
      "[0, 2, 4, 6, 8, 10]\n"
     ]
    }
   ],
   "source": [
    "even_sum = 0\n",
    "n = 0\n",
    "even_numbers = []\n",
    "\n",
    "\n",
    "while even_sum < 40:\n",
    "    even_sum += n\n",
    "    even_numbers.append(n)\n",
    "    n += 2\n",
    "\n",
    "print(even_sum)\n",
    "print(even_numbers[:-1])"
   ]
  },
  {
   "cell_type": "code",
   "execution_count": 13,
   "id": "3b4c991f",
   "metadata": {},
   "outputs": [
    {
     "name": "stdout",
     "output_type": "stream",
     "text": [
      "30\n",
      "[0, 2, 4, 6, 8, 10]\n"
     ]
    }
   ],
   "source": [
    "even_sum = 0\n",
    "n = 0\n",
    "even_numbers = []\n",
    "\n",
    "while even_sum < 40:\n",
    "    if even_sum + n >= 40: # Check if adding the current number n would let even_sum exceed 40\n",
    "        break              # If that is the case, get out of the loop immediately\n",
    "    else:                  # If not, continue looping\n",
    "        even_sum += n\n",
    "        even_numbers.append(n)\n",
    "        n += 2 \n",
    "print(even_sum)        \n",
    "print(even_numbers)"
   ]
  },
  {
   "cell_type": "code",
   "execution_count": 14,
   "id": "9f38a15f",
   "metadata": {},
   "outputs": [
    {
     "name": "stdout",
     "output_type": "stream",
     "text": [
      "38\n",
      "[2, 4, 8, 10, 14]\n"
     ]
    }
   ],
   "source": [
    "even_sum = 0\n",
    "n = 0\n",
    "even_numbers = []\n",
    "\n",
    "while even_sum < 40:\n",
    "    if even_sum + n >= 40: # Check if adding the current number n would let odd_sum exceed 40\n",
    "        break              # If that is the case, get out of the loop immediately\n",
    "    elif n % 6 == 0:       # If the number n can be divided by 6\n",
    "        n += 2             # Increment the number\n",
    "        continue           # Move on to next iteration\n",
    "    else:                  # If neither condition is met, continue looping\n",
    "        even_sum += n\n",
    "        even_numbers.append(n)\n",
    "        n += 2 \n",
    "print(even_sum)  \n",
    "print(even_numbers)"
   ]
  },
  {
   "cell_type": "code",
   "execution_count": 15,
   "id": "7556d9b1",
   "metadata": {
    "user_expressions": []
   },
   "outputs": [
    {
     "name": "stdout",
     "output_type": "stream",
     "text": [
      "1\n",
      "2\n",
      "3\n",
      "5\n",
      "8\n"
     ]
    }
   ],
   "source": [
    "for item in [1, 2, 3, 5, 8]:\n",
    "    print(item) "
   ]
  },
  {
   "cell_type": "code",
   "execution_count": 16,
   "id": "138a358f",
   "metadata": {
    "user_expressions": []
   },
   "outputs": [
    {
     "name": "stdout",
     "output_type": "stream",
     "text": [
      "Hello world\n",
      "Hello world\n",
      "Hello world\n",
      "Hello world\n",
      "Hello world\n"
     ]
    }
   ],
   "source": [
    "for item in [1, 2, 3, 4, 5]:\n",
    "    print('Hello world')"
   ]
  },
  {
   "cell_type": "code",
   "execution_count": 17,
   "id": "8fb8b419",
   "metadata": {},
   "outputs": [
    {
     "name": "stdout",
     "output_type": "stream",
     "text": [
      "Hello world\n",
      "Hello world\n",
      "Hello world\n",
      "Hello world\n",
      "Hello world\n"
     ]
    }
   ],
   "source": [
    "for _ in ['person', 'woman', 'man', 'camera', 'tv']:\n",
    "    print('Hello world')"
   ]
  },
  {
   "cell_type": "code",
   "execution_count": 18,
   "id": "966139e5",
   "metadata": {
    "user_expressions": []
   },
   "outputs": [
    {
     "name": "stdout",
     "output_type": "stream",
     "text": [
      "Hello world\n",
      "Hello world\n",
      "Hello world\n",
      "Hello world\n",
      "Hello world\n"
     ]
    }
   ],
   "source": [
    "for _ in range(0, 5, 1): \n",
    "    print('Hello world')"
   ]
  },
  {
   "cell_type": "code",
   "execution_count": 19,
   "id": "63c0436a",
   "metadata": {},
   "outputs": [
    {
     "name": "stdout",
     "output_type": "stream",
     "text": [
      "0\n",
      "1\n",
      "2\n",
      "3\n",
      "4\n",
      "---\n",
      "1\n",
      "3\n",
      "5\n",
      "7\n",
      "---\n",
      "9\n",
      "8\n",
      "7\n",
      "6\n",
      "5\n",
      "4\n",
      "3\n"
     ]
    }
   ],
   "source": [
    "for digit in range(0, 5, 1):\n",
    "    print(digit)\n",
    "print('---')\n",
    "\n",
    "for digit in range(1, 9, 2):\n",
    "    print(digit)\n",
    "print('---')\n",
    "\n",
    "for digit in range(9, 2, -1):\n",
    "    print(digit)"
   ]
  },
  {
   "cell_type": "code",
   "execution_count": 20,
   "id": "8d9101d8",
   "metadata": {},
   "outputs": [
    {
     "name": "stdout",
     "output_type": "stream",
     "text": [
      "c\n",
      "o\n",
      "f\n",
      "f\n",
      "e\n",
      "e\n"
     ]
    }
   ],
   "source": [
    "some_string = 'coffee'\n",
    "for letter in some_string:\n",
    "    print(letter)"
   ]
  },
  {
   "cell_type": "code",
   "execution_count": 21,
   "id": "1a1d742f",
   "metadata": {},
   "outputs": [
    {
     "name": "stdout",
     "output_type": "stream",
     "text": [
      "[1, 2, 3, 4, 5]\n",
      "[2, 4, 6, 8, 10]\n",
      "[3, 6, 9, 12, 15]\n",
      "[4, 8, 12, 16, 20]\n",
      "[5, 10, 15, 20, 25]\n"
     ]
    }
   ],
   "source": [
    "for i in range(1, 6):\n",
    "    row = []\n",
    "    for j in range(1, 6):\n",
    "        row.append(i*j)\n",
    "    print(row)"
   ]
  },
  {
   "cell_type": "code",
   "execution_count": 22,
   "id": "bbf54a3c",
   "metadata": {},
   "outputs": [
    {
     "name": "stdout",
     "output_type": "stream",
     "text": [
      "0 0 0\n",
      "0 2 1\n",
      "0 4 0\n",
      "0 6 1\n",
      "1 0 0\n",
      "1 2 1\n",
      "1 4 0\n",
      "1 6 1\n",
      "2 0 0\n",
      "2 2 1\n",
      "2 4 0\n",
      "2 6 1\n"
     ]
    }
   ],
   "source": [
    "for i in range(3):\n",
    "    j = 0\n",
    "    while j < 7:\n",
    "        for k in range(2):\n",
    "            print(i, j, k)\n",
    "            j = j + 2"
   ]
  },
  {
   "cell_type": "code",
   "execution_count": 23,
   "id": "c0554b5d",
   "metadata": {},
   "outputs": [
    {
     "name": "stdout",
     "output_type": "stream",
     "text": [
      "[6, 24, 40]\n"
     ]
    }
   ],
   "source": [
    "vector_a = [3, 6, 5] # Define an input vector as a list\n",
    "vector_b = [2, 4, 8] # Define a second input vector\n",
    "vector_c = []        # Define an output vector \n",
    "\n",
    "for elem_a, elem_b in zip(vector_a, vector_b): # Jointly iterate over the two input vectors\n",
    "    vector_c.append(elem_a * elem_b)           # Append product of elements to output vector\n",
    "    \n",
    "print(vector_c)"
   ]
  }
 ],
 "metadata": {
  "kernelspec": {
   "display_name": "Python 3 (ipykernel)",
   "language": "python",
   "name": "python3"
  },
  "language_info": {
   "codemirror_mode": {
    "name": "ipython",
    "version": 3
   },
   "file_extension": ".py",
   "mimetype": "text/x-python",
   "name": "python",
   "nbconvert_exporter": "python",
   "pygments_lexer": "ipython3",
   "version": "3.7.16"
  }
 },
 "nbformat": 4,
 "nbformat_minor": 5
}