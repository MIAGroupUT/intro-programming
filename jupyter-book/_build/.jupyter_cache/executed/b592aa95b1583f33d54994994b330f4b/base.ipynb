{
 "cells": [
  {
   "cell_type": "code",
   "execution_count": 1,
   "id": "f3c3cb12",
   "metadata": {},
   "outputs": [],
   "source": [
    "course_name = 'Introduction to programming'\n",
    "year = 2024"
   ]
  },
  {
   "cell_type": "code",
   "execution_count": 2,
   "id": "28c92a91",
   "metadata": {},
   "outputs": [],
   "source": [
    "digits = (3, 5, 4)"
   ]
  },
  {
   "cell_type": "code",
   "execution_count": 3,
   "id": "4f2f1fe3",
   "metadata": {},
   "outputs": [],
   "source": [
    "student_names = ('Alice', 'Bob', 'Claire')"
   ]
  },
  {
   "cell_type": "code",
   "execution_count": 4,
   "id": "2ace9550",
   "metadata": {},
   "outputs": [],
   "source": [
    "passed_course = (True, False, True)"
   ]
  },
  {
   "cell_type": "code",
   "execution_count": 5,
   "id": "e772d4c5",
   "metadata": {},
   "outputs": [
    {
     "name": "stdout",
     "output_type": "stream",
     "text": [
      "Alice\n"
     ]
    }
   ],
   "source": [
    "print(student_names[0])"
   ]
  },
  {
   "cell_type": "code",
   "execution_count": 6,
   "id": "60800fa3",
   "metadata": {},
   "outputs": [
    {
     "name": "stdout",
     "output_type": "stream",
     "text": [
      "Bob\n",
      "Claire\n"
     ]
    }
   ],
   "source": [
    "print(student_names[1])\n",
    "print(student_names[2])"
   ]
  },
  {
   "cell_type": "code",
   "execution_count": 7,
   "id": "613e7b18",
   "metadata": {},
   "outputs": [
    {
     "name": "stdout",
     "output_type": "stream",
     "text": [
      "('Alice', 'Bob', 'Claire')\n"
     ]
    }
   ],
   "source": [
    "print(student_names)"
   ]
  },
  {
   "cell_type": "code",
   "execution_count": 8,
   "id": "bf26be77",
   "metadata": {},
   "outputs": [
    {
     "ename": "TypeError",
     "evalue": "'tuple' object does not support item assignment",
     "output_type": "error",
     "traceback": [
      "\u001b[0;31m---------------------------------------------------------------------------\u001b[0m",
      "\u001b[0;31mTypeError\u001b[0m                                 Traceback (most recent call last)",
      "\u001b[0;32m/var/folders/07/x0gf6dj176dfjvrn357t5p6h0000gn/T/ipykernel_36825/34016667.py\u001b[0m in \u001b[0;36m<module>\u001b[0;34m\u001b[0m\n\u001b[0;32m----> 1\u001b[0;31m \u001b[0mstudent_names\u001b[0m\u001b[0;34m[\u001b[0m\u001b[0;36m1\u001b[0m\u001b[0;34m]\u001b[0m \u001b[0;34m=\u001b[0m \u001b[0;34m'Bert'\u001b[0m\u001b[0;34m\u001b[0m\u001b[0;34m\u001b[0m\u001b[0m\n\u001b[0m",
      "\u001b[0;31mTypeError\u001b[0m: 'tuple' object does not support item assignment"
     ]
    }
   ],
   "source": [
    "student_names[1] = 'Bert'"
   ]
  },
  {
   "cell_type": "code",
   "execution_count": 9,
   "id": "467c8cd5",
   "metadata": {},
   "outputs": [
    {
     "name": "stdout",
     "output_type": "stream",
     "text": [
      "('tomato', 'ham')\n"
     ]
    }
   ],
   "source": [
    "food = ('spam', 'egg', 'bacon', 'tomato', 'ham', 'lobster')\n",
    "print(food[3:5])"
   ]
  },
  {
   "cell_type": "code",
   "execution_count": 10,
   "id": "e11e0656",
   "metadata": {},
   "outputs": [
    {
     "name": "stdout",
     "output_type": "stream",
     "text": [
      "('spam', 'egg', 'bacon', 'tomato')\n",
      "('bacon', 'tomato', 'ham', 'lobster')\n"
     ]
    }
   ],
   "source": [
    "print(food[:4])\n",
    "print(food[2:])"
   ]
  },
  {
   "cell_type": "code",
   "execution_count": 11,
   "id": "0687a2fe",
   "metadata": {},
   "outputs": [
    {
     "name": "stdout",
     "output_type": "stream",
     "text": [
      "('spam', 'egg', 'bacon', 'tomato', 'ham', 'lobster')\n"
     ]
    }
   ],
   "source": [
    "print(food[:])"
   ]
  },
  {
   "cell_type": "code",
   "execution_count": 12,
   "id": "ae0dfb3a",
   "metadata": {},
   "outputs": [
    {
     "name": "stdout",
     "output_type": "stream",
     "text": [
      "('bacon', 'ham')\n"
     ]
    }
   ],
   "source": [
    "print(food[2:6:2])"
   ]
  },
  {
   "cell_type": "code",
   "execution_count": 13,
   "id": "1c30a114",
   "metadata": {},
   "outputs": [
    {
     "name": "stdout",
     "output_type": "stream",
     "text": [
      "()\n"
     ]
    }
   ],
   "source": [
    "print(food[2:6:-1])"
   ]
  },
  {
   "cell_type": "code",
   "execution_count": 14,
   "id": "18b2e19b",
   "metadata": {},
   "outputs": [
    {
     "name": "stdout",
     "output_type": "stream",
     "text": [
      "('lobster', 'ham', 'tomato')\n"
     ]
    }
   ],
   "source": [
    "print(food[6:2:-1])"
   ]
  },
  {
   "cell_type": "code",
   "execution_count": 15,
   "id": "71416f76",
   "metadata": {},
   "outputs": [
    {
     "name": "stdout",
     "output_type": "stream",
     "text": [
      "('lobster', 'ham', 'tomato', 'bacon', 'egg', 'spam')\n"
     ]
    }
   ],
   "source": [
    "print(food[::-1])"
   ]
  },
  {
   "cell_type": "code",
   "execution_count": 16,
   "id": "e5d1e75f",
   "metadata": {},
   "outputs": [
    {
     "name": "stdout",
     "output_type": "stream",
     "text": [
      "6\n"
     ]
    }
   ],
   "source": [
    "print(len(food))"
   ]
  },
  {
   "cell_type": "code",
   "execution_count": 17,
   "id": "1433e93b",
   "metadata": {},
   "outputs": [
    {
     "name": "stdout",
     "output_type": "stream",
     "text": [
      "('cheese', 'bread', ('tomato', 'eggplant'), 'milk')\n",
      "eggplant\n"
     ]
    }
   ],
   "source": [
    "vegetables = ('tomato', 'eggplant')\n",
    "groceries = ('cheese', 'bread', vegetables, 'milk')\n",
    "print(groceries)\n",
    "print(groceries[2][1])"
   ]
  },
  {
   "cell_type": "code",
   "execution_count": 18,
   "id": "5a4d86b1",
   "metadata": {},
   "outputs": [
    {
     "name": "stdout",
     "output_type": "stream",
     "text": [
      "[3, 5, 4]\n"
     ]
    }
   ],
   "source": [
    "digits = [3, 5, 4] \n",
    "print(digits)"
   ]
  },
  {
   "cell_type": "code",
   "execution_count": 19,
   "id": "addae461",
   "metadata": {},
   "outputs": [
    {
     "name": "stdout",
     "output_type": "stream",
     "text": [
      "[3, 6, 4]\n"
     ]
    }
   ],
   "source": [
    "digits[1] = 6\n",
    "print(digits)"
   ]
  },
  {
   "cell_type": "code",
   "execution_count": 20,
   "id": "5fb3fca6",
   "metadata": {},
   "outputs": [
    {
     "name": "stdout",
     "output_type": "stream",
     "text": [
      "[3, 6, 4, 6]\n"
     ]
    }
   ],
   "source": [
    "digits.append(6)\n",
    "print(digits)"
   ]
  },
  {
   "cell_type": "code",
   "execution_count": 21,
   "id": "6376be9f",
   "metadata": {},
   "outputs": [
    {
     "name": "stdout",
     "output_type": "stream",
     "text": [
      "[3, 6, 4, 6, 7, 8]\n"
     ]
    }
   ],
   "source": [
    "digits.extend([7, 8])\n",
    "print(digits)"
   ]
  },
  {
   "cell_type": "code",
   "execution_count": 22,
   "id": "0a68bc97",
   "metadata": {},
   "outputs": [
    {
     "name": "stdout",
     "output_type": "stream",
     "text": [
      "[3, 6, 4, 6, 7, 8, 9, 10]\n"
     ]
    }
   ],
   "source": [
    "digits += [9, 10]\n",
    "print(digits)"
   ]
  },
  {
   "cell_type": "code",
   "execution_count": 23,
   "id": "134e0146",
   "metadata": {},
   "outputs": [
    {
     "name": "stdout",
     "output_type": "stream",
     "text": [
      "['Alice', 'Bob', 'Clark', 'Denise']\n"
     ]
    }
   ],
   "source": [
    "student_names = []\n",
    "student_names.append('Alice')\n",
    "student_names.append('Bob')\n",
    "student_names += ['Clark', 'Denise']\n",
    "print(student_names)"
   ]
  },
  {
   "cell_type": "code",
   "execution_count": 24,
   "id": "b7b97d20",
   "metadata": {},
   "outputs": [
    {
     "name": "stdout",
     "output_type": "stream",
     "text": [
      "['apple', 'cherry']\n",
      "banana\n",
      "['apple']\n"
     ]
    }
   ],
   "source": [
    "fruits = ['apple', 'banana', 'cherry']\n",
    "popped = fruits.pop(1)\n",
    "print(fruits)\n",
    "print(popped)\n",
    "fruits.remove('cherry')\n",
    "print(fruits)"
   ]
  },
  {
   "cell_type": "code",
   "execution_count": 25,
   "id": "7a95b1cc",
   "metadata": {},
   "outputs": [
    {
     "name": "stdout",
     "output_type": "stream",
     "text": [
      "['hodor', 'hodor']\n"
     ]
    }
   ],
   "source": [
    "motto = ['hodor', 'hodor', 'hodor']\n",
    "motto.remove('hodor')\n",
    "print(motto)"
   ]
  },
  {
   "cell_type": "code",
   "execution_count": 26,
   "id": "0d93b98f",
   "metadata": {},
   "outputs": [
    {
     "name": "stdout",
     "output_type": "stream",
     "text": [
      "{3, 4, 5}\n"
     ]
    }
   ],
   "source": [
    "digits = {3, 5, 5, 4}\n",
    "print(digits)"
   ]
  },
  {
   "cell_type": "code",
   "execution_count": 27,
   "id": "8275f1bc",
   "metadata": {},
   "outputs": [
    {
     "name": "stdout",
     "output_type": "stream",
     "text": [
      "{'Dean', 'Bob'}\n",
      "{'Dean', 'Fran', 'Bob', 'Claire', 'Adam', 'Edward'}\n",
      "{'Adam', 'Claire'}\n"
     ]
    }
   ],
   "source": [
    "team_a = {'Adam', 'Bob', 'Claire', 'Dean'}\n",
    "team_b = {'Bob', 'Dean', 'Edward', 'Fran'}\n",
    "print(team_a.intersection(team_b)) # Who is in both groups (intersection)\n",
    "print(team_a.union(team_b)) # All people (union)\n",
    "print(team_a.difference(team_b)) # Everyone who is uniquely in group a"
   ]
  },
  {
   "cell_type": "code",
   "execution_count": 28,
   "id": "d6d28f1e",
   "metadata": {},
   "outputs": [
    {
     "name": "stdout",
     "output_type": "stream",
     "text": [
      "{'Dean', 'Bob', 'Claire', 'Adam', 'Edward'}\n"
     ]
    }
   ],
   "source": [
    "team_a.add('Edward')\n",
    "print(team_a)"
   ]
  },
  {
   "cell_type": "code",
   "execution_count": 29,
   "id": "8f985259",
   "metadata": {},
   "outputs": [
    {
     "name": "stdout",
     "output_type": "stream",
     "text": [
      "{'brand': 'Ford', 'model': 'Mustang', 'year': 1964}\n"
     ]
    }
   ],
   "source": [
    "car = {\"brand\": \"Ford\", \"model\": \"Mustang\", \"year\": 1964}\n",
    "print(car)"
   ]
  },
  {
   "cell_type": "code",
   "execution_count": 30,
   "id": "65ab0617",
   "metadata": {},
   "outputs": [
    {
     "name": "stdout",
     "output_type": "stream",
     "text": [
      "Ford\n"
     ]
    }
   ],
   "source": [
    "print(car['brand'])"
   ]
  },
  {
   "cell_type": "code",
   "execution_count": 31,
   "id": "5224982a",
   "metadata": {},
   "outputs": [
    {
     "name": "stdout",
     "output_type": "stream",
     "text": [
      "{'brand': 'Ford', 'model': 'Mustang', 'year': 1964, 'color': 'Blue'}\n"
     ]
    }
   ],
   "source": [
    "car['color'] = 'Blue'\n",
    "print(car)"
   ]
  },
  {
   "cell_type": "code",
   "execution_count": 32,
   "id": "0344d7f0",
   "metadata": {},
   "outputs": [
    {
     "name": "stdout",
     "output_type": "stream",
     "text": [
      "{'brand': 'Ford', 'year': 1964, 'color': 'Blue'}\n"
     ]
    }
   ],
   "source": [
    "del car['model']\n",
    "print(car)"
   ]
  },
  {
   "cell_type": "code",
   "execution_count": 33,
   "id": "3934c330",
   "metadata": {},
   "outputs": [
    {
     "name": "stdout",
     "output_type": "stream",
     "text": [
      "{1, 2, 3, 4, 5}\n",
      "(1, 2, 3, 4, 1, 2, 3, 1, 2, 3, 4, 5)\n"
     ]
    }
   ],
   "source": [
    "digits_list = [1, 2, 3, 4, 1, 2, 3, 1, 2, 3, 4, 5]\n",
    "print(set(digits_list)) # Cast digits_list to a set \n",
    "print(tuple(digits_list)) # Cast digits_list to a tuple"
   ]
  },
  {
   "cell_type": "code",
   "execution_count": 34,
   "id": "60907fdd",
   "metadata": {},
   "outputs": [
    {
     "name": "stdout",
     "output_type": "stream",
     "text": [
      "['brand', 'model', 'year']\n",
      "['Ford', 'Mustang', 1964]\n"
     ]
    }
   ],
   "source": [
    "car = {\"brand\": \"Ford\", \"model\": \"Mustang\", \"year\": 1964}\n",
    "print(list(car.keys()))\n",
    "print(list(car.values()))"
   ]
  },
  {
   "cell_type": "code",
   "execution_count": 35,
   "id": "d2817677",
   "metadata": {},
   "outputs": [
    {
     "data": {
      "text/plain": [
       "{'brand': 'Ford', 'model': 'Mustang', 'year': 1964}"
      ]
     },
     "execution_count": 35,
     "metadata": {},
     "output_type": "execute_result"
    }
   ],
   "source": [
    "keys = ['brand', 'model', 'year']\n",
    "values = ['Ford', 'Mustang', 1964]\n",
    "dict(list(zip(keys, values)))"
   ]
  },
  {
   "cell_type": "code",
   "execution_count": 36,
   "id": "452c0f82",
   "metadata": {},
   "outputs": [
    {
     "name": "stdout",
     "output_type": "stream",
     "text": [
      "True\n",
      "True\n",
      "True\n",
      "True\n"
     ]
    }
   ],
   "source": [
    "digits = [1, 2, 3, 4]\n",
    "print(1 in digits)\n",
    "print(1 in (set(digits)))\n",
    "print(1 in tuple(digits))\n",
    "digits_dict = {1: 4, 2: 5}\n",
    "print(1 in digits_dict)"
   ]
  },
  {
   "cell_type": "code",
   "execution_count": 37,
   "id": "ea5afa38",
   "metadata": {},
   "outputs": [
    {
     "data": {
      "text/plain": [
       "False"
      ]
     },
     "execution_count": 37,
     "metadata": {},
     "output_type": "execute_result"
    }
   ],
   "source": [
    "car = {\"brand\": \"Ford\", \"model\": \"Mustang\", \"year\": 1964}\n",
    "'brand' not in car"
   ]
  },
  {
   "cell_type": "code",
   "execution_count": 38,
   "id": "e1bb148b",
   "metadata": {},
   "outputs": [
    {
     "name": "stdout",
     "output_type": "stream",
     "text": [
      "True\n",
      "True\n",
      "False\n"
     ]
    }
   ],
   "source": [
    "my_string = 'supercalifragilisticexpialidocious'\n",
    "print('i' in my_string)\n",
    "print('califragi' in my_string)\n",
    "print('z' in my_string)"
   ]
  },
  {
   "cell_type": "code",
   "execution_count": 39,
   "id": "24005e3b",
   "metadata": {},
   "outputs": [
    {
     "name": "stdout",
     "output_type": "stream",
     "text": [
      "The sum of 45 and 76 is 121\n"
     ]
    }
   ],
   "source": [
    "a = 45\n",
    "b = 76\n",
    "print('The sum of {} and {} is {}'.format(a, b, a+b))"
   ]
  },
  {
   "cell_type": "code",
   "execution_count": 40,
   "id": "c150363e",
   "metadata": {},
   "outputs": [
    {
     "name": "stdout",
     "output_type": "stream",
     "text": [
      "The sum of 45 and 76 is 121\n"
     ]
    }
   ],
   "source": [
    "a = 45\n",
    "b = 76\n",
    "print('The sum of {number_a} and {number_b} is {sum_numbers}'.format(number_a=a, number_b=b, sum_numbers=a+b))"
   ]
  },
  {
   "cell_type": "code",
   "execution_count": 41,
   "id": "9967c6e6",
   "metadata": {},
   "outputs": [
    {
     "name": "stdout",
     "output_type": "stream",
     "text": [
      "0.1111111111111111\n",
      "0.11\n",
      "0.11\n"
     ]
    }
   ],
   "source": [
    "a = 1/9\n",
    "print(a)  # Prints the 'raw' value of a with many decimals\n",
    "print('{:.2f}'.format(a)) # Only prints two decimals\n",
    "print('{number:.2f}'.format(number=a))  # Same as in previous line, but now with named argument"
   ]
  }
 ],
 "metadata": {
  "jupytext": {
   "cell_metadata_filter": "-all",
   "main_language": "python",
   "notebook_metadata_filter": "-all"
  },
  "kernelspec": {
   "display_name": "",
   "name": ""
  },
  "language_info": {
   "codemirror_mode": {
    "name": "ipython",
    "version": 3
   },
   "file_extension": ".py",
   "mimetype": "text/x-python",
   "name": "python",
   "nbconvert_exporter": "python",
   "pygments_lexer": "ipython3",
   "version": "3.7.16"
  }
 },
 "nbformat": 4,
 "nbformat_minor": 5
}