{
 "cells": [
  {
   "cell_type": "code",
   "execution_count": 1,
   "id": "29eefdf5",
   "metadata": {},
   "outputs": [],
   "source": [
    "# Let's create some variables\n",
    "a, b, c = 45, 23, 128\n",
    "d, e, f = 34.2, 4534.1, -129.3\n",
    "g, h, i = 'Little', 'green', 'bag'"
   ]
  },
  {
   "cell_type": "code",
   "execution_count": 2,
   "id": "8d11a2ec",
   "metadata": {},
   "outputs": [
    {
     "name": "stdout",
     "output_type": "stream",
     "text": [
      "All variables\n",
      "a\t b\t c\t d\t e\t f\t g\t h\t i\t \n",
      "\n",
      "Integers\n",
      "a\t b\t c\t \n",
      "Floats\n",
      "d\t e\t f\t \n",
      "Strings\n",
      "g\t h\t i\t \n"
     ]
    }
   ],
   "source": [
    "print('All variables')\n",
    "%who \n",
    "print('Integers')\n",
    "%who int\n",
    "print('Floats')\n",
    "%who float\n",
    "print('Strings')\n",
    "%who str"
   ]
  },
  {
   "cell_type": "code",
   "execution_count": 3,
   "id": "b6982463",
   "metadata": {},
   "outputs": [
    {
     "name": "stdout",
     "output_type": "stream",
     "text": [
      "1.44 µs ± 4.73 ns per loop (mean ± std. dev. of 7 runs, 100 loops each)\n"
     ]
    }
   ],
   "source": [
    "%%timeit -n 100\n",
    "def factorial(n):                  \n",
    "    if n > 1:                      \n",
    "        return n * factorial(n-1)  \n",
    "    else:                          \n",
    "        return 1                    \n",
    "    \n",
    "factorial(10)"
   ]
  },
  {
   "cell_type": "code",
   "execution_count": 4,
   "id": "09b1b0cb",
   "metadata": {},
   "outputs": [],
   "source": [
    "def factorial(n):                  \n",
    "    if n > 1:                      \n",
    "        return n * factorial(n-1)  \n",
    "    else:                          \n",
    "        return 1 "
   ]
  },
  {
   "cell_type": "code",
   "execution_count": 5,
   "id": "c5d215d4",
   "metadata": {
    "user_expressions": []
   },
   "outputs": [
    {
     "name": "stdout",
     "output_type": "stream",
     "text": [
      "1.24 µs ± 21.3 ns per loop (mean ± std. dev. of 7 runs, 100 loops each)\n"
     ]
    }
   ],
   "source": [
    "%timeit -n 100 factorial(10)"
   ]
  },
  {
   "cell_type": "code",
   "execution_count": null,
   "id": "7a32a1c2",
   "metadata": {
    "lines_to_next_cell": 2
   },
   "outputs": [],
   "source": []
  }
 ],
 "metadata": {
  "kernelspec": {
   "display_name": "Python 3 (ipykernel)",
   "language": "python",
   "name": "python3"
  },
  "language_info": {
   "codemirror_mode": {
    "name": "ipython",
    "version": 3
   },
   "file_extension": ".py",
   "mimetype": "text/x-python",
   "name": "python",
   "nbconvert_exporter": "python",
   "pygments_lexer": "ipython3",
   "version": "3.7.16"
  }
 },
 "nbformat": 4,
 "nbformat_minor": 5
}