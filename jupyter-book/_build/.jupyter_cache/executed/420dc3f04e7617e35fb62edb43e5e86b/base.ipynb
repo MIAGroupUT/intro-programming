{
 "cells": [
  {
   "cell_type": "code",
   "execution_count": null,
   "id": "ca4a1376",
   "metadata": {
    "lines_to_next_cell": 2,
    "user_expressions": []
   },
   "outputs": [],
   "source": []
  },
  {
   "cell_type": "code",
   "execution_count": 1,
   "id": "883ace8d",
   "metadata": {},
   "outputs": [
    {
     "data": {
      "text/plain": [
       "range(0, 5)"
      ]
     },
     "execution_count": 1,
     "metadata": {},
     "output_type": "execute_result"
    }
   ],
   "source": [
    "range(5)"
   ]
  },
  {
   "cell_type": "code",
   "execution_count": null,
   "id": "834f76e4",
   "metadata": {},
   "outputs": [],
   "source": []
  },
  {
   "cell_type": "code",
   "execution_count": null,
   "id": "786a5de8",
   "metadata": {},
   "outputs": [],
   "source": []
  },
  {
   "cell_type": "code",
   "execution_count": 2,
   "id": "e474244c",
   "metadata": {},
   "outputs": [],
   "source": [
    "def factorial(n):\n",
    "    if n > 0:\n",
    "        return n * factorial(n-1)\n",
    "    else:\n",
    "        return 1"
   ]
  },
  {
   "cell_type": "code",
   "execution_count": null,
   "id": "ed305167",
   "metadata": {
    "lines_to_next_cell": 2
   },
   "outputs": [],
   "source": []
  },
  {
   "cell_type": "code",
   "execution_count": 3,
   "id": "2edf45c9",
   "metadata": {},
   "outputs": [
    {
     "name": "stdout",
     "output_type": "stream",
     "text": [
      "[-1.          0.14112001  7.        ]\n",
      "3\n",
      "(3,)\n"
     ]
    }
   ],
   "source": [
    "import numpy as np\n",
    "\n",
    "v = np.array([-1, np.sin(3), 7])\n",
    "print(v)\n",
    "print(len(v))\n",
    "print(v.shape)"
   ]
  },
  {
   "cell_type": "code",
   "execution_count": 4,
   "id": "97f2dd04",
   "metadata": {},
   "outputs": [
    {
     "name": "stdout",
     "output_type": "stream",
     "text": [
      "[ 1  5 11]\n",
      "[ 3  7 13]\n"
     ]
    }
   ],
   "source": [
    "v = np.array([-1, 2, 7])\n",
    "w = np.array([2, 3,  4])\n",
    "z = v + w                  # an element-by-element sum\n",
    "print(z)\n",
    "\n",
    "zz = z + 2                 # add 2 to every element of vector z\n",
    "print(zz)"
   ]
  },
  {
   "cell_type": "code",
   "execution_count": 5,
   "id": "70cef775",
   "metadata": {},
   "outputs": [
    {
     "name": "stdout",
     "output_type": "stream",
     "text": [
      "2\n",
      "[-1  4  7]\n"
     ]
    }
   ],
   "source": [
    "print(v[1])                # print second element in the array\n",
    "v[1] = 4                   # change second element in the array to a 4\n",
    "print(v)"
   ]
  },
  {
   "cell_type": "code",
   "execution_count": 6,
   "id": "7cadecac",
   "metadata": {},
   "outputs": [
    {
     "name": "stdout",
     "output_type": "stream",
     "text": [
      "[[1 3 4]]\n",
      "[[1]\n",
      " [3]\n",
      " [4]]\n"
     ]
    }
   ],
   "source": [
    "v_row = np.array([[1, 3, 4]])     # look closely, you'll see two square brackets instead of one\n",
    "print(v_row)\n",
    "v_col = np.array([[1], [3], [4]]) # now each element has its own row\n",
    "print(v_col)"
   ]
  },
  {
   "cell_type": "code",
   "execution_count": 7,
   "id": "239d2875",
   "metadata": {},
   "outputs": [
    {
     "ename": "SyntaxError",
     "evalue": "invalid syntax (4203718942.py, line 1)",
     "output_type": "error",
     "traceback": [
      "\u001b[0;36m  File \u001b[0;32m\"/var/folders/07/x0gf6dj176dfjvrn357t5p6h0000gn/T/ipykernel_40165/4203718942.py\"\u001b[0;36m, line \u001b[0;32m1\u001b[0m\n\u001b[0;31m    If we now wish to perform addition and subtraction with the vectors, NumPy will show some unexpected behavior. For each row in ```v_col``` (i.e., a single scalar), it will add the full row vector of ```v_row```.\u001b[0m\n\u001b[0m        ^\u001b[0m\n\u001b[0;31mSyntaxError\u001b[0m\u001b[0;31m:\u001b[0m invalid syntax\n"
     ]
    }
   ],
   "source": [
    "If we now wish to perform addition and subtraction with the vectors, NumPy will show some unexpected behavior. For each row in ```v_col``` (i.e., a single scalar), it will add the full row vector of ```v_row```."
   ]
  },
  {
   "cell_type": "code",
   "execution_count": 8,
   "id": "4b24af1a",
   "metadata": {},
   "outputs": [
    {
     "name": "stdout",
     "output_type": "stream",
     "text": [
      "[[2 4 5]\n",
      " [4 6 7]\n",
      " [5 7 8]]\n"
     ]
    }
   ],
   "source": [
    "print(v_row + v_col)"
   ]
  },
  {
   "cell_type": "code",
   "execution_count": null,
   "id": "4f222915",
   "metadata": {
    "lines_to_next_cell": 2
   },
   "outputs": [],
   "source": []
  }
 ],
 "metadata": {
  "kernelspec": {
   "display_name": "Python 3 (ipykernel)",
   "language": "python",
   "name": "python3"
  },
  "language_info": {
   "codemirror_mode": {
    "name": "ipython",
    "version": 3
   },
   "file_extension": ".py",
   "mimetype": "text/x-python",
   "name": "python",
   "nbconvert_exporter": "python",
   "pygments_lexer": "ipython3",
   "version": "3.7.16"
  }
 },
 "nbformat": 4,
 "nbformat_minor": 5
}