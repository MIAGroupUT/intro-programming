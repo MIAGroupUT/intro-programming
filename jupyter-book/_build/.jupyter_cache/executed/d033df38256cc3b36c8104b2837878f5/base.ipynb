{
 "cells": [
  {
   "cell_type": "code",
   "execution_count": 1,
   "id": "1e3c0d98",
   "metadata": {},
   "outputs": [],
   "source": [
    "import numpy as np\n",
    "\n",
    "some_array = np.array([1, 2, 3])"
   ]
  },
  {
   "cell_type": "code",
   "execution_count": 2,
   "id": "9a78363c",
   "metadata": {},
   "outputs": [
    {
     "name": "stdout",
     "output_type": "stream",
     "text": [
      "<class 'numpy.ndarray'>\n"
     ]
    }
   ],
   "source": [
    "print(type(some_array))"
   ]
  },
  {
   "cell_type": "code",
   "execution_count": 3,
   "id": "1cacc7cb",
   "metadata": {},
   "outputs": [],
   "source": [
    "some_other_array = np.array([[1, 2],\n",
    "                             [2, 4]])"
   ]
  },
  {
   "cell_type": "code",
   "execution_count": 4,
   "id": "2057e558",
   "metadata": {},
   "outputs": [
    {
     "name": "stdout",
     "output_type": "stream",
     "text": [
      "<class 'numpy.ndarray'>\n"
     ]
    }
   ],
   "source": [
    "print(type(some_other_array))"
   ]
  },
  {
   "cell_type": "code",
   "execution_count": 5,
   "id": "476048b7",
   "metadata": {},
   "outputs": [
    {
     "name": "stdout",
     "output_type": "stream",
     "text": [
      "(3,)\n",
      "(2, 2)\n"
     ]
    }
   ],
   "source": [
    "print(some_array.shape)\n",
    "print(some_other_array.shape)"
   ]
  },
  {
   "cell_type": "code",
   "execution_count": 6,
   "id": "ee83fc31",
   "metadata": {},
   "outputs": [
    {
     "name": "stdout",
     "output_type": "stream",
     "text": [
      "6\n",
      "9\n"
     ]
    }
   ],
   "source": [
    "print(some_array.sum())\n",
    "print(some_other_array.sum())"
   ]
  },
  {
   "cell_type": "code",
   "execution_count": 7,
   "id": "8073d6f8",
   "metadata": {},
   "outputs": [],
   "source": [
    "class Car:\n",
    "    pass"
   ]
  },
  {
   "cell_type": "code",
   "execution_count": 8,
   "id": "dc0ed7fd",
   "metadata": {},
   "outputs": [],
   "source": [
    "class Car:\n",
    "    max_speed = 180"
   ]
  },
  {
   "cell_type": "code",
   "execution_count": 9,
   "id": "f28c1697",
   "metadata": {},
   "outputs": [],
   "source": [
    "class Car:\n",
    "    max_speed = 180\n",
    "    num_wheels = 4"
   ]
  },
  {
   "cell_type": "code",
   "execution_count": 10,
   "id": "f58acf69",
   "metadata": {},
   "outputs": [],
   "source": [
    "class Car:\n",
    "    max_speed = 180\n",
    "    num_wheels = 4\n",
    "    \n",
    "    def __init__(self, brand):\n",
    "        self.brand = brand"
   ]
  },
  {
   "cell_type": "code",
   "execution_count": 11,
   "id": "d2dac883",
   "metadata": {},
   "outputs": [],
   "source": [
    "current_car = Car(brand=\"Skoda\")"
   ]
  },
  {
   "cell_type": "code",
   "execution_count": 12,
   "id": "3f39b770",
   "metadata": {},
   "outputs": [
    {
     "name": "stdout",
     "output_type": "stream",
     "text": [
      "<class '__main__.Car'>\n"
     ]
    }
   ],
   "source": [
    "print(type(current_car))"
   ]
  },
  {
   "cell_type": "code",
   "execution_count": 13,
   "id": "9fe6f259",
   "metadata": {},
   "outputs": [
    {
     "name": "stdout",
     "output_type": "stream",
     "text": [
      "The car is a Skoda\n"
     ]
    }
   ],
   "source": [
    "print('The car is a {}'.format(current_car.brand))"
   ]
  },
  {
   "cell_type": "code",
   "execution_count": 14,
   "id": "eccfde91",
   "metadata": {},
   "outputs": [],
   "source": [
    "class Car:\n",
    "    max_speed = 180\n",
    "    num_wheels = 4\n",
    "    \n",
    "    def __init__(self, brand):\n",
    "        self.brand = brand\n",
    "        \n",
    "    def toot(self, times):\n",
    "        for _ in range(times):\n",
    "            print('Toot!')"
   ]
  },
  {
   "cell_type": "code",
   "execution_count": 15,
   "id": "80175a78",
   "metadata": {},
   "outputs": [
    {
     "name": "stdout",
     "output_type": "stream",
     "text": [
      "Toot!\n",
      "Toot!\n",
      "Toot!\n",
      "Toot!\n",
      "Toot!\n"
     ]
    }
   ],
   "source": [
    "previous_car = Car(\"Suzuki\")\n",
    "previous_car.toot(5)"
   ]
  },
  {
   "cell_type": "code",
   "execution_count": 16,
   "id": "0fc89025",
   "metadata": {},
   "outputs": [
    {
     "name": "stdout",
     "output_type": "stream",
     "text": [
      "I am a person and my name is Frenk Simanos\n"
     ]
    }
   ],
   "source": [
    "class Person:\n",
    "    def __init__(self, fname, lname):\n",
    "        self.firstname = fname\n",
    "        self.lastname = lname\n",
    "\n",
    "    def print_name(self):\n",
    "        print(\"I am a person and my name is {} {}\".format(self.firstname, self.lastname))\n",
    "\n",
    "#Use the Person class to create an object, and then execute the printname method:\n",
    "x = Person(\"Frenk\", \"Simanos\")\n",
    "x.print_name()"
   ]
  },
  {
   "cell_type": "code",
   "execution_count": 17,
   "id": "491167ad",
   "metadata": {},
   "outputs": [],
   "source": [
    "class Student(Person):\n",
    "    pass"
   ]
  },
  {
   "cell_type": "code",
   "execution_count": 18,
   "id": "4deeb98f",
   "metadata": {},
   "outputs": [
    {
     "name": "stdout",
     "output_type": "stream",
     "text": [
      "I am a person and my name is Harry Potter\n"
     ]
    }
   ],
   "source": [
    "x = Student(\"Harry\", \"Potter\")\n",
    "x.print_name()"
   ]
  },
  {
   "cell_type": "code",
   "execution_count": 19,
   "id": "7f529c4a",
   "metadata": {},
   "outputs": [],
   "source": [
    "class Student(Person):\n",
    "    def __init__(self, fname, lname):\n",
    "        Person.__init__(self, fname, lname)   # You could here also use super() instead of Person"
   ]
  },
  {
   "cell_type": "code",
   "execution_count": 20,
   "id": "c84cac65",
   "metadata": {},
   "outputs": [],
   "source": [
    "class Student(Person):\n",
    "    def __init__(self, fname, lname, program):\n",
    "        Person.__init__(self, fname, lname)   \n",
    "        self.program = program\n",
    "        \n",
    "x = Student(\"Harry\", \"Potter\", \"sorcery\")"
   ]
  },
  {
   "cell_type": "code",
   "execution_count": 21,
   "id": "43da8349",
   "metadata": {},
   "outputs": [
    {
     "name": "stdout",
     "output_type": "stream",
     "text": [
      "I am a person and my name is Harry Potter. I am a student in sorcery.\n"
     ]
    }
   ],
   "source": [
    "class Student(Person):\n",
    "    def __init__(self, fname, lname, program):\n",
    "        Person.__init__(self, fname, lname)   \n",
    "        self.program = program\n",
    "    \n",
    "    def print_name(self):         # Overrides method of Person\n",
    "        print(\"I am a person and my name is {} {}. I am a student in {}.\".format(self.firstname, self.lastname, self.program))\n",
    "    \n",
    "    def print_program(self):      # New method specific to Student\n",
    "        print(self.program)\n",
    "        \n",
    "x = Student(\"Harry\", \"Potter\", \"sorcery\")\n",
    "x.print_name()"
   ]
  },
  {
   "cell_type": "code",
   "execution_count": 22,
   "id": "171df535",
   "metadata": {},
   "outputs": [
    {
     "data": {
      "text/plain": [
       "['__class__',\n",
       " '__delattr__',\n",
       " '__dict__',\n",
       " '__dir__',\n",
       " '__doc__',\n",
       " '__eq__',\n",
       " '__format__',\n",
       " '__ge__',\n",
       " '__getattribute__',\n",
       " '__gt__',\n",
       " '__hash__',\n",
       " '__init__',\n",
       " '__init_subclass__',\n",
       " '__le__',\n",
       " '__lt__',\n",
       " '__module__',\n",
       " '__ne__',\n",
       " '__new__',\n",
       " '__reduce__',\n",
       " '__reduce_ex__',\n",
       " '__repr__',\n",
       " '__setattr__',\n",
       " '__sizeof__',\n",
       " '__str__',\n",
       " '__subclasshook__',\n",
       " '__weakref__',\n",
       " 'print_name']"
      ]
     },
     "execution_count": 22,
     "metadata": {},
     "output_type": "execute_result"
    }
   ],
   "source": [
    "dir(Person)"
   ]
  },
  {
   "cell_type": "code",
   "execution_count": 23,
   "id": "3efe236d",
   "metadata": {},
   "outputs": [
    {
     "name": "stdout",
     "output_type": "stream",
     "text": [
      "Laila Koll TM 1\n"
     ]
    }
   ],
   "source": [
    "class BachelorStudent(Student):\n",
    "    def __init__(self, fname, lname, program, year):\n",
    "        Student.__init__(self, fname, lname, program)\n",
    "        self.year = year\n",
    "        \n",
    "    def printname(self):\n",
    "        print(self.firstname, self.lastname, self.program, self.year)\n",
    "\n",
    "x = BachelorStudent(\"Laila\", \"Koll\", \"TM\", 1)\n",
    "x.printname()"
   ]
  },
  {
   "cell_type": "code",
   "execution_count": null,
   "id": "ff80d382-d426-4348-96d9-d5ddd3d7dfb3",
   "metadata": {},
   "outputs": [],
   "source": []
  }
 ],
 "metadata": {
  "kernelspec": {
   "display_name": "Python 3 (ipykernel)",
   "language": "python",
   "name": "python3"
  },
  "language_info": {
   "codemirror_mode": {
    "name": "ipython",
    "version": 3
   },
   "file_extension": ".py",
   "mimetype": "text/x-python",
   "name": "python",
   "nbconvert_exporter": "python",
   "pygments_lexer": "ipython3",
   "version": "3.7.16"
  }
 },
 "nbformat": 4,
 "nbformat_minor": 5
}