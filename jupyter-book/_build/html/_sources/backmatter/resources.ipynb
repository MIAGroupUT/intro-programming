{
 "cells": [
  {
   "cell_type": "markdown",
   "id": "2bcc1f25-03d5-4087-af01-9f5157c672f7",
   "metadata": {
    "user_expressions": []
   },
   "source": [
    "# Resources\n",
    "Some useful resources"
   ]
  },
  {
   "cell_type": "markdown",
   "id": "49a6049a-2748-4123-9217-397d9eabb60a",
   "metadata": {
    "user_expressions": []
   },
   "source": [
    "List of useful Python packages\n",
    "\n",
    "| Name | Description | \n",
    "|--- |--- |\n",
    "|`numpy` | |\n",
    "|`scipy` | |\n",
    "|`matplotlib` | |\n"
   ]
  },
  {
   "cell_type": "code",
   "execution_count": null,
   "id": "07d6394b-58f3-4c2d-9152-d8a059504a1f",
   "metadata": {},
   "outputs": [],
   "source": []
  }
 ],
 "metadata": {
  "kernelspec": {
   "display_name": "Python 3 (ipykernel)",
   "language": "python",
   "name": "python3"
  },
  "language_info": {
   "codemirror_mode": {
    "name": "ipython",
    "version": 3
   },
   "file_extension": ".py",
   "mimetype": "text/x-python",
   "name": "python",
   "nbconvert_exporter": "python",
   "pygments_lexer": "ipython3",
   "version": "3.7.16"
  }
 },
 "nbformat": 4,
 "nbformat_minor": 5
}
