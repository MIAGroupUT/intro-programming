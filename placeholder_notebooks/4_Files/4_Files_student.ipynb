{
 "cells": [
  {
   "cell_type": "markdown",
   "id": "f227b4e2",
   "metadata": {
    "user_expressions": []
   },
   "source": [
    "# Dealing with files\n",
    "\n",
    ":::{admonition} Learning goals\n",
    ":class: note\n",
    "After finishing this chapter, you are expected to\n",
    "* open files\n",
    "* load data from files\n",
    "* save data to files\n",
    "* format strings\n",
    ":::\n",
    "\n",
    ":::{admonition} Not available yet\n",
    ":class: warning\n",
    "This chapter will be made available before the session.\n",
    ":::"
   ]
  }
 ],
 "metadata": {
  "jupytext": {
   "cell_metadata_filter": "-all",
   "main_language": "python",
   "notebook_metadata_filter": "-all"
  },
  "kernelspec": {
   "display_name": "Python 3 (ipykernel)",
   "language": "python",
   "name": "python3"
  },
  "language_info": {
   "codemirror_mode": {
    "name": "ipython",
    "version": 3
   },
   "file_extension": ".py",
   "mimetype": "text/x-python",
   "name": "python",
   "nbconvert_exporter": "python",
   "pygments_lexer": "ipython3",
   "version": "3.7.16"
  }
 },
 "nbformat": 4,
 "nbformat_minor": 5
}
