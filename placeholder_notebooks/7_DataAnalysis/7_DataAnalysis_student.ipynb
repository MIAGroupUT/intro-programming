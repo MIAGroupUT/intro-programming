{
 "cells": [
  {
   "cell_type": "markdown",
   "id": "be269bb4-c829-4dc9-9e6f-eb61809a05ed",
   "metadata": {},
   "source": [
    "# Data analysis\n",
    "\n",
    ":::{admonition} Learning goals\n",
    ":class: note\n",
    "After finishing this chapter, you are expected to\n",
    "* import data in CSV or Excel format\n",
    "* process this data\n",
    "* write data to different file formats\n",
    "* apply simple filters to images\n",
    ":::\n",
    "\n",
    ":::{admonition} Not available yet\n",
    ":class: warning\n",
    "This chapter will be made available before the session.\n",
    ":::"
   ]
  }
 ],
 "metadata": {
  "jupytext": {
   "cell_metadata_filter": "-all",
   "main_language": "python",
   "notebook_metadata_filter": "-all"
  },
  "kernelspec": {
   "display_name": "Python 3 (ipykernel)",
   "language": "python",
   "name": "python3"
  },
  "language_info": {
   "codemirror_mode": {
    "name": "ipython",
    "version": 3
   },
   "file_extension": ".py",
   "mimetype": "text/x-python",
   "name": "python",
   "nbconvert_exporter": "python",
   "pygments_lexer": "ipython3",
   "version": "3.7.16"
  }
 },
 "nbformat": 4,
 "nbformat_minor": 5
}
