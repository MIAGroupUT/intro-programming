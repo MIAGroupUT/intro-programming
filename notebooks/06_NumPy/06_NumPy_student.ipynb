{
 "cells": [
  {
   "cell_type": "markdown",
   "id": "03373dec",
   "metadata": {
    "user_expressions": []
   },
   "source": [
    "# NumPy\n",
    "\n",
    ":::{admonition} Learning goals\n",
    ":class: note\n",
    "After finishing this chapter, you are expected to\n",
    "* be able to import packages\n",
    "* use index and slicing in NumPy\n",
    "* use common NumPy functions\n",
    ":::"
   ]
  },
  {
   "cell_type": "markdown",
   "id": "52d32b63",
   "metadata": {
    "user_expressions": []
   },
   "source": [
    ":::{admonition} Source\n",
    ":class: important\n",
    "\n",
    "This chapter includes figures from [NumPy: the absolute basics for beginners](https://numpy.org/doc/stable/user/absolute_beginners.html) page on the NumPy website.\n",
    "\n",
    ":::"
   ]
  },
  {
   "cell_type": "markdown",
   "id": "ad197100",
   "metadata": {},
   "source": [
    "## Modules and packages\n",
    "By now, you know how to write a function and you know that Python has a set of built-in functions. The list of built-in functions in Python is very short, yet Python is a very powerful and popular programming language. The reason for this is that Python provides *modules* and *packages* that significantly extend the basic functionality. In this chapter, you will for the first time use one of these packages, namely the NumPy package. For many practical programming problems, you'll need vectors and matrices, or *arrays*. The most common way to work with such objects in Python is using the NumPy package. NumPy is the workhorse for anything related to vectors and matrices, offers a wide range of functions, and provides the `ndarray` object that represents multidimensional matrices and is at the core of many packages in Python. This package comes preinstalled with Anaconda, so you don't have to install anything else. "
   ]
  },
  {
   "cell_type": "markdown",
   "id": "cafb0cd6",
   "metadata": {},
   "source": [
    ":::{admonition} Selecting the right interpreter\n",
    ":class: warning\n",
    "\n",
    "Please make sure that you're using the right interpreter in VS Code! On the bottom right of your screen, it says something like '3.9.12'. This is the Python interpreter you're using. Click on it and select Conda from the list on the top of the screen.\n",
    ":::"
   ]
  },
  {
   "cell_type": "markdown",
   "id": "51a14a0d",
   "metadata": {
    "user_expressions": []
   },
   "source": [
    ":::::{tab-set}\n",
    "\n",
    "::::{tab-item} English\n",
    "\n",
    ":::{admonition} Exercise 6.0\n",
    ":class: tip\n",
    "\n",
    "From now on, you are expected to write all answers to exercises in a *runnable* notebook. You can find a template for this notebook [here](https://surfdrive.surf.nl/files/index.php/s/2Nm9Zn0vIzPjpmL). Download this `.ipynb` file and use it in VS Code to write down your answers. Add your name and student number to the file.\n",
    "\n",
    ":::\n",
    "\n",
    "::::\n",
    "\n",
    "::::{tab-item} Nederlands\n",
    "\n",
    ":::{admonition} Opdracht 6.0\n",
    ":class: tip\n",
    "\n",
    "Vanaf nu is het de bedoeling dat je al je antwoorden in een Jupyter notebook schrijft. Je kunt het template notebook voor dit hoofdstuk [hier](https://surfdrive.surf.nl/files/index.php/s/2Nm9Zn0vIzPjpmL) vinden. Download dit `.ipynb` en gebruik het in VS Code om je antwoorden op te slaan. Voeg je naam en studentnummer toe aan het bestand.\n",
    "\n",
    "\n",
    ":::\n",
    "\n",
    "\n",
    "::::\n",
    "\n",
    ":::::"
   ]
  },
  {
   "cell_type": "markdown",
   "id": "738f8109",
   "metadata": {
    "user_expressions": []
   },
   "source": [
    "## Importing a package\n",
    "If you want to use functions from a package, you first need to import the package. To import a package, at the top of your script/notebook, write `import <name>`. In the case of NumPy, you should write "
   ]
  },
  {
   "cell_type": "code",
   "execution_count": null,
   "id": "4f66452c",
   "metadata": {},
   "outputs": [],
   "source": [
    "import numpy as np"
   ]
  },
  {
   "cell_type": "markdown",
   "id": "e1ff79bc",
   "metadata": {
    "user_expressions": []
   },
   "source": [
    "This imports the NumPy package into your script, and lets you refer to it by the name (or alias) `np`. It is convention to abbreviate NumPy like this. There are hundreds of packages that you can import in Python, and we will introduce some other packages later. It is not uncommon to use ten or more packages in one script, and in that case, you should import all these packages at the top of your script. \n",
    "\n",
    "A package typically contains many different functions. To use a function from a package, you have to write (in this case) `np.<function>`. If you don't use the package name, Python will not understand which function you are referring to, as different packages might have functions with the same name."
   ]
  },
  {
   "cell_type": "markdown",
   "id": "0db55f55",
   "metadata": {
    "user_expressions": []
   },
   "source": [
    "## NumPy arrays\n",
    "Numpy uses objects called *arrays* to store data. An array is similar to a `list`, which you have already seen and used. In fact, the easiest way to initialize a NumPy array is using a list. Let's say that we have a list with numbers `numbers = [1, 2, 3]`, then we can initialize an array containing those numbers."
   ]
  },
  {
   "cell_type": "code",
   "execution_count": 1,
   "id": "184e3a31",
   "metadata": {},
   "outputs": [
    {
     "ename": "NameError",
     "evalue": "name 'np' is not defined",
     "output_type": "error",
     "traceback": [
      "\u001b[0;31m---------------------------------------------------------------------------\u001b[0m",
      "\u001b[0;31mNameError\u001b[0m                                 Traceback (most recent call last)",
      "\u001b[0;32m/var/folders/07/x0gf6dj176dfjvrn357t5p6h0000gn/T/ipykernel_77556/2092372457.py\u001b[0m in \u001b[0;36m<module>\u001b[0;34m\u001b[0m\n\u001b[1;32m      1\u001b[0m \u001b[0mnumbers\u001b[0m \u001b[0;34m=\u001b[0m \u001b[0;34m[\u001b[0m\u001b[0;36m1\u001b[0m\u001b[0;34m,\u001b[0m \u001b[0;36m2\u001b[0m\u001b[0;34m,\u001b[0m \u001b[0;36m3\u001b[0m\u001b[0;34m]\u001b[0m\u001b[0;34m\u001b[0m\u001b[0;34m\u001b[0m\u001b[0m\n\u001b[0;32m----> 2\u001b[0;31m \u001b[0mnumbers_array\u001b[0m \u001b[0;34m=\u001b[0m \u001b[0mnp\u001b[0m\u001b[0;34m.\u001b[0m\u001b[0marray\u001b[0m\u001b[0;34m(\u001b[0m\u001b[0mnumbers\u001b[0m\u001b[0;34m)\u001b[0m\u001b[0;34m\u001b[0m\u001b[0;34m\u001b[0m\u001b[0m\n\u001b[0m",
      "\u001b[0;31mNameError\u001b[0m: name 'np' is not defined"
     ]
    }
   ],
   "source": [
    "numbers = [1, 2, 3]\n",
    "numbers_array = np.array(numbers)"
   ]
  },
  {
   "cell_type": "markdown",
   "id": "b0b53302",
   "metadata": {
    "user_expressions": []
   },
   "source": [
    "![visualization](https://numpy.org/doc/stable/_images/np_array.png)"
   ]
  },
  {
   "cell_type": "markdown",
   "id": "6b1eb15d",
   "metadata": {
    "user_expressions": []
   },
   "source": [
    "Just as in lists, we can then use indexing and slicing to select numbers in the array"
   ]
  },
  {
   "cell_type": "code",
   "execution_count": null,
   "id": "7675fc72",
   "metadata": {},
   "outputs": [],
   "source": [
    "print('List')\n",
    "print(numbers[0])\n",
    "print(numbers[1:])\n",
    "print(numbers[::2])\n",
    "\n",
    "print('Array')\n",
    "print(numbers_array[0])\n",
    "print(numbers_array[1:])\n",
    "print(numbers_array[::2])"
   ]
  },
  {
   "cell_type": "markdown",
   "id": "1a2e0638",
   "metadata": {
    "user_expressions": []
   },
   "source": [
    "Now you might wonder: if arrays are so similar to lists, then why do I need them? There are two answers\n",
    "1. Arrays are much faster than lists\n",
    "2. Arrays consume less memory\n",
    "\n",
    "NumPy contains all kinds of optimized functions to efficiently handle arrays. If you have a computationally heavy piece of code, NumPy arrays are much more efficient than lists. We will demonstrate this later."
   ]
  },
  {
   "cell_type": "markdown",
   "id": "3ecadf0e",
   "metadata": {
    "user_expressions": []
   },
   "source": [
    "NumPy arrays can be easily used to represent vectors. The number of entries of a vector is known as the *length* or *size* of the vector. If you have an array defined, you can get this size using the following command."
   ]
  },
  {
   "cell_type": "code",
   "execution_count": null,
   "id": "d4dbdc61",
   "metadata": {},
   "outputs": [],
   "source": [
    "print(numbers_array.size)"
   ]
  },
  {
   "cell_type": "markdown",
   "id": "1f9c78be",
   "metadata": {
    "user_expressions": []
   },
   "source": [
    "This line correctly prints the number of elements in `numbers_array`. The notation is a bit different from what you have used so far. Thus far, we have used individual variables and we have used functions that can be called as `function_name(<arguments>)`. If we have some variable name followed by `.<somevalue>` we are asking for an *attribute* of the *object* in that variable. We'll dive deeper into objects later, but what you should understand here is that by getting an attribute, we're getting some value that is connected to the information stored in the variable."
   ]
  },
  {
   "cell_type": "markdown",
   "id": "60a93528",
   "metadata": {
    "user_expressions": []
   },
   "source": [
    "In the [documentation of NumPy](https://numpy.org/doc/stable/reference/generated/numpy.ndarray.html) you can see that there are several such attributes. Another useful attribute is the shape of an array. You can always find out the shape of your vector by asking for its `shape` attribute. This `shape` attribute returns a tuple with the shape of an array, instead of only an integer."
   ]
  },
  {
   "cell_type": "code",
   "execution_count": null,
   "id": "66b1635b",
   "metadata": {},
   "outputs": [],
   "source": [
    "# Print the shape of numbers_array\n",
    "print(numbers_array.shape)"
   ]
  },
  {
   "cell_type": "markdown",
   "id": "c63aa7ae",
   "metadata": {
    "user_expressions": []
   },
   "source": [
    "## 2D (or 3D) arrays\n",
    "The nice thing about NumPy is that we're not restricted to 1D vectors as arrays: we can also make 2D, 3D, 4D (etc.) matrices and tensors. To initialize a 2D array from a list, we should create a list of lists, as follows, and call the `array` function of NumPy"
   ]
  },
  {
   "cell_type": "code",
   "execution_count": null,
   "id": "644c1c89",
   "metadata": {},
   "outputs": [],
   "source": [
    "array_2D = np.array([[1, 2],\n",
    "                     [3, 4]])\n",
    "\n",
    "print(array_2D)"
   ]
  },
  {
   "cell_type": "markdown",
   "id": "448d9eec",
   "metadata": {
    "user_expressions": []
   },
   "source": [
    "Similarly, we can create a 3D array from a list of lists of lists. 3D arrays are very useful to represent - for example - medical images. You can think of a 3D array as a cube."
   ]
  },
  {
   "cell_type": "code",
   "execution_count": null,
   "id": "9ae30b64",
   "metadata": {},
   "outputs": [],
   "source": [
    "array_3D = np.array([[[1, 2],\n",
    "                      [3, 4]],\n",
    "                     [[5, 6],\n",
    "                      [7, 8]]])\n",
    "\n",
    "print(array_3D)"
   ]
  },
  {
   "cell_type": "markdown",
   "id": "185dcca6",
   "metadata": {
    "user_expressions": []
   },
   "source": [
    ":::::{tab-set}\n",
    "\n",
    "::::{tab-item} English\n",
    "\n",
    ":::{admonition} Exercise 6.1\n",
    ":class: tip\n",
    "\n",
    "Write code to print the *size* and *shape* of `array_2D` and `array_3D`. \n",
    ":::\n",
    "\n",
    "::::\n",
    "\n",
    "::::{tab-item} Nederlands\n",
    "\n",
    ":::{admonition} Opdracht 6.1\n",
    ":class: tip\n",
    "\n",
    "Schrijf code die de *size* en *shape* van `array_2D` en `array_3D` print.\n",
    "\n",
    ":::\n",
    "\n",
    "\n",
    "::::\n",
    "\n",
    ":::::"
   ]
  },
  {
   "cell_type": "markdown",
   "id": "77088a4a",
   "metadata": {
    "user_expressions": []
   },
   "source": [
    "Initializing arrays using lists (of lists (of lists (of lists))) can be tedious. Luckily, NumPy offers functions to directly initialize arrays of various shapes. To fill an array with zeros or ones, you can write"
   ]
  },
  {
   "cell_type": "code",
   "execution_count": null,
   "id": "c919527a",
   "metadata": {},
   "outputs": [],
   "source": [
    "zeros_array = np.zeros((5))\n",
    "print(zeros_array)\n",
    "ones_array = np.ones((5))\n",
    "print(ones_array)"
   ]
  },
  {
   "cell_type": "markdown",
   "id": "b418fe55",
   "metadata": {
    "user_expressions": []
   },
   "source": [
    "The argument to these functions is a *tuple* that describes the shape. If the tuple has two elements, we create a 2D array, if it has three elements a 3D array, etc. "
   ]
  },
  {
   "cell_type": "code",
   "execution_count": null,
   "id": "81e025e0",
   "metadata": {},
   "outputs": [],
   "source": [
    "# Initialize a 2D array\n",
    "print('2D array')\n",
    "print(np.zeros((2, 2)))\n",
    "# Initialize a 3D array\n",
    "print('3D array')\n",
    "print(np.ones((2, 2, 2)))"
   ]
  },
  {
   "cell_type": "markdown",
   "id": "a095fc28",
   "metadata": {
    "user_expressions": []
   },
   "source": [
    "Because the `zeros` and `ones` functions take shape tuples as input, we can also initialize an array based on the shape of another array."
   ]
  },
  {
   "cell_type": "code",
   "execution_count": null,
   "id": "1924e2ca",
   "metadata": {},
   "outputs": [],
   "source": [
    "array_3D = np.array([[[1, 2],\n",
    "                      [3, 4]],\n",
    "                     [[5, 6],\n",
    "                      [7, 8]]])\n",
    "\n",
    "ones_array = np.ones(array_3D.shape)\n",
    "print(ones_array)"
   ]
  },
  {
   "cell_type": "markdown",
   "id": "f8dd72be",
   "metadata": {
    "user_expressions": []
   },
   "source": [
    "A built-in NumPy function that does this is the `ones_like` (or `zeros_like`) function. It takes an array as argument and returns a new array with that same shape, but filled with zeros or ones."
   ]
  },
  {
   "cell_type": "code",
   "execution_count": null,
   "id": "f26826f0",
   "metadata": {},
   "outputs": [],
   "source": [
    "ones_array = np.ones_like(array_3D)\n",
    "print(ones_array)"
   ]
  },
  {
   "cell_type": "markdown",
   "id": "19dbcb17",
   "metadata": {
    "user_expressions": []
   },
   "source": [
    "You can also create arrays with a bit more variation. One commonly used function is the `linspace` function. This let's you create an array of evenly spaced values between two numbers. For example, to get 5 values between -1.0 and 1.0, we use"
   ]
  },
  {
   "cell_type": "code",
   "execution_count": null,
   "id": "6dbb2317",
   "metadata": {},
   "outputs": [],
   "source": [
    "spaced_values = np.linspace(start=-1.0, stop=1.0, num=5)\n",
    "print(spaced_values)"
   ]
  },
  {
   "cell_type": "markdown",
   "id": "72961c62",
   "metadata": {
    "user_expressions": []
   },
   "source": [
    "Similar to `linspace` is the `arange` function. The difference is that the `linspace` function requires the *number of steps* while the `arange` function requires the *step size*. It's important to realize that the output of `arange` does not necessarily include the value of `stop`. We can see that in the following example. While we use the same `start`, `stop` and a `step` value of 0.5, the value 1.0 is not included because it is not smaller than `stop`."
   ]
  },
  {
   "cell_type": "code",
   "execution_count": null,
   "id": "5cf02fda",
   "metadata": {},
   "outputs": [],
   "source": [
    "spaced_values = np.arange(start=-1.0, stop=1.0, step=0.5)\n",
    "print(spaced_values)"
   ]
  },
  {
   "cell_type": "markdown",
   "id": "46d04199",
   "metadata": {
    "user_expressions": []
   },
   "source": [
    "## Random numbers\n",
    "Another way to initialize arrays is using random numbers. Numpy has a [`random` module](https://numpy.org/doc/1.16/reference/routines.random.html) that allows you to generate random numbers from several distributions. For example, to generate an array of size `(2, 2)` with *uniformly* sampled numbers, you can use "
   ]
  },
  {
   "cell_type": "code",
   "execution_count": null,
   "id": "8fae270f",
   "metadata": {},
   "outputs": [],
   "source": [
    "rand_array = np.random.rand(2, 2)\n",
    "print(rand_array)"
   ]
  },
  {
   "cell_type": "markdown",
   "id": "37192620",
   "metadata": {
    "user_expressions": []
   },
   "source": [
    "To generate normally distributed random numbers, you can use "
   ]
  },
  {
   "cell_type": "code",
   "execution_count": null,
   "id": "64714c65",
   "metadata": {},
   "outputs": [],
   "source": [
    "randn_array = np.random.randn(2, 2)\n",
    "print(randn_array)"
   ]
  },
  {
   "cell_type": "markdown",
   "id": "2b5bf7b6",
   "metadata": {
    "user_expressions": []
   },
   "source": [
    "Let's check what kind of numbers this gives us. You'll learn all about visualization in the next Chapter, but we will give a sneak preview here. The code below asks NumPy for 10000 random numbers from the uniform and the normal distribution, respectively. Then it plots a *histogram* of these numbers. As you can see, the distributions are very different. With the normal distribution, we are much more likely to sample numbers close to 0 than further away from 0."
   ]
  },
  {
   "cell_type": "code",
   "execution_count": null,
   "id": "f73431c2",
   "metadata": {},
   "outputs": [],
   "source": [
    "import matplotlib.pyplot as plt\n",
    "\n",
    "uniform_values = np.random.rand(10000)\n",
    "normal_values = np.random.randn(10000)\n",
    "\n",
    "fig, (ax1, ax2) = plt.subplots(1, 2, figsize=(10, 6))\n",
    "ax1.hist(uniform_values, bins=20, edgecolor='white');\n",
    "ax1.set_title('Uniform distribution');\n",
    "ax1.set_ylabel('Frequency');\n",
    "ax2.hist(normal_values, bins=20, edgecolor='white');\n",
    "ax2.set_title('Normal distribution');\n",
    "ax2.set_ylabel('Frequency');"
   ]
  },
  {
   "cell_type": "markdown",
   "id": "37b4b3ce",
   "metadata": {
    "user_expressions": []
   },
   "source": [
    "The `rand` and `randn` functions are *convenience functions*: they are easy to use but don't provide a lot of options. If you want to control the range of your uniform distribution or the mean and variance of your normal distribution, you should use the `uniform` and `normal` functions, respectively. Here, the arguments `low`, `high`, `loc`, `scale` determine the probability dsitribution. In both cases, `size` defines the shape of the output."
   ]
  },
  {
   "cell_type": "code",
   "execution_count": null,
   "id": "a4c1b798",
   "metadata": {},
   "outputs": [],
   "source": [
    "rand_array = np.random.uniform(low=-5.0, high=5.0, size=(2,2))\n",
    "print(rand_array)\n",
    "\n",
    "randn_array = np.random.normal(loc=-10.0, scale=2.0, size=(2,2))"
   ]
  },
  {
   "cell_type": "markdown",
   "id": "a5d6c112",
   "metadata": {
    "user_expressions": []
   },
   "source": [
    "The `randint` function draws random integers from a uniform distribution between `low` and `high`."
   ]
  },
  {
   "cell_type": "code",
   "execution_count": null,
   "id": "a64cdf24",
   "metadata": {},
   "outputs": [],
   "source": [
    "rand_array = np.random.randint(low=0, high=10, size=(2, 2))\n",
    "print(rand_array)"
   ]
  },
  {
   "cell_type": "markdown",
   "id": "024473ab",
   "metadata": {
    "user_expressions": []
   },
   "source": [
    ":::::{tab-set}\n",
    "\n",
    "::::{tab-item} English\n",
    "\n",
    ":::{admonition} Exercise 6.2\n",
    ":class: tip\n",
    "\n",
    "Write a NumPy program to generate a $5\\times 5$ matrix with random integers between 10 and 30.\n",
    "\n",
    ":::\n",
    "\n",
    "::::\n",
    "\n",
    "::::{tab-item} Nederlands\n",
    "\n",
    ":::{admonition} Opdracht 6.2\n",
    ":class: tip\n",
    "\n",
    "Gebruik NumPy om een $5\\times 5$ matrix met willekeurige volledige getallen (integers) tussen 10 en 30 te genereren.\n",
    ":::\n",
    "\n",
    "\n",
    "::::\n",
    "\n",
    ":::::"
   ]
  },
  {
   "cell_type": "markdown",
   "id": "2fb258b2",
   "metadata": {
    "user_expressions": []
   },
   "source": [
    "##  Slicing and indexing \n",
    "Slicing and indexing in 2D or 3D (or higher-dimensional) NumPy arrays is very useful, but a little more complex than list indexing. By properly indexing and slicing, we can select, change, and remove values. In an array, slicing and indexing is done separately per axis (dimension), and indices are separated by a comma. \n",
    "\n",
    ":::{admonition} Order\n",
    ":class: warning\n",
    "\n",
    "When indexing 2D arrays, the first index always corresponds to rows, and the second always to columns.\n",
    "\n",
    ":::\n",
    "\n",
    "For example, if we create a $4\\times 4$ array with random numbers and want to select the upper-left quartile, we can do so as follows"
   ]
  },
  {
   "cell_type": "code",
   "execution_count": null,
   "id": "ce2c0d21",
   "metadata": {},
   "outputs": [],
   "source": [
    "square_matrix = np.random.randint(low=0, high=20, size=(4, 4))\n",
    "print(square_matrix)\n",
    "print(square_matrix[:2, :2])"
   ]
  },
  {
   "cell_type": "markdown",
   "id": "8e1619ed",
   "metadata": {
    "user_expressions": []
   },
   "source": [
    "Similarly, we can select every second item along each axis"
   ]
  },
  {
   "cell_type": "code",
   "execution_count": null,
   "id": "c3b6a2a7",
   "metadata": {},
   "outputs": [],
   "source": [
    "print(square_matrix[1::2, 1::2])"
   ]
  },
  {
   "cell_type": "markdown",
   "id": "3aabb7b9",
   "metadata": {
    "user_expressions": []
   },
   "source": [
    "As you can see, indexing and slicing is very similar to list indexing and slicing for individual axes, with the only differences that we now have to provide values for each axis. Here, if we want to select *all* rows/columns in an axis, we just use `:`"
   ]
  },
  {
   "cell_type": "code",
   "execution_count": null,
   "id": "66b862c1",
   "metadata": {},
   "outputs": [],
   "source": [
    "print(square_matrix[0, :])  # Print the first row of square_matrix\n",
    "print(square_matrix[:, 0])  # Print the first column of square_matrix"
   ]
  },
  {
   "cell_type": "markdown",
   "id": "45b299ab",
   "metadata": {
    "user_expressions": []
   },
   "source": [
    "Note that the first example is equivalent to `square_matrix[0]`. When only provided one index (instead of two), Python assumes that the remaining - trailing - axes remain the same."
   ]
  },
  {
   "cell_type": "code",
   "execution_count": null,
   "id": "e1a673f7",
   "metadata": {},
   "outputs": [],
   "source": [
    "print(square_matrix[0])"
   ]
  },
  {
   "cell_type": "markdown",
   "id": "580338bb",
   "metadata": {
    "user_expressions": []
   },
   "source": [
    "Moreover, we can flip matrices along dimensions by using negative slicing"
   ]
  },
  {
   "cell_type": "code",
   "execution_count": null,
   "id": "04adc5df",
   "metadata": {},
   "outputs": [],
   "source": [
    "print(square_matrix[::-1, ::-1])  # Flips the matrix up-down and left-right"
   ]
  },
  {
   "cell_type": "markdown",
   "id": "119f34a2",
   "metadata": {
    "user_expressions": []
   },
   "source": [
    "We cannot just *get* values using slicing and indexing, but also assign new values. For example, to create a chessboard, we can use indexing to select items in the array, and change their values. "
   ]
  },
  {
   "cell_type": "code",
   "execution_count": null,
   "id": "f66d3a4e",
   "metadata": {},
   "outputs": [],
   "source": [
    "board = np.zeros((8, 8))   # Make an 8 x 8 times array of zeros\n",
    "board[::2, ::2] = 1        # Set every even element of every even row to 1\n",
    "board[1::2, 1::2] = 1      # Set every odd element of every odd row to 1\n",
    "print(board)"
   ]
  },
  {
   "cell_type": "markdown",
   "id": "4bfbe3a3",
   "metadata": {
    "user_expressions": []
   },
   "source": [
    "As long as the shape on the left and right of `=` is the same, we can also change complete rows and columns (or blocks)."
   ]
  },
  {
   "cell_type": "code",
   "execution_count": null,
   "id": "630a9080",
   "metadata": {},
   "outputs": [],
   "source": [
    "rand_matrix_a = np.zeros((5, 5))\n",
    "rand_matrix_b = np.ones((5, 5))\n",
    "print('array a')\n",
    "print(rand_matrix_a)\n",
    "print('array b')\n",
    "print(rand_matrix_b)\n",
    "rand_matrix_a[::2, :] = rand_matrix_b[::2, :]\n",
    "print('changed a')\n",
    "print(rand_matrix_a)"
   ]
  },
  {
   "cell_type": "markdown",
   "id": "c1547adc",
   "metadata": {
    "user_expressions": []
   },
   "source": [
    ":::::{tab-set}\n",
    "\n",
    "::::{tab-item} English\n",
    "\n",
    ":::{admonition} Exercise 6.3\n",
    ":class: tip\n",
    "\n",
    "Use the code below to generate an $11\\times 11$ matrix of integers.\n",
    "\n",
    "```python\n",
    "np.random.seed(1337) # Sets the seed of the NumPy random number generator\n",
    "random_matrix = np.random.randint(0, 100, (11, 11))\n",
    "```\n",
    "\n",
    "The random matrix that you get should look like the example below. Write Python code using indexing to print only \n",
    "1. the part in blue\n",
    "2. the part in red\n",
    "3. the part in yellow \n",
    "\n",
    "![randmat](https://surfdrive.surf.nl/files/index.php/s/41Q0FnnViF8rwf6/download)\n",
    ":::\n",
    "\n",
    "::::\n",
    "\n",
    "::::{tab-item} Nederlands\n",
    "\n",
    ":::{admonition} Opdracht 6.3\n",
    ":class: tip\n",
    "\n",
    "Gebruik onderstaande code om een $11\\times 11$ matrix van gehele getallen (integers) te genereren.\n",
    "\n",
    "```python\n",
    "np.random.seed(1337) # Sets the seed of the NumPy random number generator\n",
    "random_matrix = np.random.randint(0, 100, (11, 11))\n",
    "```\n",
    "\n",
    "De matrix zou eruit moeten zien zoals hieronder. Schrijf vervolgens Python code met indexing om vanuit deze matrix te printen\n",
    "1. het blauw gearceerde deel\n",
    "2. het rood gearceerde deel\n",
    "3. het geel gearceerde deel\n",
    "\n",
    "![randmat](https://surfdrive.surf.nl/files/index.php/s/41Q0FnnViF8rwf6/download)\n",
    "\n",
    ":::\n",
    "\n",
    "\n",
    "::::\n",
    "\n",
    ":::::"
   ]
  },
  {
   "cell_type": "markdown",
   "id": "7260ab8a",
   "metadata": {
    "lines_to_next_cell": 0,
    "user_expressions": []
   },
   "source": [
    "## Element-wise operators\n",
    "NumPy arrays natively support arithmetic operations like `+`, `-`, `%` on two arrays. These are applied in an *element-wise* fashion: the operator is applied to the pair of items at index 0, index 1, index 2, etc. Here, it's important to realize that the output is an array with the same shape as the input array. Take a look at the output below to understand what element-wise means."
   ]
  },
  {
   "cell_type": "code",
   "execution_count": null,
   "id": "7c11cc9e",
   "metadata": {},
   "outputs": [],
   "source": [
    "a = np.array([1, 5, 3, 7]) # Create one array\n",
    "b = np.array([4, 2, 8, 6]) # Create second array\n",
    "\n",
    "print(a+b)"
   ]
  },
  {
   "cell_type": "code",
   "execution_count": null,
   "id": "b737f334",
   "metadata": {},
   "outputs": [],
   "source": [
    "print(a/b)"
   ]
  },
  {
   "cell_type": "code",
   "execution_count": null,
   "id": "8df4629f",
   "metadata": {},
   "outputs": [],
   "source": [
    "print(a//b)"
   ]
  },
  {
   "cell_type": "code",
   "execution_count": null,
   "id": "a7ba20f4",
   "metadata": {},
   "outputs": [],
   "source": [
    "print(a**b)"
   ]
  },
  {
   "cell_type": "code",
   "execution_count": null,
   "id": "35cc2cce",
   "metadata": {},
   "outputs": [],
   "source": [
    "print(a%b)"
   ]
  },
  {
   "cell_type": "markdown",
   "id": "5d71468e",
   "metadata": {
    "user_expressions": []
   },
   "source": [
    ":::{admonition} What about lists?\n",
    ":class: note\n",
    "\n",
    "We can not perform the operations above with lists, because, e.g., `+` does something different for lists. If we would treat our 2D matrices as lists of lists instead of NumPy arrays, the code below returns `c = [[1, 2, 3], [4, 5, 6], [1, 2, 3], [5, 8, 13]]`. I.e., instead of performing addition of individual elements, the lists as a whole are added, and the shape of the list (of lists) changes.\n",
    "\n",
    "```python\n",
    "a = [[1, 2, 3],\n",
    "     [4, 5, 6]]\n",
    "\n",
    "b = [[1, 2, 3],\n",
    "     [5, 8, 13]]\n",
    "\n",
    "c = a + b\n",
    "```"
   ]
  },
  {
   "cell_type": "markdown",
   "id": "f9fed4a9",
   "metadata": {
    "user_expressions": []
   },
   "source": [
    "We can also apply comparison operators in an element-wise fashion. Just like comparison operators on individual items (Chapter 1), this will return a boolean `True` or `False` for each position."
   ]
  },
  {
   "cell_type": "code",
   "execution_count": null,
   "id": "12d3d9d1",
   "metadata": {},
   "outputs": [],
   "source": [
    "print(a>b)"
   ]
  },
  {
   "cell_type": "code",
   "execution_count": null,
   "id": "da9af4ea",
   "metadata": {},
   "outputs": [],
   "source": [
    "print(a<b)"
   ]
  },
  {
   "cell_type": "code",
   "execution_count": null,
   "id": "bda41ac0",
   "metadata": {},
   "outputs": [],
   "source": [
    "print(a==b)"
   ]
  },
  {
   "cell_type": "markdown",
   "id": "da0d0845",
   "metadata": {
    "user_expressions": []
   },
   "source": [
    "Moreover, we can use assignment operators `+=`, `-=`, `*=`, etc. directly on arrays"
   ]
  },
  {
   "cell_type": "code",
   "execution_count": null,
   "id": "2341f9fb",
   "metadata": {},
   "outputs": [],
   "source": [
    "print(a)"
   ]
  },
  {
   "cell_type": "code",
   "execution_count": null,
   "id": "f7b425c1",
   "metadata": {},
   "outputs": [],
   "source": [
    "a+=b\n",
    "print(a)"
   ]
  },
  {
   "cell_type": "code",
   "execution_count": null,
   "id": "da1d2635",
   "metadata": {},
   "outputs": [],
   "source": [
    "a-=b\n",
    "print(a)"
   ]
  },
  {
   "cell_type": "code",
   "execution_count": null,
   "id": "41fb4262",
   "metadata": {},
   "outputs": [],
   "source": [
    "a*=b\n",
    "print(a)"
   ]
  },
  {
   "cell_type": "markdown",
   "id": "f2b16ca6",
   "metadata": {
    "lines_to_next_cell": 0,
    "user_expressions": []
   },
   "source": [
    "In addition to these, NumPy has some useful mathematical operators (`sqrt`, `exp`, `log`) etc. that are also applied in element-wise fashion."
   ]
  },
  {
   "cell_type": "code",
   "execution_count": null,
   "id": "60e45211",
   "metadata": {},
   "outputs": [],
   "source": [
    "print(np.sqrt(a))"
   ]
  },
  {
   "cell_type": "code",
   "execution_count": null,
   "id": "7e719e51",
   "metadata": {},
   "outputs": [],
   "source": [
    "print(np.exp(a))"
   ]
  },
  {
   "cell_type": "code",
   "execution_count": null,
   "id": "4d64afb4",
   "metadata": {},
   "outputs": [],
   "source": [
    "print(np.log(a))"
   ]
  },
  {
   "cell_type": "code",
   "execution_count": null,
   "id": "09579288",
   "metadata": {},
   "outputs": [],
   "source": [
    "print(np.log10(a))"
   ]
  },
  {
   "cell_type": "markdown",
   "id": "9f5a85ee",
   "metadata": {
    "lines_to_next_cell": 2,
    "user_expressions": []
   },
   "source": [
    "## Broadcasting"
   ]
  },
  {
   "cell_type": "markdown",
   "id": "3627687c",
   "metadata": {
    "user_expressions": []
   },
   "source": [
    "We don't always need to use element-wise operators with matching pairs of input arrays. For example, if we have some array and we want to multiply all its elements by 4, we don't have to first make a same-size array of 4's. Instead, we can simply multiply the full array by 4 through a process called *broadcasting*. Under the hood, NumPy expands our single number to an array and performs the element-wise multiplication (or addition, subtraction, etc.). \n",
    "\n",
    "![broadcasting](https://numpy.org/doc/stable/_images/broadcasting_1.png)"
   ]
  },
  {
   "cell_type": "code",
   "execution_count": null,
   "id": "b6d40d62",
   "metadata": {
    "lines_to_next_cell": 2
   },
   "outputs": [],
   "source": [
    "a = np.array([1, 2, 3])\n",
    "b = 2\n",
    "result = a * b\n",
    "print(result)"
   ]
  },
  {
   "cell_type": "markdown",
   "id": "95b150b1",
   "metadata": {
    "user_expressions": []
   },
   "source": [
    "## Row/column/array-wise operators\n",
    "In addition to the element-wise operators, there are operators that work on the full array, or on a single row or column in the array. Consider the `min` function. As its name implies, it gives the minimal value in an input."
   ]
  },
  {
   "cell_type": "code",
   "execution_count": null,
   "id": "1570e6a0",
   "metadata": {},
   "outputs": [],
   "source": [
    "rand_matrix = np.random.randint(low=0, high=10, size=((4, 4)))\n",
    "print(rand_matrix)\n",
    "print('The minimum value is {}'.format(np.min(rand_matrix))) # Prints the minimum across *all* entries in the matrix"
   ]
  },
  {
   "cell_type": "markdown",
   "id": "66585547",
   "metadata": {
    "user_expressions": []
   },
   "source": [
    "Sometimes, you might want to get the minimum value per row or per column. In that case, an extra argument should be given for the `axis` parameter. This is the axis or dimension over which the minimum should be computed. If in this case, we set `axis=0`, we get the following behavior:"
   ]
  },
  {
   "cell_type": "code",
   "execution_count": null,
   "id": "fa8a1c4d",
   "metadata": {},
   "outputs": [],
   "source": [
    "print('The minimum values are {}'.format(np.min(rand_matrix, axis=0)))"
   ]
  },
  {
   "cell_type": "markdown",
   "id": "1c0ca055",
   "metadata": {
    "user_expressions": []
   },
   "source": [
    "As you can see, the minimum has been computed for each column among the rows, because the rows are axis 0. Conversely, for `axis=1`, we'd get the following"
   ]
  },
  {
   "cell_type": "code",
   "execution_count": null,
   "id": "42455c9b",
   "metadata": {},
   "outputs": [],
   "source": [
    "print('The minimum values are {}'.format(np.min(rand_matrix, axis=1)))"
   ]
  },
  {
   "cell_type": "markdown",
   "id": "1c42cf41",
   "metadata": {
    "user_expressions": []
   },
   "source": [
    "There are plenty of other functions in NumPy that work in a similar way. You can, for example, use the `mean` function to compute the average in a row/colum/array, and the `std` function to compute a standard deviation."
   ]
  },
  {
   "cell_type": "markdown",
   "id": "6d12e851",
   "metadata": {
    "user_expressions": []
   },
   "source": [
    ":::{admonition} Copy\n",
    ":class: warning\n",
    "To copy a NumPy array, you cannot just do `new_array = old_array`. Because a NumPy array is *mutable*, any changes made to the `old_array` will also be applied to `new_array`. Instead, if you want to make a copy of an array, you should use `np.copy()`, i.e.\n",
    "\n",
    "```python\n",
    "a = np.array([1, 2, 3, 4])\n",
    "b = np.copy(a)\n",
    "```"
   ]
  },
  {
   "cell_type": "markdown",
   "id": "658dd02e",
   "metadata": {
    "user_expressions": []
   },
   "source": [
    "## NaN: Not a number\n",
    "Not all elements in a NumPy array need to have a value: we can also have arrays with missing values. Imagine for example that we record the weather every day for two weeks and store the result in a NumPy array. However, on two days we forget to record the temperature. We can just fill not a number (NaN) or `nan` at those indices. This is a placeholder for missing values."
   ]
  },
  {
   "cell_type": "code",
   "execution_count": null,
   "id": "e63f1a95",
   "metadata": {},
   "outputs": [],
   "source": [
    "temperatures = np.array([4, 7, 6, 3, 5, 9, np.nan, 4, 10, np.nan, 8, 6, 9, 12])\n",
    "print(temperatures)"
   ]
  },
  {
   "cell_type": "markdown",
   "id": "c4d106e9",
   "metadata": {
    "user_expressions": []
   },
   "source": [
    "We can use the element-wise `isnan` function to check for NaN values. It will return `True` for all indices that contain a NaN."
   ]
  },
  {
   "cell_type": "code",
   "execution_count": null,
   "id": "cda834f0",
   "metadata": {},
   "outputs": [],
   "source": [
    "np.isnan(temperatures)"
   ]
  },
  {
   "cell_type": "markdown",
   "id": "765a26c0",
   "metadata": {
    "user_expressions": []
   },
   "source": [
    "And if we want to know if there are *any* NaN values in our array, we can use the `any` function on this output."
   ]
  },
  {
   "cell_type": "code",
   "execution_count": null,
   "id": "4c641574",
   "metadata": {},
   "outputs": [],
   "source": [
    "np.isnan(temperatures).any()"
   ]
  },
  {
   "cell_type": "markdown",
   "id": "56c0fd7d",
   "metadata": {
    "user_expressions": []
   },
   "source": [
    "Using functions like `max`, `sum` etc. on an array that contains NaN values will always give you `nan` as an answer"
   ]
  },
  {
   "cell_type": "code",
   "execution_count": null,
   "id": "3be415ec",
   "metadata": {},
   "outputs": [],
   "source": [
    "np.max(temperatures)"
   ]
  },
  {
   "cell_type": "code",
   "execution_count": null,
   "id": "4614b2af",
   "metadata": {},
   "outputs": [],
   "source": [
    "np.sum(temperatures)"
   ]
  },
  {
   "cell_type": "markdown",
   "id": "dc2ce408",
   "metadata": {
    "user_expressions": []
   },
   "source": [
    "Luckily, NumPy provides the `nan<function>` functions that ignore `nan` values"
   ]
  },
  {
   "cell_type": "code",
   "execution_count": null,
   "id": "7e05635a",
   "metadata": {},
   "outputs": [],
   "source": [
    "np.nanmax(temperatures)"
   ]
  },
  {
   "cell_type": "code",
   "execution_count": null,
   "id": "f07c7869",
   "metadata": {},
   "outputs": [],
   "source": [
    "np.nansum(temperatures)"
   ]
  },
  {
   "cell_type": "code",
   "execution_count": null,
   "id": "e2a85f91",
   "metadata": {},
   "outputs": [],
   "source": [
    "np.nanmean(temperatures)"
   ]
  },
  {
   "cell_type": "markdown",
   "id": "fffe0bce",
   "metadata": {
    "user_expressions": []
   },
   "source": [
    "## Advanced indexing\n",
    "In addition to standard indexing, you can index NumPy arrays in two *advanced* ways: \n",
    "1. By providing a list of indices\n",
    "2. By providing *other arrays* with boolean values (`True` and `False`)\n",
    "\n",
    "Let's look at the first option. Here, *indices* are locations in the array from which we want to get the value. All values at those indices will then be put in a new array."
   ]
  },
  {
   "cell_type": "code",
   "execution_count": null,
   "id": "741eec66",
   "metadata": {},
   "outputs": [],
   "source": [
    "a = np.array([1, 2, 3, 4, 5])\n",
    "print(a[[0, 2, -1]])          # Provide a list of indices, here [0, 2, -1]"
   ]
  },
  {
   "cell_type": "markdown",
   "id": "bf458140",
   "metadata": {
    "user_expressions": []
   },
   "source": [
    "As you can see in the example, we index array `a` (because we use `[]`), but instead of providing regular indexing rules, we provide a list of indices (which you recognize by `[]`). We ask for the values of `a` at index 0, 2, and -1 (last element), so we get an array with `[1 3 5]` back. \n",
    "\n",
    "Now let's look at how this works in a 2D array"
   ]
  },
  {
   "cell_type": "code",
   "execution_count": null,
   "id": "1dcbc936",
   "metadata": {},
   "outputs": [],
   "source": [
    "a = np.random.randint(0, 10, (4, 4))\n",
    "print(a)\n",
    "print(a[[0, 2], [1, 3]])"
   ]
  },
  {
   "cell_type": "markdown",
   "id": "a1b6194c",
   "metadata": {
    "user_expressions": []
   },
   "source": [
    "What we have done here, is get the value of `a` at two locations: `a[0, 1]` and `a[2, 3]`. You can think of this as the first argument to our indexing (`[0, 2]`) providing the row-coordinates, and the second `[1, 3]` providing the column-coordinates. "
   ]
  },
  {
   "cell_type": "markdown",
   "id": "4941f1e7",
   "metadata": {
    "user_expressions": []
   },
   "source": [
    "In the second advanced indexing option, we provide an array with booleans that has the same shape as the array that we're indexing. For example, to get the first, third and last element from `a`, we can do"
   ]
  },
  {
   "cell_type": "code",
   "execution_count": null,
   "id": "6024bd39",
   "metadata": {},
   "outputs": [],
   "source": [
    "a = np.array([1, 2, 3, 4, 5])\n",
    "print(a[[True, True, False, False, True]])"
   ]
  },
  {
   "cell_type": "markdown",
   "id": "15912ed2",
   "metadata": {
    "user_expressions": []
   },
   "source": [
    "This is very useful if you want to filter data according to some criterion. Let's say that we want to extract from `a` all values that are larger than 2. You know already that we can use element-wise comparison operators on an array, so we can use `>` to get a mask that says which indicates for each element in `a` if it is larger than 2."
   ]
  },
  {
   "cell_type": "code",
   "execution_count": null,
   "id": "b94bd551",
   "metadata": {},
   "outputs": [],
   "source": [
    "mask = a > 2\n",
    "print(mask)      # This array has the same shape as variable a"
   ]
  },
  {
   "cell_type": "markdown",
   "id": "c5fa2353",
   "metadata": {
    "user_expressions": []
   },
   "source": [
    "Now we can use this mask to index `a` and get all *values* larger than 2!"
   ]
  },
  {
   "cell_type": "code",
   "execution_count": null,
   "id": "0791a9e6",
   "metadata": {},
   "outputs": [],
   "source": [
    "print(a[mask])"
   ]
  },
  {
   "cell_type": "markdown",
   "id": "c8e56a06",
   "metadata": {
    "user_expressions": []
   },
   "source": [
    "We can also write this shorter"
   ]
  },
  {
   "cell_type": "code",
   "execution_count": null,
   "id": "9cd29d1c",
   "metadata": {},
   "outputs": [],
   "source": [
    "print(a[a>2])"
   ]
  },
  {
   "cell_type": "markdown",
   "id": "597202ab",
   "metadata": {
    "user_expressions": []
   },
   "source": [
    "The same works if we have a 2D (or higher-dimensional) matrix"
   ]
  },
  {
   "cell_type": "code",
   "execution_count": null,
   "id": "6ea8fd9a",
   "metadata": {},
   "outputs": [],
   "source": [
    "a = np.random.randint(0, 10, (4, 4))\n",
    "print(a[a>2])     # Print all values from the 2D matrix that are larger than 2"
   ]
  },
  {
   "cell_type": "markdown",
   "id": "47f4e334",
   "metadata": {
    "user_expressions": []
   },
   "source": [
    "As you see, this returns a 1D array, even though we put in a 2D array. The reason for this is, that when we remove values $\\leq 2$, `a` is no longer a proper 2D matrix. Hence, NumPy flattens the remaining elements into a 1D vector."
   ]
  },
  {
   "cell_type": "markdown",
   "id": "34467dd9",
   "metadata": {
    "lines_to_next_cell": 0,
    "user_expressions": []
   },
   "source": [
    "Finally, you can also combine advanced indexing with regular indexing, as long as you choose one method per axes. So, we can for example select all rows from a matrix that match a particular criterion"
   ]
  },
  {
   "cell_type": "code",
   "execution_count": null,
   "id": "15278402",
   "metadata": {
    "lines_to_next_cell": 2
   },
   "outputs": [],
   "source": [
    "a = np.random.randint(0, 10, (8, 8))\n",
    "print('Full matrix')\n",
    "print(a)\n",
    "print('Selected rows, every second element')\n",
    "print(a[np.sum(a, 0)>35, ::2]) # Here we select only those rows whose sum is >35, and in those rows only every second element"
   ]
  },
  {
   "cell_type": "markdown",
   "id": "42ef550e",
   "metadata": {
    "user_expressions": []
   },
   "source": [
    "## Reshaping\n",
    "If you have an array of a particular shape, you can reshape that array into an array of a different shape, as long the number of items (the size) remains the same. For example, we can reshape a $2\\times 4$ array into a $4\\times 2$ array."
   ]
  },
  {
   "cell_type": "code",
   "execution_count": null,
   "id": "2b384c03",
   "metadata": {},
   "outputs": [],
   "source": [
    "landscape = np.array([[1, 2, 3, 4],\n",
    "                      [5, 6, 7, 8]])\n",
    "print(landscape)\n",
    "portrait = np.reshape(landscape, (4, 2))\n",
    "print(portrait)"
   ]
  },
  {
   "cell_type": "markdown",
   "id": "2136ef21",
   "metadata": {
    "user_expressions": []
   },
   "source": [
    "This is not limited to arrays with the same dimensionality. We can reshape these 2D arrays into 3D arrays as long as the number of items is the same"
   ]
  },
  {
   "cell_type": "code",
   "execution_count": null,
   "id": "c965e08d",
   "metadata": {},
   "outputs": [],
   "source": [
    "cube = np.reshape(portrait, (2, 2, 2))\n",
    "print(cube)"
   ]
  },
  {
   "cell_type": "markdown",
   "id": "ae9bf811",
   "metadata": {
    "user_expressions": []
   },
   "source": [
    "Alternatively, we can reshape to a 1D array. This can be done both by the reshape function, or by the `flatten` method."
   ]
  },
  {
   "cell_type": "code",
   "execution_count": null,
   "id": "d6bafd56",
   "metadata": {},
   "outputs": [],
   "source": [
    "bar = np.reshape(cube, (8))\n",
    "print(bar)\n",
    "\n",
    "bar_flat = cube.flatten()\n",
    "print(bar_flat)"
   ]
  },
  {
   "cell_type": "markdown",
   "id": "b4a4acc5",
   "metadata": {
    "user_expressions": []
   },
   "source": [
    "Sometimes, you'd want to *transpose* a matrix by swapping dimensions. In 2D, you can simply achieve this by adding `.T`. \n",
    "If you have more than two dimensions, you can swap axes using the `swapaxes` function."
   ]
  },
  {
   "cell_type": "code",
   "execution_count": null,
   "id": "1841d64b",
   "metadata": {},
   "outputs": [],
   "source": [
    "a = np.array([[1, 2],\n",
    "              [3, 4]])\n",
    "\n",
    "print(a)\n",
    "print(a.T)"
   ]
  },
  {
   "cell_type": "markdown",
   "id": "f8d053db",
   "metadata": {
    "user_expressions": []
   },
   "source": [
    ":::::{tab-set}\n",
    "\n",
    "::::{tab-item} English\n",
    "\n",
    ":::{admonition} Exercise 6.4\n",
    ":class: tip\n",
    "Use NumPy to create a $7\\times 7$ matrix with values ranging from 0 to 48. \n",
    "\n",
    "**Hint:** use `reshape` \n",
    "\n",
    "Your output should look like this\n",
    "\n",
    "```python\n",
    "[[ 0  1  2  3  4  5  6]\n",
    " [ 7  8  9 10 11 12 13]\n",
    " [14 15 16 17 18 19 20]\n",
    " [21 22 23 24 25 26 27]\n",
    " [28 29 30 31 32 33 34]\n",
    " [35 36 37 38 39 40 41]\n",
    " [42 43 44 45 46 47 48]]\n",
    "```\n",
    "   \n",
    "Then, use advanced indexing to get a new matrix that contains only rows with **four** even numbers.\n",
    "\n",
    "**Hint:** use `%` \n",
    "\n",
    "Your output should look like this\n",
    "\n",
    "```python\n",
    "[[ 0  1  2  3  4  5  6]\n",
    " [14 15 16 17 18 19 20]\n",
    " [28 29 30 31 32 33 34]\n",
    " [42 43 44 45 46 47 48]]\n",
    "```\n",
    "\n",
    ":::\n",
    "\n",
    "::::\n",
    "\n",
    "::::{tab-item} Nederlands\n",
    "\n",
    ":::{admonition} Opdracht 6.4\n",
    ":class: tip\n",
    "\n",
    "Gebruik NumPy om een $7\\times 7$ matrix met waarden van 0 tot 48 te maken.\n",
    "\n",
    "**Hint:** gebruik `reshape` \n",
    "\n",
    "Je matrix moet er zo uitzien\n",
    "\n",
    "```python\n",
    "[[ 0  1  2  3  4  5  6]\n",
    " [ 7  8  9 10 11 12 13]\n",
    " [14 15 16 17 18 19 20]\n",
    " [21 22 23 24 25 26 27]\n",
    " [28 29 30 31 32 33 34]\n",
    " [35 36 37 38 39 40 41]\n",
    " [42 43 44 45 46 47 48]]\n",
    "```\n",
    "\n",
    "Gebruik vervolgens advanced indexing om een nieuwe matrix te maken die alleen rijen beta met **vier** even nummers. \n",
    "\n",
    "**Hint:** gebruik `%` \n",
    "\n",
    "Je output zou er zo uit moeten zien\n",
    "\n",
    "```python\n",
    "[[ 0  1  2  3  4  5  6]\n",
    " [14 15 16 17 18 19 20]\n",
    " [28 29 30 31 32 33 34]\n",
    " [42 43 44 45 46 47 48]]\n",
    "```\n",
    "\n",
    "\n",
    ":::\n",
    "\n",
    "::::\n",
    "\n",
    ":::::"
   ]
  },
  {
   "cell_type": "code",
   "execution_count": null,
   "id": "0d6fe409",
   "metadata": {},
   "outputs": [],
   "source": [
    "matrix_seven = np.reshape(np.arange(49), (7, 7))\n",
    "print(matrix_seven)\n",
    "filtered = matrix_seven[np.sum(matrix_seven % 2 == 0, 1)==4, :]\n",
    "print(filtered)"
   ]
  },
  {
   "cell_type": "markdown",
   "id": "71631e91",
   "metadata": {
    "user_expressions": []
   },
   "source": [
    "## Combining arrays\n",
    "If you have two or more 2D arrays, you can join them into a new array using the `hstack` (horizontal stack) and `vstack` (vertical stack) functions. For example, we can create two $2\\times 2$ arrays and stack them horizontally or vertically."
   ]
  },
  {
   "cell_type": "code",
   "execution_count": null,
   "id": "2b038a16",
   "metadata": {},
   "outputs": [],
   "source": [
    "a = np.array([[1, 2],\n",
    "              [3, 4]])\n",
    "b = np.array([[5, 6],\n",
    "              [7, 8]])\n",
    "\n",
    "print(np.hstack((a, b)))"
   ]
  },
  {
   "cell_type": "code",
   "execution_count": null,
   "id": "b7a9bc22",
   "metadata": {},
   "outputs": [],
   "source": [
    "print(np.vstack((a, b)))"
   ]
  },
  {
   "cell_type": "markdown",
   "id": "0842cec1",
   "metadata": {
    "user_expressions": []
   },
   "source": [
    "A more general solution (also for higher-dimensional arrays) is to use the `concatenate` function, which takes an *axis* as input. This function can be used to mimic either `hstack` or `vstack`."
   ]
  },
  {
   "cell_type": "code",
   "execution_count": null,
   "id": "9302c323",
   "metadata": {},
   "outputs": [],
   "source": [
    "print(np.concatenate((a, b), axis=1)) # Same as hstack"
   ]
  },
  {
   "cell_type": "code",
   "execution_count": null,
   "id": "eed90610",
   "metadata": {},
   "outputs": [],
   "source": [
    "print(np.concatenate((a, b), axis=0)) # Same as vstack"
   ]
  },
  {
   "cell_type": "markdown",
   "id": "82a500b0",
   "metadata": {
    "user_expressions": []
   },
   "source": [
    "The `tile` function builds a grid of repetitions of some input array, like tiling a floor or wall. For example, if we have a 1D array, we can use `tile` to build a larger array."
   ]
  },
  {
   "cell_type": "code",
   "execution_count": null,
   "id": "5f27f9a5",
   "metadata": {},
   "outputs": [],
   "source": [
    "element = np.array([1, 2])\n",
    "tile_result = np.tile(element, (5))\n",
    "print(tile_result)"
   ]
  },
  {
   "cell_type": "markdown",
   "id": "cbeea949",
   "metadata": {
    "user_expressions": []
   },
   "source": [
    ":::::{tab-set}\n",
    "\n",
    "::::{tab-item} English\n",
    "\n",
    ":::{admonition} Exercise 6.5\n",
    ":class: tip\n",
    "\n",
    "Use the `tile` function to create a chessboard of ones and zeros out of $2\\times 2$ arrays.\n",
    "\n",
    "Your output should look like this \n",
    "\n",
    "\n",
    "```python\n",
    "[[1. 0. 1. 0. 1. 0. 1. 0.]\n",
    " [0. 1. 0. 1. 0. 1. 0. 1.]\n",
    " [1. 0. 1. 0. 1. 0. 1. 0.]\n",
    " [0. 1. 0. 1. 0. 1. 0. 1.]\n",
    " [1. 0. 1. 0. 1. 0. 1. 0.]\n",
    " [0. 1. 0. 1. 0. 1. 0. 1.]\n",
    " [1. 0. 1. 0. 1. 0. 1. 0.]\n",
    " [0. 1. 0. 1. 0. 1. 0. 1.]]\n",
    "```\n",
    "\n",
    ":::\n",
    "\n",
    "::::\n",
    "\n",
    "::::{tab-item} Nederlands\n",
    "\n",
    ":::{admonition} Opdracht 6.5\n",
    ":class: tip\n",
    "\n",
    "Gebruik de `tile` functie op $2\\times 2$ arrays om een schaakbord te maken met 0-en (zwart) en 1-en (wit).\n",
    "\n",
    "De output zou er zo moeten uitzien:\n",
    "\n",
    "```python \n",
    "[[1. 0. 1. 0. 1. 0. 1. 0.]\n",
    " [0. 1. 0. 1. 0. 1. 0. 1.]\n",
    " [1. 0. 1. 0. 1. 0. 1. 0.]\n",
    " [0. 1. 0. 1. 0. 1. 0. 1.]\n",
    " [1. 0. 1. 0. 1. 0. 1. 0.]\n",
    " [0. 1. 0. 1. 0. 1. 0. 1.]\n",
    " [1. 0. 1. 0. 1. 0. 1. 0.]\n",
    " [0. 1. 0. 1. 0. 1. 0. 1.]]\n",
    "```\n",
    "\n",
    ":::\n",
    "\n",
    "::::\n",
    "\n",
    ":::::"
   ]
  },
  {
   "cell_type": "markdown",
   "id": "15a14f5d",
   "metadata": {
    "user_expressions": []
   },
   "source": [
    "## Loading data\n",
    "There are several ways to save and load files in NumPy. The most interpretable way is to save and load your matrices as `.txt` files. For example, if we have a text file `numbers.txt` whose contents are\n",
    "\n",
    "```text\n",
    "4 3 \n",
    "5 6\n",
    "```\n",
    "\n",
    "we can load these numbers into a NumPy array as follows\n",
    "\n",
    "```python\n",
    "import numpy as np\n",
    "\n",
    "a = np.loadtxt('numbers.txt')\n",
    "print(a)\n",
    "```\n",
    "\n",
    "and the output would be\n",
    "\n",
    "```\n",
    "[[4. 3.]\n",
    " [5. 6.]]\n",
    " ```"
   ]
  },
  {
   "cell_type": "markdown",
   "id": "439e23f5",
   "metadata": {
    "user_expressions": []
   },
   "source": [
    "An alternative way is to use the NumPy file format with extension `.npy`. This lets you store arrays directly from NumPy, one array per file. For example, the following code generates a random array and saves it to a file `random.npy`."
   ]
  },
  {
   "cell_type": "code",
   "execution_count": null,
   "id": "7e25435f",
   "metadata": {},
   "outputs": [],
   "source": [
    "random_array = np.random.rand(10, 10)\n",
    "np.save('random', random_array)"
   ]
  },
  {
   "cell_type": "markdown",
   "id": "68590b17",
   "metadata": {
    "user_expressions": []
   },
   "source": [
    "We can load this array using `np.load` as in"
   ]
  },
  {
   "cell_type": "code",
   "execution_count": null,
   "id": "ae957fd6",
   "metadata": {},
   "outputs": [],
   "source": [
    "random_restored = np.load('random.npy')"
   ]
  },
  {
   "cell_type": "markdown",
   "id": "eda238df",
   "metadata": {
    "user_expressions": []
   },
   "source": [
    "The `.npy` file format only lets you save one array, but you can also store multiple arrays in one file. For this, you need the `.npz` file format and use it as shown below. "
   ]
  },
  {
   "cell_type": "code",
   "execution_count": null,
   "id": "83c4b079",
   "metadata": {},
   "outputs": [],
   "source": [
    "a=np.array([[1, 2, 3], [4, 5, 6]]) # Create an array\n",
    "b=np.array([1, 2])                 # Create another array\n",
    "np.savez('multiple.npz', a=a, b=b) # Save both arrays in one file"
   ]
  },
  {
   "cell_type": "markdown",
   "id": "739aa5ef",
   "metadata": {
    "user_expressions": []
   },
   "source": [
    "Now we can again use the `load` function to load the data, but it doesn't directly give us back both arrays. Instead, it gives it the object `data`. We can use its `files` attribute to check which arrays are stored."
   ]
  },
  {
   "cell_type": "code",
   "execution_count": null,
   "id": "e6d34d31",
   "metadata": {},
   "outputs": [],
   "source": [
    "data = np.load('multiple.npz')\n",
    "print(data.files) # Gives the names of the variables in the npz file\n",
    "print(data['a'])  # Get the variable with the key 'a'\n",
    "print(data['b'])  # Get the variable with the key 'b' \n",
    "data.close()"
   ]
  },
  {
   "cell_type": "markdown",
   "id": "0e45cf6e",
   "metadata": {
    "user_expressions": []
   },
   "source": [
    "In addition to `np.savez` there is also `np.savez_compressed` which is used the same way, but writes smaller files. This can be useful when you have large arrays."
   ]
  },
  {
   "cell_type": "markdown",
   "id": "1804498d",
   "metadata": {
    "user_expressions": []
   },
   "source": [
    "## Vectorization\n",
    "Because NumPy operates on arrays of elements instead of individual elements, it is very fast. We can verify this using `timeit` magic. Let's reuse the `dot_product` function that you created in Chapter 4. The function loops over the elements in two vectors, multiplies them, and then sums all the products."
   ]
  },
  {
   "cell_type": "code",
   "execution_count": null,
   "id": "382a9432",
   "metadata": {},
   "outputs": [],
   "source": [
    "# Dot product \n",
    "import numpy as np\n",
    "\n",
    "def dot_product(a, b):\n",
    "    dot = 0\n",
    "    for v_a, v_b in zip(a, b):\n",
    "        dot += v_a * v_b\n",
    "    return dot"
   ]
  },
  {
   "cell_type": "markdown",
   "id": "44695d76",
   "metadata": {
    "user_expressions": []
   },
   "source": [
    "In the cell below, we use `%timeit` (as explained in Chapter 5) to run this function 100 times on a vector of 1000 elements."
   ]
  },
  {
   "cell_type": "code",
   "execution_count": null,
   "id": "089e1f45",
   "metadata": {},
   "outputs": [],
   "source": [
    "a = np.random.randint(0, 1000, 1000) # Make a random array\n",
    "b = np.random.randint(0, 1000, 1000) # Make another random array\n",
    "\n",
    "%timeit -n 100 dot_product(a, b)     # Use our for loop"
   ]
  },
  {
   "cell_type": "markdown",
   "id": "0dcb0eae",
   "metadata": {
    "user_expressions": []
   },
   "source": [
    "The output tells you how lung it takes on average to run this function with this input. \n",
    "\n",
    "NumPy has a `dot` function that should give you the exact same result. In the cell below, we again use `%timeit` on *that* function, with the same input and number of runs."
   ]
  },
  {
   "cell_type": "code",
   "execution_count": null,
   "id": "80d38c3c",
   "metadata": {},
   "outputs": [],
   "source": [
    "%timeit -n 100 np.dot(a, b)          # Use the standard NumPy function"
   ]
  },
  {
   "cell_type": "markdown",
   "id": "26009755",
   "metadata": {
    "user_expressions": []
   },
   "source": [
    "As you can see, this is (depending on your computer), at least 20 times faster! \n",
    "\n",
    ":::{admonition} Speed\n",
    ":class: warning\n",
    "\n",
    "`for`-loops are always slower than properly vectorized functions. When possible, use a NumPy function instead of a `for`-loop when operating on arrays.\n",
    ":::"
   ]
  },
  {
   "cell_type": "markdown",
   "id": "984548a9",
   "metadata": {
    "user_expressions": []
   },
   "source": [
    ":::{admonition} Linear algebra\n",
    ":class: note\n",
    "We will not go into too much detail here, but it's good to be aware that NumPy provides the `linalg` module that contains many of the functions that you will need for linear algebra. The [documentation](https://numpy.org/doc/stable/reference/routines.linalg.html) provides a list of all functions. \n",
    ":::"
   ]
  },
  {
   "cell_type": "markdown",
   "id": "12e09391",
   "metadata": {
    "user_expressions": []
   },
   "source": [
    ":::::{tab-set}\n",
    "\n",
    "::::{tab-item} English\n",
    "\n",
    ":::{admonition} Exercise 6.6\n",
    ":class: tip\n",
    "Compare runtimes for the following functions that can be used to compute the sum of an array\n",
    "- With a `for` loop\n",
    "- Using a recursive function like the one you made in Exercise 4.5.\n",
    "- Using the `sum` function in NumPy.\n",
    "\n",
    "Base your solution on the script above. Before you run the code, consider which method you think is fastest, and which slowest. How much faster is the fastest method than the slowest method? How does the size of the input vector affect the runtime and speed-up?\n",
    "\n",
    "```python \n",
    "# Use a for loop to compute the sum of a 1D NumPy array\n",
    "def loop_sum(a: np.array):\n",
    "    total = 0\n",
    "    for v_a in a:\n",
    "        total += v_a\n",
    "    return total\n",
    "\n",
    "# Use recursion to compute the sum of a 1D NumPy array\n",
    "def recurse_sum(a: np.array):\n",
    "    if a.size == 1:\n",
    "        return a[0]\n",
    "    else:\n",
    "        return a[0] + recurse_sum(a[1:])\n",
    "    \n",
    "# Use NumPy's sum function to sum a 1D NumPy array\n",
    "def numpy_sum(a: np.array):\n",
    "    return np.sum(a)\n",
    "\n",
    "```\n",
    "\n",
    ":::\n",
    "\n",
    "::::\n",
    "\n",
    "::::{tab-item} Nederlands\n",
    "\n",
    ":::{admonition} Opdracht 6.6\n",
    ":class: tip\n",
    "Vergelijk de *runtime* van drie manieren op de som van een array te bepalen:\n",
    "- Met een `for` loop.\n",
    "- Met een recursieve functie zoals je die hebt bepaald in Opdracht 4.5.\n",
    "- Met de `sum` functie in NumPy.\n",
    "\n",
    "Baseer je script op het script hierboven. Bedenk vooraf welke functie sneller zal zijn. Functies zijn hieronder gegeven. Hoeveel sneller is de snelste functie ten opzichte van de andere functies? In hoeverre heeft de lengte van de input array invloed op de tijd die het duurt om de functie uit te voeren?\n",
    "\n",
    "```python \n",
    "# Use a for loop to compute the sum of a 1D NumPy array\n",
    "def loop_sum(a: np.array):\n",
    "    total = 0\n",
    "    for v_a in a:\n",
    "        total += v_a\n",
    "    return total\n",
    "\n",
    "# Use recursion to compute the sum of a 1D NumPy array\n",
    "def recurse_sum(a: np.array):\n",
    "    if a.size == 1:\n",
    "        return a[0]\n",
    "    else:\n",
    "        return a[0] + recurse_sum(a[1:])\n",
    "    \n",
    "# Use NumPy's sum function to sum a 1D NumPy array\n",
    "def numpy_sum(a: np.array):\n",
    "    return np.sum(a)\n",
    "\n",
    "```\n",
    ":::\n",
    "\n",
    "::::\n",
    "\n",
    ":::::"
   ]
  },
  {
   "cell_type": "markdown",
   "id": "0543642f",
   "metadata": {
    "user_expressions": []
   },
   "source": [
    "## NumPy *functions* and *methods*\n",
    "For many operations, NumPy offers functions. These are similar to the functions you have seen in Chapter 4. They take an input and return an output. For example - as you have seen - we can sum all elements in an array using the `sum()` function."
   ]
  },
  {
   "cell_type": "code",
   "execution_count": null,
   "id": "42661c0e",
   "metadata": {},
   "outputs": [],
   "source": [
    "some_array = np.random.rand(10)\n",
    "print(np.sum(some_array))"
   ]
  },
  {
   "cell_type": "markdown",
   "id": "96b82aa8",
   "metadata": {
    "user_expressions": []
   },
   "source": [
    "However, for most functions that take an array as argument, you can also use a *method* instead. This is a function that directly operates on the array, and is called by adding `.` and the method name after the name of your NumPy variable. So, to compute the sum of `some_array`, we do"
   ]
  },
  {
   "cell_type": "code",
   "execution_count": null,
   "id": "6f82931c",
   "metadata": {},
   "outputs": [],
   "source": [
    "print(some_array.sum())"
   ]
  },
  {
   "cell_type": "markdown",
   "id": "38afcb79",
   "metadata": {
    "user_expressions": []
   },
   "source": [
    "Some other examples are"
   ]
  },
  {
   "cell_type": "code",
   "execution_count": null,
   "id": "923b9778",
   "metadata": {},
   "outputs": [],
   "source": [
    "print('min')\n",
    "# Function\n",
    "print('Function {}'.format(np.min(some_array)))\n",
    "# Method\n",
    "print('Method {}'.format(some_array.min()))"
   ]
  },
  {
   "cell_type": "code",
   "execution_count": null,
   "id": "b8b9d97d",
   "metadata": {},
   "outputs": [],
   "source": [
    "print('sum')\n",
    "# Function\n",
    "print('Function {}'.format(np.sum(some_array)))\n",
    "# Method\n",
    "print('Method {}'.format(some_array.sum()))"
   ]
  },
  {
   "cell_type": "code",
   "execution_count": null,
   "id": "6004e0b9",
   "metadata": {},
   "outputs": [],
   "source": [
    "print('mean')\n",
    "# Function\n",
    "print('Function {}'.format(np.mean(some_array)))\n",
    "# Method\n",
    "print('Method {}'.format(some_array.mean()))"
   ]
  },
  {
   "cell_type": "code",
   "execution_count": null,
   "id": "06304e8f",
   "metadata": {},
   "outputs": [],
   "source": [
    "print('reshape')\n",
    "# Function\n",
    "print('Function {}'.format(np.reshape(some_array, (5, 2))))\n",
    "# Method\n",
    "print('Method {}'.format(some_array.reshape(5, 2)))"
   ]
  },
  {
   "cell_type": "markdown",
   "id": "99d5a705",
   "metadata": {
    "lines_to_next_cell": 0,
    "user_expressions": []
   },
   "source": [
    "You can find a full overview of all *methods* in the [NumPy documentation](https://numpy.org/doc/stable/reference/generated/numpy.ndarray.html). While methods can in principle be a tiny bit faster than functions, they are equivalent in many cases, and it is mostly readability of your code that defines if you should use a method or function. However, there are some cases where the function returns a *copy* of the array, while the method operates *in-place* and there thus **is** a difference. An example is `sort`."
   ]
  },
  {
   "cell_type": "code",
   "execution_count": null,
   "id": "41b89a4a",
   "metadata": {},
   "outputs": [],
   "source": [
    "unsorted_array = np.random.randint(0, 10, (10))\n",
    "print(unsorted_array)"
   ]
  },
  {
   "cell_type": "code",
   "execution_count": null,
   "id": "d9671bf5",
   "metadata": {},
   "outputs": [],
   "source": [
    "sorted_array = np.sort(unsorted_array) # Use the sort function\n",
    "print('Sorted array after sorting: {}'.format(sorted_array))\n",
    "print('Unsorted array after sorting: {}'.format(unsorted_array))"
   ]
  },
  {
   "cell_type": "markdown",
   "id": "18c76950",
   "metadata": {
    "user_expressions": []
   },
   "source": [
    "As you can see, when using the function, the `unsorted_array` variable remains unchanged. Instead, if we use the *method* as below, we change the array in place and we no longer have our unsorted array."
   ]
  },
  {
   "cell_type": "code",
   "execution_count": null,
   "id": "3be4ec96",
   "metadata": {},
   "outputs": [],
   "source": [
    "unsorted_array.sort()\n",
    "print('Unsorted array after sorting: {}'.format(unsorted_array))"
   ]
  },
  {
   "cell_type": "markdown",
   "id": "8bcc5b1e",
   "metadata": {
    "user_expressions": []
   },
   "source": [
    ":::::{tab-set}\n",
    "\n",
    "::::{tab-item} English\n",
    "\n",
    ":::{admonition} Exercise 6.7\n",
    ":class: tip\n",
    "\n",
    "Download the `.npy` file `grades.npy` from [here](https://surfdrive.surf.nl/files/index.php/s/OzPwivWAypMR6wh). This file contains (fictional) grades for an exam and resit of a class of students. The first column contains the grades for the exam, the second column grades for the resit. Load the file using NumPy and write code to answer the following questions:\n",
    "1. How many students are in the class?\n",
    "2. How many students passed the exam the first time (grade $\\geq 5.5$)?\n",
    "3. What was the average grade of students that passed the exam the first time?\n",
    "4. Not all students that failed the exam, also took the resit. How many students didn't?\n",
    "\n",
    "   **Hint**: Use `isnan`\n",
    "5. Some students passed the exam the first time, but still took the resit. The highest grade counts. What is the average final grade of all students that passed the course?\n",
    "   **Hint**: Use `nanmax`\n",
    "\n",
    ":::\n",
    "\n",
    "::::\n",
    "\n",
    "::::{tab-item} Nederlands\n",
    "\n",
    ":::{admonition} Opdracht 6.7\n",
    ":class: tip\n",
    "\n",
    "Download het `.npy` bestand `grades.npy` van [hier](https://surfdrive.surf.nl/files/index.php/s/OzPwivWAypMR6wh). Dit bestand bevat (fictieve) cijfers van een klas studenten voor een tentamen en herkansing. De eerste kolom bevat de cijfers voor het examen, de tweede kolom voor de herkansing. Laad het bestand met NumPy en schrijf code om de volgende vragen te beantwoorden:\n",
    "1. Hoeveel studenten zitten er in de klas?\n",
    "2. Hoeveel studenten hebben het tentamen de eerste keer gehaald (cijfer $\\geq 5.5$)?\n",
    "3. Wat was het gemiddelde cijfer van studenten die het tentamen de eerste keer haalden.\n",
    "4. Niet alle studenten die het tentamen niet haalden, hebben de herkansing gedaan. Hoeveel studenten hebben de herkansing laten schieten?\n",
    "\n",
    "   **Hint**: Gebruik `isnan`\n",
    "5. Sommige studenten haalden het eerste tentamen, maar deden alsnog de herkansing. Het hoogste cijfer telt. Wat is het gemiddelde eindcijfer van alle studenten die het vak gehaald hebben?\n",
    "   **Hint**: Gebruik `nanmax`\n",
    "\n",
    ":::\n",
    "\n",
    "::::\n",
    "\n",
    ":::::"
   ]
  },
  {
   "cell_type": "markdown",
   "id": "2152a0bd",
   "metadata": {
    "user_expressions": []
   },
   "source": [
    ":::::{tab-set}\n",
    "\n",
    "::::{tab-item} English\n",
    "\n",
    ":::{admonition} Exercise 6.8\n",
    ":class: tip\n",
    "\n",
    "A [magic square](https://en.wikipedia.org/wiki/Magic_square) is a square matrix whose rows, columns, and two diagonals all sup um to the same value. This value is called the *magic value*. An example of a magic square is shown below \n",
    "\n",
    "![magic square](https://upload.wikimedia.org/wikipedia/commons/thumb/e/e4/Magicsquareexample.svg/1200px-Magicsquareexample.svg.png)\n",
    "\n",
    "In this exercise, you will write a function `check_magic_square` that uses NumPy to *check* whether an input array is a magic square or not. If the input array is a magic square, the function should return `True` and the magic vale. If it is not a magic square, the function should return `False` and the reason why it is not. \n",
    "\n",
    "Some guidelines/rules:\n",
    "1. This is a function, so use what you learned in Chapter 4.\n",
    "2. Use `if`/`else` to check if all conditions for a magic square are met.\n",
    "3. Try to use NumPy and avoid the use of `for` loops.\n",
    "\n",
    "To check whether your function is working properly, you can apply it on the arrays in an `npz` file that you can download [here](https://surfdrive.surf.nl/files/index.php/s/tNUJMIduOHr4ilt). Load this `npz` file and apply your function to each individual array. \n",
    ":::\n",
    "\n",
    "::::\n",
    "\n",
    "::::{tab-item} Nederlands\n",
    "\n",
    ":::{admonition} Opdracht 6.8\n",
    ":class: tip\n",
    "Een [magisch vierkant of tovervierkant](https://nl.wikipedia.org/wiki/Magisch_vierkant#:~:text=Een%20magisch%20vierkant%20of%20tovervierkant,of%20het%20karakteristieke%20getal%20genoemd.) is een vierkante matrix waarvan de rijen, kolommen, en diagonalen allemaal optellen tot hetzelfde getal, het *magische getal*. Een voorbeeld van zo'n tovervierkant met magisch getal 15 is te zien op de afbeelding hieronder \n",
    "\n",
    "![magic square](https://upload.wikimedia.org/wikipedia/commons/thumb/e/e4/Magicsquareexample.svg/1200px-Magicsquareexample.svg.png)\n",
    "\n",
    "In deze opdracht ga je zelf een functie `check_magic_square` schrijven die een NumPy array als input neemt en met behulp van NumPy bepaalt of de array een tovervierkant is of niet. Zoja, dan moet de functie. `True` teruggeven en het magisch getal. Zo niet, dan moet de functie `False` teruggeven en de reden waarom de input geen tovervierkant is.\n",
    "\n",
    "Een paar hints en regels:\n",
    "1. Je moet een functie schrijven, dus gebruik wat je geleerd hebt in Hoofdstuk 4.\n",
    "2. Gebruik `if`/`else` om te controleren of aan alle voorwaarden voor een tovervierkant voldaan is.\n",
    "3. Probeer zoveel mogelijk gebruik te maken van NumPy en vermijd `for` loops.\n",
    "\n",
    "Om te kijken of je functie goed werkt, kun je gebruik maken van de arrays die we in een `npz` bestand hebben geplaatst dat je [hier](https://surfdrive.surf.nl/files/index.php/s/tNUJMIduOHr4ilt) kunt downloaden. Laad dit `npz` bestand in en pas je functie toe op de arrays in het bestand.\n",
    "\n",
    ":::\n",
    "\n",
    "::::\n",
    "\n",
    ":::::"
   ]
  },
  {
   "cell_type": "markdown",
   "id": "58a17c1e",
   "metadata": {
    "user_expressions": []
   },
   "source": [
    ":::{admonition} There's more\n",
    ":class: note\n",
    "\n",
    "NumPy is a large package, and we have here only given an introduction to all functions in NumPy. As you program more, you will get to know more and more functions. Cheatsheets like the [one here](https://images.datacamp.com/image/upload/v1676302459/Marketing/Blog/Numpy_Cheat_Sheet.pdf) can also help you get a quick overview of all functions in NumPy.\n",
    "\n",
    ":::"
   ]
  }
 ],
 "metadata": {
  "kernelspec": {
   "display_name": "Python 3 (ipykernel)",
   "language": "python",
   "name": "python3"
  },
  "language_info": {
   "codemirror_mode": {
    "name": "ipython",
    "version": 3
   },
   "file_extension": ".py",
   "mimetype": "text/x-python",
   "name": "python",
   "nbconvert_exporter": "python",
   "pygments_lexer": "ipython3",
   "version": "3.7.16"
  }
 },
 "nbformat": 4,
 "nbformat_minor": 5
}
